{
 "cells": [
  {
   "cell_type": "markdown",
   "metadata": {
    "colab_type": "text",
    "id": "d6DQYixYEHqD"
   },
   "source": [
    "En el siguiente notebook se probarán distintos modelos con algunos features básicos y se intentarán buscar los mejores hiperparámetros para los modelos que den mejores resultados de entrada."
   ]
  },
  {
   "cell_type": "code",
   "execution_count": 30,
   "metadata": {
    "colab": {},
    "colab_type": "code",
    "executionInfo": {
     "elapsed": 769,
     "status": "ok",
     "timestamp": 1596415568375,
     "user": {
      "displayName": "Fernando Moreno",
      "photoUrl": "",
      "userId": "12085513332857029549"
     },
     "user_tz": 180
    },
    "id": "3PcooHbAqHPW"
   },
   "outputs": [],
   "source": [
    "import pandas as pd\n",
    "import numpy as np\n",
    "import re\n",
    "import string\n",
    "from sklearn.feature_extraction.text import CountVectorizer\n",
    "from sklearn.neighbors import KNeighborsClassifier, RadiusNeighborsClassifier \n",
    "from sklearn.model_selection import cross_val_score, GridSearchCV\n",
    "from sklearn.tree import DecisionTreeClassifier, ExtraTreeClassifier\n",
    "from sklearn.ensemble import RandomForestClassifier, GradientBoostingClassifier\n",
    "import xgboost as xgb\n",
    "from sklearn.svm import LinearSVC, NuSVC, SVC\n",
    "from sklearn.neural_network import MLPClassifier\n",
    "from sklearn.linear_model import LogisticRegression, PassiveAggressiveClassifier, Perceptron, RidgeClassifier, SGDClassifier"
   ]
  },
  {
   "cell_type": "code",
   "execution_count": 2,
   "metadata": {
    "colab": {},
    "colab_type": "code",
    "executionInfo": {
     "elapsed": 1148,
     "status": "ok",
     "timestamp": 1596403223341,
     "user": {
      "displayName": "Fernando Moreno",
      "photoUrl": "",
      "userId": "12085513332857029549"
     },
     "user_tz": 180
    },
    "id": "mbXFISveuVd4"
   },
   "outputs": [],
   "source": [
    "from google.colab import files"
   ]
  },
  {
   "cell_type": "code",
   "execution_count": 3,
   "metadata": {
    "colab": {
     "base_uri": "https://localhost:8080/",
     "height": 72,
     "resources": {
      "http://localhost:8080/nbextensions/google.colab/files.js": {
       "data": "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",
       "headers": [
        [
         "content-type",
         "application/javascript"
        ]
       ],
       "ok": true,
       "status": 200,
       "status_text": ""
      }
     }
    },
    "colab_type": "code",
    "executionInfo": {
     "elapsed": 29283,
     "status": "ok",
     "timestamp": 1596403253858,
     "user": {
      "displayName": "Fernando Moreno",
      "photoUrl": "",
      "userId": "12085513332857029549"
     },
     "user_tz": 180
    },
    "id": "RleJiBvruatU",
    "outputId": "ff9ff551-b52b-4f33-ee69-a967f3bd70f5"
   },
   "outputs": [
    {
     "data": {
      "text/html": [
       "\n",
       "     <input type=\"file\" id=\"files-7279fc1a-9995-4885-b7e9-4cb4474ac875\" name=\"files[]\" multiple disabled\n",
       "        style=\"border:none\" />\n",
       "     <output id=\"result-7279fc1a-9995-4885-b7e9-4cb4474ac875\">\n",
       "      Upload widget is only available when the cell has been executed in the\n",
       "      current browser session. Please rerun this cell to enable.\n",
       "      </output>\n",
       "      <script src=\"/nbextensions/google.colab/files.js\"></script> "
      ],
      "text/plain": [
       "<IPython.core.display.HTML object>"
      ]
     },
     "metadata": {
      "tags": []
     },
     "output_type": "display_data"
    },
    {
     "name": "stdout",
     "output_type": "stream",
     "text": [
      "Saving train.csv to train.csv\n"
     ]
    }
   ],
   "source": [
    "file = files.upload()\n",
    "df = pd.read_csv(\"train.csv\")"
   ]
  },
  {
   "cell_type": "code",
   "execution_count": 4,
   "metadata": {
    "colab": {},
    "colab_type": "code",
    "executionInfo": {
     "elapsed": 15528,
     "status": "ok",
     "timestamp": 1596403253860,
     "user": {
      "displayName": "Fernando Moreno",
      "photoUrl": "",
      "userId": "12085513332857029549"
     },
     "user_tz": 180
    },
    "id": "XEJUxAHpxVzz"
   },
   "outputs": [],
   "source": [
    "df['id'] = df['id'].astype(np.uint16)\n",
    "df['target'] = df['target'].astype(np.uint8)\n",
    "df = df.fillna(\"\")"
   ]
  },
  {
   "cell_type": "markdown",
   "metadata": {
    "colab_type": "text",
    "id": "Fkxuqtzzdzsj"
   },
   "source": [
    "# Features"
   ]
  },
  {
   "cell_type": "code",
   "execution_count": 5,
   "metadata": {
    "colab": {},
    "colab_type": "code",
    "executionInfo": {
     "elapsed": 9331,
     "status": "ok",
     "timestamp": 1596403253862,
     "user": {
      "displayName": "Fernando Moreno",
      "photoUrl": "",
      "userId": "12085513332857029549"
     },
     "user_tz": 180
    },
    "id": "nn8CDD_Z8NIJ"
   },
   "outputs": [],
   "source": [
    "keywords_target = df.groupby([\"keyword\", \"target\"]).count()[\"id\"]"
   ]
  },
  {
   "cell_type": "code",
   "execution_count": 6,
   "metadata": {
    "colab": {},
    "colab_type": "code",
    "executionInfo": {
     "elapsed": 8514,
     "status": "ok",
     "timestamp": 1596403253865,
     "user": {
      "displayName": "Fernando Moreno",
      "photoUrl": "",
      "userId": "12085513332857029549"
     },
     "user_tz": 180
    },
    "id": "dFJVx8kr8UQf"
   },
   "outputs": [],
   "source": [
    "def keyword_mean(x):\n",
    "  try:\n",
    "      targets = keywords_target[x]\n",
    "  except KeyError:\n",
    "      return 0.5\n",
    "  if len(targets) == 2:\n",
    "      return targets[0]/(targets[0]+targets[1])\n",
    "  else:\n",
    "      try:\n",
    "          return targets[0]/targets[0]\n",
    "      except KeyError:\n",
    "          return 0"
   ]
  },
  {
   "cell_type": "code",
   "execution_count": 7,
   "metadata": {
    "colab": {},
    "colab_type": "code",
    "executionInfo": {
     "elapsed": 9809,
     "status": "ok",
     "timestamp": 1596403256837,
     "user": {
      "displayName": "Fernando Moreno",
      "photoUrl": "",
      "userId": "12085513332857029549"
     },
     "user_tz": 180
    },
    "id": "ww-B2Ys68Xs1"
   },
   "outputs": [],
   "source": [
    "df[\"keyword_mean\"] = df[\"keyword\"].transform(keyword_mean)"
   ]
  },
  {
   "cell_type": "code",
   "execution_count": 8,
   "metadata": {
    "colab": {},
    "colab_type": "code",
    "executionInfo": {
     "elapsed": 7612,
     "status": "ok",
     "timestamp": 1596403257470,
     "user": {
      "displayName": "Fernando Moreno",
      "photoUrl": "",
      "userId": "12085513332857029549"
     },
     "user_tz": 180
    },
    "id": "FrYzSyNKsbjU"
   },
   "outputs": [],
   "source": [
    "df[\"keyword_en_tweet\"] = df.agg(lambda x: 1 if x[\"keyword\"].lower() in x[\"text\"].lower().split() else 0, axis=1)"
   ]
  },
  {
   "cell_type": "code",
   "execution_count": 9,
   "metadata": {
    "colab": {},
    "colab_type": "code",
    "executionInfo": {
     "elapsed": 6652,
     "status": "ok",
     "timestamp": 1596403257474,
     "user": {
      "displayName": "Fernando Moreno",
      "photoUrl": "",
      "userId": "12085513332857029549"
     },
     "user_tz": 180
    },
    "id": "D_JOx3WvyXri"
   },
   "outputs": [],
   "source": [
    "df[\"long\"] = df[\"text\"].transform(lambda x: len(x))\n",
    "long_max = df[\"long\"].max()\n",
    "df[\"long\"] = df[\"long\"]/long_max"
   ]
  },
  {
   "cell_type": "code",
   "execution_count": 10,
   "metadata": {
    "colab": {},
    "colab_type": "code",
    "executionInfo": {
     "elapsed": 5658,
     "status": "ok",
     "timestamp": 1596403257476,
     "user": {
      "displayName": "Fernando Moreno",
      "photoUrl": "",
      "userId": "12085513332857029549"
     },
     "user_tz": 180
    },
    "id": "NHH1ccRq15HS"
   },
   "outputs": [],
   "source": [
    "df[\"nro_term\"] = df[\"text\"].transform(lambda x: len(x.split()))\n",
    "nro_term_max = df[\"nro_term\"].max()\n",
    "df[\"nro_term\"] = df[\"nro_term\"]/nro_term_max"
   ]
  },
  {
   "cell_type": "code",
   "execution_count": 11,
   "metadata": {
    "colab": {},
    "colab_type": "code",
    "executionInfo": {
     "elapsed": 4594,
     "status": "ok",
     "timestamp": 1596403257480,
     "user": {
      "displayName": "Fernando Moreno",
      "photoUrl": "",
      "userId": "12085513332857029549"
     },
     "user_tz": 180
    },
    "id": "dz3oklXCkt2r"
   },
   "outputs": [],
   "source": [
    "def hay_url(x):\n",
    "    if re.search('https{0,1}:\\/\\/\\S*', x) is not None:\n",
    "        return 1\n",
    "    else:\n",
    "        return 0\n",
    "    \n",
    "df[\"hay_url\"] = df[\"text\"].transform(hay_url)"
   ]
  },
  {
   "cell_type": "code",
   "execution_count": 12,
   "metadata": {
    "colab": {},
    "colab_type": "code",
    "executionInfo": {
     "elapsed": 3154,
     "status": "ok",
     "timestamp": 1596403257481,
     "user": {
      "displayName": "Fernando Moreno",
      "photoUrl": "",
      "userId": "12085513332857029549"
     },
     "user_tz": 180
    },
    "id": "xIhAPzFlkuo0"
   },
   "outputs": [],
   "source": [
    "def hay_nros(x):\n",
    "    x = x.split()\n",
    "    for i in x:\n",
    "        i = i.replace(',','')\n",
    "        try:\n",
    "            float(i)\n",
    "            return 1\n",
    "        except ValueError:\n",
    "            continue\n",
    "    return 0 \n",
    "\n",
    "df[\"hay_nros\"] = df[\"text\"].transform(hay_nros)"
   ]
  },
  {
   "cell_type": "code",
   "execution_count": 13,
   "metadata": {
    "colab": {},
    "colab_type": "code",
    "executionInfo": {
     "elapsed": 1696,
     "status": "ok",
     "timestamp": 1596403257937,
     "user": {
      "displayName": "Fernando Moreno",
      "photoUrl": "",
      "userId": "12085513332857029549"
     },
     "user_tz": 180
    },
    "id": "ht5uVcLDkxkL"
   },
   "outputs": [],
   "source": [
    "def hay_mencion(x):\n",
    "    for i in x.split():\n",
    "        if i[0]=='@':\n",
    "            return 1\n",
    "    return 0\n",
    "\n",
    "df[\"hay_mencion\"] = df[\"text\"].transform(hay_mencion)"
   ]
  },
  {
   "cell_type": "code",
   "execution_count": 14,
   "metadata": {
    "colab": {},
    "colab_type": "code",
    "executionInfo": {
     "elapsed": 1019,
     "status": "ok",
     "timestamp": 1596403258371,
     "user": {
      "displayName": "Fernando Moreno",
      "photoUrl": "",
      "userId": "12085513332857029549"
     },
     "user_tz": 180
    },
    "id": "4PfYUDVHk2Cz"
   },
   "outputs": [],
   "source": [
    "def hay_hashtag(x):\n",
    "    for i in x.split():\n",
    "        if i[0]=='#':\n",
    "            return 1\n",
    "    return 0\n",
    "\n",
    "df[\"hay_hashtag\"] = df[\"text\"].transform(hay_hashtag)"
   ]
  },
  {
   "cell_type": "code",
   "execution_count": 15,
   "metadata": {
    "colab": {},
    "colab_type": "code",
    "executionInfo": {
     "elapsed": 903,
     "status": "ok",
     "timestamp": 1596403260067,
     "user": {
      "displayName": "Fernando Moreno",
      "photoUrl": "",
      "userId": "12085513332857029549"
     },
     "user_tz": 180
    },
    "id": "52dibBvFlLLo"
   },
   "outputs": [],
   "source": [
    "# Función para limpiar el texto de los mensajes.\n",
    "def clean_text(text):\n",
    "    # Se convierte el texto a minúsculas.\n",
    "    text = text.lower()\n",
    "    # Se quitan los '#'.\n",
    "    text = re.sub('#', '', text)\n",
    "    # Se quitan los números.\n",
    "    text = re.sub('\\w*\\d\\w*', '', text)\n",
    "    # Se quitan los saltos de línea.\n",
    "    text = re.sub('\\n', ' ', text)\n",
    "    # Se eliminan las referencias a usuarios '@user'.\n",
    "    text = re.sub('@\\S*', '', text)\n",
    "    # Se quitan vínculos URL.\n",
    "    text = re.sub('https{0,1}:\\/\\/\\S*', ' ', text)\n",
    "    # Se simplifican múltiples espacios a uno solo.\n",
    "    text = re.sub('(\\ ){2,7}', ' ',text)\n",
    "    # Se quitan los signos de puntuación.\n",
    "    text = re.sub('[%s]' % re.escape(string.punctuation), '', text)\n",
    "    return text"
   ]
  },
  {
   "cell_type": "code",
   "execution_count": 16,
   "metadata": {
    "colab": {},
    "colab_type": "code",
    "executionInfo": {
     "elapsed": 2327,
     "status": "ok",
     "timestamp": 1596403263238,
     "user": {
      "displayName": "Fernando Moreno",
      "photoUrl": "",
      "userId": "12085513332857029549"
     },
     "user_tz": 180
    },
    "id": "t5HNilLIlMBb"
   },
   "outputs": [],
   "source": [
    "c_vect = CountVectorizer(stop_words='english', preprocessor=clean_text, max_df=0.5, min_df=5)\n",
    "\n",
    "bow_cols = pd.DataFrame(c_vect.fit_transform(df[\"text\"]).toarray())\n",
    "\n",
    "nuevas_col = pd.Series(dtype=object)\n",
    "for col in bow_cols.columns:\n",
    "    nuevas_col = nuevas_col.append(pd.Series(\"bow_\" + str(col), dtype=object))\n",
    "bow_cols.columns = nuevas_col\n",
    "\n",
    "df = pd.concat(objs=[df, bow_cols], axis=1)"
   ]
  },
  {
   "cell_type": "code",
   "execution_count": 17,
   "metadata": {
    "colab": {},
    "colab_type": "code",
    "executionInfo": {
     "elapsed": 998,
     "status": "ok",
     "timestamp": 1596403264958,
     "user": {
      "displayName": "Fernando Moreno",
      "photoUrl": "",
      "userId": "12085513332857029549"
     },
     "user_tz": 180
    },
    "id": "LYIniZ8a7Y4W"
   },
   "outputs": [],
   "source": [
    "df_f = df.drop(labels=[\"id\", \"text\", \"keyword\", \"location\", \"target\"], axis=1)"
   ]
  },
  {
   "cell_type": "markdown",
   "metadata": {
    "colab_type": "text",
    "id": "UA6DcSFv60vL"
   },
   "source": [
    "# KNN"
   ]
  },
  {
   "cell_type": "code",
   "execution_count": null,
   "metadata": {
    "colab": {},
    "colab_type": "code",
    "id": "FgLL0hekvARc"
   },
   "outputs": [],
   "source": [
    "knn = KNeighborsClassifier(n_jobs=-1)"
   ]
  },
  {
   "cell_type": "code",
   "execution_count": null,
   "metadata": {
    "colab": {},
    "colab_type": "code",
    "id": "f5qlmt38wtCs"
   },
   "outputs": [],
   "source": [
    "df_f = df[[\"keyword_mean\",\"long\", \"nro_term\"]]"
   ]
  },
  {
   "cell_type": "code",
   "execution_count": null,
   "metadata": {
    "colab": {
     "base_uri": "https://localhost:8080/",
     "height": 34
    },
    "colab_type": "code",
    "executionInfo": {
     "elapsed": 1605,
     "status": "ok",
     "timestamp": 1596320885407,
     "user": {
      "displayName": "Fernando Moreno",
      "photoUrl": "",
      "userId": "12085513332857029549"
     },
     "user_tz": 180
    },
    "id": "9tlFTWcowM3r",
    "outputId": "09d4034f-fb24-451b-cac7-8add6de60313"
   },
   "outputs": [
    {
     "name": "stdout",
     "output_type": "stream",
     "text": [
      "MIN: 0.6241787122207622, MAX:0.7847769028871391, MEAN:0.7053710927395572\n"
     ]
    }
   ],
   "source": [
    "score = cross_val_score(knn, df_f, y=df[\"target\"], scoring=\"accuracy\", cv=10, n_jobs=-1)\n",
    "print(\"MIN: {}, MAX:{}, MEAN:{}\".format(score.min(), score.max(), score.mean()))"
   ]
  },
  {
   "cell_type": "code",
   "execution_count": null,
   "metadata": {
    "colab": {
     "base_uri": "https://localhost:8080/",
     "height": 204
    },
    "colab_type": "code",
    "executionInfo": {
     "elapsed": 10671,
     "status": "ok",
     "timestamp": 1596320941033,
     "user": {
      "displayName": "Fernando Moreno",
      "photoUrl": "",
      "userId": "12085513332857029549"
     },
     "user_tz": 180
    },
    "id": "_Xl1Op9z2N70",
    "outputId": "06ab85b5-0040-4a57-b28b-8fded3805f9b"
   },
   "outputs": [
    {
     "data": {
      "text/plain": [
       "GridSearchCV(cv=10, error_score=nan,\n",
       "             estimator=KNeighborsClassifier(algorithm='auto', leaf_size=30,\n",
       "                                            metric='minkowski',\n",
       "                                            metric_params=None, n_jobs=-1,\n",
       "                                            n_neighbors=5, p=2,\n",
       "                                            weights='uniform'),\n",
       "             iid='deprecated', n_jobs=-1,\n",
       "             param_grid={'n_neighbors': [5, 13, 21], 'p': [0.5, 1, 2],\n",
       "                         'weights': ['uniform', 'distance']},\n",
       "             pre_dispatch='2*n_jobs', refit=True, return_train_score=False,\n",
       "             scoring='accuracy', verbose=0)"
      ]
     },
     "execution_count": 55,
     "metadata": {
      "tags": []
     },
     "output_type": "execute_result"
    }
   ],
   "source": [
    "gridcv = GridSearchCV(knn, {\"n_neighbors\":[5,13,21], \"weights\":[\"uniform\", \"distance\"], \"p\":[0.5,1,2]}, scoring=\"accuracy\", n_jobs=-1, cv=10)\n",
    "gridcv.fit(df_f, y=df[\"target\"])"
   ]
  },
  {
   "cell_type": "code",
   "execution_count": null,
   "metadata": {
    "colab": {
     "base_uri": "https://localhost:8080/",
     "height": 34
    },
    "colab_type": "code",
    "executionInfo": {
     "elapsed": 769,
     "status": "ok",
     "timestamp": 1596320944791,
     "user": {
      "displayName": "Fernando Moreno",
      "photoUrl": "",
      "userId": "12085513332857029549"
     },
     "user_tz": 180
    },
    "id": "XPhsE4sS4iVf",
    "outputId": "76e7ed7f-e9cb-4ed7-dc4a-b54c9bb82a5a"
   },
   "outputs": [
    {
     "data": {
      "text/plain": [
       "{'n_neighbors': 21, 'p': 2, 'weights': 'uniform'}"
      ]
     },
     "execution_count": 56,
     "metadata": {
      "tags": []
     },
     "output_type": "execute_result"
    }
   ],
   "source": [
    "gridcv.best_params_"
   ]
  },
  {
   "cell_type": "code",
   "execution_count": null,
   "metadata": {
    "colab": {
     "base_uri": "https://localhost:8080/",
     "height": 34
    },
    "colab_type": "code",
    "executionInfo": {
     "elapsed": 990,
     "status": "ok",
     "timestamp": 1596320951720,
     "user": {
      "displayName": "Fernando Moreno",
      "photoUrl": "",
      "userId": "12085513332857029549"
     },
     "user_tz": 180
    },
    "id": "FBEGxE1VF0sx",
    "outputId": "6e584e04-a2db-4d03-84c0-a8d818cbc012"
   },
   "outputs": [
    {
     "data": {
      "text/plain": [
       "0.7365058753332574"
      ]
     },
     "execution_count": 57,
     "metadata": {
      "tags": []
     },
     "output_type": "execute_result"
    }
   ],
   "source": [
    "gridcv.best_score_"
   ]
  },
  {
   "cell_type": "code",
   "execution_count": null,
   "metadata": {
    "colab": {
     "base_uri": "https://localhost:8080/",
     "height": 187
    },
    "colab_type": "code",
    "executionInfo": {
     "elapsed": 3488,
     "status": "ok",
     "timestamp": 1596320988858,
     "user": {
      "displayName": "Fernando Moreno",
      "photoUrl": "",
      "userId": "12085513332857029549"
     },
     "user_tz": 180
    },
    "id": "bQAIY0fK5AEE",
    "outputId": "a6574c22-03e8-4ed5-db64-0c40c751a5e2"
   },
   "outputs": [
    {
     "data": {
      "text/plain": [
       "GridSearchCV(cv=10, error_score=nan,\n",
       "             estimator=KNeighborsClassifier(algorithm='auto', leaf_size=30,\n",
       "                                            metric='minkowski',\n",
       "                                            metric_params=None, n_jobs=-1,\n",
       "                                            n_neighbors=5, p=2,\n",
       "                                            weights='uniform'),\n",
       "             iid='deprecated', n_jobs=-1,\n",
       "             param_grid={'n_neighbors': [21, 27, 31, 37]},\n",
       "             pre_dispatch='2*n_jobs', refit=True, return_train_score=False,\n",
       "             scoring='accuracy', verbose=0)"
      ]
     },
     "execution_count": 59,
     "metadata": {
      "tags": []
     },
     "output_type": "execute_result"
    }
   ],
   "source": [
    "gridcv = GridSearchCV(knn, {\"n_neighbors\":[21, 27, 31, 37]}, scoring=\"accuracy\", n_jobs=-1, cv=10)\n",
    "gridcv.fit(df_f, y=df[\"target\"])"
   ]
  },
  {
   "cell_type": "code",
   "execution_count": null,
   "metadata": {
    "colab": {
     "base_uri": "https://localhost:8080/",
     "height": 34
    },
    "colab_type": "code",
    "executionInfo": {
     "elapsed": 730,
     "status": "ok",
     "timestamp": 1596320992314,
     "user": {
      "displayName": "Fernando Moreno",
      "photoUrl": "",
      "userId": "12085513332857029549"
     },
     "user_tz": 180
    },
    "id": "unN1huBH5Y3a",
    "outputId": "c662c1e0-897e-4a6c-9c33-d4b5dfdb1465"
   },
   "outputs": [
    {
     "data": {
      "text/plain": [
       "{'n_neighbors': 37}"
      ]
     },
     "execution_count": 60,
     "metadata": {
      "tags": []
     },
     "output_type": "execute_result"
    }
   ],
   "source": [
    "gridcv.best_params_"
   ]
  },
  {
   "cell_type": "code",
   "execution_count": null,
   "metadata": {
    "colab": {
     "base_uri": "https://localhost:8080/",
     "height": 34
    },
    "colab_type": "code",
    "executionInfo": {
     "elapsed": 752,
     "status": "ok",
     "timestamp": 1596320995954,
     "user": {
      "displayName": "Fernando Moreno",
      "photoUrl": "",
      "userId": "12085513332857029549"
     },
     "user_tz": 180
    },
    "id": "B8f6YCq956N6",
    "outputId": "da5170a3-6a12-499d-ebdf-04da6f2cbb45"
   },
   "outputs": [
    {
     "data": {
      "text/plain": [
       "0.7439939504933761"
      ]
     },
     "execution_count": 61,
     "metadata": {
      "tags": []
     },
     "output_type": "execute_result"
    }
   ],
   "source": [
    "gridcv.best_score_"
   ]
  },
  {
   "cell_type": "code",
   "execution_count": null,
   "metadata": {
    "colab": {
     "base_uri": "https://localhost:8080/",
     "height": 187
    },
    "colab_type": "code",
    "executionInfo": {
     "elapsed": 3560,
     "status": "ok",
     "timestamp": 1596321006018,
     "user": {
      "displayName": "Fernando Moreno",
      "photoUrl": "",
      "userId": "12085513332857029549"
     },
     "user_tz": 180
    },
    "id": "ggGYzCXw6Se9",
    "outputId": "d52d2039-0bd3-4a5e-bacc-c204e5279b59"
   },
   "outputs": [
    {
     "data": {
      "text/plain": [
       "GridSearchCV(cv=10, error_score=nan,\n",
       "             estimator=KNeighborsClassifier(algorithm='auto', leaf_size=30,\n",
       "                                            metric='minkowski',\n",
       "                                            metric_params=None, n_jobs=-1,\n",
       "                                            n_neighbors=5, p=2,\n",
       "                                            weights='uniform'),\n",
       "             iid='deprecated', n_jobs=-1,\n",
       "             param_grid={'n_neighbors': [37, 39, 41, 43]},\n",
       "             pre_dispatch='2*n_jobs', refit=True, return_train_score=False,\n",
       "             scoring='accuracy', verbose=0)"
      ]
     },
     "execution_count": 62,
     "metadata": {
      "tags": []
     },
     "output_type": "execute_result"
    }
   ],
   "source": [
    "gridcv = GridSearchCV(knn, {\"n_neighbors\":[37, 39, 41, 43]}, scoring=\"accuracy\", n_jobs=-1, cv=10)\n",
    "gridcv.fit(df_f, y=df[\"target\"])"
   ]
  },
  {
   "cell_type": "code",
   "execution_count": null,
   "metadata": {
    "colab": {
     "base_uri": "https://localhost:8080/",
     "height": 34
    },
    "colab_type": "code",
    "executionInfo": {
     "elapsed": 744,
     "status": "ok",
     "timestamp": 1596321009674,
     "user": {
      "displayName": "Fernando Moreno",
      "photoUrl": "",
      "userId": "12085513332857029549"
     },
     "user_tz": 180
    },
    "id": "fHIhtGgBGepH",
    "outputId": "32eeaf15-40b1-455f-efd8-eed59f611266"
   },
   "outputs": [
    {
     "data": {
      "text/plain": [
       "{'n_neighbors': 41}"
      ]
     },
     "execution_count": 63,
     "metadata": {
      "tags": []
     },
     "output_type": "execute_result"
    }
   ],
   "source": [
    "gridcv.best_params_"
   ]
  },
  {
   "cell_type": "code",
   "execution_count": null,
   "metadata": {
    "colab": {
     "base_uri": "https://localhost:8080/",
     "height": 34
    },
    "colab_type": "code",
    "executionInfo": {
     "elapsed": 786,
     "status": "ok",
     "timestamp": 1596321012540,
     "user": {
      "displayName": "Fernando Moreno",
      "photoUrl": "",
      "userId": "12085513332857029549"
     },
     "user_tz": 180
    },
    "id": "9G2ex_1vGiGC",
    "outputId": "cd3adbf0-5ae7-4d5e-a59e-f1ed9d520044"
   },
   "outputs": [
    {
     "data": {
      "text/plain": [
       "0.7459653860613022"
      ]
     },
     "execution_count": 64,
     "metadata": {
      "tags": []
     },
     "output_type": "execute_result"
    }
   ],
   "source": [
    "gridcv.best_score_"
   ]
  },
  {
   "cell_type": "code",
   "execution_count": null,
   "metadata": {
    "colab": {},
    "colab_type": "code",
    "id": "05V3eWpK6oms"
   },
   "outputs": [],
   "source": [
    "knn = KNeighborsClassifier(n_neighbors=41, n_jobs=-1)"
   ]
  },
  {
   "cell_type": "markdown",
   "metadata": {
    "colab_type": "text",
    "id": "ZwqRBnOc7Rl2"
   },
   "source": [
    "Probar KNN con los mejores tres features que se encuentren."
   ]
  },
  {
   "cell_type": "markdown",
   "metadata": {
    "colab_type": "text",
    "id": "GEVftI9sy_Ra"
   },
   "source": [
    "# Radius Neighbors"
   ]
  },
  {
   "cell_type": "code",
   "execution_count": 31,
   "metadata": {
    "colab": {},
    "colab_type": "code",
    "executionInfo": {
     "elapsed": 838,
     "status": "ok",
     "timestamp": 1596416314287,
     "user": {
      "displayName": "Fernando Moreno",
      "photoUrl": "",
      "userId": "12085513332857029549"
     },
     "user_tz": 180
    },
    "id": "TsLaKFxFzCus"
   },
   "outputs": [],
   "source": [
    "rn = RadiusNeighborsClassifier(n_jobs=-1)"
   ]
  },
  {
   "cell_type": "code",
   "execution_count": 32,
   "metadata": {
    "colab": {
     "base_uri": "https://localhost:8080/",
     "height": 34
    },
    "colab_type": "code",
    "executionInfo": {
     "elapsed": 4235,
     "status": "ok",
     "timestamp": 1596416420372,
     "user": {
      "displayName": "Fernando Moreno",
      "photoUrl": "",
      "userId": "12085513332857029549"
     },
     "user_tz": 180
    },
    "id": "MBf7JZFe09Oj",
    "outputId": "b078383e-36a3-4f4d-9402-be4ccd5354f5"
   },
   "outputs": [
    {
     "name": "stdout",
     "output_type": "stream",
     "text": [
      "MIN: 0.5695538057742782, MAX:0.573490813648294, MEAN:0.5707340458920953\n"
     ]
    }
   ],
   "source": [
    "score = cross_val_score(rn, df_f[[\"keyword_mean\", \"long\", \"nro_term\"]], y=df[\"target\"], scoring=\"accuracy\", cv=10, n_jobs=-1)\n",
    "print(\"MIN: {}, MAX:{}, MEAN:{}\".format(score.min(), score.max(), score.mean()))"
   ]
  },
  {
   "cell_type": "markdown",
   "metadata": {
    "colab_type": "text",
    "id": "viXiH_MTK7O0"
   },
   "source": [
    "# Para hacer un submit:"
   ]
  },
  {
   "cell_type": "code",
   "execution_count": null,
   "metadata": {
    "colab": {},
    "colab_type": "code",
    "id": "m3ZFU9b_NQWK"
   },
   "outputs": [],
   "source": [
    "def hacer_submit(modelo, train, target, test, test_id, nombre_submit):\n",
    "  modelo.fit(train, target)\n",
    "  res = modelo.predict(test)\n",
    "  pd.concat(objs=[test_id, pd.Series(res)], axis=1).to_csv(nombre_submit, index=False)\n"
   ]
  },
  {
   "cell_type": "code",
   "execution_count": null,
   "metadata": {
    "colab": {
     "base_uri": "https://localhost:8080/",
     "height": 72,
     "resources": {
      "http://localhost:8080/nbextensions/google.colab/files.js": {
       "data": "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",
       "headers": [
        [
         "content-type",
         "application/javascript"
        ]
       ],
       "ok": true,
       "status": 200,
       "status_text": ""
      }
     }
    },
    "colab_type": "code",
    "executionInfo": {
     "elapsed": 13683,
     "status": "ok",
     "timestamp": 1596337279841,
     "user": {
      "displayName": "Fernando Moreno",
      "photoUrl": "",
      "userId": "12085513332857029549"
     },
     "user_tz": 180
    },
    "id": "KS0OIk27K6SC",
    "outputId": "4ed20321-2d06-4fff-b862-31d1d672fb89"
   },
   "outputs": [
    {
     "data": {
      "text/html": [
       "\n",
       "     <input type=\"file\" id=\"files-0222eb92-d129-45bf-8ae5-c0a47be51816\" name=\"files[]\" multiple disabled\n",
       "        style=\"border:none\" />\n",
       "     <output id=\"result-0222eb92-d129-45bf-8ae5-c0a47be51816\">\n",
       "      Upload widget is only available when the cell has been executed in the\n",
       "      current browser session. Please rerun this cell to enable.\n",
       "      </output>\n",
       "      <script src=\"/nbextensions/google.colab/files.js\"></script> "
      ],
      "text/plain": [
       "<IPython.core.display.HTML object>"
      ]
     },
     "metadata": {
      "tags": []
     },
     "output_type": "display_data"
    },
    {
     "name": "stdout",
     "output_type": "stream",
     "text": [
      "Saving test.csv to test (2).csv\n"
     ]
    }
   ],
   "source": [
    "file = files.upload()\n",
    "test = pd.read_csv(\"test.csv\")"
   ]
  },
  {
   "cell_type": "code",
   "execution_count": null,
   "metadata": {
    "colab": {},
    "colab_type": "code",
    "id": "cex0W12WQAM4"
   },
   "outputs": [],
   "source": [
    "test['id'] = test['id'].astype(np.uint16)\n",
    "test = test.fillna(\"\")"
   ]
  },
  {
   "cell_type": "code",
   "execution_count": null,
   "metadata": {
    "colab": {},
    "colab_type": "code",
    "id": "-obhlNDRQANR"
   },
   "outputs": [],
   "source": [
    "test[\"keyword_mean\"] = test[\"keyword\"].transform(keyword_mean)"
   ]
  },
  {
   "cell_type": "code",
   "execution_count": null,
   "metadata": {
    "colab": {},
    "colab_type": "code",
    "id": "N_KqFZk8udc7"
   },
   "outputs": [],
   "source": [
    "test[\"keyword_en_tweet\"] = test.agg(lambda x: 1 if x[\"keyword\"].lower() in x[\"text\"].lower().split() else 0, axis=1)"
   ]
  },
  {
   "cell_type": "code",
   "execution_count": null,
   "metadata": {
    "colab": {},
    "colab_type": "code",
    "id": "teJYw42CQANo"
   },
   "outputs": [],
   "source": [
    "test[\"long\"] = test[\"text\"].transform(lambda x: len(x))\n",
    "long_max = test[\"long\"].max()\n",
    "test[\"long\"] = test[\"long\"]/long_max"
   ]
  },
  {
   "cell_type": "code",
   "execution_count": null,
   "metadata": {
    "colab": {},
    "colab_type": "code",
    "id": "c8X-4llwQANw"
   },
   "outputs": [],
   "source": [
    "test[\"nro_term\"] = test[\"text\"].transform(lambda x: len(x.split()))\n",
    "nro_term_max = test[\"nro_term\"].max()\n",
    "test[\"nro_term\"] = test[\"nro_term\"]/nro_term_max"
   ]
  },
  {
   "cell_type": "code",
   "execution_count": null,
   "metadata": {
    "colab": {},
    "colab_type": "code",
    "id": "tayUhLIcvExl"
   },
   "outputs": [],
   "source": [
    "test[\"hay_url\"] = test[\"text\"].transform(hay_url)"
   ]
  },
  {
   "cell_type": "code",
   "execution_count": null,
   "metadata": {
    "colab": {},
    "colab_type": "code",
    "id": "u8H6UWvYvI1J"
   },
   "outputs": [],
   "source": [
    "test[\"hay_nros\"] = test[\"text\"].transform(hay_nros)"
   ]
  },
  {
   "cell_type": "code",
   "execution_count": null,
   "metadata": {
    "colab": {},
    "colab_type": "code",
    "id": "du_-KBPWvI_T"
   },
   "outputs": [],
   "source": [
    "test[\"hay_mencion\"] = test[\"text\"].transform(hay_mencion)"
   ]
  },
  {
   "cell_type": "code",
   "execution_count": null,
   "metadata": {
    "colab": {},
    "colab_type": "code",
    "id": "oRAWaMKFvJI0"
   },
   "outputs": [],
   "source": [
    "test[\"hay_hashtag\"] = test[\"text\"].transform(hay_hashtag)"
   ]
  },
  {
   "cell_type": "code",
   "execution_count": null,
   "metadata": {
    "colab": {},
    "colab_type": "code",
    "id": "NIYBlOp_1XXo"
   },
   "outputs": [],
   "source": [
    "bow_cols = pd.DataFrame(c_vect.transform(test[\"text\"]).toarray())\n",
    "\n",
    "nuevas_col = pd.Series(dtype=object)\n",
    "for col in bow_cols.columns:\n",
    "    nuevas_col = nuevas_col.append(pd.Series(\"bow_\" + str(col), dtype=object))\n",
    "bow_cols.columns = nuevas_col\n",
    "\n",
    "test = pd.concat(objs=[test, bow_cols], axis=1)"
   ]
  },
  {
   "cell_type": "code",
   "execution_count": null,
   "metadata": {
    "colab": {},
    "colab_type": "code",
    "id": "UwuoE4XeMdBs"
   },
   "outputs": [],
   "source": [
    "#test_f = test[[\"keyword_mean\", \"long\", \"nro_term\"]]\n",
    "test_f = test.drop(labels=[\"id\", \"text\", \"keyword\", \"location\"], axis=1)"
   ]
  },
  {
   "cell_type": "code",
   "execution_count": null,
   "metadata": {
    "colab": {},
    "colab_type": "code",
    "id": "E9mVq6-eOhDQ"
   },
   "outputs": [],
   "source": [
    "hacer_submit(nusvc, df_f, df[\"target\"], test_f, test[\"id\"], \"nusvc.csv\")"
   ]
  },
  {
   "cell_type": "code",
   "execution_count": null,
   "metadata": {
    "colab": {
     "base_uri": "https://localhost:8080/",
     "height": 17
    },
    "colab_type": "code",
    "executionInfo": {
     "elapsed": 922,
     "status": "ok",
     "timestamp": 1596338031395,
     "user": {
      "displayName": "Fernando Moreno",
      "photoUrl": "",
      "userId": "12085513332857029549"
     },
     "user_tz": 180
    },
    "id": "QC3agHhCRwL3",
    "outputId": "b54ccf5f-c767-4dc7-f21f-571328a5e63e"
   },
   "outputs": [
    {
     "data": {
      "application/javascript": [
       "\n",
       "    async function download(id, filename, size) {\n",
       "      if (!google.colab.kernel.accessAllowed) {\n",
       "        return;\n",
       "      }\n",
       "      const div = document.createElement('div');\n",
       "      const label = document.createElement('label');\n",
       "      label.textContent = `Downloading \"${filename}\": `;\n",
       "      div.appendChild(label);\n",
       "      const progress = document.createElement('progress');\n",
       "      progress.max = size;\n",
       "      div.appendChild(progress);\n",
       "      document.body.appendChild(div);\n",
       "\n",
       "      const buffers = [];\n",
       "      let downloaded = 0;\n",
       "\n",
       "      const channel = await google.colab.kernel.comms.open(id);\n",
       "      // Send a message to notify the kernel that we're ready.\n",
       "      channel.send({})\n",
       "\n",
       "      for await (const message of channel.messages) {\n",
       "        // Send a message to notify the kernel that we're ready.\n",
       "        channel.send({})\n",
       "        if (message.buffers) {\n",
       "          for (const buffer of message.buffers) {\n",
       "            buffers.push(buffer);\n",
       "            downloaded += buffer.byteLength;\n",
       "            progress.value = downloaded;\n",
       "          }\n",
       "        }\n",
       "      }\n",
       "      const blob = new Blob(buffers, {type: 'application/binary'});\n",
       "      const a = document.createElement('a');\n",
       "      a.href = window.URL.createObjectURL(blob);\n",
       "      a.download = filename;\n",
       "      div.appendChild(a);\n",
       "      a.click();\n",
       "      div.remove();\n",
       "    }\n",
       "  "
      ],
      "text/plain": [
       "<IPython.core.display.Javascript object>"
      ]
     },
     "metadata": {
      "tags": []
     },
     "output_type": "display_data"
    },
    {
     "data": {
      "application/javascript": [
       "download(\"download_3a63d28e-7ec7-4dd0-9937-a45c66d156cc\", \"nusvc.csv\", 22741)"
      ],
      "text/plain": [
       "<IPython.core.display.Javascript object>"
      ]
     },
     "metadata": {
      "tags": []
     },
     "output_type": "display_data"
    }
   ],
   "source": [
    "files.download(\"nusvc.csv\")"
   ]
  },
  {
   "cell_type": "markdown",
   "metadata": {
    "colab_type": "text",
    "id": "qnmKQo-B7A_B"
   },
   "source": [
    "# Decision Tree"
   ]
  },
  {
   "cell_type": "code",
   "execution_count": null,
   "metadata": {
    "colab": {},
    "colab_type": "code",
    "id": "lu96LZu77QbA"
   },
   "outputs": [],
   "source": [
    "dt = DecisionTreeClassifier()"
   ]
  },
  {
   "cell_type": "code",
   "execution_count": null,
   "metadata": {
    "colab": {
     "base_uri": "https://localhost:8080/",
     "height": 34
    },
    "colab_type": "code",
    "executionInfo": {
     "elapsed": 19061,
     "status": "ok",
     "timestamp": 1596321235129,
     "user": {
      "displayName": "Fernando Moreno",
      "photoUrl": "",
      "userId": "12085513332857029549"
     },
     "user_tz": 180
    },
    "id": "lNrbM9KGmRNT",
    "outputId": "2651ade5-519a-4420-dedb-efd55a5c7ea0"
   },
   "outputs": [
    {
     "name": "stdout",
     "output_type": "stream",
     "text": [
      "MIN: 0.4283837056504599, MAX:0.6863517060367454, MEAN:0.5528748952373068\n"
     ]
    }
   ],
   "source": [
    "score = cross_val_score(dt, df_f, y=df[\"target\"], scoring=\"accuracy\", cv=10, n_jobs=-1)\n",
    "print(\"MIN: {}, MAX:{}, MEAN:{}\".format(score.min(), score.max(), score.mean()))"
   ]
  },
  {
   "cell_type": "markdown",
   "metadata": {
    "colab_type": "text",
    "id": "x9T3evNutEYd"
   },
   "source": [
    "# Extra Tree"
   ]
  },
  {
   "cell_type": "code",
   "execution_count": null,
   "metadata": {
    "colab": {},
    "colab_type": "code",
    "id": "WQQWHYHctGlR"
   },
   "outputs": [],
   "source": [
    "et = ExtraTreeClassifier()"
   ]
  },
  {
   "cell_type": "code",
   "execution_count": null,
   "metadata": {
    "colab": {
     "base_uri": "https://localhost:8080/",
     "height": 34
    },
    "colab_type": "code",
    "executionInfo": {
     "elapsed": 3594,
     "status": "ok",
     "timestamp": 1596321210619,
     "user": {
      "displayName": "Fernando Moreno",
      "photoUrl": "",
      "userId": "12085513332857029549"
     },
     "user_tz": 180
    },
    "id": "o3YI1c-Pto52",
    "outputId": "d91c410c-b940-4775-9537-1579d02e9671"
   },
   "outputs": [
    {
     "name": "stdout",
     "output_type": "stream",
     "text": [
      "MIN: 0.5151116951379764, MAX:0.6846254927726675, MEAN:0.615793557999731\n"
     ]
    }
   ],
   "source": [
    "score = cross_val_score(et, df_f, y=df[\"target\"], scoring=\"accuracy\", cv=10, n_jobs=-1)\n",
    "print(\"MIN: {}, MAX:{}, MEAN:{}\".format(score.min(), score.max(), score.mean()))"
   ]
  },
  {
   "cell_type": "markdown",
   "metadata": {
    "colab_type": "text",
    "id": "p_EEwyqDxJie"
   },
   "source": [
    "# Random Forest"
   ]
  },
  {
   "cell_type": "code",
   "execution_count": null,
   "metadata": {
    "colab": {},
    "colab_type": "code",
    "id": "TV-SYwW2xQeG"
   },
   "outputs": [],
   "source": [
    "rf = RandomForestClassifier(oob_score=True, n_jobs=-1)"
   ]
  },
  {
   "cell_type": "code",
   "execution_count": null,
   "metadata": {
    "colab": {
     "base_uri": "https://localhost:8080/",
     "height": 34
    },
    "colab_type": "code",
    "executionInfo": {
     "elapsed": 153921,
     "status": "ok",
     "timestamp": 1596321458855,
     "user": {
      "displayName": "Fernando Moreno",
      "photoUrl": "",
      "userId": "12085513332857029549"
     },
     "user_tz": 180
    },
    "id": "SnfKvcUwxbQ0",
    "outputId": "3124c9a1-86a7-478b-da26-37fc74336640"
   },
   "outputs": [
    {
     "name": "stdout",
     "output_type": "stream",
     "text": [
      "MIN: 0.615485564304462, MAX:0.7950065703022339, MEAN:0.6999922398005112\n"
     ]
    }
   ],
   "source": [
    "score = cross_val_score(rf, df_f, y=df[\"target\"], scoring=\"accuracy\", cv=10, n_jobs=-1)\n",
    "print(\"MIN: {}, MAX:{}, MEAN:{}\".format(score.min(), score.max(), score.mean()))"
   ]
  },
  {
   "cell_type": "code",
   "execution_count": null,
   "metadata": {
    "colab": {
     "base_uri": "https://localhost:8080/",
     "height": 51
    },
    "colab_type": "code",
    "executionInfo": {
     "elapsed": 20857,
     "status": "ok",
     "timestamp": 1596325123908,
     "user": {
      "displayName": "Fernando Moreno",
      "photoUrl": "",
      "userId": "12085513332857029549"
     },
     "user_tz": 180
    },
    "id": "hKRHjDzWRPp2",
    "outputId": "3f1ba150-f199-4986-a776-902494a233ab"
   },
   "outputs": [
    {
     "data": {
      "text/plain": [
       "array([1.57501544e-01, 6.79389853e-03, 4.75845003e-02, ...,\n",
       "       1.31841517e-04, 7.80842542e-04, 4.23876020e-04])"
      ]
     },
     "execution_count": 87,
     "metadata": {
      "tags": []
     },
     "output_type": "execute_result"
    }
   ],
   "source": [
    "rf.fit(df_f, y=df[\"target\"])\n",
    "rf.feature_importances_"
   ]
  },
  {
   "cell_type": "markdown",
   "metadata": {
    "colab_type": "text",
    "id": "fJGJsjoWMP0T"
   },
   "source": [
    "# Probar"
   ]
  },
  {
   "cell_type": "code",
   "execution_count": null,
   "metadata": {
    "colab": {},
    "colab_type": "code",
    "id": "2hHEzhCMxhZS"
   },
   "outputs": [],
   "source": [
    "gridcv = GridSearchCV(rf, {\"n_estimators\":[80,100,120], \"criterion\":[\"gini\", \"entropy\"], \"min_samples_split\":[2,5,7,9], \"ccp_alpha\":[0,0.5,1]}, \\\n",
    "                      scoring=\"accuracy\", n_jobs=-1, cv=10)\n",
    "gridcv.fit(df_f, y=df[\"target\"])"
   ]
  },
  {
   "cell_type": "code",
   "execution_count": null,
   "metadata": {
    "colab": {
     "base_uri": "https://localhost:8080/",
     "height": 85
    },
    "colab_type": "code",
    "executionInfo": {
     "elapsed": 731,
     "status": "ok",
     "timestamp": 1595984452808,
     "user": {
      "displayName": "Fernando Moreno",
      "photoUrl": "",
      "userId": "12085513332857029549"
     },
     "user_tz": 180
    },
    "id": "QagIaDDWy8xD",
    "outputId": "170fbd86-6b74-47c5-e0c9-ab83217ad410"
   },
   "outputs": [
    {
     "data": {
      "text/plain": [
       "{'ccp_alpha': 0,\n",
       " 'criterion': 'gini',\n",
       " 'min_samples_split': 2,\n",
       " 'n_estimators': 120}"
      ]
     },
     "execution_count": 50,
     "metadata": {
      "tags": []
     },
     "output_type": "execute_result"
    }
   ],
   "source": [
    "gridcv.best_params_"
   ]
  },
  {
   "cell_type": "code",
   "execution_count": null,
   "metadata": {
    "colab": {
     "base_uri": "https://localhost:8080/",
     "height": 34
    },
    "colab_type": "code",
    "executionInfo": {
     "elapsed": 856,
     "status": "ok",
     "timestamp": 1595984455343,
     "user": {
      "displayName": "Fernando Moreno",
      "photoUrl": "",
      "userId": "12085513332857029549"
     },
     "user_tz": 180
    },
    "id": "X6lZtZsey8_W",
    "outputId": "170188f2-50d5-44a9-f80d-689389901f77"
   },
   "outputs": [
    {
     "data": {
      "text/plain": [
       "0.7295491901228901"
      ]
     },
     "execution_count": 51,
     "metadata": {
      "tags": []
     },
     "output_type": "execute_result"
    }
   ],
   "source": [
    "gridcv.best_score_"
   ]
  },
  {
   "cell_type": "code",
   "execution_count": null,
   "metadata": {
    "colab": {
     "base_uri": "https://localhost:8080/",
     "height": 340
    },
    "colab_type": "code",
    "executionInfo": {
     "elapsed": 178617,
     "status": "ok",
     "timestamp": 1596130600556,
     "user": {
      "displayName": "Fernando Moreno",
      "photoUrl": "",
      "userId": "12085513332857029549"
     },
     "user_tz": 180
    },
    "id": "DxjScMtgFuN4",
    "outputId": "af7eb0ba-fd46-487b-838b-abe78cf04bd3"
   },
   "outputs": [
    {
     "data": {
      "text/plain": [
       "GridSearchCV(cv=None, error_score=nan,\n",
       "             estimator=RandomForestClassifier(bootstrap=True, ccp_alpha=0.0,\n",
       "                                              class_weight=None,\n",
       "                                              criterion='gini', max_depth=None,\n",
       "                                              max_features='auto',\n",
       "                                              max_leaf_nodes=None,\n",
       "                                              max_samples=None,\n",
       "                                              min_impurity_decrease=0.0,\n",
       "                                              min_impurity_split=None,\n",
       "                                              min_samples_leaf=1,\n",
       "                                              min_samples_split=2,\n",
       "                                              min_weight_fraction_leaf=0.0,\n",
       "                                              n_estimators=100, n_jobs=-1,\n",
       "                                              oob_score=True, random_state=None,\n",
       "                                              verbose=0, warm_start=False),\n",
       "             iid='deprecated', n_jobs=-1,\n",
       "             param_grid={'n_estimators': [120, 140, 160]},\n",
       "             pre_dispatch='2*n_jobs', refit=True, return_train_score=False,\n",
       "             scoring='accuracy', verbose=0)"
      ]
     },
     "execution_count": 19,
     "metadata": {
      "tags": []
     },
     "output_type": "execute_result"
    }
   ],
   "source": [
    "gridcv = GridSearchCV(rf, {\"n_estimators\":[120,140,160]}, scoring=\"accuracy\", n_jobs=-1)\n",
    "gridcv.fit(df_f, y=df[\"target\"])"
   ]
  },
  {
   "cell_type": "code",
   "execution_count": null,
   "metadata": {
    "colab": {
     "base_uri": "https://localhost:8080/",
     "height": 34
    },
    "colab_type": "code",
    "executionInfo": {
     "elapsed": 1027,
     "status": "ok",
     "timestamp": 1596130608017,
     "user": {
      "displayName": "Fernando Moreno",
      "photoUrl": "",
      "userId": "12085513332857029549"
     },
     "user_tz": 180
    },
    "id": "q5mkYRXGGXCq",
    "outputId": "7a319798-3cfb-4720-b111-e72505a7dfc6"
   },
   "outputs": [
    {
     "data": {
      "text/plain": [
       "{'n_estimators': 160}"
      ]
     },
     "execution_count": 20,
     "metadata": {
      "tags": []
     },
     "output_type": "execute_result"
    }
   ],
   "source": [
    "gridcv.best_params_"
   ]
  },
  {
   "cell_type": "code",
   "execution_count": null,
   "metadata": {
    "colab": {
     "base_uri": "https://localhost:8080/",
     "height": 34
    },
    "colab_type": "code",
    "executionInfo": {
     "elapsed": 1174,
     "status": "ok",
     "timestamp": 1596130610928,
     "user": {
      "displayName": "Fernando Moreno",
      "photoUrl": "",
      "userId": "12085513332857029549"
     },
     "user_tz": 180
    },
    "id": "0HVM7t6qGXP2",
    "outputId": "4359e997-8577-4a42-bb69-392a35845c9d"
   },
   "outputs": [
    {
     "data": {
      "text/plain": [
       "0.7103681353715219"
      ]
     },
     "execution_count": 21,
     "metadata": {
      "tags": []
     },
     "output_type": "execute_result"
    }
   ],
   "source": [
    "gridcv.best_score_"
   ]
  },
  {
   "cell_type": "code",
   "execution_count": null,
   "metadata": {
    "colab": {
     "base_uri": "https://localhost:8080/",
     "height": 340
    },
    "colab_type": "code",
    "executionInfo": {
     "elapsed": 226520,
     "status": "ok",
     "timestamp": 1596130870605,
     "user": {
      "displayName": "Fernando Moreno",
      "photoUrl": "",
      "userId": "12085513332857029549"
     },
     "user_tz": 180
    },
    "id": "8jyq_048zHt1",
    "outputId": "a436e1d2-5a3d-4801-96d1-cc715b750a4b"
   },
   "outputs": [
    {
     "data": {
      "text/plain": [
       "GridSearchCV(cv=None, error_score=nan,\n",
       "             estimator=RandomForestClassifier(bootstrap=True, ccp_alpha=0.0,\n",
       "                                              class_weight=None,\n",
       "                                              criterion='gini', max_depth=None,\n",
       "                                              max_features='auto',\n",
       "                                              max_leaf_nodes=None,\n",
       "                                              max_samples=None,\n",
       "                                              min_impurity_decrease=0.0,\n",
       "                                              min_impurity_split=None,\n",
       "                                              min_samples_leaf=1,\n",
       "                                              min_samples_split=2,\n",
       "                                              min_weight_fraction_leaf=0.0,\n",
       "                                              n_estimators=100, n_jobs=-1,\n",
       "                                              oob_score=True, random_state=None,\n",
       "                                              verbose=0, warm_start=False),\n",
       "             iid='deprecated', n_jobs=-1,\n",
       "             param_grid={'n_estimators': [160, 180, 200]},\n",
       "             pre_dispatch='2*n_jobs', refit=True, return_train_score=False,\n",
       "             scoring='accuracy', verbose=0)"
      ]
     },
     "execution_count": 22,
     "metadata": {
      "tags": []
     },
     "output_type": "execute_result"
    }
   ],
   "source": [
    "gridcv = GridSearchCV(rf, {\"n_estimators\":[160,180,200]}, scoring=\"accuracy\", n_jobs=-1)\n",
    "gridcv.fit(df_f, y=df[\"target\"])"
   ]
  },
  {
   "cell_type": "code",
   "execution_count": null,
   "metadata": {
    "colab": {
     "base_uri": "https://localhost:8080/",
     "height": 34
    },
    "colab_type": "code",
    "executionInfo": {
     "elapsed": 1075,
     "status": "ok",
     "timestamp": 1596130895841,
     "user": {
      "displayName": "Fernando Moreno",
      "photoUrl": "",
      "userId": "12085513332857029549"
     },
     "user_tz": 180
    },
    "id": "HaObob5czN1N",
    "outputId": "e3323200-93e9-49d3-a278-48e63cf6f0d9"
   },
   "outputs": [
    {
     "data": {
      "text/plain": [
       "{'n_estimators': 200}"
      ]
     },
     "execution_count": 23,
     "metadata": {
      "tags": []
     },
     "output_type": "execute_result"
    }
   ],
   "source": [
    "gridcv.best_params_"
   ]
  },
  {
   "cell_type": "code",
   "execution_count": null,
   "metadata": {
    "colab": {
     "base_uri": "https://localhost:8080/",
     "height": 34
    },
    "colab_type": "code",
    "executionInfo": {
     "elapsed": 1088,
     "status": "ok",
     "timestamp": 1596130898745,
     "user": {
      "displayName": "Fernando Moreno",
      "photoUrl": "",
      "userId": "12085513332857029549"
     },
     "user_tz": 180
    },
    "id": "q-xpCGqWzN-V",
    "outputId": "e9724d4f-fe19-485a-ed92-d1e14b3c8b61"
   },
   "outputs": [
    {
     "data": {
      "text/plain": [
       "0.7132582918249565"
      ]
     },
     "execution_count": 24,
     "metadata": {
      "tags": []
     },
     "output_type": "execute_result"
    }
   ],
   "source": [
    "gridcv.best_score_"
   ]
  },
  {
   "cell_type": "code",
   "execution_count": null,
   "metadata": {
    "colab": {},
    "colab_type": "code",
    "id": "5oLfUZVUHQW0"
   },
   "outputs": [],
   "source": [
    "rf = RandomForestClassifier(n_estimators=160, oob_score=True, n_jobs=-1)"
   ]
  },
  {
   "cell_type": "markdown",
   "metadata": {
    "colab_type": "text",
    "id": "PG3bR1fpxBPc"
   },
   "source": [
    "# GradientBoosting"
   ]
  },
  {
   "cell_type": "code",
   "execution_count": null,
   "metadata": {
    "colab": {},
    "colab_type": "code",
    "id": "waUXOX9jxHj1"
   },
   "outputs": [],
   "source": [
    "gb = GradientBoostingClassifier()"
   ]
  },
  {
   "cell_type": "code",
   "execution_count": null,
   "metadata": {
    "colab": {
     "base_uri": "https://localhost:8080/",
     "height": 34
    },
    "colab_type": "code",
    "executionInfo": {
     "elapsed": 188208,
     "status": "ok",
     "timestamp": 1596332922259,
     "user": {
      "displayName": "Fernando Moreno",
      "photoUrl": "",
      "userId": "12085513332857029549"
     },
     "user_tz": 180
    },
    "id": "3k04XEl62CNd",
    "outputId": "d49a2244-02e7-4614-dfea-c0c2b2973c41"
   },
   "outputs": [
    {
     "name": "stdout",
     "output_type": "stream",
     "text": [
      "MIN: 0.5374507227332457, MAX:0.7792378449408672, MEAN:0.6658352906280933\n"
     ]
    }
   ],
   "source": [
    "score = cross_val_score(gb, df_f, y=df[\"target\"], scoring=\"accuracy\", cv=10, n_jobs=-1)\n",
    "print(\"MIN: {}, MAX:{}, MEAN:{}\".format(score.min(), score.max(), score.mean()))"
   ]
  },
  {
   "cell_type": "markdown",
   "metadata": {
    "colab_type": "text",
    "id": "GfmWlpBFyjv9"
   },
   "source": [
    "# XGBoost"
   ]
  },
  {
   "cell_type": "code",
   "execution_count": null,
   "metadata": {
    "colab": {},
    "colab_type": "code",
    "id": "pIAP1Vo0ymSO"
   },
   "outputs": [],
   "source": [
    "xg = xgb.XGBClassifier(n_jobs=-1)"
   ]
  },
  {
   "cell_type": "code",
   "execution_count": null,
   "metadata": {
    "colab": {
     "base_uri": "https://localhost:8080/",
     "height": 34
    },
    "colab_type": "code",
    "executionInfo": {
     "elapsed": 253227,
     "status": "ok",
     "timestamp": 1596322235173,
     "user": {
      "displayName": "Fernando Moreno",
      "photoUrl": "",
      "userId": "12085513332857029549"
     },
     "user_tz": 180
    },
    "id": "f0FH_cOxy8If",
    "outputId": "eb82244f-d1a2-4476-8451-b3c245796285"
   },
   "outputs": [
    {
     "name": "stdout",
     "output_type": "stream",
     "text": [
      "MIN: 0.6176084099868594, MAX:0.7884362680683311, MEAN:0.7128596852463087\n"
     ]
    }
   ],
   "source": [
    "score = cross_val_score(xg, df_f, y=df[\"target\"], scoring=\"accuracy\", cv=10, n_jobs=-1)\n",
    "print(\"MIN: {}, MAX:{}, MEAN:{}\".format(score.min(), score.max(), score.mean()))"
   ]
  },
  {
   "cell_type": "markdown",
   "metadata": {
    "colab_type": "text",
    "id": "ESdh61CvMKMy"
   },
   "source": [
    "# Probar"
   ]
  },
  {
   "cell_type": "code",
   "execution_count": null,
   "metadata": {
    "colab": {
     "base_uri": "https://localhost:8080/",
     "height": 306
    },
    "colab_type": "code",
    "executionInfo": {
     "elapsed": 8874081,
     "status": "ok",
     "timestamp": 1596316380889,
     "user": {
      "displayName": "Fernando Moreno",
      "photoUrl": "",
      "userId": "12085513332857029549"
     },
     "user_tz": 180
    },
    "id": "FJKqIWzv0AOq",
    "outputId": "add533ea-7b4e-4e07-8579-26cb0abe5d73"
   },
   "outputs": [
    {
     "data": {
      "text/plain": [
       "GridSearchCV(cv=None, error_score=nan,\n",
       "             estimator=XGBClassifier(base_score=0.5, booster='gbtree',\n",
       "                                     colsample_bylevel=1, colsample_bynode=1,\n",
       "                                     colsample_bytree=1, gamma=0,\n",
       "                                     learning_rate=0.1, max_delta_step=0,\n",
       "                                     max_depth=3, min_child_weight=1,\n",
       "                                     missing=None, n_estimators=100, n_jobs=-1,\n",
       "                                     nthread=None, objective='binary:logistic',\n",
       "                                     random_state=0, reg_alpha=0, reg_lambda=1,\n",
       "                                     scale_pos_weight=1, seed=None, silent=None,\n",
       "                                     subsample=1, verbosity=1),\n",
       "             iid='deprecated', n_jobs=-1,\n",
       "             param_grid={'gamma': [0.1, 0.5, 1], 'learning_rate': [0.1, 0.5, 1],\n",
       "                         'reg_alpha': [0.1, 0.5, 1],\n",
       "                         'reg_lambda': [0.1, 0.5, 1]},\n",
       "             pre_dispatch='2*n_jobs', refit=True, return_train_score=False,\n",
       "             scoring='accuracy', verbose=0)"
      ]
     },
     "execution_count": 69,
     "metadata": {
      "tags": []
     },
     "output_type": "execute_result"
    }
   ],
   "source": [
    "gridcv = GridSearchCV(xg, {\"learning_rate\":[0.1,0.5,1], \"gamma\":[0.1,0.5,1], \"reg_alpha\":[0.1,0.5,1], \"reg_lambda\":[0.1,0.5,1]}, \\\n",
    "                      scoring=\"accuracy\", n_jobs=-1)\n",
    "gridcv.fit(df_f, y=df[\"target\"])"
   ]
  },
  {
   "cell_type": "code",
   "execution_count": null,
   "metadata": {
    "colab": {
     "base_uri": "https://localhost:8080/",
     "height": 34
    },
    "colab_type": "code",
    "executionInfo": {
     "elapsed": 795,
     "status": "ok",
     "timestamp": 1596316813776,
     "user": {
      "displayName": "Fernando Moreno",
      "photoUrl": "",
      "userId": "12085513332857029549"
     },
     "user_tz": 180
    },
    "id": "KajSGPQefIIv",
    "outputId": "11a4cf8a-a8a5-45ef-f56a-23e595f1eef9"
   },
   "outputs": [
    {
     "data": {
      "text/plain": [
       "{'gamma': 0.5, 'learning_rate': 0.1, 'reg_alpha': 1, 'reg_lambda': 1}"
      ]
     },
     "execution_count": 70,
     "metadata": {
      "tags": []
     },
     "output_type": "execute_result"
    }
   ],
   "source": [
    "gridcv.best_params_"
   ]
  },
  {
   "cell_type": "code",
   "execution_count": null,
   "metadata": {
    "colab": {
     "base_uri": "https://localhost:8080/",
     "height": 34
    },
    "colab_type": "code",
    "executionInfo": {
     "elapsed": 799,
     "status": "ok",
     "timestamp": 1596316825436,
     "user": {
      "displayName": "Fernando Moreno",
      "photoUrl": "",
      "userId": "12085513332857029549"
     },
     "user_tz": 180
    },
    "id": "z06LeMrSfI8V",
    "outputId": "72d6f24c-2f86-45bc-c5df-c70af3c5482b"
   },
   "outputs": [
    {
     "data": {
      "text/plain": [
       "0.7349365791115294"
      ]
     },
     "execution_count": 71,
     "metadata": {
      "tags": []
     },
     "output_type": "execute_result"
    }
   ],
   "source": [
    "gridcv.best_score_"
   ]
  },
  {
   "cell_type": "code",
   "execution_count": null,
   "metadata": {
    "colab": {
     "base_uri": "https://localhost:8080/",
     "height": 306
    },
    "colab_type": "code",
    "executionInfo": {
     "elapsed": 9130715,
     "status": "ok",
     "timestamp": 1596151454802,
     "user": {
      "displayName": "Fernando Moreno",
      "photoUrl": "",
      "userId": "12085513332857029549"
     },
     "user_tz": 180
    },
    "id": "wcKz4j0OfaSB",
    "outputId": "816ce43b-4963-4d0c-e327-9722772ad5ba"
   },
   "outputs": [
    {
     "data": {
      "text/plain": [
       "GridSearchCV(cv=None, error_score=nan,\n",
       "             estimator=XGBClassifier(base_score=0.5, booster='gbtree',\n",
       "                                     colsample_bylevel=1, colsample_bynode=1,\n",
       "                                     colsample_bytree=1, gamma=0,\n",
       "                                     learning_rate=0.1, max_delta_step=0,\n",
       "                                     max_depth=3, min_child_weight=1,\n",
       "                                     missing=None, n_estimators=100, n_jobs=-1,\n",
       "                                     nthread=None, objective='binary:logistic',\n",
       "                                     random_state=0, reg_alpha=0, reg_lambda=1,\n",
       "                                     scale_pos_weight=1, seed=None, silent=None,\n",
       "                                     subsample=1, verbosity=1),\n",
       "             iid='deprecated', n_jobs=-1,\n",
       "             param_grid={'gamma': [1, 2, 3], 'learning_rate': [0.05, 0.1, 0.15],\n",
       "                         'reg_alpha': [0.05, 0.1, 0.15],\n",
       "                         'reg_lambda': [1, 2, 3]},\n",
       "             pre_dispatch='2*n_jobs', refit=True, return_train_score=False,\n",
       "             scoring='accuracy', verbose=0)"
      ]
     },
     "execution_count": 31,
     "metadata": {
      "tags": []
     },
     "output_type": "execute_result"
    }
   ],
   "source": [
    "gridcv = GridSearchCV(xg, {\"learning_rate\":[0.05,0.1,0.15], \"gamma\":[1,2,3], \"reg_alpha\":[0.05,0.1,0.15], \"reg_lambda\":[1,2,3]}, \\\n",
    "                      scoring=\"accuracy\", n_jobs=-1)\n",
    "gridcv.fit(df_f, y=df[\"target\"])"
   ]
  },
  {
   "cell_type": "code",
   "execution_count": null,
   "metadata": {
    "colab": {
     "base_uri": "https://localhost:8080/",
     "height": 34
    },
    "colab_type": "code",
    "executionInfo": {
     "elapsed": 1008,
     "status": "ok",
     "timestamp": 1596151864012,
     "user": {
      "displayName": "Fernando Moreno",
      "photoUrl": "",
      "userId": "12085513332857029549"
     },
     "user_tz": 180
    },
    "id": "ZlF-rBM9EG3o",
    "outputId": "0921f507-0f5b-4599-88fd-b6829d716201"
   },
   "outputs": [
    {
     "data": {
      "text/plain": [
       "{'gamma': 1, 'learning_rate': 0.1, 'reg_alpha': 0.1, 'reg_lambda': 1}"
      ]
     },
     "execution_count": 32,
     "metadata": {
      "tags": []
     },
     "output_type": "execute_result"
    }
   ],
   "source": [
    "gridcv.best_params_"
   ]
  },
  {
   "cell_type": "code",
   "execution_count": null,
   "metadata": {
    "colab": {
     "base_uri": "https://localhost:8080/",
     "height": 34
    },
    "colab_type": "code",
    "executionInfo": {
     "elapsed": 1054,
     "status": "ok",
     "timestamp": 1596151892669,
     "user": {
      "displayName": "Fernando Moreno",
      "photoUrl": "",
      "userId": "12085513332857029549"
     },
     "user_tz": 180
    },
    "id": "9CN70-CHENr6",
    "outputId": "177f2fe8-5dbc-4fef-a78a-2435b2477a10"
   },
   "outputs": [
    {
     "data": {
      "text/plain": [
       "0.7337538384283733"
      ]
     },
     "execution_count": 33,
     "metadata": {
      "tags": []
     },
     "output_type": "execute_result"
    }
   ],
   "source": [
    "gridcv.best_score_"
   ]
  },
  {
   "cell_type": "code",
   "execution_count": null,
   "metadata": {
    "colab": {},
    "colab_type": "code",
    "id": "ryhcN7FYEbEY"
   },
   "outputs": [],
   "source": [
    "xg = xgb.XGBClassifier(gamma=1, reg_alpha=0.1, n_jobs=-1)"
   ]
  },
  {
   "cell_type": "code",
   "execution_count": null,
   "metadata": {
    "colab": {
     "base_uri": "https://localhost:8080/",
     "height": 306
    },
    "colab_type": "code",
    "executionInfo": {
     "elapsed": 4075427,
     "status": "ok",
     "timestamp": 1596156243825,
     "user": {
      "displayName": "Fernando Moreno",
      "photoUrl": "",
      "userId": "12085513332857029549"
     },
     "user_tz": 180
    },
    "id": "Io0SV9ADEVS4",
    "outputId": "56a847fc-7fc9-448b-c4fe-9644a837a4d8"
   },
   "outputs": [
    {
     "data": {
      "text/plain": [
       "GridSearchCV(cv=None, error_score=nan,\n",
       "             estimator=XGBClassifier(base_score=0.5, booster='gbtree',\n",
       "                                     colsample_bylevel=1, colsample_bynode=1,\n",
       "                                     colsample_bytree=1, gamma=1,\n",
       "                                     learning_rate=0.1, max_delta_step=0,\n",
       "                                     max_depth=3, min_child_weight=1,\n",
       "                                     missing=None, n_estimators=100, n_jobs=-1,\n",
       "                                     nthread=None, objective='binary:logistic',\n",
       "                                     random_state=0, reg_alpha=0.1,\n",
       "                                     reg_lambda=1, scale_pos_weight=1,\n",
       "                                     seed=None, silent=None, subsample=1,\n",
       "                                     verbosity=1),\n",
       "             iid='deprecated', n_jobs=-1,\n",
       "             param_grid={'max_depth': [3, 7, 11, 15],\n",
       "                         'n_estimators': [80, 100, 120]},\n",
       "             pre_dispatch='2*n_jobs', refit=True, return_train_score=False,\n",
       "             scoring='accuracy', verbose=0)"
      ]
     },
     "execution_count": 35,
     "metadata": {
      "tags": []
     },
     "output_type": "execute_result"
    }
   ],
   "source": [
    "gridcv = GridSearchCV(xg, {\"n_estimators\":[80,100,120], \"max_depth\":[3,7,11,15]}, scoring=\"accuracy\", n_jobs=-1)\n",
    "gridcv.fit(df_f, y=df[\"target\"])"
   ]
  },
  {
   "cell_type": "code",
   "execution_count": null,
   "metadata": {
    "colab": {
     "base_uri": "https://localhost:8080/",
     "height": 34
    },
    "colab_type": "code",
    "executionInfo": {
     "elapsed": 1516,
     "status": "ok",
     "timestamp": 1596156624847,
     "user": {
      "displayName": "Fernando Moreno",
      "photoUrl": "",
      "userId": "12085513332857029549"
     },
     "user_tz": 180
    },
    "id": "GErVQrwxWQo1",
    "outputId": "6360f6d8-26a5-4024-b6b1-55288eeab18a"
   },
   "outputs": [
    {
     "data": {
      "text/plain": [
       "{'max_depth': 3, 'n_estimators': 120}"
      ]
     },
     "execution_count": 36,
     "metadata": {
      "tags": []
     },
     "output_type": "execute_result"
    }
   ],
   "source": [
    "gridcv.best_params_"
   ]
  },
  {
   "cell_type": "code",
   "execution_count": null,
   "metadata": {
    "colab": {
     "base_uri": "https://localhost:8080/",
     "height": 289
    },
    "colab_type": "code",
    "executionInfo": {
     "elapsed": 506948,
     "status": "ok",
     "timestamp": 1596157187014,
     "user": {
      "displayName": "Fernando Moreno",
      "photoUrl": "",
      "userId": "12085513332857029549"
     },
     "user_tz": 180
    },
    "id": "m6A3PdzAWT80",
    "outputId": "ad188afe-bcbf-45ca-80cb-bde5a1f54302"
   },
   "outputs": [
    {
     "data": {
      "text/plain": [
       "GridSearchCV(cv=None, error_score=nan,\n",
       "             estimator=XGBClassifier(base_score=0.5, booster='gbtree',\n",
       "                                     colsample_bylevel=1, colsample_bynode=1,\n",
       "                                     colsample_bytree=1, gamma=1,\n",
       "                                     learning_rate=0.1, max_delta_step=0,\n",
       "                                     max_depth=3, min_child_weight=1,\n",
       "                                     missing=None, n_estimators=100, n_jobs=-1,\n",
       "                                     nthread=None, objective='binary:logistic',\n",
       "                                     random_state=0, reg_alpha=0.1,\n",
       "                                     reg_lambda=1, scale_pos_weight=1,\n",
       "                                     seed=None, silent=None, subsample=1,\n",
       "                                     verbosity=1),\n",
       "             iid='deprecated', n_jobs=-1,\n",
       "             param_grid={'n_estimators': [120, 140, 160]},\n",
       "             pre_dispatch='2*n_jobs', refit=True, return_train_score=False,\n",
       "             scoring='accuracy', verbose=0)"
      ]
     },
     "execution_count": 37,
     "metadata": {
      "tags": []
     },
     "output_type": "execute_result"
    }
   ],
   "source": [
    "gridcv = GridSearchCV(xg, {\"n_estimators\":[120,140,160]}, scoring=\"accuracy\", n_jobs=-1)\n",
    "gridcv.fit(df_f, y=df[\"target\"])"
   ]
  },
  {
   "cell_type": "code",
   "execution_count": null,
   "metadata": {
    "colab": {
     "base_uri": "https://localhost:8080/",
     "height": 34
    },
    "colab_type": "code",
    "executionInfo": {
     "elapsed": 1121,
     "status": "ok",
     "timestamp": 1596157243247,
     "user": {
      "displayName": "Fernando Moreno",
      "photoUrl": "",
      "userId": "12085513332857029549"
     },
     "user_tz": 180
    },
    "id": "3NEGJZcyYoRV",
    "outputId": "28ce372c-abaa-4373-89b3-be1df31a68ff"
   },
   "outputs": [
    {
     "data": {
      "text/plain": [
       "{'n_estimators': 120}"
      ]
     },
     "execution_count": 38,
     "metadata": {
      "tags": []
     },
     "output_type": "execute_result"
    }
   ],
   "source": [
    "gridcv.best_params_"
   ]
  },
  {
   "cell_type": "code",
   "execution_count": null,
   "metadata": {
    "colab": {
     "base_uri": "https://localhost:8080/",
     "height": 34
    },
    "colab_type": "code",
    "executionInfo": {
     "elapsed": 1357,
     "status": "ok",
     "timestamp": 1596157261834,
     "user": {
      "displayName": "Fernando Moreno",
      "photoUrl": "",
      "userId": "12085513332857029549"
     },
     "user_tz": 180
    },
    "id": "VcysnITtYrFE",
    "outputId": "3561fa5b-0bce-4cf1-b9eb-208d3afe38f6"
   },
   "outputs": [
    {
     "data": {
      "text/plain": [
       "0.7349357163009932"
      ]
     },
     "execution_count": 39,
     "metadata": {
      "tags": []
     },
     "output_type": "execute_result"
    }
   ],
   "source": [
    "gridcv.best_score_"
   ]
  },
  {
   "cell_type": "code",
   "execution_count": null,
   "metadata": {
    "colab": {},
    "colab_type": "code",
    "id": "xIKhIrv7IIGY"
   },
   "outputs": [],
   "source": [
    "xg = xgb.XGBClassifier(n_estimators=120, gamma=1, reg_alpha=0.1, n_jobs=-1)"
   ]
  },
  {
   "cell_type": "markdown",
   "metadata": {
    "colab_type": "text",
    "id": "1nLJ4jARwKoW"
   },
   "source": [
    "# LinearSVC"
   ]
  },
  {
   "cell_type": "code",
   "execution_count": null,
   "metadata": {
    "colab": {},
    "colab_type": "code",
    "id": "qQd4g7-9wKAc"
   },
   "outputs": [],
   "source": [
    "lsvc = LinearSVC()"
   ]
  },
  {
   "cell_type": "code",
   "execution_count": null,
   "metadata": {
    "colab": {
     "base_uri": "https://localhost:8080/",
     "height": 34
    },
    "colab_type": "code",
    "executionInfo": {
     "elapsed": 5154,
     "status": "ok",
     "timestamp": 1596322262048,
     "user": {
      "displayName": "Fernando Moreno",
      "photoUrl": "",
      "userId": "12085513332857029549"
     },
     "user_tz": 180
    },
    "id": "YxKJwab-JiuK",
    "outputId": "dccfef4b-2f38-444e-aa27-945166d3bdb1"
   },
   "outputs": [
    {
     "name": "stdout",
     "output_type": "stream",
     "text": [
      "MIN: 0.4730617608409987, MAX:0.6968503937007874, MEAN:0.5978002421182241\n"
     ]
    }
   ],
   "source": [
    "score = cross_val_score(lsvc, df_f, y=df[\"target\"], scoring=\"accuracy\", cv=10, n_jobs=-1)\n",
    "print(\"MIN: {}, MAX:{}, MEAN:{}\".format(score.min(), score.max(), score.mean()))"
   ]
  },
  {
   "cell_type": "markdown",
   "metadata": {
    "colab_type": "text",
    "id": "b0EPUctiWWnL"
   },
   "source": [
    "# NuSVC"
   ]
  },
  {
   "cell_type": "code",
   "execution_count": 18,
   "metadata": {
    "colab": {},
    "colab_type": "code",
    "executionInfo": {
     "elapsed": 731,
     "status": "ok",
     "timestamp": 1596403322588,
     "user": {
      "displayName": "Fernando Moreno",
      "photoUrl": "",
      "userId": "12085513332857029549"
     },
     "user_tz": 180
    },
    "id": "a0wasc8xWWHm"
   },
   "outputs": [],
   "source": [
    "nusvc = NuSVC()"
   ]
  },
  {
   "cell_type": "code",
   "execution_count": null,
   "metadata": {
    "colab": {
     "base_uri": "https://localhost:8080/",
     "height": 34
    },
    "colab_type": "code",
    "executionInfo": {
     "elapsed": 947443,
     "status": "ok",
     "timestamp": 1596323260187,
     "user": {
      "displayName": "Fernando Moreno",
      "photoUrl": "",
      "userId": "12085513332857029549"
     },
     "user_tz": 180
    },
    "id": "kANsrOy0WekA",
    "outputId": "9959973e-fb94-4d1b-baf9-0a0393d758ff"
   },
   "outputs": [
    {
     "name": "stdout",
     "output_type": "stream",
     "text": [
      "MIN: 0.6614173228346457, MAX:0.8055190538764783, MEAN:0.7371682514718512\n"
     ]
    }
   ],
   "source": [
    "score = cross_val_score(nusvc, df_f, y=df[\"target\"], scoring=\"accuracy\", cv=10, n_jobs=-1)\n",
    "print(\"MIN: {}, MAX:{}, MEAN:{}\".format(score.min(), score.max(), score.mean()))"
   ]
  },
  {
   "cell_type": "code",
   "execution_count": null,
   "metadata": {
    "colab": {
     "base_uri": "https://localhost:8080/",
     "height": 204
    },
    "colab_type": "code",
    "executionInfo": {
     "elapsed": 1054775,
     "status": "ok",
     "timestamp": 1596331878188,
     "user": {
      "displayName": "Fernando Moreno",
      "photoUrl": "",
      "userId": "12085513332857029549"
     },
     "user_tz": 180
    },
    "id": "GzuVsxNDajfA",
    "outputId": "b2692239-b632-435f-cd93-453e37b48b5b"
   },
   "outputs": [
    {
     "data": {
      "text/plain": [
       "GridSearchCV(cv=10, error_score=nan,\n",
       "             estimator=NuSVC(break_ties=False, cache_size=200,\n",
       "                             class_weight=None, coef0=0.0,\n",
       "                             decision_function_shape='ovr', degree=3,\n",
       "                             gamma='scale', kernel='rbf', max_iter=-1, nu=0.5,\n",
       "                             probability=False, random_state=None,\n",
       "                             shrinking=True, tol=0.001, verbose=False),\n",
       "             iid='deprecated', n_jobs=-1,\n",
       "             param_grid={'gamma': ['scale', 'auto'], 'nu': [0.4, 0.5, 0.6]},\n",
       "             pre_dispatch='2*n_jobs', refit=True, return_train_score=False,\n",
       "             scoring='accuracy', verbose=0)"
      ]
     },
     "execution_count": 99,
     "metadata": {
      "tags": []
     },
     "output_type": "execute_result"
    }
   ],
   "source": [
    "gridcv = GridSearchCV(nusvc, {\"nu\":[0.4,0.5,0.6], \"gamma\":[\"scale\",\"auto\"]}, scoring=\"accuracy\", n_jobs=-1, cv=10)\n",
    "gridcv.fit(df_f, y=df[\"target\"])"
   ]
  },
  {
   "cell_type": "code",
   "execution_count": null,
   "metadata": {
    "colab": {
     "base_uri": "https://localhost:8080/",
     "height": 34
    },
    "colab_type": "code",
    "executionInfo": {
     "elapsed": 817,
     "status": "ok",
     "timestamp": 1596332648327,
     "user": {
      "displayName": "Fernando Moreno",
      "photoUrl": "",
      "userId": "12085513332857029549"
     },
     "user_tz": 180
    },
    "id": "cYWSrEPVa-m3",
    "outputId": "9ffeed29-2bb7-4d17-8612-5a142878bf72"
   },
   "outputs": [
    {
     "data": {
      "text/plain": [
       "{'gamma': 'scale', 'nu': 0.6}"
      ]
     },
     "execution_count": 100,
     "metadata": {
      "tags": []
     },
     "output_type": "execute_result"
    }
   ],
   "source": [
    "gridcv.best_params_"
   ]
  },
  {
   "cell_type": "code",
   "execution_count": null,
   "metadata": {
    "colab": {
     "base_uri": "https://localhost:8080/",
     "height": 34
    },
    "colab_type": "code",
    "executionInfo": {
     "elapsed": 853,
     "status": "ok",
     "timestamp": 1596332650437,
     "user": {
      "displayName": "Fernando Moreno",
      "photoUrl": "",
      "userId": "12085513332857029549"
     },
     "user_tz": 180
    },
    "id": "PnjnjQB-mLJc",
    "outputId": "76a15e82-d174-44e8-fa18-629f96c8ad08"
   },
   "outputs": [
    {
     "data": {
      "text/plain": [
       "0.7556897782652333"
      ]
     },
     "execution_count": 101,
     "metadata": {
      "tags": []
     },
     "output_type": "execute_result"
    }
   ],
   "source": [
    "gridcv.best_score_"
   ]
  },
  {
   "cell_type": "code",
   "execution_count": null,
   "metadata": {
    "colab": {
     "base_uri": "https://localhost:8080/",
     "height": 187
    },
    "colab_type": "code",
    "executionInfo": {
     "elapsed": 3151305,
     "status": "ok",
     "timestamp": 1596336583547,
     "user": {
      "displayName": "Fernando Moreno",
      "photoUrl": "",
      "userId": "12085513332857029549"
     },
     "user_tz": 180
    },
    "id": "HEa-jIS2r1bM",
    "outputId": "004e3ec0-db61-4240-c6fd-f3d298ba4702"
   },
   "outputs": [
    {
     "data": {
      "text/plain": [
       "GridSearchCV(cv=10, error_score=nan,\n",
       "             estimator=NuSVC(break_ties=False, cache_size=200,\n",
       "                             class_weight=None, coef0=0.0,\n",
       "                             decision_function_shape='ovr', degree=3,\n",
       "                             gamma='scale', kernel='rbf', max_iter=-1, nu=0.5,\n",
       "                             probability=False, random_state=None,\n",
       "                             shrinking=True, tol=0.001, verbose=False),\n",
       "             iid='deprecated', n_jobs=-1, param_grid={'nu': [0.55, 0.6, 0.65]},\n",
       "             pre_dispatch='2*n_jobs', refit=True, return_train_score=False,\n",
       "             scoring='accuracy', verbose=0)"
      ]
     },
     "execution_count": 104,
     "metadata": {
      "tags": []
     },
     "output_type": "execute_result"
    }
   ],
   "source": [
    "gridcv = GridSearchCV(nusvc, {\"nu\":[0.55,0.6,0.65]}, scoring=\"accuracy\", n_jobs=-1, cv=10)\n",
    "gridcv.fit(df_f, y=df[\"target\"])"
   ]
  },
  {
   "cell_type": "code",
   "execution_count": null,
   "metadata": {
    "colab": {
     "base_uri": "https://localhost:8080/",
     "height": 34
    },
    "colab_type": "code",
    "executionInfo": {
     "elapsed": 862,
     "status": "ok",
     "timestamp": 1596337176048,
     "user": {
      "displayName": "Fernando Moreno",
      "photoUrl": "",
      "userId": "12085513332857029549"
     },
     "user_tz": 180
    },
    "id": "C8-NwOv5r8JG",
    "outputId": "074b9197-b393-4d64-9e80-e83c07b8f61a"
   },
   "outputs": [
    {
     "data": {
      "text/plain": [
       "{'nu': 0.65}"
      ]
     },
     "execution_count": 105,
     "metadata": {
      "tags": []
     },
     "output_type": "execute_result"
    }
   ],
   "source": [
    "gridcv.best_params_"
   ]
  },
  {
   "cell_type": "code",
   "execution_count": null,
   "metadata": {
    "colab": {
     "base_uri": "https://localhost:8080/",
     "height": 34
    },
    "colab_type": "code",
    "executionInfo": {
     "elapsed": 804,
     "status": "ok",
     "timestamp": 1596337178842,
     "user": {
      "displayName": "Fernando Moreno",
      "photoUrl": "",
      "userId": "12085513332857029549"
     },
     "user_tz": 180
    },
    "id": "HJZ958dpr8pc",
    "outputId": "dd1625da-d8fb-4e26-9624-1b8c70d405c7"
   },
   "outputs": [
    {
     "data": {
      "text/plain": [
       "0.7588412815020986"
      ]
     },
     "execution_count": 106,
     "metadata": {
      "tags": []
     },
     "output_type": "execute_result"
    }
   ],
   "source": [
    "gridcv.best_score_"
   ]
  },
  {
   "cell_type": "code",
   "execution_count": 19,
   "metadata": {
    "colab": {
     "base_uri": "https://localhost:8080/",
     "height": 187
    },
    "colab_type": "code",
    "executionInfo": {
     "elapsed": 3250732,
     "status": "ok",
     "timestamp": 1596406633105,
     "user": {
      "displayName": "Fernando Moreno",
      "photoUrl": "",
      "userId": "12085513332857029549"
     },
     "user_tz": 180
    },
    "id": "VdSOdZlEHKpE",
    "outputId": "4b6171e6-a4b1-4787-c3f6-e10e72103641"
   },
   "outputs": [
    {
     "data": {
      "text/plain": [
       "GridSearchCV(cv=10, error_score=nan,\n",
       "             estimator=NuSVC(break_ties=False, cache_size=200,\n",
       "                             class_weight=None, coef0=0.0,\n",
       "                             decision_function_shape='ovr', degree=3,\n",
       "                             gamma='scale', kernel='rbf', max_iter=-1, nu=0.5,\n",
       "                             probability=False, random_state=None,\n",
       "                             shrinking=True, tol=0.001, verbose=False),\n",
       "             iid='deprecated', n_jobs=-1, param_grid={'nu': [0.65, 0.7, 0.75]},\n",
       "             pre_dispatch='2*n_jobs', refit=True, return_train_score=False,\n",
       "             scoring='accuracy', verbose=0)"
      ]
     },
     "execution_count": 19,
     "metadata": {
      "tags": []
     },
     "output_type": "execute_result"
    }
   ],
   "source": [
    "gridcv = GridSearchCV(nusvc, {\"nu\":[0.65,0.7,0.75]}, scoring=\"accuracy\", n_jobs=-1, cv=10)\n",
    "gridcv.fit(df_f, y=df[\"target\"])"
   ]
  },
  {
   "cell_type": "code",
   "execution_count": 20,
   "metadata": {
    "colab": {
     "base_uri": "https://localhost:8080/",
     "height": 34
    },
    "colab_type": "code",
    "executionInfo": {
     "elapsed": 762,
     "status": "ok",
     "timestamp": 1596406637706,
     "user": {
      "displayName": "Fernando Moreno",
      "photoUrl": "",
      "userId": "12085513332857029549"
     },
     "user_tz": 180
    },
    "id": "9tx_cZbDHTQg",
    "outputId": "8908caf7-a1aa-48ad-d731-0556f035cd6b"
   },
   "outputs": [
    {
     "data": {
      "text/plain": [
       "{'nu': 0.7}"
      ]
     },
     "execution_count": 20,
     "metadata": {
      "tags": []
     },
     "output_type": "execute_result"
    }
   ],
   "source": [
    "gridcv.best_params_"
   ]
  },
  {
   "cell_type": "code",
   "execution_count": 21,
   "metadata": {
    "colab": {
     "base_uri": "https://localhost:8080/",
     "height": 34
    },
    "colab_type": "code",
    "executionInfo": {
     "elapsed": 1055,
     "status": "ok",
     "timestamp": 1596406638024,
     "user": {
      "displayName": "Fernando Moreno",
      "photoUrl": "",
      "userId": "12085513332857029549"
     },
     "user_tz": 180
    },
    "id": "DcsSBKUAHTaG",
    "outputId": "aa8b7209-9d4f-4dd0-a63e-3004958a9061"
   },
   "outputs": [
    {
     "data": {
      "text/plain": [
       "0.7597606064682125"
      ]
     },
     "execution_count": 21,
     "metadata": {
      "tags": []
     },
     "output_type": "execute_result"
    }
   ],
   "source": [
    "gridcv.best_score_"
   ]
  },
  {
   "cell_type": "code",
   "execution_count": null,
   "metadata": {
    "colab": {},
    "colab_type": "code",
    "id": "HBdd45eAxJyI"
   },
   "outputs": [],
   "source": [
    "nusvc = NuSVC(nu=0.7)"
   ]
  },
  {
   "cell_type": "markdown",
   "metadata": {
    "colab_type": "text",
    "id": "7fZiPmmVY5if"
   },
   "source": [
    "# SVC"
   ]
  },
  {
   "cell_type": "code",
   "execution_count": 22,
   "metadata": {
    "colab": {},
    "colab_type": "code",
    "executionInfo": {
     "elapsed": 1028,
     "status": "ok",
     "timestamp": 1596406638026,
     "user": {
      "displayName": "Fernando Moreno",
      "photoUrl": "",
      "userId": "12085513332857029549"
     },
     "user_tz": 180
    },
    "id": "c8nhHyXsY72Y"
   },
   "outputs": [],
   "source": [
    "svc = SVC()"
   ]
  },
  {
   "cell_type": "code",
   "execution_count": null,
   "metadata": {
    "colab": {
     "base_uri": "https://localhost:8080/",
     "height": 34
    },
    "colab_type": "code",
    "executionInfo": {
     "elapsed": 795801,
     "status": "ok",
     "timestamp": 1596324056037,
     "user": {
      "displayName": "Fernando Moreno",
      "photoUrl": "",
      "userId": "12085513332857029549"
     },
     "user_tz": 180
    },
    "id": "p_nL1piZZFQj",
    "outputId": "def773e2-9577-4987-c242-919f9db5a46e"
   },
   "outputs": [
    {
     "name": "stdout",
     "output_type": "stream",
     "text": [
      "MIN: 0.6482939632545932, MAX:0.8042049934296978, MEAN:0.7330955263312191\n"
     ]
    }
   ],
   "source": [
    "score = cross_val_score(svc, df_f, y=df[\"target\"], scoring=\"accuracy\", cv=10, n_jobs=-1)\n",
    "print(\"MIN: {}, MAX:{}, MEAN:{}\".format(score.min(), score.max(), score.mean()))"
   ]
  },
  {
   "cell_type": "code",
   "execution_count": 23,
   "metadata": {
    "colab": {
     "base_uri": "https://localhost:8080/",
     "height": 204
    },
    "colab_type": "code",
    "executionInfo": {
     "elapsed": 5645485,
     "status": "ok",
     "timestamp": 1596412282492,
     "user": {
      "displayName": "Fernando Moreno",
      "photoUrl": "",
      "userId": "12085513332857029549"
     },
     "user_tz": 180
    },
    "id": "vnfECnC2XAe5",
    "outputId": "6cb2bd31-6dfd-45ad-d6ce-7e74056a8c88"
   },
   "outputs": [
    {
     "data": {
      "text/plain": [
       "GridSearchCV(cv=10, error_score=nan,\n",
       "             estimator=SVC(C=1.0, break_ties=False, cache_size=200,\n",
       "                           class_weight=None, coef0=0.0,\n",
       "                           decision_function_shape='ovr', degree=3,\n",
       "                           gamma='scale', kernel='rbf', max_iter=-1,\n",
       "                           probability=False, random_state=None, shrinking=True,\n",
       "                           tol=0.001, verbose=False),\n",
       "             iid='deprecated', n_jobs=-1,\n",
       "             param_grid={'C': [0.1, 0.5, 1], 'gamma': ['scale', 'auto']},\n",
       "             pre_dispatch='2*n_jobs', refit=True, return_train_score=False,\n",
       "             scoring='accuracy', verbose=0)"
      ]
     },
     "execution_count": 23,
     "metadata": {
      "tags": []
     },
     "output_type": "execute_result"
    }
   ],
   "source": [
    "gridcv = GridSearchCV(svc, {\"C\":[0.1,0.5,1], \"gamma\":[\"scale\",\"auto\"]}, scoring=\"accuracy\", n_jobs=-1, cv=10)\n",
    "gridcv.fit(df_f, y=df[\"target\"])"
   ]
  },
  {
   "cell_type": "code",
   "execution_count": 25,
   "metadata": {
    "colab": {
     "base_uri": "https://localhost:8080/",
     "height": 34
    },
    "colab_type": "code",
    "executionInfo": {
     "elapsed": 770,
     "status": "ok",
     "timestamp": 1596412340770,
     "user": {
      "displayName": "Fernando Moreno",
      "photoUrl": "",
      "userId": "12085513332857029549"
     },
     "user_tz": 180
    },
    "id": "Ketnlo0yy0Gt",
    "outputId": "bc449f92-6c5b-4759-af75-f4c6717374ec"
   },
   "outputs": [
    {
     "data": {
      "text/plain": [
       "{'C': 0.1, 'gamma': 'scale'}"
      ]
     },
     "execution_count": 25,
     "metadata": {
      "tags": []
     },
     "output_type": "execute_result"
    }
   ],
   "source": [
    "gridcv.best_params_"
   ]
  },
  {
   "cell_type": "code",
   "execution_count": 26,
   "metadata": {
    "colab": {
     "base_uri": "https://localhost:8080/",
     "height": 34
    },
    "colab_type": "code",
    "executionInfo": {
     "elapsed": 774,
     "status": "ok",
     "timestamp": 1596412343736,
     "user": {
      "displayName": "Fernando Moreno",
      "photoUrl": "",
      "userId": "12085513332857029549"
     },
     "user_tz": 180
    },
    "id": "y_A0c6Hry0ZT",
    "outputId": "7417a3f0-b93b-4a87-af56-9e5a347efe9e"
   },
   "outputs": [
    {
     "data": {
      "text/plain": [
       "0.7576582822022411"
      ]
     },
     "execution_count": 26,
     "metadata": {
      "tags": []
     },
     "output_type": "execute_result"
    }
   ],
   "source": [
    "gridcv.best_score_"
   ]
  },
  {
   "cell_type": "code",
   "execution_count": 27,
   "metadata": {
    "colab": {
     "base_uri": "https://localhost:8080/",
     "height": 187
    },
    "colab_type": "code",
    "executionInfo": {
     "elapsed": 2941680,
     "status": "ok",
     "timestamp": 1596415387385,
     "user": {
      "displayName": "Fernando Moreno",
      "photoUrl": "",
      "userId": "12085513332857029549"
     },
     "user_tz": 180
    },
    "id": "_JcSYnBLl2ZR",
    "outputId": "65a9d47f-9ee6-4fa4-854e-36dc8a38b69e"
   },
   "outputs": [
    {
     "data": {
      "text/plain": [
       "GridSearchCV(cv=10, error_score=nan,\n",
       "             estimator=SVC(C=1.0, break_ties=False, cache_size=200,\n",
       "                           class_weight=None, coef0=0.0,\n",
       "                           decision_function_shape='ovr', degree=3,\n",
       "                           gamma='scale', kernel='rbf', max_iter=-1,\n",
       "                           probability=False, random_state=None, shrinking=True,\n",
       "                           tol=0.001, verbose=False),\n",
       "             iid='deprecated', n_jobs=-1, param_grid={'C': [0.05, 0.1, 0.15]},\n",
       "             pre_dispatch='2*n_jobs', refit=True, return_train_score=False,\n",
       "             scoring='accuracy', verbose=0)"
      ]
     },
     "execution_count": 27,
     "metadata": {
      "tags": []
     },
     "output_type": "execute_result"
    }
   ],
   "source": [
    "gridcv = GridSearchCV(svc, {\"C\":[0.05,0.1,0.15]}, scoring=\"accuracy\", n_jobs=-1, cv=10)\n",
    "gridcv.fit(df_f, y=df[\"target\"])"
   ]
  },
  {
   "cell_type": "code",
   "execution_count": 28,
   "metadata": {
    "colab": {
     "base_uri": "https://localhost:8080/",
     "height": 34
    },
    "colab_type": "code",
    "executionInfo": {
     "elapsed": 959,
     "status": "ok",
     "timestamp": 1596415388386,
     "user": {
      "displayName": "Fernando Moreno",
      "photoUrl": "",
      "userId": "12085513332857029549"
     },
     "user_tz": 180
    },
    "id": "fMclrmZsl2oW",
    "outputId": "5a8fbc7b-3e1b-4522-8aeb-a2786413a327"
   },
   "outputs": [
    {
     "data": {
      "text/plain": [
       "{'C': 0.15}"
      ]
     },
     "execution_count": 28,
     "metadata": {
      "tags": []
     },
     "output_type": "execute_result"
    }
   ],
   "source": [
    "gridcv.best_params_"
   ]
  },
  {
   "cell_type": "code",
   "execution_count": 29,
   "metadata": {
    "colab": {
     "base_uri": "https://localhost:8080/",
     "height": 34
    },
    "colab_type": "code",
    "executionInfo": {
     "elapsed": 942,
     "status": "ok",
     "timestamp": 1596415388393,
     "user": {
      "displayName": "Fernando Moreno",
      "photoUrl": "",
      "userId": "12085513332857029549"
     },
     "user_tz": 180
    },
    "id": "qN6oidNArw0f",
    "outputId": "b46b631c-de1c-4f07-85f5-14a79283bbd6"
   },
   "outputs": [
    {
     "data": {
      "text/plain": [
       "0.7598916676151355"
      ]
     },
     "execution_count": 29,
     "metadata": {
      "tags": []
     },
     "output_type": "execute_result"
    }
   ],
   "source": [
    "gridcv.best_score_"
   ]
  },
  {
   "cell_type": "code",
   "execution_count": 35,
   "metadata": {
    "colab": {
     "base_uri": "https://localhost:8080/",
     "height": 241
    },
    "colab_type": "code",
    "executionInfo": {
     "elapsed": 2726823,
     "status": "ok",
     "timestamp": 1596419340061,
     "user": {
      "displayName": "Fernando Moreno",
      "photoUrl": "",
      "userId": "12085513332857029549"
     },
     "user_tz": 180
    },
    "id": "ql64QyU4x3WR",
    "outputId": "9192a701-6b87-4028-ed3f-c834d17e2f26"
   },
   "outputs": [
    {
     "name": "stderr",
     "output_type": "stream",
     "text": [
      "/usr/local/lib/python3.6/dist-packages/joblib/externals/loky/process_executor.py:691: UserWarning: A worker stopped while some jobs were given to the executor. This can be caused by a too short worker timeout or by a memory leak.\n",
      "  \"timeout or by a memory leak.\", UserWarning\n"
     ]
    },
    {
     "data": {
      "text/plain": [
       "GridSearchCV(cv=10, error_score=nan,\n",
       "             estimator=SVC(C=1.0, break_ties=False, cache_size=200,\n",
       "                           class_weight=None, coef0=0.0,\n",
       "                           decision_function_shape='ovr', degree=3,\n",
       "                           gamma='scale', kernel='rbf', max_iter=-1,\n",
       "                           probability=False, random_state=None, shrinking=True,\n",
       "                           tol=0.001, verbose=False),\n",
       "             iid='deprecated', n_jobs=-1, param_grid={'C': [0.15, 0.2, 0.25]},\n",
       "             pre_dispatch='2*n_jobs', refit=True, return_train_score=False,\n",
       "             scoring='accuracy', verbose=0)"
      ]
     },
     "execution_count": 35,
     "metadata": {
      "tags": []
     },
     "output_type": "execute_result"
    }
   ],
   "source": [
    "gridcv = GridSearchCV(svc, {\"C\":[0.15,0.2,0.25]}, scoring=\"accuracy\", n_jobs=-1, cv=10)\n",
    "gridcv.fit(df_f, y=df[\"target\"])"
   ]
  },
  {
   "cell_type": "code",
   "execution_count": 36,
   "metadata": {
    "colab": {
     "base_uri": "https://localhost:8080/",
     "height": 34
    },
    "colab_type": "code",
    "executionInfo": {
     "elapsed": 2721835,
     "status": "ok",
     "timestamp": 1596419340065,
     "user": {
      "displayName": "Fernando Moreno",
      "photoUrl": "",
      "userId": "12085513332857029549"
     },
     "user_tz": 180
    },
    "id": "mAmKWF33x-2k",
    "outputId": "d19fd9ed-1dca-417f-92cd-2bfa3c91caf8"
   },
   "outputs": [
    {
     "data": {
      "text/plain": [
       "{'C': 0.15}"
      ]
     },
     "execution_count": 36,
     "metadata": {
      "tags": []
     },
     "output_type": "execute_result"
    }
   ],
   "source": [
    "gridcv.best_params_"
   ]
  },
  {
   "cell_type": "code",
   "execution_count": 37,
   "metadata": {
    "colab": {
     "base_uri": "https://localhost:8080/",
     "height": 34
    },
    "colab_type": "code",
    "executionInfo": {
     "elapsed": 2720717,
     "status": "ok",
     "timestamp": 1596419340067,
     "user": {
      "displayName": "Fernando Moreno",
      "photoUrl": "",
      "userId": "12085513332857029549"
     },
     "user_tz": 180
    },
    "id": "i8utiwN1x--d",
    "outputId": "dbc4178d-d3e4-4d30-af1b-c16ae4cee734"
   },
   "outputs": [
    {
     "data": {
      "text/plain": [
       "0.7598916676151355"
      ]
     },
     "execution_count": 37,
     "metadata": {
      "tags": []
     },
     "output_type": "execute_result"
    }
   ],
   "source": [
    "gridcv.best_score_"
   ]
  },
  {
   "cell_type": "code",
   "execution_count": 39,
   "metadata": {
    "colab": {},
    "colab_type": "code",
    "executionInfo": {
     "elapsed": 762,
     "status": "ok",
     "timestamp": 1596420688082,
     "user": {
      "displayName": "Fernando Moreno",
      "photoUrl": "",
      "userId": "12085513332857029549"
     },
     "user_tz": 180
    },
    "id": "O5kNIDpFFjkY"
   },
   "outputs": [],
   "source": [
    "svc = SVC(C=0.15)"
   ]
  },
  {
   "cell_type": "markdown",
   "metadata": {
    "colab_type": "text",
    "id": "fRUECcs19U7n"
   },
   "source": [
    "# MLPClassifier"
   ]
  },
  {
   "cell_type": "code",
   "execution_count": null,
   "metadata": {
    "colab": {},
    "colab_type": "code",
    "id": "gtX5IBiu9UVR"
   },
   "outputs": [],
   "source": [
    "mlp = MLPClassifier()"
   ]
  },
  {
   "cell_type": "code",
   "execution_count": null,
   "metadata": {
    "colab": {
     "base_uri": "https://localhost:8080/",
     "height": 34
    },
    "colab_type": "code",
    "executionInfo": {
     "elapsed": 637280,
     "status": "ok",
     "timestamp": 1596325103017,
     "user": {
      "displayName": "Fernando Moreno",
      "photoUrl": "",
      "userId": "12085513332857029549"
     },
     "user_tz": 180
    },
    "id": "3jCKzkZZ9lZo",
    "outputId": "6f9b8710-607f-45be-bdf3-481a5adbda73"
   },
   "outputs": [
    {
     "name": "stdout",
     "output_type": "stream",
     "text": [
      "MIN: 0.44152431011826543, MAX:0.6876640419947506, MEAN:0.5771744941212177\n"
     ]
    }
   ],
   "source": [
    "score = cross_val_score(mlp, df_f, y=df[\"target\"], scoring=\"accuracy\", cv=10, n_jobs=-1)\n",
    "print(\"MIN: {}, MAX:{}, MEAN:{}\".format(score.min(), score.max(), score.mean()))"
   ]
  },
  {
   "cell_type": "markdown",
   "metadata": {
    "colab_type": "text",
    "id": "q3J97EJ9Z84W"
   },
   "source": [
    "# Logistic Regression"
   ]
  },
  {
   "cell_type": "code",
   "execution_count": null,
   "metadata": {
    "colab": {},
    "colab_type": "code",
    "id": "93LdZFiuaFhK"
   },
   "outputs": [],
   "source": [
    "lr = LogisticRegression(n_jobs=-1)"
   ]
  },
  {
   "cell_type": "code",
   "execution_count": null,
   "metadata": {
    "colab": {
     "base_uri": "https://localhost:8080/",
     "height": 34
    },
    "colab_type": "code",
    "executionInfo": {
     "elapsed": 29426,
     "status": "ok",
     "timestamp": 1596325471289,
     "user": {
      "displayName": "Fernando Moreno",
      "photoUrl": "",
      "userId": "12085513332857029549"
     },
     "user_tz": 180
    },
    "id": "iueBk8hYaQBp",
    "outputId": "d8dd5c76-eac9-441a-c5c5-fdd0cb24663b"
   },
   "outputs": [
    {
     "name": "stdout",
     "output_type": "stream",
     "text": [
      "MIN: 0.5997375328083989, MAX:0.7516425755584757, MEAN:0.6846268723636878\n"
     ]
    }
   ],
   "source": [
    "score = cross_val_score(lr, df_f, y=df[\"target\"], scoring=\"accuracy\", cv=10, n_jobs=-1)\n",
    "print(\"MIN: {}, MAX:{}, MEAN:{}\".format(score.min(), score.max(), score.mean()))"
   ]
  },
  {
   "cell_type": "markdown",
   "metadata": {
    "colab_type": "text",
    "id": "P8-r7QmoaVNx"
   },
   "source": [
    "# Passive Agressive "
   ]
  },
  {
   "cell_type": "code",
   "execution_count": null,
   "metadata": {
    "colab": {},
    "colab_type": "code",
    "id": "MQydw6L7a1bS"
   },
   "outputs": [],
   "source": [
    "pa = PassiveAggressiveClassifier(n_jobs=-1)"
   ]
  },
  {
   "cell_type": "code",
   "execution_count": null,
   "metadata": {
    "colab": {
     "base_uri": "https://localhost:8080/",
     "height": 34
    },
    "colab_type": "code",
    "executionInfo": {
     "elapsed": 16300,
     "status": "ok",
     "timestamp": 1596325623033,
     "user": {
      "displayName": "Fernando Moreno",
      "photoUrl": "",
      "userId": "12085513332857029549"
     },
     "user_tz": 180
    },
    "id": "hX6jmfmSa5XB",
    "outputId": "ad2b01f8-4435-429d-8ad5-6230d7d0c18d"
   },
   "outputs": [
    {
     "name": "stdout",
     "output_type": "stream",
     "text": [
      "MIN: 0.45992115637319314, MAX:0.6968503937007874, MEAN:0.5845311632366584\n"
     ]
    }
   ],
   "source": [
    "score = cross_val_score(pa, df_f, y=df[\"target\"], scoring=\"accuracy\", cv=10, n_jobs=-1)\n",
    "print(\"MIN: {}, MAX:{}, MEAN:{}\".format(score.min(), score.max(), score.mean()))"
   ]
  },
  {
   "cell_type": "markdown",
   "metadata": {
    "colab_type": "text",
    "id": "3l58U1Jfa8Jm"
   },
   "source": [
    "# Perceptron"
   ]
  },
  {
   "cell_type": "code",
   "execution_count": null,
   "metadata": {
    "colab": {},
    "colab_type": "code",
    "id": "GQmZnSXObA5z"
   },
   "outputs": [],
   "source": [
    "p = Perceptron(n_jobs=-1)"
   ]
  },
  {
   "cell_type": "code",
   "execution_count": null,
   "metadata": {
    "colab": {
     "base_uri": "https://localhost:8080/",
     "height": 34
    },
    "colab_type": "code",
    "executionInfo": {
     "elapsed": 9906,
     "status": "ok",
     "timestamp": 1596325671135,
     "user": {
      "displayName": "Fernando Moreno",
      "photoUrl": "",
      "userId": "12085513332857029549"
     },
     "user_tz": 180
    },
    "id": "EytEnhefbHD6",
    "outputId": "f7d40d23-486c-46f5-dae1-653e78628f4e"
   },
   "outputs": [
    {
     "name": "stdout",
     "output_type": "stream",
     "text": [
      "MIN: 0.4704336399474376, MAX:0.6916010498687664, MEAN:0.5815121007377362\n"
     ]
    }
   ],
   "source": [
    "score = cross_val_score(p, df_f, y=df[\"target\"], scoring=\"accuracy\", cv=10, n_jobs=-1)\n",
    "print(\"MIN: {}, MAX:{}, MEAN:{}\".format(score.min(), score.max(), score.mean()))"
   ]
  },
  {
   "cell_type": "markdown",
   "metadata": {
    "colab_type": "text",
    "id": "fr7zLN77bJXy"
   },
   "source": [
    "# Ridge"
   ]
  },
  {
   "cell_type": "code",
   "execution_count": null,
   "metadata": {
    "colab": {},
    "colab_type": "code",
    "id": "iquyZAR-bPpy"
   },
   "outputs": [],
   "source": [
    "r = RidgeClassifier()"
   ]
  },
  {
   "cell_type": "code",
   "execution_count": null,
   "metadata": {
    "colab": {
     "base_uri": "https://localhost:8080/",
     "height": 34
    },
    "colab_type": "code",
    "executionInfo": {
     "elapsed": 18836,
     "status": "ok",
     "timestamp": 1596325797533,
     "user": {
      "displayName": "Fernando Moreno",
      "photoUrl": "",
      "userId": "12085513332857029549"
     },
     "user_tz": 180
    },
    "id": "5rauRKsUbZZC",
    "outputId": "9f5d400d-14dd-4d69-a281-305b75577d3f"
   },
   "outputs": [
    {
     "name": "stdout",
     "output_type": "stream",
     "text": [
      "MIN: 0.48226018396846254, MAX:0.7165354330708661, MEAN:0.6094838260197764\n"
     ]
    }
   ],
   "source": [
    "score = cross_val_score(r, df_f, y=df[\"target\"], scoring=\"accuracy\", cv=10, n_jobs=-1)\n",
    "print(\"MIN: {}, MAX:{}, MEAN:{}\".format(score.min(), score.max(), score.mean()))"
   ]
  },
  {
   "cell_type": "markdown",
   "metadata": {
    "colab_type": "text",
    "id": "nWtB1BWWbbaJ"
   },
   "source": [
    "# SGD"
   ]
  },
  {
   "cell_type": "code",
   "execution_count": null,
   "metadata": {
    "colab": {},
    "colab_type": "code",
    "id": "fwJ5vDAvbgTi"
   },
   "outputs": [],
   "source": [
    "sgd = SGDClassifier(n_jobs=-1)"
   ]
  },
  {
   "cell_type": "code",
   "execution_count": null,
   "metadata": {
    "colab": {
     "base_uri": "https://localhost:8080/",
     "height": 34
    },
    "colab_type": "code",
    "executionInfo": {
     "elapsed": 20056,
     "status": "ok",
     "timestamp": 1596325823410,
     "user": {
      "displayName": "Fernando Moreno",
      "photoUrl": "",
      "userId": "12085513332857029549"
     },
     "user_tz": 180
    },
    "id": "XH_f9WC8bmXA",
    "outputId": "79cd8bc2-ffd3-4559-d1dc-afbb1e716ed7"
   },
   "outputs": [
    {
     "name": "stdout",
     "output_type": "stream",
     "text": [
      "MIN: 0.4914586070959264, MAX:0.7165354330708661, MEAN:0.6210468681559351\n"
     ]
    }
   ],
   "source": [
    "score = cross_val_score(sgd, df_f, y=df[\"target\"], scoring=\"accuracy\", cv=10, n_jobs=-1)\n",
    "print(\"MIN: {}, MAX:{}, MEAN:{}\".format(score.min(), score.max(), score.mean()))"
   ]
  }
 ],
 "metadata": {
  "colab": {
   "authorship_tag": "ABX9TyOSpq2qJFhx7nUeVpQBESRn",
   "collapsed_sections": [
    "Fkxuqtzzdzsj",
    "UA6DcSFv60vL",
    "GEVftI9sy_Ra",
    "viXiH_MTK7O0",
    "qnmKQo-B7A_B",
    "x9T3evNutEYd",
    "fJGJsjoWMP0T",
    "PG3bR1fpxBPc",
    "ESdh61CvMKMy",
    "1nLJ4jARwKoW",
    "b0EPUctiWWnL",
    "7fZiPmmVY5if",
    "fRUECcs19U7n",
    "P8-r7QmoaVNx",
    "3l58U1Jfa8Jm",
    "fr7zLN77bJXy",
    "nWtB1BWWbbaJ"
   ],
   "name": "Modelos.ipynb",
   "provenance": []
  },
  "kernelspec": {
   "display_name": "Python 3",
   "language": "python",
   "name": "python3"
  },
  "language_info": {
   "codemirror_mode": {
    "name": "ipython",
    "version": 3
   },
   "file_extension": ".py",
   "mimetype": "text/x-python",
   "name": "python",
   "nbconvert_exporter": "python",
   "pygments_lexer": "ipython3",
   "version": "3.7.1"
  }
 },
 "nbformat": 4,
 "nbformat_minor": 1
}
