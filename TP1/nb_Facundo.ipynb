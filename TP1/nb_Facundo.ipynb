{
 "cells": [
  {
   "cell_type": "code",
   "execution_count": 1,
   "metadata": {},
   "outputs": [],
   "source": [
    "# Carga de librerías\n",
    "import pandas as pd\n",
    "import numpy as np\n",
    "import matplotlib.pyplot as plt\n",
    "import seaborn as sb\n",
    "from wordcloud import WordCloud"
   ]
  },
  {
   "cell_type": "code",
   "execution_count": 2,
   "metadata": {},
   "outputs": [],
   "source": [
    "# Natural Language Toolkit\n",
    "import nltk"
   ]
  },
  {
   "cell_type": "code",
   "execution_count": 3,
   "metadata": {},
   "outputs": [],
   "source": [
    "# Carga del set de datos\n",
    "df = pd.read_csv('train.csv')"
   ]
  },
  {
   "cell_type": "markdown",
   "metadata": {},
   "source": [
    "- `id` - a unique identifier for each tweet\n",
    "- `text` - the text of the tweet\n",
    "- `location` - the location the tweet was sent from (may be blank)\n",
    "- `keyword` - a particular keyword from the tweet (may be blank)\n",
    "- `target` - in train.csv only, this denotes whether a tweet is about a real disaster (`1`) or not (`0`)"
   ]
  },
  {
   "cell_type": "markdown",
   "metadata": {},
   "source": [
    "#### Información general del set de datos"
   ]
  },
  {
   "cell_type": "code",
   "execution_count": 4,
   "metadata": {},
   "outputs": [
    {
     "name": "stdout",
     "output_type": "stream",
     "text": [
      "<class 'pandas.core.frame.DataFrame'>\n",
      "RangeIndex: 7613 entries, 0 to 7612\n",
      "Data columns (total 5 columns):\n",
      " #   Column    Non-Null Count  Dtype \n",
      "---  ------    --------------  ----- \n",
      " 0   id        7613 non-null   int64 \n",
      " 1   keyword   7552 non-null   object\n",
      " 2   location  5080 non-null   object\n",
      " 3   text      7613 non-null   object\n",
      " 4   target    7613 non-null   int64 \n",
      "dtypes: int64(2), object(3)\n",
      "memory usage: 297.5+ KB\n"
     ]
    }
   ],
   "source": [
    "df.info()"
   ]
  },
  {
   "cell_type": "markdown",
   "metadata": {},
   "source": [
    "#### Muestra aleatoria del set de datos"
   ]
  },
  {
   "cell_type": "code",
   "execution_count": 5,
   "metadata": {},
   "outputs": [
    {
     "data": {
      "text/html": [
       "<div>\n",
       "<style scoped>\n",
       "    .dataframe tbody tr th:only-of-type {\n",
       "        vertical-align: middle;\n",
       "    }\n",
       "\n",
       "    .dataframe tbody tr th {\n",
       "        vertical-align: top;\n",
       "    }\n",
       "\n",
       "    .dataframe thead th {\n",
       "        text-align: right;\n",
       "    }\n",
       "</style>\n",
       "<table border=\"1\" class=\"dataframe\">\n",
       "  <thead>\n",
       "    <tr style=\"text-align: right;\">\n",
       "      <th></th>\n",
       "      <th>id</th>\n",
       "      <th>keyword</th>\n",
       "      <th>location</th>\n",
       "      <th>text</th>\n",
       "      <th>target</th>\n",
       "    </tr>\n",
       "  </thead>\n",
       "  <tbody>\n",
       "    <tr>\n",
       "      <th>1338</th>\n",
       "      <td>1935</td>\n",
       "      <td>burning%20buildings</td>\n",
       "      <td>y/e/l</td>\n",
       "      <td>THIS SOUNDS LIKE A SONG YOU WOULD HEAR IN A MO...</td>\n",
       "      <td>0</td>\n",
       "    </tr>\n",
       "    <tr>\n",
       "      <th>1847</th>\n",
       "      <td>2657</td>\n",
       "      <td>crush</td>\n",
       "      <td>NaN</td>\n",
       "      <td>'@jorrynja: 6. @ your bf/gf/crush ??' @Ter_ell ??</td>\n",
       "      <td>1</td>\n",
       "    </tr>\n",
       "    <tr>\n",
       "      <th>7556</th>\n",
       "      <td>10802</td>\n",
       "      <td>wrecked</td>\n",
       "      <td>Click the link below, okay</td>\n",
       "      <td>The Twitter update pretty much wrecked the app</td>\n",
       "      <td>0</td>\n",
       "    </tr>\n",
       "    <tr>\n",
       "      <th>2122</th>\n",
       "      <td>3049</td>\n",
       "      <td>death</td>\n",
       "      <td>?s????ss? a?????</td>\n",
       "      <td>Ari's hints and snippets will be the death of me.</td>\n",
       "      <td>0</td>\n",
       "    </tr>\n",
       "    <tr>\n",
       "      <th>6880</th>\n",
       "      <td>9864</td>\n",
       "      <td>traumatised</td>\n",
       "      <td>Sweden</td>\n",
       "      <td>@Ruddyyyyyy @JamieGriff97 Jamie is too traumat...</td>\n",
       "      <td>0</td>\n",
       "    </tr>\n",
       "  </tbody>\n",
       "</table>\n",
       "</div>"
      ],
      "text/plain": [
       "         id              keyword                     location  \\\n",
       "1338   1935  burning%20buildings                        y/e/l   \n",
       "1847   2657                crush                          NaN   \n",
       "7556  10802              wrecked  Click the link below, okay    \n",
       "2122   3049                death             ?s????ss? a?????   \n",
       "6880   9864          traumatised                       Sweden   \n",
       "\n",
       "                                                   text  target  \n",
       "1338  THIS SOUNDS LIKE A SONG YOU WOULD HEAR IN A MO...       0  \n",
       "1847  '@jorrynja: 6. @ your bf/gf/crush ??' @Ter_ell ??       1  \n",
       "7556     The Twitter update pretty much wrecked the app       0  \n",
       "2122  Ari's hints and snippets will be the death of me.       0  \n",
       "6880  @Ruddyyyyyy @JamieGriff97 Jamie is too traumat...       0  "
      ]
     },
     "execution_count": 5,
     "metadata": {},
     "output_type": "execute_result"
    }
   ],
   "source": [
    "df.sample(5)"
   ]
  },
  {
   "cell_type": "markdown",
   "metadata": {},
   "source": [
    "#### Descripción de variables estadísticas del set de datos"
   ]
  },
  {
   "cell_type": "code",
   "execution_count": 6,
   "metadata": {},
   "outputs": [
    {
     "data": {
      "text/html": [
       "<div>\n",
       "<style scoped>\n",
       "    .dataframe tbody tr th:only-of-type {\n",
       "        vertical-align: middle;\n",
       "    }\n",
       "\n",
       "    .dataframe tbody tr th {\n",
       "        vertical-align: top;\n",
       "    }\n",
       "\n",
       "    .dataframe thead th {\n",
       "        text-align: right;\n",
       "    }\n",
       "</style>\n",
       "<table border=\"1\" class=\"dataframe\">\n",
       "  <thead>\n",
       "    <tr style=\"text-align: right;\">\n",
       "      <th></th>\n",
       "      <th>count</th>\n",
       "      <th>unique</th>\n",
       "      <th>top</th>\n",
       "      <th>freq</th>\n",
       "      <th>mean</th>\n",
       "      <th>std</th>\n",
       "      <th>min</th>\n",
       "      <th>25%</th>\n",
       "      <th>50%</th>\n",
       "      <th>75%</th>\n",
       "      <th>max</th>\n",
       "    </tr>\n",
       "  </thead>\n",
       "  <tbody>\n",
       "    <tr>\n",
       "      <th>id</th>\n",
       "      <td>7613</td>\n",
       "      <td>NaN</td>\n",
       "      <td>NaN</td>\n",
       "      <td>NaN</td>\n",
       "      <td>5441.93</td>\n",
       "      <td>3137.12</td>\n",
       "      <td>1</td>\n",
       "      <td>2734</td>\n",
       "      <td>5408</td>\n",
       "      <td>8146</td>\n",
       "      <td>10873</td>\n",
       "    </tr>\n",
       "    <tr>\n",
       "      <th>keyword</th>\n",
       "      <td>7552</td>\n",
       "      <td>221</td>\n",
       "      <td>fatalities</td>\n",
       "      <td>45</td>\n",
       "      <td>NaN</td>\n",
       "      <td>NaN</td>\n",
       "      <td>NaN</td>\n",
       "      <td>NaN</td>\n",
       "      <td>NaN</td>\n",
       "      <td>NaN</td>\n",
       "      <td>NaN</td>\n",
       "    </tr>\n",
       "    <tr>\n",
       "      <th>location</th>\n",
       "      <td>5080</td>\n",
       "      <td>3341</td>\n",
       "      <td>USA</td>\n",
       "      <td>104</td>\n",
       "      <td>NaN</td>\n",
       "      <td>NaN</td>\n",
       "      <td>NaN</td>\n",
       "      <td>NaN</td>\n",
       "      <td>NaN</td>\n",
       "      <td>NaN</td>\n",
       "      <td>NaN</td>\n",
       "    </tr>\n",
       "    <tr>\n",
       "      <th>text</th>\n",
       "      <td>7613</td>\n",
       "      <td>7503</td>\n",
       "      <td>11-Year-Old Boy Charged With Manslaughter of T...</td>\n",
       "      <td>10</td>\n",
       "      <td>NaN</td>\n",
       "      <td>NaN</td>\n",
       "      <td>NaN</td>\n",
       "      <td>NaN</td>\n",
       "      <td>NaN</td>\n",
       "      <td>NaN</td>\n",
       "      <td>NaN</td>\n",
       "    </tr>\n",
       "    <tr>\n",
       "      <th>target</th>\n",
       "      <td>7613</td>\n",
       "      <td>NaN</td>\n",
       "      <td>NaN</td>\n",
       "      <td>NaN</td>\n",
       "      <td>0.42966</td>\n",
       "      <td>0.49506</td>\n",
       "      <td>0</td>\n",
       "      <td>0</td>\n",
       "      <td>0</td>\n",
       "      <td>1</td>\n",
       "      <td>1</td>\n",
       "    </tr>\n",
       "  </tbody>\n",
       "</table>\n",
       "</div>"
      ],
      "text/plain": [
       "         count unique                                                top freq  \\\n",
       "id        7613    NaN                                                NaN  NaN   \n",
       "keyword   7552    221                                         fatalities   45   \n",
       "location  5080   3341                                                USA  104   \n",
       "text      7613   7503  11-Year-Old Boy Charged With Manslaughter of T...   10   \n",
       "target    7613    NaN                                                NaN  NaN   \n",
       "\n",
       "             mean      std  min   25%   50%   75%    max  \n",
       "id        5441.93  3137.12    1  2734  5408  8146  10873  \n",
       "keyword       NaN      NaN  NaN   NaN   NaN   NaN    NaN  \n",
       "location      NaN      NaN  NaN   NaN   NaN   NaN    NaN  \n",
       "text          NaN      NaN  NaN   NaN   NaN   NaN    NaN  \n",
       "target    0.42966  0.49506    0     0     0     1      1  "
      ]
     },
     "execution_count": 6,
     "metadata": {},
     "output_type": "execute_result"
    }
   ],
   "source": [
    "df.describe(include=[np.object, np.number]).T"
   ]
  },
  {
   "cell_type": "markdown",
   "metadata": {},
   "source": [
    "#### Conversión de tipos de datos\n",
    "\n",
    "- `id` toma valores del rango `[1, 10873]`, entonces puede usarse el tipo `uint16`.\n",
    "- `target` puede ser `0` ó `1`."
   ]
  },
  {
   "cell_type": "code",
   "execution_count": 7,
   "metadata": {
    "scrolled": true
   },
   "outputs": [
    {
     "name": "stdout",
     "output_type": "stream",
     "text": [
      "<class 'pandas.core.frame.DataFrame'>\n",
      "RangeIndex: 7613 entries, 0 to 7612\n",
      "Data columns (total 5 columns):\n",
      " #   Column    Non-Null Count  Dtype \n",
      "---  ------    --------------  ----- \n",
      " 0   id        7613 non-null   uint16\n",
      " 1   keyword   7552 non-null   object\n",
      " 2   location  5080 non-null   object\n",
      " 3   text      7613 non-null   object\n",
      " 4   target    7613 non-null   uint8 \n",
      "dtypes: object(3), uint16(1), uint8(1)\n",
      "memory usage: 200.9+ KB\n"
     ]
    }
   ],
   "source": [
    "df['id'] = df['id'].astype(np.uint16)\n",
    "df['target'] = df['target'].astype(np.uint8)\n",
    "\n",
    "df.info()"
   ]
  },
  {
   "cell_type": "markdown",
   "metadata": {},
   "source": [
    "#### Búsqueda de duplicados"
   ]
  },
  {
   "cell_type": "code",
   "execution_count": 8,
   "metadata": {
    "scrolled": true
   },
   "outputs": [
    {
     "data": {
      "text/plain": [
       "0"
      ]
     },
     "execution_count": 8,
     "metadata": {},
     "output_type": "execute_result"
    }
   ],
   "source": [
    "df.duplicated(subset=['id']).sum()"
   ]
  },
  {
   "cell_type": "markdown",
   "metadata": {},
   "source": [
    "Se deduce que todos los tweets son únicos (no hay ducplicados) y que no hay atributos de `text` nulos. Además todas las filas tienen un `target`.\n",
    "\n",
    "Ahora hay que analizar las palabras."
   ]
  },
  {
   "cell_type": "markdown",
   "metadata": {},
   "source": [
    "### Limpieza de datos\n",
    "\n",
    "Se va a crear un nuevo DataFrame para almacenar los mensajes procesados."
   ]
  },
  {
   "cell_type": "code",
   "execution_count": 9,
   "metadata": {
    "scrolled": true
   },
   "outputs": [
    {
     "data": {
      "text/html": [
       "<div>\n",
       "<style scoped>\n",
       "    .dataframe tbody tr th:only-of-type {\n",
       "        vertical-align: middle;\n",
       "    }\n",
       "\n",
       "    .dataframe tbody tr th {\n",
       "        vertical-align: top;\n",
       "    }\n",
       "\n",
       "    .dataframe thead th {\n",
       "        text-align: right;\n",
       "    }\n",
       "</style>\n",
       "<table border=\"1\" class=\"dataframe\">\n",
       "  <thead>\n",
       "    <tr style=\"text-align: right;\">\n",
       "      <th></th>\n",
       "      <th>id</th>\n",
       "      <th>keyword</th>\n",
       "      <th>location</th>\n",
       "      <th>text</th>\n",
       "      <th>target</th>\n",
       "    </tr>\n",
       "  </thead>\n",
       "  <tbody>\n",
       "    <tr>\n",
       "      <th>2644</th>\n",
       "      <td>3796</td>\n",
       "      <td>destruction</td>\n",
       "      <td>NaN</td>\n",
       "      <td>So you have a new weapon that can cause un-imaginable destruction.</td>\n",
       "      <td>1</td>\n",
       "    </tr>\n",
       "    <tr>\n",
       "      <th>2227</th>\n",
       "      <td>3185</td>\n",
       "      <td>deluge</td>\n",
       "      <td>NaN</td>\n",
       "      <td>The f$&amp;amp;@ing things I do for #GISHWHES Just got soaked in a deluge going for pads and tampons. Thx @mishacollins @/@</td>\n",
       "      <td>0</td>\n",
       "    </tr>\n",
       "    <tr>\n",
       "      <th>5448</th>\n",
       "      <td>7769</td>\n",
       "      <td>police</td>\n",
       "      <td>UK</td>\n",
       "      <td>DT @georgegalloway: RT @Galloway4Mayor: ÛÏThe CoL police can catch a pickpocket in Liverpool Stree... http://t.co/vXIn1gOq4Q</td>\n",
       "      <td>1</td>\n",
       "    </tr>\n",
       "    <tr>\n",
       "      <th>132</th>\n",
       "      <td>191</td>\n",
       "      <td>aftershock</td>\n",
       "      <td>NaN</td>\n",
       "      <td>Aftershock back to school kick off was great. I want to thank everyone for making it possible. What a great night.</td>\n",
       "      <td>0</td>\n",
       "    </tr>\n",
       "    <tr>\n",
       "      <th>6845</th>\n",
       "      <td>9810</td>\n",
       "      <td>trauma</td>\n",
       "      <td>Montgomery County, MD</td>\n",
       "      <td>in response to trauma Children of Addicts develop a defensive self - one that decreases vulnerability. (3</td>\n",
       "      <td>0</td>\n",
       "    </tr>\n",
       "    <tr>\n",
       "      <th>5559</th>\n",
       "      <td>7934</td>\n",
       "      <td>rainstorm</td>\n",
       "      <td>NaN</td>\n",
       "      <td>@Calum5SOS you look like you got caught in a rainstorm this is amazing and disgusting at the same time</td>\n",
       "      <td>0</td>\n",
       "    </tr>\n",
       "    <tr>\n",
       "      <th>1765</th>\n",
       "      <td>2538</td>\n",
       "      <td>collision</td>\n",
       "      <td>NaN</td>\n",
       "      <td>my favorite lady came to our volunteer meeting\\nhopefully joining her youth collision and i am excite http://t.co/Ij0wQ490cS</td>\n",
       "      <td>1</td>\n",
       "    </tr>\n",
       "    <tr>\n",
       "      <th>1817</th>\n",
       "      <td>2611</td>\n",
       "      <td>crashed</td>\n",
       "      <td>NaN</td>\n",
       "      <td>@brianroemmele UX fail of EMV - people want to insert and remove quickly like a gas pump stripe reader. 1 person told me it crashed the POS</td>\n",
       "      <td>1</td>\n",
       "    </tr>\n",
       "    <tr>\n",
       "      <th>6810</th>\n",
       "      <td>9756</td>\n",
       "      <td>tragedy</td>\n",
       "      <td>Los Angeles, CA</td>\n",
       "      <td>Can't find my ariana grande shirt  this is a fucking tragedy</td>\n",
       "      <td>0</td>\n",
       "    </tr>\n",
       "    <tr>\n",
       "      <th>4398</th>\n",
       "      <td>6254</td>\n",
       "      <td>hijacking</td>\n",
       "      <td>Athens,Greece</td>\n",
       "      <td>The Murderous Story Of AmericaÛªs First Hijacking http://t.co/EYUGk6byxr</td>\n",
       "      <td>1</td>\n",
       "    </tr>\n",
       "  </tbody>\n",
       "</table>\n",
       "</div>"
      ],
      "text/plain": [
       "        id      keyword               location  \\\n",
       "2644  3796  destruction                    NaN   \n",
       "2227  3185       deluge                    NaN   \n",
       "5448  7769       police                     UK   \n",
       "132    191   aftershock                    NaN   \n",
       "6845  9810       trauma  Montgomery County, MD   \n",
       "5559  7934    rainstorm                    NaN   \n",
       "1765  2538    collision                    NaN   \n",
       "1817  2611      crashed                    NaN   \n",
       "6810  9756      tragedy        Los Angeles, CA   \n",
       "4398  6254    hijacking          Athens,Greece   \n",
       "\n",
       "                                                                                                                                             text  \\\n",
       "2644                                                                           So you have a new weapon that can cause un-imaginable destruction.   \n",
       "2227                      The f$&amp;@ing things I do for #GISHWHES Just got soaked in a deluge going for pads and tampons. Thx @mishacollins @/@   \n",
       "5448                DT @georgegalloway: RT @Galloway4Mayor: ÛÏThe CoL police can catch a pickpocket in Liverpool Stree... http://t.co/vXIn1gOq4Q   \n",
       "132                            Aftershock back to school kick off was great. I want to thank everyone for making it possible. What a great night.   \n",
       "6845                                    in response to trauma Children of Addicts develop a defensive self - one that decreases vulnerability. (3   \n",
       "5559                                       @Calum5SOS you look like you got caught in a rainstorm this is amazing and disgusting at the same time   \n",
       "1765                 my favorite lady came to our volunteer meeting\\nhopefully joining her youth collision and i am excite http://t.co/Ij0wQ490cS   \n",
       "1817  @brianroemmele UX fail of EMV - people want to insert and remove quickly like a gas pump stripe reader. 1 person told me it crashed the POS   \n",
       "6810                                                                                 Can't find my ariana grande shirt  this is a fucking tragedy   \n",
       "4398                                                                    The Murderous Story Of AmericaÛªs First Hijacking http://t.co/EYUGk6byxr   \n",
       "\n",
       "      target  \n",
       "2644       1  \n",
       "2227       0  \n",
       "5448       1  \n",
       "132        0  \n",
       "6845       0  \n",
       "5559       0  \n",
       "1765       1  \n",
       "1817       1  \n",
       "6810       0  \n",
       "4398       1  "
      ]
     },
     "metadata": {},
     "output_type": "display_data"
    }
   ],
   "source": [
    "df_text = df['text'].to_frame().copy()\n",
    "\n",
    "#======= MUESTRA ALEATORIA =======\n",
    "# Se elige un ancho para la visualización de columnas\n",
    "pd.set_option('max_colwidth', 150)\n",
    "\n",
    "display(df.sample(10, random_state=42))\n",
    "\n",
    "# Se vuelve al valor por default de 'max_colwidth'\n",
    "pd.reset_option('max_colwidth')"
   ]
  },
  {
   "cell_type": "code",
   "execution_count": 10,
   "metadata": {},
   "outputs": [],
   "source": [
    "import re\n",
    "import string\n",
    "df_cleaned = df.copy()"
   ]
  },
  {
   "cell_type": "code",
   "execution_count": 11,
   "metadata": {},
   "outputs": [
    {
     "data": {
      "text/html": [
       "<div>\n",
       "<style scoped>\n",
       "    .dataframe tbody tr th:only-of-type {\n",
       "        vertical-align: middle;\n",
       "    }\n",
       "\n",
       "    .dataframe tbody tr th {\n",
       "        vertical-align: top;\n",
       "    }\n",
       "\n",
       "    .dataframe thead th {\n",
       "        text-align: right;\n",
       "    }\n",
       "</style>\n",
       "<table border=\"1\" class=\"dataframe\">\n",
       "  <thead>\n",
       "    <tr style=\"text-align: right;\">\n",
       "      <th></th>\n",
       "      <th>id</th>\n",
       "      <th>keyword</th>\n",
       "      <th>location</th>\n",
       "      <th>text</th>\n",
       "      <th>target</th>\n",
       "    </tr>\n",
       "  </thead>\n",
       "  <tbody>\n",
       "    <tr>\n",
       "      <th>2644</th>\n",
       "      <td>3796</td>\n",
       "      <td>destruction</td>\n",
       "      <td>NaN</td>\n",
       "      <td>so you have a new weapon that can cause unimaginable destruction</td>\n",
       "      <td>1</td>\n",
       "    </tr>\n",
       "    <tr>\n",
       "      <th>2227</th>\n",
       "      <td>3185</td>\n",
       "      <td>deluge</td>\n",
       "      <td>NaN</td>\n",
       "      <td>the famp things i do for gishwhes just got soaked in a deluge going for pads and tampons thx</td>\n",
       "      <td>0</td>\n",
       "    </tr>\n",
       "    <tr>\n",
       "      <th>5448</th>\n",
       "      <td>7769</td>\n",
       "      <td>police</td>\n",
       "      <td>UK</td>\n",
       "      <td>dt rt ûïthe col police can catch a pickpocket in liverpool stree</td>\n",
       "      <td>1</td>\n",
       "    </tr>\n",
       "    <tr>\n",
       "      <th>132</th>\n",
       "      <td>191</td>\n",
       "      <td>aftershock</td>\n",
       "      <td>NaN</td>\n",
       "      <td>aftershock back to school kick off was great i want to thank everyone for making it possible what a great night</td>\n",
       "      <td>0</td>\n",
       "    </tr>\n",
       "    <tr>\n",
       "      <th>6845</th>\n",
       "      <td>9810</td>\n",
       "      <td>trauma</td>\n",
       "      <td>Montgomery County, MD</td>\n",
       "      <td>in response to trauma children of addicts develop a defensive self  one that decreases vulnerability</td>\n",
       "      <td>0</td>\n",
       "    </tr>\n",
       "    <tr>\n",
       "      <th>5559</th>\n",
       "      <td>7934</td>\n",
       "      <td>rainstorm</td>\n",
       "      <td>NaN</td>\n",
       "      <td>you look like you got caught in a rainstorm this is amazing and disgusting at the same time</td>\n",
       "      <td>0</td>\n",
       "    </tr>\n",
       "    <tr>\n",
       "      <th>1765</th>\n",
       "      <td>2538</td>\n",
       "      <td>collision</td>\n",
       "      <td>NaN</td>\n",
       "      <td>my favorite lady came to our volunteer meeting hopefully joining her youth collision and i am excite</td>\n",
       "      <td>1</td>\n",
       "    </tr>\n",
       "    <tr>\n",
       "      <th>1817</th>\n",
       "      <td>2611</td>\n",
       "      <td>crashed</td>\n",
       "      <td>NaN</td>\n",
       "      <td>ux fail of emv  people want to insert and remove quickly like a gas pump stripe reader person told me it crashed the pos</td>\n",
       "      <td>1</td>\n",
       "    </tr>\n",
       "    <tr>\n",
       "      <th>6810</th>\n",
       "      <td>9756</td>\n",
       "      <td>tragedy</td>\n",
       "      <td>Los Angeles, CA</td>\n",
       "      <td>cant find my ariana grande shirt this is a fucking tragedy</td>\n",
       "      <td>0</td>\n",
       "    </tr>\n",
       "    <tr>\n",
       "      <th>4398</th>\n",
       "      <td>6254</td>\n",
       "      <td>hijacking</td>\n",
       "      <td>Athens,Greece</td>\n",
       "      <td>the murderous story of americaûªs first hijacking</td>\n",
       "      <td>1</td>\n",
       "    </tr>\n",
       "  </tbody>\n",
       "</table>\n",
       "</div>"
      ],
      "text/plain": [
       "        id      keyword               location  \\\n",
       "2644  3796  destruction                    NaN   \n",
       "2227  3185       deluge                    NaN   \n",
       "5448  7769       police                     UK   \n",
       "132    191   aftershock                    NaN   \n",
       "6845  9810       trauma  Montgomery County, MD   \n",
       "5559  7934    rainstorm                    NaN   \n",
       "1765  2538    collision                    NaN   \n",
       "1817  2611      crashed                    NaN   \n",
       "6810  9756      tragedy        Los Angeles, CA   \n",
       "4398  6254    hijacking          Athens,Greece   \n",
       "\n",
       "                                                                                                                           text  \\\n",
       "2644                                                           so you have a new weapon that can cause unimaginable destruction   \n",
       "2227                              the famp things i do for gishwhes just got soaked in a deluge going for pads and tampons thx    \n",
       "5448                                                         dt rt ûïthe col police can catch a pickpocket in liverpool stree    \n",
       "132             aftershock back to school kick off was great i want to thank everyone for making it possible what a great night   \n",
       "6845                      in response to trauma children of addicts develop a defensive self  one that decreases vulnerability    \n",
       "5559                                you look like you got caught in a rainstorm this is amazing and disgusting at the same time   \n",
       "1765                      my favorite lady came to our volunteer meeting hopefully joining her youth collision and i am excite    \n",
       "1817   ux fail of emv  people want to insert and remove quickly like a gas pump stripe reader person told me it crashed the pos   \n",
       "6810                                                                 cant find my ariana grande shirt this is a fucking tragedy   \n",
       "4398                                                                        the murderous story of americaûªs first hijacking    \n",
       "\n",
       "      target  \n",
       "2644       1  \n",
       "2227       0  \n",
       "5448       1  \n",
       "132        0  \n",
       "6845       0  \n",
       "5559       0  \n",
       "1765       1  \n",
       "1817       1  \n",
       "6810       0  \n",
       "4398       1  "
      ]
     },
     "metadata": {},
     "output_type": "display_data"
    }
   ],
   "source": [
    "def cleaning_text_1(text):\n",
    "    # Se convierte el texto a minúsculas.\n",
    "    text = text.lower()\n",
    "    # Se quitan los '#'.\n",
    "    text = re.sub('#', '', text)\n",
    "    # Se quitan los números.\n",
    "    text = re.sub('\\w*\\d\\w*', '', text)\n",
    "    # Se quitan los saltos de línea.\n",
    "    text = re.sub('\\n', ' ', text)\n",
    "    # Se eliminan las referencias a usuarios '@user'.\n",
    "    text = re.sub('@\\S*', '', text)\n",
    "    # Se quitan vínculos URL.\n",
    "    text = re.sub('https{0,1}:\\/\\/\\S*', ' ', text)\n",
    "    # Se simplifican múltiples espacios a uno solo.\n",
    "    text = re.sub('(\\ ){2,7}', ' ',text)\n",
    "    # Se quitan los signos de puntuación.\n",
    "    text = re.sub('[%s]' % re.escape(string.punctuation), '', text)\n",
    "    return text\n",
    "\n",
    "df_cleaned['text'] = df_cleaned['text'].apply(lambda x: cleaning_text_1(x))\n",
    "\n",
    "#======= MUESTRA ALEATORIA =======\n",
    "# Se elige un ancho para la visualización de columnas\n",
    "pd.set_option('max_colwidth', 150)\n",
    "\n",
    "display(df_cleaned.sample(10, random_state=42))\n",
    "\n",
    "# Se vuelve al valor por default de 'max_colwidth'\n",
    "pd.reset_option('max_colwidth')"
   ]
  },
  {
   "cell_type": "markdown",
   "metadata": {},
   "source": [
    "### Generación de una matriz de términos de todos los mensajes."
   ]
  },
  {
   "cell_type": "code",
   "execution_count": 16,
   "metadata": {},
   "outputs": [
    {
     "data": {
      "text/plain": [
       "'our deeds are the reason of this earthquake may allah forgive us all forest fire near la ronge sask canada all residents asked to shelter in place are being notified by officers no other evacuation or shelter in place orders are expected people receive wildfires evacuation orders in california just got sent this photo from ruby alaska as smoke from wildfires pours into a school rockyfire update california hwy closed in both directions due to lake county fire cafire wildfires flood disaster heavy rain causes flash flooding of streets in manitou colorado springs areas im on top of the hill and i can see a fire in the woods theres an emergency evacuation happening now in the building across the street im afraid that the tornado is coming to our area three people died from the heat wave so far haha south tampa is getting flooded hah wait a second i live in south tampa what am i gonna do what am i gonna do fvck flooding raining flooding florida tampabay tampa or days ive lost count flood in'"
      ]
     },
     "execution_count": 16,
     "metadata": {},
     "output_type": "execute_result"
    }
   ],
   "source": [
    "text_raw = ' '.join(df_cleaned['text'])\n",
    "\n",
    "# Se simplifican múltiples espacios a uno solo.\n",
    "text_raw = re.sub('(\\ ){2,7}', ' ',text_raw)\n",
    "\n",
    "text_raw[0:1000]"
   ]
  },
  {
   "cell_type": "code",
   "execution_count": 17,
   "metadata": {},
   "outputs": [],
   "source": [
    "from sklearn.feature_extraction.text import CountVectorizer"
   ]
  },
  {
   "cell_type": "code",
   "execution_count": 35,
   "metadata": {},
   "outputs": [
    {
     "data": {
      "text/plain": [
       "Index(['term', 0], dtype='object')"
      ]
     },
     "execution_count": 35,
     "metadata": {},
     "output_type": "execute_result"
    }
   ],
   "source": [
    "data_dtm.columns"
   ]
  },
  {
   "cell_type": "code",
   "execution_count": 36,
   "metadata": {},
   "outputs": [
    {
     "data": {
      "text/html": [
       "<div>\n",
       "<style scoped>\n",
       "    .dataframe tbody tr th:only-of-type {\n",
       "        vertical-align: middle;\n",
       "    }\n",
       "\n",
       "    .dataframe tbody tr th {\n",
       "        vertical-align: top;\n",
       "    }\n",
       "\n",
       "    .dataframe thead th {\n",
       "        text-align: right;\n",
       "    }\n",
       "</style>\n",
       "<table border=\"1\" class=\"dataframe\">\n",
       "  <thead>\n",
       "    <tr style=\"text-align: right;\">\n",
       "      <th></th>\n",
       "      <th>term</th>\n",
       "      <th>count</th>\n",
       "    </tr>\n",
       "  </thead>\n",
       "  <tbody>\n",
       "    <tr>\n",
       "      <th>0</th>\n",
       "      <td>aa</td>\n",
       "      <td>2</td>\n",
       "    </tr>\n",
       "    <tr>\n",
       "      <th>1</th>\n",
       "      <td>aaaa</td>\n",
       "      <td>1</td>\n",
       "    </tr>\n",
       "    <tr>\n",
       "      <th>2</th>\n",
       "      <td>aaaaaaallll</td>\n",
       "      <td>1</td>\n",
       "    </tr>\n",
       "    <tr>\n",
       "      <th>3</th>\n",
       "      <td>aaaaaand</td>\n",
       "      <td>1</td>\n",
       "    </tr>\n",
       "    <tr>\n",
       "      <th>4</th>\n",
       "      <td>aaarrrgghhh</td>\n",
       "      <td>1</td>\n",
       "    </tr>\n",
       "    <tr>\n",
       "      <th>...</th>\n",
       "      <td>...</td>\n",
       "      <td>...</td>\n",
       "    </tr>\n",
       "    <tr>\n",
       "      <th>14305</th>\n",
       "      <td>ûóher</td>\n",
       "      <td>1</td>\n",
       "    </tr>\n",
       "    <tr>\n",
       "      <th>14306</th>\n",
       "      <td>ûókody</td>\n",
       "      <td>1</td>\n",
       "    </tr>\n",
       "    <tr>\n",
       "      <th>14307</th>\n",
       "      <td>ûónegligence</td>\n",
       "      <td>1</td>\n",
       "    </tr>\n",
       "    <tr>\n",
       "      <th>14308</th>\n",
       "      <td>ûótech</td>\n",
       "      <td>1</td>\n",
       "    </tr>\n",
       "    <tr>\n",
       "      <th>14309</th>\n",
       "      <td>ûówe</td>\n",
       "      <td>1</td>\n",
       "    </tr>\n",
       "  </tbody>\n",
       "</table>\n",
       "<p>14310 rows × 2 columns</p>\n",
       "</div>"
      ],
      "text/plain": [
       "               term  count\n",
       "0                aa      2\n",
       "1              aaaa      1\n",
       "2       aaaaaaallll      1\n",
       "3          aaaaaand      1\n",
       "4       aaarrrgghhh      1\n",
       "...             ...    ...\n",
       "14305         ûóher      1\n",
       "14306        ûókody      1\n",
       "14307  ûónegligence      1\n",
       "14308        ûótech      1\n",
       "14309          ûówe      1\n",
       "\n",
       "[14310 rows x 2 columns]"
      ]
     },
     "execution_count": 36,
     "metadata": {},
     "output_type": "execute_result"
    }
   ],
   "source": [
    "cv = CountVectorizer(stop_words='english')\n",
    "data_cv = cv.fit_transform([text_raw])\n",
    "data_dtm = pd.DataFrame(data_cv.toarray(), columns=cv.get_feature_names())\n",
    "data_dtm = data_dtm.T\n",
    "data_dtm.reset_index(inplace=True)\n",
    "data_dtm.rename(columns={'index':'term', 0:'count'}, inplace=True)\n",
    "data_dtm"
   ]
  },
  {
   "cell_type": "code",
   "execution_count": null,
   "metadata": {},
   "outputs": [],
   "source": []
  },
  {
   "cell_type": "code",
   "execution_count": null,
   "metadata": {},
   "outputs": [],
   "source": []
  },
  {
   "cell_type": "code",
   "execution_count": null,
   "metadata": {},
   "outputs": [],
   "source": []
  },
  {
   "cell_type": "code",
   "execution_count": null,
   "metadata": {},
   "outputs": [],
   "source": []
  },
  {
   "cell_type": "code",
   "execution_count": null,
   "metadata": {},
   "outputs": [],
   "source": []
  },
  {
   "cell_type": "markdown",
   "metadata": {},
   "source": [
    "---\n",
    "---\n",
    "## Análisis de veracidad del mensaje según su longitud"
   ]
  },
  {
   "cell_type": "code",
   "execution_count": null,
   "metadata": {},
   "outputs": [],
   "source": [
    "# Se agrega un columna para la longitud del mensaje.\n",
    "df['length'] = df['text'].str.len()\n",
    "# Se informan las mediciones pedidas.\n",
    "print('Características de longitud del texto del mensaje')\n",
    "print('Máxima:', df['length'].max(), \\\n",
    "'\\tMínina:', df['length'].min(), \\\n",
    "'\\tMedia:', np.round(df['length'].mean(), decimals = 0))"
   ]
  },
  {
   "cell_type": "code",
   "execution_count": null,
   "metadata": {},
   "outputs": [],
   "source": [
    "# Se arma nuevo DataFrame agrupando por longitud de mensaje\n",
    "join = pd.DataFrame()\n",
    "join['is_true'] = df.groupby('length')['target'].agg('sum')\n",
    "join['total'] = df.groupby('length')['target'].agg('count')\n",
    "join['portion_is_true'] = round(join['is_true'] / join['total'], 3)\n",
    "# Se quitan los casos extremos.\n",
    "clean = join.loc[join['portion_is_true'] < 1]\n",
    "display(clean.nlargest(5, 'portion_is_true'))\n",
    "print('Promedio de las cinco longitudes con mejor índice de veracidad:', \\\n",
    "clean.nlargest(5, 'portion_is_true').index.values.mean())\n",
    "print('Mediana de las cinco longitudes con mejor índice de veracidad:', \\\n",
    "np.median(clean.nlargest(5, 'portion_is_true').index.values))"
   ]
  },
  {
   "cell_type": "code",
   "execution_count": null,
   "metadata": {},
   "outputs": [],
   "source": [
    "# Plot\n",
    "plt.figure(figsize = (7,25))\n",
    "sb.set(font_scale = 1.5)\n",
    "plot = sb.heatmap(join[['portion_is_true']], cmap = 'plasma_r', \\\n",
    "cbar = True, xticklabels = [''])\n",
    "plt.title('Veracidad de mensajes según longitud',fontsize = 25)\n",
    "plot.set_xlabel('Nivel de veracidad', fontsize = 20)\n",
    "plot.set_ylabel('Longitud del mensaje', fontsize = 20)\n",
    "plt.xticks(fontsize = 17, rotation = 0, ha = 'center', va = 'top')\n",
    "plt.yticks(fontsize = 17, rotation = 0)\n",
    "plt.tight_layout() # Para que no recorte los títulos.\n",
    "plt.show()"
   ]
  }
 ],
 "metadata": {
  "kernelspec": {
   "display_name": "Python 3",
   "language": "python",
   "name": "python3"
  },
  "language_info": {
   "codemirror_mode": {
    "name": "ipython",
    "version": 3
   },
   "file_extension": ".py",
   "mimetype": "text/x-python",
   "name": "python",
   "nbconvert_exporter": "python",
   "pygments_lexer": "ipython3",
   "version": "3.7.5"
  }
 },
 "nbformat": 4,
 "nbformat_minor": 4
}
