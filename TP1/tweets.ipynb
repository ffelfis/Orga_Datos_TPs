{
 "cells": [
  {
   "cell_type": "code",
   "execution_count": 1,
   "metadata": {},
   "outputs": [],
   "source": [
    "import pandas as pd\n",
    "import numpy as np\n",
    "import matplotlib.pyplot as plt\n",
    "import seaborn as sns"
   ]
  },
  {
   "cell_type": "code",
   "execution_count": 2,
   "metadata": {},
   "outputs": [],
   "source": [
    "df = pd.read_csv('train.csv')"
   ]
  },
  {
   "cell_type": "markdown",
   "metadata": {},
   "source": [
    "#### Información general del set de datos"
   ]
  },
  {
   "cell_type": "code",
   "execution_count": 3,
   "metadata": {
    "scrolled": true
   },
   "outputs": [
    {
     "name": "stdout",
     "output_type": "stream",
     "text": [
      "<class 'pandas.core.frame.DataFrame'>\n",
      "RangeIndex: 7613 entries, 0 to 7612\n",
      "Data columns (total 5 columns):\n",
      " #   Column    Non-Null Count  Dtype \n",
      "---  ------    --------------  ----- \n",
      " 0   id        7613 non-null   int64 \n",
      " 1   keyword   7552 non-null   object\n",
      " 2   location  5080 non-null   object\n",
      " 3   text      7613 non-null   object\n",
      " 4   target    7613 non-null   int64 \n",
      "dtypes: int64(2), object(3)\n",
      "memory usage: 297.5+ KB\n"
     ]
    }
   ],
   "source": [
    "df.info()"
   ]
  },
  {
   "cell_type": "markdown",
   "metadata": {},
   "source": [
    "#### Muestra aleatoria del set de datos"
   ]
  },
  {
   "cell_type": "code",
   "execution_count": 4,
   "metadata": {},
   "outputs": [
    {
     "data": {
      "text/html": [
       "<div>\n",
       "<style scoped>\n",
       "    .dataframe tbody tr th:only-of-type {\n",
       "        vertical-align: middle;\n",
       "    }\n",
       "\n",
       "    .dataframe tbody tr th {\n",
       "        vertical-align: top;\n",
       "    }\n",
       "\n",
       "    .dataframe thead th {\n",
       "        text-align: right;\n",
       "    }\n",
       "</style>\n",
       "<table border=\"1\" class=\"dataframe\">\n",
       "  <thead>\n",
       "    <tr style=\"text-align: right;\">\n",
       "      <th></th>\n",
       "      <th>id</th>\n",
       "      <th>keyword</th>\n",
       "      <th>location</th>\n",
       "      <th>text</th>\n",
       "      <th>target</th>\n",
       "    </tr>\n",
       "  </thead>\n",
       "  <tbody>\n",
       "    <tr>\n",
       "      <th>4229</th>\n",
       "      <td>6004</td>\n",
       "      <td>hazardous</td>\n",
       "      <td>Muntinlupa City, Philippines</td>\n",
       "      <td>@HearItFromPa Also pls help us w/ our campaign...</td>\n",
       "      <td>0</td>\n",
       "    </tr>\n",
       "    <tr>\n",
       "      <th>996</th>\n",
       "      <td>1447</td>\n",
       "      <td>body%20bagging</td>\n",
       "      <td>PURPLE BOOTH STUDIOã¢</td>\n",
       "      <td>No better feeling than seeing and being on sta...</td>\n",
       "      <td>0</td>\n",
       "    </tr>\n",
       "    <tr>\n",
       "      <th>7254</th>\n",
       "      <td>10384</td>\n",
       "      <td>weapons</td>\n",
       "      <td>St. Louis</td>\n",
       "      <td>In memory of the victims of Hiroshima and Naga...</td>\n",
       "      <td>1</td>\n",
       "    </tr>\n",
       "    <tr>\n",
       "      <th>7485</th>\n",
       "      <td>10707</td>\n",
       "      <td>wreck</td>\n",
       "      <td>Alabama, USA</td>\n",
       "      <td>First wreck today. So so glad me and mom are o...</td>\n",
       "      <td>0</td>\n",
       "    </tr>\n",
       "    <tr>\n",
       "      <th>5207</th>\n",
       "      <td>7437</td>\n",
       "      <td>obliterated</td>\n",
       "      <td>Upstairs.</td>\n",
       "      <td>@TheEvilOlives It's the closest structure to t...</td>\n",
       "      <td>1</td>\n",
       "    </tr>\n",
       "  </tbody>\n",
       "</table>\n",
       "</div>"
      ],
      "text/plain": [
       "         id         keyword                      location  \\\n",
       "4229   6004       hazardous  Muntinlupa City, Philippines   \n",
       "996    1447  body%20bagging        PURPLE BOOTH STUDIOã¢   \n",
       "7254  10384         weapons                     St. Louis   \n",
       "7485  10707           wreck                  Alabama, USA   \n",
       "5207   7437     obliterated                     Upstairs.   \n",
       "\n",
       "                                                   text  target  \n",
       "4229  @HearItFromPa Also pls help us w/ our campaign...       0  \n",
       "996   No better feeling than seeing and being on sta...       0  \n",
       "7254  In memory of the victims of Hiroshima and Naga...       1  \n",
       "7485  First wreck today. So so glad me and mom are o...       0  \n",
       "5207  @TheEvilOlives It's the closest structure to t...       1  "
      ]
     },
     "execution_count": 4,
     "metadata": {},
     "output_type": "execute_result"
    }
   ],
   "source": [
    "df.sample(5)"
   ]
  },
  {
   "cell_type": "markdown",
   "metadata": {},
   "source": [
    "#### Descripción de variables estadísticas del set de datos"
   ]
  },
  {
   "cell_type": "code",
   "execution_count": 5,
   "metadata": {},
   "outputs": [
    {
     "data": {
      "text/html": [
       "<div>\n",
       "<style scoped>\n",
       "    .dataframe tbody tr th:only-of-type {\n",
       "        vertical-align: middle;\n",
       "    }\n",
       "\n",
       "    .dataframe tbody tr th {\n",
       "        vertical-align: top;\n",
       "    }\n",
       "\n",
       "    .dataframe thead th {\n",
       "        text-align: right;\n",
       "    }\n",
       "</style>\n",
       "<table border=\"1\" class=\"dataframe\">\n",
       "  <thead>\n",
       "    <tr style=\"text-align: right;\">\n",
       "      <th></th>\n",
       "      <th>count</th>\n",
       "      <th>unique</th>\n",
       "      <th>top</th>\n",
       "      <th>freq</th>\n",
       "      <th>mean</th>\n",
       "      <th>std</th>\n",
       "      <th>min</th>\n",
       "      <th>25%</th>\n",
       "      <th>50%</th>\n",
       "      <th>75%</th>\n",
       "      <th>max</th>\n",
       "    </tr>\n",
       "  </thead>\n",
       "  <tbody>\n",
       "    <tr>\n",
       "      <th>id</th>\n",
       "      <td>7613</td>\n",
       "      <td>NaN</td>\n",
       "      <td>NaN</td>\n",
       "      <td>NaN</td>\n",
       "      <td>5441.93</td>\n",
       "      <td>3137.12</td>\n",
       "      <td>1</td>\n",
       "      <td>2734</td>\n",
       "      <td>5408</td>\n",
       "      <td>8146</td>\n",
       "      <td>10873</td>\n",
       "    </tr>\n",
       "    <tr>\n",
       "      <th>keyword</th>\n",
       "      <td>7552</td>\n",
       "      <td>221</td>\n",
       "      <td>fatalities</td>\n",
       "      <td>45</td>\n",
       "      <td>NaN</td>\n",
       "      <td>NaN</td>\n",
       "      <td>NaN</td>\n",
       "      <td>NaN</td>\n",
       "      <td>NaN</td>\n",
       "      <td>NaN</td>\n",
       "      <td>NaN</td>\n",
       "    </tr>\n",
       "    <tr>\n",
       "      <th>location</th>\n",
       "      <td>5080</td>\n",
       "      <td>3341</td>\n",
       "      <td>USA</td>\n",
       "      <td>104</td>\n",
       "      <td>NaN</td>\n",
       "      <td>NaN</td>\n",
       "      <td>NaN</td>\n",
       "      <td>NaN</td>\n",
       "      <td>NaN</td>\n",
       "      <td>NaN</td>\n",
       "      <td>NaN</td>\n",
       "    </tr>\n",
       "    <tr>\n",
       "      <th>text</th>\n",
       "      <td>7613</td>\n",
       "      <td>7503</td>\n",
       "      <td>11-Year-Old Boy Charged With Manslaughter of T...</td>\n",
       "      <td>10</td>\n",
       "      <td>NaN</td>\n",
       "      <td>NaN</td>\n",
       "      <td>NaN</td>\n",
       "      <td>NaN</td>\n",
       "      <td>NaN</td>\n",
       "      <td>NaN</td>\n",
       "      <td>NaN</td>\n",
       "    </tr>\n",
       "    <tr>\n",
       "      <th>target</th>\n",
       "      <td>7613</td>\n",
       "      <td>NaN</td>\n",
       "      <td>NaN</td>\n",
       "      <td>NaN</td>\n",
       "      <td>0.42966</td>\n",
       "      <td>0.49506</td>\n",
       "      <td>0</td>\n",
       "      <td>0</td>\n",
       "      <td>0</td>\n",
       "      <td>1</td>\n",
       "      <td>1</td>\n",
       "    </tr>\n",
       "  </tbody>\n",
       "</table>\n",
       "</div>"
      ],
      "text/plain": [
       "         count unique                                                top freq  \\\n",
       "id        7613    NaN                                                NaN  NaN   \n",
       "keyword   7552    221                                         fatalities   45   \n",
       "location  5080   3341                                                USA  104   \n",
       "text      7613   7503  11-Year-Old Boy Charged With Manslaughter of T...   10   \n",
       "target    7613    NaN                                                NaN  NaN   \n",
       "\n",
       "             mean      std  min   25%   50%   75%    max  \n",
       "id        5441.93  3137.12    1  2734  5408  8146  10873  \n",
       "keyword       NaN      NaN  NaN   NaN   NaN   NaN    NaN  \n",
       "location      NaN      NaN  NaN   NaN   NaN   NaN    NaN  \n",
       "text          NaN      NaN  NaN   NaN   NaN   NaN    NaN  \n",
       "target    0.42966  0.49506    0     0     0     1      1  "
      ]
     },
     "execution_count": 5,
     "metadata": {},
     "output_type": "execute_result"
    }
   ],
   "source": [
    "df.describe(include=[np.object, np.number]).T"
   ]
  },
  {
   "cell_type": "markdown",
   "metadata": {},
   "source": [
    "#### Conversión de tipos de datos\n",
    "\n",
    "- `id` toma valores del rango `[1, 10873]`, entonces puede usarse el tipo `uint16`.\n",
    "- `target` puede ser `0` ó `1`."
   ]
  },
  {
   "cell_type": "code",
   "execution_count": 6,
   "metadata": {},
   "outputs": [
    {
     "name": "stdout",
     "output_type": "stream",
     "text": [
      "<class 'pandas.core.frame.DataFrame'>\n",
      "RangeIndex: 7613 entries, 0 to 7612\n",
      "Data columns (total 5 columns):\n",
      " #   Column    Non-Null Count  Dtype \n",
      "---  ------    --------------  ----- \n",
      " 0   id        7613 non-null   uint16\n",
      " 1   keyword   7552 non-null   object\n",
      " 2   location  5080 non-null   object\n",
      " 3   text      7613 non-null   object\n",
      " 4   target    7613 non-null   uint8 \n",
      "dtypes: object(3), uint16(1), uint8(1)\n",
      "memory usage: 200.9+ KB\n"
     ]
    }
   ],
   "source": [
    "df['id'] = df['id'].astype(np.uint16)\n",
    "df['target'] = df['target'].astype(np.uint8)\n",
    "\n",
    "df.info()"
   ]
  },
  {
   "cell_type": "markdown",
   "metadata": {},
   "source": [
    "#### Verificación de duplicados"
   ]
  },
  {
   "cell_type": "code",
   "execution_count": 7,
   "metadata": {},
   "outputs": [
    {
     "data": {
      "text/plain": [
       "7613"
      ]
     },
     "execution_count": 7,
     "metadata": {},
     "output_type": "execute_result"
    }
   ],
   "source": [
    "len(df.drop_duplicates())"
   ]
  },
  {
   "cell_type": "markdown",
   "metadata": {},
   "source": [
    "No hay filas duplicadas"
   ]
  },
  {
   "cell_type": "markdown",
   "metadata": {},
   "source": [
    "# Análisis Exploratorio"
   ]
  },
  {
   "cell_type": "markdown",
   "metadata": {},
   "source": [
    "En este análisis se intentará encontrar la relación entre las keyword y los target."
   ]
  },
  {
   "cell_type": "code",
   "execution_count": 8,
   "metadata": {},
   "outputs": [
    {
     "data": {
      "text/plain": [
       "7613"
      ]
     },
     "execution_count": 8,
     "metadata": {},
     "output_type": "execute_result"
    }
   ],
   "source": [
    "#Cantidad de filas del dataframe\n",
    "len(df)"
   ]
  },
  {
   "cell_type": "code",
   "execution_count": 9,
   "metadata": {},
   "outputs": [
    {
     "data": {
      "text/plain": [
       "7552"
      ]
     },
     "execution_count": 9,
     "metadata": {},
     "output_type": "execute_result"
    }
   ],
   "source": [
    "#Cantidad de filas del dataframe con keywords\n",
    "df[\"keyword\"].count()"
   ]
  },
  {
   "cell_type": "code",
   "execution_count": 10,
   "metadata": {},
   "outputs": [
    {
     "data": {
      "text/plain": [
       "99.199"
      ]
     },
     "execution_count": 10,
     "metadata": {},
     "output_type": "execute_result"
    }
   ],
   "source": [
    "#Porcentaje de filas con keyword respecto al total\n",
    "round(df[\"keyword\"].count()/len(df)*100, 3)"
   ]
  },
  {
   "cell_type": "code",
   "execution_count": 11,
   "metadata": {},
   "outputs": [
    {
     "data": {
      "text/plain": [
       "fatalities               45\n",
       "armageddon               42\n",
       "deluge                   42\n",
       "harm                     41\n",
       "sinking                  41\n",
       "                         ..\n",
       "forest%20fire            19\n",
       "epicentre                12\n",
       "threat                   11\n",
       "inundation               10\n",
       "radiation%20emergency     9\n",
       "Name: keyword, Length: 221, dtype: int64"
      ]
     },
     "execution_count": 11,
     "metadata": {},
     "output_type": "execute_result"
    }
   ],
   "source": [
    "#Cantidad de valores diferentes de keyword junto con su frecuencia\n",
    "df[\"keyword\"].value_counts()"
   ]
  },
  {
   "cell_type": "code",
   "execution_count": 12,
   "metadata": {},
   "outputs": [
    {
     "data": {
      "text/plain": [
       "derailment     39\n",
       "outbreak       39\n",
       "wreckage       39\n",
       "oil%20spill    37\n",
       "debris         37\n",
       "               ..\n",
       "electrocute     1\n",
       "ruin            1\n",
       "blazing         1\n",
       "body%20bag      1\n",
       "epicentre       1\n",
       "Name: keyword, Length: 220, dtype: int64"
      ]
     },
     "execution_count": 12,
     "metadata": {},
     "output_type": "execute_result"
    }
   ],
   "source": [
    "#Cantidad de apariciones de cada keyword en el target 1\n",
    "k1 = df[df[\"target\"]==1][\"keyword\"].value_counts()\n",
    "k1"
   ]
  },
  {
   "cell_type": "code",
   "execution_count": 13,
   "metadata": {
    "scrolled": false
   },
   "outputs": [
    {
     "data": {
      "image/png": "[encoded data removed]",
      "text/plain": [
       "<Figure size 1296x432 with 1 Axes>"
      ]
     },
     "metadata": {
      "needs_background": "light"
     },
     "output_type": "display_data"
    }
   ],
   "source": [
    "plt.figure(figsize=(18, 6))\n",
    "plt.bar(k1.iloc[0:10].index, k1.iloc[0:10])\n",
    "plt.title(\"Top 10 de keywords para el target 1\")\n",
    "plt.xlabel(\"Keyword\")\n",
    "plt.ylabel(\"Frecuencia\")\n",
    "plt.show()"
   ]
  },
  {
   "cell_type": "code",
   "execution_count": 14,
   "metadata": {},
   "outputs": [
    {
     "data": {
      "text/plain": [
       "body%20bags          40\n",
       "armageddon           37\n",
       "harm                 37\n",
       "wrecked              36\n",
       "ruin                 36\n",
       "                     ..\n",
       "oil%20spill           1\n",
       "suicide%20bomber      1\n",
       "typhoon               1\n",
       "outbreak              1\n",
       "suicide%20bombing     1\n",
       "Name: keyword, Length: 218, dtype: int64"
      ]
     },
     "execution_count": 14,
     "metadata": {},
     "output_type": "execute_result"
    }
   ],
   "source": [
    "k0 = df[df[\"target\"]==0][\"keyword\"].value_counts() #Cantidad de apariciones de cada keyword en el target 0\n",
    "k0"
   ]
  },
  {
   "cell_type": "code",
   "execution_count": 15,
   "metadata": {},
   "outputs": [
    {
     "data": {
      "image/png": "[encoded data removed]",
      "text/plain": [
       "<Figure size 1296x432 with 1 Axes>"
      ]
     },
     "metadata": {
      "needs_background": "light"
     },
     "output_type": "display_data"
    }
   ],
   "source": [
    "plt.figure(figsize=(18, 6))\n",
    "plt.bar(k0.iloc[0:10].index, k0.iloc[0:10], color=\"green\")\n",
    "plt.title(\"Top 10 de keywords para el target 0\")\n",
    "plt.xlabel(\"Keyword\")\n",
    "plt.ylabel(\"Frecuencia\")\n",
    "plt.show()"
   ]
  },
  {
   "cell_type": "code",
   "execution_count": 16,
   "metadata": {},
   "outputs": [],
   "source": [
    "k1_unique = pd.Series(dtype='uint8')\n",
    "for k in k1.index:\n",
    "    if k not in k0:\n",
    "        k1_unique = k1_unique.append(pd.Series(index=(k,), data=k1[k]))"
   ]
  },
  {
   "cell_type": "code",
   "execution_count": 17,
   "metadata": {},
   "outputs": [
    {
     "data": {
      "text/plain": [
       "derailment    39\n",
       "wreckage      39\n",
       "debris        37\n",
       "dtype: int64"
      ]
     },
     "execution_count": 17,
     "metadata": {},
     "output_type": "execute_result"
    }
   ],
   "source": [
    "#Keywords que solo aparecen en el target 1\n",
    "k1_unique"
   ]
  },
  {
   "cell_type": "code",
   "execution_count": 18,
   "metadata": {},
   "outputs": [],
   "source": [
    "k0_unique = pd.Series(dtype='uint8')\n",
    "for k in k0.index:\n",
    "    if k not in k1:\n",
    "        k0_unique = k0_unique.append(pd.Series(index=(k,), data=k0[k]))"
   ]
  },
  {
   "cell_type": "code",
   "execution_count": 19,
   "metadata": {},
   "outputs": [
    {
     "data": {
      "text/plain": [
       "aftershock    34\n",
       "dtype: int64"
      ]
     },
     "execution_count": 19,
     "metadata": {},
     "output_type": "execute_result"
    }
   ],
   "source": [
    "#Keywords que solo aparecen en el target 0\n",
    "k0_unique"
   ]
  },
  {
   "cell_type": "code",
   "execution_count": 20,
   "metadata": {},
   "outputs": [],
   "source": [
    "df_keywords_en_ambas = pd.DataFrame(columns=[\"keyword\", \"target_1\", \"target_0\", \"relacion_1_sobre_0\"])"
   ]
  },
  {
   "cell_type": "code",
   "execution_count": 21,
   "metadata": {},
   "outputs": [],
   "source": [
    "for x in df[\"keyword\"].value_counts().iteritems():\n",
    "    if x[0] in k1_unique.index or x[0] in k0_unique.index:\n",
    "        continue\n",
    "    df_keywords_en_ambas = df_keywords_en_ambas.append({\"keyword\":x[0], \\\n",
    "                                                        \"target_1\":k1[x[0]], \\\n",
    "                                                        \"target_0\":k0[x[0]]}, \\\n",
    "                                                       ignore_index=True)"
   ]
  },
  {
   "cell_type": "code",
   "execution_count": 22,
   "metadata": {},
   "outputs": [],
   "source": [
    "df_keywords_en_ambas[\"relacion_1_sobre_0\"] = (df_keywords_en_ambas[\"target_1\"]/df_keywords_en_ambas[\"target_0\"])"
   ]
  },
  {
   "cell_type": "code",
   "execution_count": 23,
   "metadata": {},
   "outputs": [
    {
     "data": {
      "text/html": [
       "<div>\n",
       "<style scoped>\n",
       "    .dataframe tbody tr th:only-of-type {\n",
       "        vertical-align: middle;\n",
       "    }\n",
       "\n",
       "    .dataframe tbody tr th {\n",
       "        vertical-align: top;\n",
       "    }\n",
       "\n",
       "    .dataframe thead th {\n",
       "        text-align: right;\n",
       "    }\n",
       "</style>\n",
       "<table border=\"1\" class=\"dataframe\">\n",
       "  <thead>\n",
       "    <tr style=\"text-align: right;\">\n",
       "      <th></th>\n",
       "      <th>keyword</th>\n",
       "      <th>target_1</th>\n",
       "      <th>target_0</th>\n",
       "      <th>relacion_1_sobre_0</th>\n",
       "    </tr>\n",
       "  </thead>\n",
       "  <tbody>\n",
       "    <tr>\n",
       "      <th>0</th>\n",
       "      <td>fatalities</td>\n",
       "      <td>26</td>\n",
       "      <td>19</td>\n",
       "      <td>1.36842</td>\n",
       "    </tr>\n",
       "    <tr>\n",
       "      <th>1</th>\n",
       "      <td>armageddon</td>\n",
       "      <td>5</td>\n",
       "      <td>37</td>\n",
       "      <td>0.135135</td>\n",
       "    </tr>\n",
       "    <tr>\n",
       "      <th>2</th>\n",
       "      <td>deluge</td>\n",
       "      <td>6</td>\n",
       "      <td>36</td>\n",
       "      <td>0.166667</td>\n",
       "    </tr>\n",
       "    <tr>\n",
       "      <th>3</th>\n",
       "      <td>harm</td>\n",
       "      <td>4</td>\n",
       "      <td>37</td>\n",
       "      <td>0.108108</td>\n",
       "    </tr>\n",
       "    <tr>\n",
       "      <th>4</th>\n",
       "      <td>sinking</td>\n",
       "      <td>8</td>\n",
       "      <td>33</td>\n",
       "      <td>0.242424</td>\n",
       "    </tr>\n",
       "    <tr>\n",
       "      <th>...</th>\n",
       "      <td>...</td>\n",
       "      <td>...</td>\n",
       "      <td>...</td>\n",
       "      <td>...</td>\n",
       "    </tr>\n",
       "    <tr>\n",
       "      <th>212</th>\n",
       "      <td>forest%20fire</td>\n",
       "      <td>15</td>\n",
       "      <td>4</td>\n",
       "      <td>3.75</td>\n",
       "    </tr>\n",
       "    <tr>\n",
       "      <th>213</th>\n",
       "      <td>epicentre</td>\n",
       "      <td>1</td>\n",
       "      <td>11</td>\n",
       "      <td>0.0909091</td>\n",
       "    </tr>\n",
       "    <tr>\n",
       "      <th>214</th>\n",
       "      <td>threat</td>\n",
       "      <td>2</td>\n",
       "      <td>9</td>\n",
       "      <td>0.222222</td>\n",
       "    </tr>\n",
       "    <tr>\n",
       "      <th>215</th>\n",
       "      <td>inundation</td>\n",
       "      <td>2</td>\n",
       "      <td>8</td>\n",
       "      <td>0.25</td>\n",
       "    </tr>\n",
       "    <tr>\n",
       "      <th>216</th>\n",
       "      <td>radiation%20emergency</td>\n",
       "      <td>5</td>\n",
       "      <td>4</td>\n",
       "      <td>1.25</td>\n",
       "    </tr>\n",
       "  </tbody>\n",
       "</table>\n",
       "<p>217 rows × 4 columns</p>\n",
       "</div>"
      ],
      "text/plain": [
       "                   keyword target_1 target_0 relacion_1_sobre_0\n",
       "0               fatalities       26       19            1.36842\n",
       "1               armageddon        5       37           0.135135\n",
       "2                   deluge        6       36           0.166667\n",
       "3                     harm        4       37           0.108108\n",
       "4                  sinking        8       33           0.242424\n",
       "..                     ...      ...      ...                ...\n",
       "212          forest%20fire       15        4               3.75\n",
       "213              epicentre        1       11          0.0909091\n",
       "214                 threat        2        9           0.222222\n",
       "215             inundation        2        8               0.25\n",
       "216  radiation%20emergency        5        4               1.25\n",
       "\n",
       "[217 rows x 4 columns]"
      ]
     },
     "execution_count": 23,
     "metadata": {},
     "output_type": "execute_result"
    }
   ],
   "source": [
    "#Keywords que están en ambos targets junto con su cantidad en cada uno y la relación del 1 sobre 0\n",
    "df_keywords_en_ambas"
   ]
  },
  {
   "cell_type": "code",
   "execution_count": 24,
   "metadata": {},
   "outputs": [
    {
     "data": {
      "text/html": [
       "<div>\n",
       "<style scoped>\n",
       "    .dataframe tbody tr th:only-of-type {\n",
       "        vertical-align: middle;\n",
       "    }\n",
       "\n",
       "    .dataframe tbody tr th {\n",
       "        vertical-align: top;\n",
       "    }\n",
       "\n",
       "    .dataframe thead th {\n",
       "        text-align: right;\n",
       "    }\n",
       "</style>\n",
       "<table border=\"1\" class=\"dataframe\">\n",
       "  <thead>\n",
       "    <tr style=\"text-align: right;\">\n",
       "      <th></th>\n",
       "      <th>keyword</th>\n",
       "      <th>target_1</th>\n",
       "      <th>target_0</th>\n",
       "      <th>relacion_1_sobre_0</th>\n",
       "    </tr>\n",
       "  </thead>\n",
       "  <tbody>\n",
       "    <tr>\n",
       "      <th>5</th>\n",
       "      <td>body%20bags</td>\n",
       "      <td>1</td>\n",
       "      <td>40</td>\n",
       "      <td>0.025</td>\n",
       "    </tr>\n",
       "    <tr>\n",
       "      <th>13</th>\n",
       "      <td>outbreak</td>\n",
       "      <td>39</td>\n",
       "      <td>1</td>\n",
       "      <td>39</td>\n",
       "    </tr>\n",
       "    <tr>\n",
       "      <th>19</th>\n",
       "      <td>wrecked</td>\n",
       "      <td>3</td>\n",
       "      <td>36</td>\n",
       "      <td>0.0833333</td>\n",
       "    </tr>\n",
       "    <tr>\n",
       "      <th>28</th>\n",
       "      <td>explode</td>\n",
       "      <td>3</td>\n",
       "      <td>35</td>\n",
       "      <td>0.0857143</td>\n",
       "    </tr>\n",
       "    <tr>\n",
       "      <th>33</th>\n",
       "      <td>oil%20spill</td>\n",
       "      <td>37</td>\n",
       "      <td>1</td>\n",
       "      <td>37</td>\n",
       "    </tr>\n",
       "    <tr>\n",
       "      <th>39</th>\n",
       "      <td>typhoon</td>\n",
       "      <td>37</td>\n",
       "      <td>1</td>\n",
       "      <td>37</td>\n",
       "    </tr>\n",
       "    <tr>\n",
       "      <th>54</th>\n",
       "      <td>ruin</td>\n",
       "      <td>1</td>\n",
       "      <td>36</td>\n",
       "      <td>0.0277778</td>\n",
       "    </tr>\n",
       "    <tr>\n",
       "      <th>59</th>\n",
       "      <td>panic</td>\n",
       "      <td>3</td>\n",
       "      <td>34</td>\n",
       "      <td>0.0882353</td>\n",
       "    </tr>\n",
       "    <tr>\n",
       "      <th>60</th>\n",
       "      <td>screaming</td>\n",
       "      <td>2</td>\n",
       "      <td>34</td>\n",
       "      <td>0.0588235</td>\n",
       "    </tr>\n",
       "    <tr>\n",
       "      <th>95</th>\n",
       "      <td>traumatised</td>\n",
       "      <td>2</td>\n",
       "      <td>33</td>\n",
       "      <td>0.0606061</td>\n",
       "    </tr>\n",
       "    <tr>\n",
       "      <th>98</th>\n",
       "      <td>bloody</td>\n",
       "      <td>3</td>\n",
       "      <td>32</td>\n",
       "      <td>0.09375</td>\n",
       "    </tr>\n",
       "    <tr>\n",
       "      <th>101</th>\n",
       "      <td>suicide%20bomb</td>\n",
       "      <td>32</td>\n",
       "      <td>3</td>\n",
       "      <td>10.6667</td>\n",
       "    </tr>\n",
       "    <tr>\n",
       "      <th>107</th>\n",
       "      <td>rescuers</td>\n",
       "      <td>32</td>\n",
       "      <td>3</td>\n",
       "      <td>10.6667</td>\n",
       "    </tr>\n",
       "    <tr>\n",
       "      <th>116</th>\n",
       "      <td>smoke</td>\n",
       "      <td>3</td>\n",
       "      <td>31</td>\n",
       "      <td>0.0967742</td>\n",
       "    </tr>\n",
       "    <tr>\n",
       "      <th>118</th>\n",
       "      <td>collide</td>\n",
       "      <td>3</td>\n",
       "      <td>31</td>\n",
       "      <td>0.0967742</td>\n",
       "    </tr>\n",
       "    <tr>\n",
       "      <th>129</th>\n",
       "      <td>blazing</td>\n",
       "      <td>1</td>\n",
       "      <td>33</td>\n",
       "      <td>0.030303</td>\n",
       "    </tr>\n",
       "    <tr>\n",
       "      <th>133</th>\n",
       "      <td>nuclear%20disaster</td>\n",
       "      <td>31</td>\n",
       "      <td>3</td>\n",
       "      <td>10.3333</td>\n",
       "    </tr>\n",
       "    <tr>\n",
       "      <th>142</th>\n",
       "      <td>panicking</td>\n",
       "      <td>2</td>\n",
       "      <td>31</td>\n",
       "      <td>0.0645161</td>\n",
       "    </tr>\n",
       "    <tr>\n",
       "      <th>147</th>\n",
       "      <td>body%20bag</td>\n",
       "      <td>1</td>\n",
       "      <td>32</td>\n",
       "      <td>0.03125</td>\n",
       "    </tr>\n",
       "    <tr>\n",
       "      <th>151</th>\n",
       "      <td>suicide%20bombing</td>\n",
       "      <td>32</td>\n",
       "      <td>1</td>\n",
       "      <td>32</td>\n",
       "    </tr>\n",
       "    <tr>\n",
       "      <th>161</th>\n",
       "      <td>blew%20up</td>\n",
       "      <td>2</td>\n",
       "      <td>31</td>\n",
       "      <td>0.0645161</td>\n",
       "    </tr>\n",
       "    <tr>\n",
       "      <th>176</th>\n",
       "      <td>electrocute</td>\n",
       "      <td>1</td>\n",
       "      <td>31</td>\n",
       "      <td>0.0322581</td>\n",
       "    </tr>\n",
       "    <tr>\n",
       "      <th>179</th>\n",
       "      <td>blight</td>\n",
       "      <td>2</td>\n",
       "      <td>30</td>\n",
       "      <td>0.0666667</td>\n",
       "    </tr>\n",
       "    <tr>\n",
       "      <th>181</th>\n",
       "      <td>suicide%20bomber</td>\n",
       "      <td>30</td>\n",
       "      <td>1</td>\n",
       "      <td>30</td>\n",
       "    </tr>\n",
       "    <tr>\n",
       "      <th>199</th>\n",
       "      <td>bombing</td>\n",
       "      <td>27</td>\n",
       "      <td>2</td>\n",
       "      <td>13.5</td>\n",
       "    </tr>\n",
       "    <tr>\n",
       "      <th>213</th>\n",
       "      <td>epicentre</td>\n",
       "      <td>1</td>\n",
       "      <td>11</td>\n",
       "      <td>0.0909091</td>\n",
       "    </tr>\n",
       "  </tbody>\n",
       "</table>\n",
       "</div>"
      ],
      "text/plain": [
       "                keyword target_1 target_0 relacion_1_sobre_0\n",
       "5           body%20bags        1       40              0.025\n",
       "13             outbreak       39        1                 39\n",
       "19              wrecked        3       36          0.0833333\n",
       "28              explode        3       35          0.0857143\n",
       "33          oil%20spill       37        1                 37\n",
       "39              typhoon       37        1                 37\n",
       "54                 ruin        1       36          0.0277778\n",
       "59                panic        3       34          0.0882353\n",
       "60            screaming        2       34          0.0588235\n",
       "95          traumatised        2       33          0.0606061\n",
       "98               bloody        3       32            0.09375\n",
       "101      suicide%20bomb       32        3            10.6667\n",
       "107            rescuers       32        3            10.6667\n",
       "116               smoke        3       31          0.0967742\n",
       "118             collide        3       31          0.0967742\n",
       "129             blazing        1       33           0.030303\n",
       "133  nuclear%20disaster       31        3            10.3333\n",
       "142           panicking        2       31          0.0645161\n",
       "147          body%20bag        1       32            0.03125\n",
       "151   suicide%20bombing       32        1                 32\n",
       "161           blew%20up        2       31          0.0645161\n",
       "176         electrocute        1       31          0.0322581\n",
       "179              blight        2       30          0.0666667\n",
       "181    suicide%20bomber       30        1                 30\n",
       "199             bombing       27        2               13.5\n",
       "213           epicentre        1       11          0.0909091"
      ]
     },
     "execution_count": 24,
     "metadata": {},
     "output_type": "execute_result"
    }
   ],
   "source": [
    "df_keywords_casi_unicas = df_keywords_en_ambas.groupby(\"keyword\")\\\n",
    ".filter(lambda x: x[\"relacion_1_sobre_0\"].max()<0.1 or \\\n",
    "                  x[\"relacion_1_sobre_0\"].max()>10)\n",
    "\n",
    "#Keywords con una relación mayor o igual de 10 a 1 respecto de un target con otro\n",
    "df_keywords_casi_unicas"
   ]
  },
  {
   "cell_type": "code",
   "execution_count": 25,
   "metadata": {},
   "outputs": [
    {
     "data": {
      "image/png": "[encoded data removed]",
      "text/plain": [
       "<Figure size 720x1440 with 2 Axes>"
      ]
     },
     "metadata": {
      "needs_background": "light"
     },
     "output_type": "display_data"
    }
   ],
   "source": [
    "df_heat = df_keywords_casi_unicas.drop([\"target_1\", \"target_0\"], axis=1)\n",
    "df_heat[\"relacion_1_sobre_0\"] = df_heat[\"relacion_1_sobre_0\"].map(lambda x:float(x))\n",
    "df_heat = df_heat.set_index(\"keyword\")\n",
    "plt.figure(figsize=(10,20))\n",
    "plt.title(\"Relación de frecuencia de target 1 sobre 0 para keywords con relación de 10 a 1 o más\")\n",
    "sns.heatmap(df_heat[[\"relacion_1_sobre_0\"]], cmap=\"YlGnBu\")\n",
    "plt.show()"
   ]
  },
  {
   "cell_type": "markdown",
   "metadata": {},
   "source": [
    "Como se pudo ver, hay algunas keywords que son únicas para cada target, y su cantidad es suficientemente alta como para decir que si aparece otra vez, ya sabemos a que target pertenecerá. Por otro lado hay otras que aparecen en ambos pero la cantidad es mucho mayor en uno que en otro, por lo que tenemos una alta probabilidad de adivinar si aparece nuevamente."
   ]
  },
  {
   "cell_type": "markdown",
   "metadata": {},
   "source": [
    "## Location vs. Target\n",
    "\n",
    "En este análisis se intentará encontrar la relación entre las location y los target."
   ]
  },
  {
   "cell_type": "code",
   "execution_count": 26,
   "metadata": {},
   "outputs": [
    {
     "data": {
      "text/plain": [
       "5080"
      ]
     },
     "execution_count": 26,
     "metadata": {},
     "output_type": "execute_result"
    }
   ],
   "source": [
    "#Cantidad de filas del dataframe con location\n",
    "df[\"location\"].count()"
   ]
  },
  {
   "cell_type": "code",
   "execution_count": 27,
   "metadata": {},
   "outputs": [
    {
     "data": {
      "text/plain": [
       "66.72796532247472"
      ]
     },
     "execution_count": 27,
     "metadata": {},
     "output_type": "execute_result"
    }
   ],
   "source": [
    "#Porcentaje de filas con location respecto al total\n",
    "df[\"location\"].count()/len(df)*100"
   ]
  },
  {
   "cell_type": "code",
   "execution_count": 28,
   "metadata": {},
   "outputs": [
    {
     "data": {
      "text/plain": [
       "USA                     104\n",
       "New York                 71\n",
       "United States            50\n",
       "London                   45\n",
       "Canada                   29\n",
       "                       ... \n",
       "Washington, DC 20009      1\n",
       "Pontevedra, Galicia       1\n",
       "Beit El - Israel          1\n",
       "Around the world          1\n",
       "Anaheim                   1\n",
       "Name: location, Length: 3341, dtype: int64"
      ]
     },
     "execution_count": 28,
     "metadata": {},
     "output_type": "execute_result"
    }
   ],
   "source": [
    "#Cantidad de valores diferentes de location junto con su frecuencia\n",
    "df[\"location\"].value_counts()"
   ]
  },
  {
   "cell_type": "code",
   "execution_count": 29,
   "metadata": {},
   "outputs": [
    {
     "data": {
      "text/plain": [
       "USA                104\n",
       "New York            71\n",
       "United States       50\n",
       "London              45\n",
       "Canada              29\n",
       "Nigeria             28\n",
       "UK                  27\n",
       "Los Angeles, CA     26\n",
       "India               24\n",
       "Mumbai              22\n",
       "Washington, DC      21\n",
       "Kenya               20\n",
       "Worldwide           19\n",
       "Australia           18\n",
       "Chicago, IL         18\n",
       "California          17\n",
       "New York, NY        15\n",
       "California, USA     15\n",
       "Everywhere          15\n",
       "Florida             14\n",
       "Name: location, dtype: int64"
      ]
     },
     "execution_count": 29,
     "metadata": {},
     "output_type": "execute_result"
    }
   ],
   "source": [
    "#Los 20 valores más frecuentes de location\n",
    "df[\"location\"].value_counts().nlargest(20)"
   ]
  },
  {
   "cell_type": "code",
   "execution_count": 30,
   "metadata": {},
   "outputs": [
    {
     "data": {
      "text/plain": [
       "USA                            67\n",
       "United States                  27\n",
       "Nigeria                        22\n",
       "India                          20\n",
       "Mumbai                         19\n",
       "                               ..\n",
       "london                          1\n",
       "GO BLUE! HAIL YES!!             1\n",
       "Ile-Ife,Osun state, Nigeria     1\n",
       "ÌÏT: 6.4682,3.18287             1\n",
       "Anaheim                         1\n",
       "Name: location, Length: 1513, dtype: int64"
      ]
     },
     "execution_count": 30,
     "metadata": {},
     "output_type": "execute_result"
    }
   ],
   "source": [
    "#Cantidad de apariciones de cada location en el target 1\n",
    "k1 = df[df[\"target\"]==1][\"location\"].value_counts()\n",
    "k1"
   ]
  },
  {
   "cell_type": "code",
   "execution_count": 31,
   "metadata": {},
   "outputs": [
    {
     "data": {
      "image/png": "[encoded data removed]",
      "text/plain": [
       "<Figure size 1296x432 with 1 Axes>"
      ]
     },
     "metadata": {
      "needs_background": "light"
     },
     "output_type": "display_data"
    }
   ],
   "source": [
    "plt.figure(figsize=(18, 6))\n",
    "plt.bar(k1.iloc[0:10].index, k1.iloc[0:10])\n",
    "plt.title(\"Top 10 de locations para el target 1\")\n",
    "plt.xlabel(\"Location\")\n",
    "plt.ylabel(\"Frecuencia\")\n",
    "plt.show()"
   ]
  },
  {
   "cell_type": "code",
   "execution_count": 32,
   "metadata": {},
   "outputs": [
    {
     "data": {
      "text/plain": [
       "New York                          55\n",
       "USA                               37\n",
       "London                            29\n",
       "United States                     23\n",
       "Los Angeles, CA                   18\n",
       "                                  ..\n",
       "North West London                  1\n",
       "London / Birmingham                1\n",
       "St.Cloud, MN                       1\n",
       "Someday I'll live in England.      1\n",
       "|-/                                1\n",
       "Name: location, Length: 2142, dtype: int64"
      ]
     },
     "execution_count": 32,
     "metadata": {},
     "output_type": "execute_result"
    }
   ],
   "source": [
    "#Cantidad de apariciones de cada location en el target 0\n",
    "k0 = df[df[\"target\"]==0][\"location\"].value_counts()\n",
    "k0"
   ]
  },
  {
   "cell_type": "code",
   "execution_count": 33,
   "metadata": {},
   "outputs": [
    {
     "data": {
      "image/png": "[encoded data removed]",
      "text/plain": [
       "<Figure size 1296x432 with 1 Axes>"
      ]
     },
     "metadata": {
      "needs_background": "light"
     },
     "output_type": "display_data"
    }
   ],
   "source": [
    "plt.figure(figsize=(18, 6))\n",
    "plt.bar(k0.iloc[0:10].index, k0.iloc[0:10], color=\"green\")\n",
    "plt.title(\"Top 10 de locations para el target 0\")\n",
    "plt.xlabel(\"Location\")\n",
    "plt.ylabel(\"Frecuencia\")\n",
    "plt.show()"
   ]
  },
  {
   "cell_type": "code",
   "execution_count": 34,
   "metadata": {},
   "outputs": [],
   "source": [
    "k1_unique = pd.Series(dtype='uint8')\n",
    "for k in k1.index:\n",
    "    if k not in k0:\n",
    "        k1_unique = k1_unique.append(pd.Series(index=(k,), data=k1[k]))"
   ]
  },
  {
   "cell_type": "code",
   "execution_count": 35,
   "metadata": {},
   "outputs": [
    {
     "data": {
      "text/plain": [
       "Nairobi-KENYA                  4\n",
       "Midwest                        4\n",
       "Portland, Oregon               4\n",
       "Sacramento                     4\n",
       "Bend, Oregon                   4\n",
       "                              ..\n",
       "Traverse City, MI              1\n",
       "GO BLUE! HAIL YES!!            1\n",
       "Ile-Ife,Osun state, Nigeria    1\n",
       "ÌÏT: 6.4682,3.18287            1\n",
       "Anaheim                        1\n",
       "Length: 1199, dtype: int64"
      ]
     },
     "execution_count": 35,
     "metadata": {},
     "output_type": "execute_result"
    }
   ],
   "source": [
    "#Locations que solo aparecen en el target 1\n",
    "k1_unique"
   ]
  },
  {
   "cell_type": "code",
   "execution_count": 36,
   "metadata": {},
   "outputs": [],
   "source": [
    "k0_unique = pd.Series(dtype='uint8')\n",
    "for k in k0.index:\n",
    "    if k not in k1:\n",
    "        k0_unique = k0_unique.append(pd.Series(index=(k,), data=k0[k]))"
   ]
  },
  {
   "cell_type": "code",
   "execution_count": 37,
   "metadata": {},
   "outputs": [
    {
     "data": {
      "text/plain": [
       "304                               9\n",
       "Pennsylvania, USA                 7\n",
       "Morioh, Japan                     6\n",
       "Indiana                           5\n",
       "Wisconsin                         5\n",
       "                                 ..\n",
       "North West London                 1\n",
       "London / Birmingham               1\n",
       "St.Cloud, MN                      1\n",
       "Someday I'll live in England.     1\n",
       "|-/                               1\n",
       "Length: 1828, dtype: int64"
      ]
     },
     "execution_count": 37,
     "metadata": {},
     "output_type": "execute_result"
    }
   ],
   "source": [
    "#Locations que solo aparecen en el target 0\n",
    "k0_unique"
   ]
  },
  {
   "cell_type": "markdown",
   "metadata": {},
   "source": [
    "Al ver estos datos, nos damos cuenta que el valor que aparece en location no tiene un criterio bien especificado, ya que por ejemplo tenemos valores de Nueva York como clave en minúscula y también en mayúscula y en otros aparece como ciudad, lo que no sirve para identificar si los anteriores se refieren al estado o a la ciudad y por otro lado hay claves con el valor del país, el cual incluye a muchos lugares como el mencionado, y muchos otros valores que solo aparecen una vez y no se pueden identificar como \"Loading...\" u otros como \"Worldwide\" no sirven para hacer un análisis sobre este campo y por lo tanto se limita mucho las cosas para lo que se puede usar."
   ]
  },
  {
   "cell_type": "code",
   "execution_count": null,
   "metadata": {},
   "outputs": [],
   "source": []
  }
 ],
 "metadata": {
  "kernelspec": {
   "display_name": "Python 3",
   "language": "python",
   "name": "python3"
  },
  "language_info": {
   "codemirror_mode": {
    "name": "ipython",
    "version": 3
   },
   "file_extension": ".py",
   "mimetype": "text/x-python",
   "name": "python",
   "nbconvert_exporter": "python",
   "pygments_lexer": "ipython3",
   "version": "3.7.5"
  }
 },
 "nbformat": 4,
 "nbformat_minor": 4
}
