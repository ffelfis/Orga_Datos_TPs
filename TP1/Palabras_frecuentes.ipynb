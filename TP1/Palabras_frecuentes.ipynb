{
 "cells": [
  {
   "cell_type": "markdown",
   "metadata": {},
   "source": [
    "# Palabras frecuentes"
   ]
  },
  {
   "cell_type": "code",
   "execution_count": 1,
   "metadata": {},
   "outputs": [],
   "source": [
    "import pandas as pd\n",
    "from collections import Counter"
   ]
  },
  {
   "cell_type": "code",
   "execution_count": 2,
   "metadata": {},
   "outputs": [],
   "source": [
    "df = pd.read_csv(\"train.csv\")"
   ]
  },
  {
   "cell_type": "markdown",
   "metadata": {},
   "source": [
    "A continuación se verán cuáles son las palabras más repetidas para cada target y si podemos obtener conclusiones de ello."
   ]
  },
  {
   "cell_type": "code",
   "execution_count": 3,
   "metadata": {},
   "outputs": [],
   "source": [
    "df[\"text\"] = df[\"text\"].transform(lambda x: x.lower().split())"
   ]
  },
  {
   "cell_type": "code",
   "execution_count": 4,
   "metadata": {},
   "outputs": [],
   "source": [
    "s = pd.Series()\n",
    "for x in df[\"text\"]:\n",
    "    s = s.append(pd.Series(x))"
   ]
  },
  {
   "cell_type": "code",
   "execution_count": 5,
   "metadata": {},
   "outputs": [
    {
     "data": {
      "text/plain": [
       "[('the', 3207),\n",
       " ('a', 2135),\n",
       " ('in', 1949),\n",
       " ('to', 1934),\n",
       " ('of', 1814),\n",
       " ('and', 1405),\n",
       " ('i', 1336),\n",
       " ('is', 930),\n",
       " ('for', 880),\n",
       " ('on', 834),\n",
       " ('-', 763),\n",
       " ('you', 746),\n",
       " ('my', 671),\n",
       " ('with', 562),\n",
       " ('that', 538),\n",
       " ('at', 532),\n",
       " ('by', 514),\n",
       " ('it', 504),\n",
       " ('this', 463),\n",
       " ('from', 420),\n",
       " ('are', 397),\n",
       " ('be', 396),\n",
       " ('was', 381),\n",
       " ('have', 380),\n",
       " ('like', 341),\n",
       " ('as', 327),\n",
       " ('just', 313),\n",
       " ('but', 311),\n",
       " ('so', 310),\n",
       " ('&amp;', 295),\n",
       " ('up', 292),\n",
       " ('not', 288),\n",
       " ('your', 287),\n",
       " ('me', 275),\n",
       " ('after', 256),\n",
       " ('will', 254),\n",
       " ('has', 247),\n",
       " ('an', 243),\n",
       " ('all', 241),\n",
       " ('no', 239),\n",
       " ('out', 239),\n",
       " (\"i'm\", 237),\n",
       " ('when', 237),\n",
       " ('if', 234),\n",
       " ('get', 227),\n",
       " ('we', 223),\n",
       " ('new', 215),\n",
       " ('??', 214),\n",
       " ('via', 214),\n",
       " ('about', 213)]"
      ]
     },
     "execution_count": 5,
     "metadata": {},
     "output_type": "execute_result"
    }
   ],
   "source": [
    "Counter(s).most_common(50) #50 palabras más comunes"
   ]
  },
  {
   "cell_type": "code",
   "execution_count": 6,
   "metadata": {},
   "outputs": [],
   "source": [
    "s1 = pd.Series()\n",
    "for x in df[df[\"target\"]==1][\"text\"]:\n",
    "    s1 = s1.append(pd.Series(x))"
   ]
  },
  {
   "cell_type": "code",
   "execution_count": 7,
   "metadata": {},
   "outputs": [
    {
     "data": {
      "text/plain": [
       "[('the', 1330),\n",
       " ('in', 1144),\n",
       " ('of', 919),\n",
       " ('a', 897),\n",
       " ('to', 753),\n",
       " ('and', 494),\n",
       " ('on', 410),\n",
       " ('for', 394),\n",
       " ('-', 389),\n",
       " ('is', 344),\n",
       " ('at', 303),\n",
       " ('i', 284),\n",
       " ('by', 274),\n",
       " ('from', 243),\n",
       " ('with', 188),\n",
       " ('that', 181),\n",
       " ('after', 181),\n",
       " ('this', 177),\n",
       " ('as', 167),\n",
       " ('are', 166),\n",
       " ('was', 165),\n",
       " ('it', 163),\n",
       " ('fire', 151),\n",
       " ('have', 140),\n",
       " ('my', 130),\n",
       " ('over', 123),\n",
       " ('you', 121),\n",
       " ('more', 121),\n",
       " ('via', 117),\n",
       " ('up', 114),\n",
       " ('an', 113),\n",
       " ('be', 112),\n",
       " ('...', 106),\n",
       " ('&amp;', 105),\n",
       " ('has', 104),\n",
       " ('suicide', 103),\n",
       " ('who', 100),\n",
       " ('no', 99),\n",
       " ('disaster', 97),\n",
       " ('but', 95),\n",
       " ('police', 94),\n",
       " ('people', 93),\n",
       " ('been', 93),\n",
       " ('when', 93),\n",
       " ('killed', 92),\n",
       " ('like', 91),\n",
       " ('not', 90),\n",
       " ('california', 88),\n",
       " ('than', 85),\n",
       " ('just', 84)]"
      ]
     },
     "execution_count": 7,
     "metadata": {},
     "output_type": "execute_result"
    }
   ],
   "source": [
    "Counter(s1).most_common(50) #50 palabras más comunes del target 1"
   ]
  },
  {
   "cell_type": "code",
   "execution_count": 8,
   "metadata": {},
   "outputs": [],
   "source": [
    "s0 = pd.Series()\n",
    "for x in df[df[\"target\"]==0][\"text\"]:\n",
    "    s0 = s0.append(pd.Series(x))"
   ]
  },
  {
   "cell_type": "code",
   "execution_count": 9,
   "metadata": {},
   "outputs": [
    {
     "data": {
      "text/plain": [
       "[('the', 1877),\n",
       " ('a', 1238),\n",
       " ('to', 1181),\n",
       " ('i', 1052),\n",
       " ('and', 911),\n",
       " ('of', 895),\n",
       " ('in', 805),\n",
       " ('you', 625),\n",
       " ('is', 586),\n",
       " ('my', 541),\n",
       " ('for', 486),\n",
       " ('on', 424),\n",
       " ('with', 374),\n",
       " ('-', 374),\n",
       " ('that', 357),\n",
       " ('it', 341),\n",
       " ('this', 286),\n",
       " ('be', 284),\n",
       " ('like', 250),\n",
       " ('have', 240),\n",
       " ('by', 240),\n",
       " ('so', 235),\n",
       " ('are', 231),\n",
       " ('at', 229),\n",
       " ('just', 229),\n",
       " ('your', 225),\n",
       " ('me', 221),\n",
       " ('was', 216),\n",
       " ('but', 216),\n",
       " ('not', 198),\n",
       " (\"i'm\", 195),\n",
       " ('&amp;', 190),\n",
       " ('??', 183),\n",
       " ('out', 179),\n",
       " ('up', 178),\n",
       " ('will', 177),\n",
       " ('if', 177),\n",
       " ('from', 177),\n",
       " ('all', 173),\n",
       " ('new', 163),\n",
       " ('get', 161),\n",
       " ('as', 160),\n",
       " ('or', 155),\n",
       " ('we', 148),\n",
       " ('when', 144),\n",
       " ('has', 143),\n",
       " ('he', 143),\n",
       " ('no', 140),\n",
       " ('about', 139),\n",
       " ('they', 133)]"
      ]
     },
     "execution_count": 9,
     "metadata": {},
     "output_type": "execute_result"
    }
   ],
   "source": [
    "Counter(s0).most_common(50) #50 palabras más comunes del target 0"
   ]
  },
  {
   "cell_type": "markdown",
   "metadata": {},
   "source": [
    "Como vemos, las palabras más repetidas son las \"stopwords\", lo cual es lógico, pero también aparecen otras expresiones que pueden destacarse en el target 1 como \"fire\", \"suicide\", \"disaster\", \"police\" y estas aparecen muchas veces y están entre las 50 más comunes de este target, pero no así para las 50 primeras del target 0, que se parece más al combinado total. "
   ]
  }
 ],
 "metadata": {
  "kernelspec": {
   "display_name": "Python 3",
   "language": "python",
   "name": "python3"
  },
  "language_info": {
   "codemirror_mode": {
    "name": "ipython",
    "version": 3
   },
   "file_extension": ".py",
   "mimetype": "text/x-python",
   "name": "python",
   "nbconvert_exporter": "python",
   "pygments_lexer": "ipython3",
   "version": "3.7.1"
  }
 },
 "nbformat": 4,
 "nbformat_minor": 2
}
