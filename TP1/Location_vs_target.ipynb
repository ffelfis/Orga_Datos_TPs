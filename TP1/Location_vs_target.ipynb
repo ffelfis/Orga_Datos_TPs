{
 "cells": [
  {
   "cell_type": "markdown",
   "metadata": {},
   "source": [
    "# Location vs. Target"
   ]
  },
  {
   "cell_type": "code",
   "execution_count": 1,
   "metadata": {},
   "outputs": [],
   "source": [
    "import pandas as pd\n",
    "import matplotlib.pyplot as plt"
   ]
  },
  {
   "cell_type": "code",
   "execution_count": 2,
   "metadata": {},
   "outputs": [],
   "source": [
    "df = pd.read_csv(\"train.csv\")"
   ]
  },
  {
   "cell_type": "markdown",
   "metadata": {},
   "source": [
    "En este análisis se intentará encontrar la relación entre las location y los target."
   ]
  },
  {
   "cell_type": "code",
   "execution_count": 3,
   "metadata": {},
   "outputs": [
    {
     "data": {
      "text/plain": [
       "7613"
      ]
     },
     "execution_count": 3,
     "metadata": {},
     "output_type": "execute_result"
    }
   ],
   "source": [
    "len(df) #Cantidad de filas del dataframe"
   ]
  },
  {
   "cell_type": "code",
   "execution_count": 4,
   "metadata": {},
   "outputs": [
    {
     "data": {
      "text/plain": [
       "5080"
      ]
     },
     "execution_count": 4,
     "metadata": {},
     "output_type": "execute_result"
    }
   ],
   "source": [
    "df[\"location\"].count() #Cantidad de filas del dataframe con location"
   ]
  },
  {
   "cell_type": "code",
   "execution_count": 5,
   "metadata": {},
   "outputs": [
    {
     "data": {
      "text/plain": [
       "66.72796532247472"
      ]
     },
     "execution_count": 5,
     "metadata": {},
     "output_type": "execute_result"
    }
   ],
   "source": [
    "df[\"location\"].count()/len(df)*100 #Porcentaje de filas con location respecto al total"
   ]
  },
  {
   "cell_type": "code",
   "execution_count": 6,
   "metadata": {},
   "outputs": [
    {
     "data": {
      "text/plain": [
       "USA               104\n",
       "New York           71\n",
       "United States      50\n",
       "London             45\n",
       "Canada             29\n",
       "                 ... \n",
       "La Puente, CA       1\n",
       "STL ?NOLA           1\n",
       "music.              1\n",
       "Espoo, Finland      1\n",
       "ca(NADA)            1\n",
       "Name: location, Length: 3341, dtype: int64"
      ]
     },
     "execution_count": 6,
     "metadata": {},
     "output_type": "execute_result"
    }
   ],
   "source": [
    "df[\"location\"].value_counts() #Cantidad de valores diferentes de location junto con su frecuencia"
   ]
  },
  {
   "cell_type": "code",
   "execution_count": 7,
   "metadata": {},
   "outputs": [
    {
     "data": {
      "text/plain": [
       "USA                104\n",
       "New York            71\n",
       "United States       50\n",
       "London              45\n",
       "Canada              29\n",
       "Nigeria             28\n",
       "UK                  27\n",
       "Los Angeles, CA     26\n",
       "India               24\n",
       "Mumbai              22\n",
       "Washington, DC      21\n",
       "Kenya               20\n",
       "Worldwide           19\n",
       "Chicago, IL         18\n",
       "Australia           18\n",
       "California          17\n",
       "California, USA     15\n",
       "New York, NY        15\n",
       "Everywhere          15\n",
       "Florida             14\n",
       "Name: location, dtype: int64"
      ]
     },
     "execution_count": 7,
     "metadata": {},
     "output_type": "execute_result"
    }
   ],
   "source": [
    "df[\"location\"].value_counts().nlargest(20) #Los 20 valores más frecuentes de location"
   ]
  },
  {
   "cell_type": "code",
   "execution_count": 8,
   "metadata": {},
   "outputs": [
    {
     "data": {
      "text/plain": [
       "USA                           67\n",
       "United States                 27\n",
       "Nigeria                       22\n",
       "India                         20\n",
       "Mumbai                        19\n",
       "                              ..\n",
       "In my own world!!!             1\n",
       "Va Beach, Virginia             1\n",
       "Cumming, GA                    1\n",
       "ALWAYS DYING NEVER RESTING     1\n",
       "CAMARILLO, CA                  1\n",
       "Name: location, Length: 1513, dtype: int64"
      ]
     },
     "execution_count": 8,
     "metadata": {},
     "output_type": "execute_result"
    }
   ],
   "source": [
    "k1 = df[df[\"target\"]==1][\"location\"].value_counts() #Cantidad de apariciones de cada location en el target 1\n",
    "k1"
   ]
  },
  {
   "cell_type": "code",
   "execution_count": 9,
   "metadata": {},
   "outputs": [
    {
     "data": {
      "image/png": "[encoded data removed]",
      "text/plain": [
       "<Figure size 1296x432 with 1 Axes>"
      ]
     },
     "metadata": {
      "needs_background": "light"
     },
     "output_type": "display_data"
    }
   ],
   "source": [
    "plt.figure(figsize=(18, 6))\n",
    "plt.bar(k1.iloc[0:10].index, k1.iloc[0:10])\n",
    "plt.title(\"Top 10 de locations para el target 1\")\n",
    "plt.xlabel(\"Location\")\n",
    "plt.ylabel(\"Frecuencia\")\n",
    "plt.show()"
   ]
  },
  {
   "cell_type": "code",
   "execution_count": 10,
   "metadata": {},
   "outputs": [
    {
     "data": {
      "text/plain": [
       "New York                     55\n",
       "USA                          37\n",
       "London                       29\n",
       "United States                23\n",
       "Los Angeles, CA              18\n",
       "                             ..\n",
       "God.Family.Money              1\n",
       "marvel | books | hp | tmr     1\n",
       "Cuttack, Orissa               1\n",
       "My old New England home       1\n",
       "International                 1\n",
       "Name: location, Length: 2142, dtype: int64"
      ]
     },
     "execution_count": 10,
     "metadata": {},
     "output_type": "execute_result"
    }
   ],
   "source": [
    "k0 = df[df[\"target\"]==0][\"location\"].value_counts() #Cantidad de apariciones de cada location en el target 0\n",
    "k0"
   ]
  },
  {
   "cell_type": "code",
   "execution_count": 11,
   "metadata": {},
   "outputs": [
    {
     "data": {
      "image/png": "[encoded data removed]",
      "text/plain": [
       "<Figure size 1296x432 with 1 Axes>"
      ]
     },
     "metadata": {
      "needs_background": "light"
     },
     "output_type": "display_data"
    }
   ],
   "source": [
    "plt.figure(figsize=(18, 6))\n",
    "plt.bar(k0.iloc[0:10].index, k0.iloc[0:10], color=\"green\")\n",
    "plt.title(\"Top 10 de locations para el target 0\")\n",
    "plt.xlabel(\"Location\")\n",
    "plt.ylabel(\"Frecuencia\")\n",
    "plt.show()"
   ]
  },
  {
   "cell_type": "code",
   "execution_count": 12,
   "metadata": {},
   "outputs": [],
   "source": [
    "k1_unique = pd.Series()\n",
    "for k in k1.index:\n",
    "    if k not in k0:\n",
    "        k1_unique = k1_unique.append(pd.Series(index=(k,), data=k1[k]))"
   ]
  },
  {
   "cell_type": "code",
   "execution_count": 13,
   "metadata": {},
   "outputs": [
    {
     "data": {
      "text/plain": [
       "Sacramento                     4\n",
       "Midwest                        4\n",
       "Jakarta/Kuala Lumpur/S'pore    4\n",
       "Nigeria                        4\n",
       "Portland, Oregon               4\n",
       "                              ..\n",
       "Alexandria, Egypt.             1\n",
       "In my own world!!!             1\n",
       "Va Beach, Virginia             1\n",
       "ALWAYS DYING NEVER RESTING     1\n",
       "CAMARILLO, CA                  1\n",
       "Length: 1199, dtype: int64"
      ]
     },
     "execution_count": 13,
     "metadata": {},
     "output_type": "execute_result"
    }
   ],
   "source": [
    "k1_unique #Locations que solo aparecen en el target 1"
   ]
  },
  {
   "cell_type": "code",
   "execution_count": 14,
   "metadata": {},
   "outputs": [],
   "source": [
    "k0_unique = pd.Series()\n",
    "for k in k0.index:\n",
    "    if k not in k1:\n",
    "        k0_unique = k0_unique.append(pd.Series(index=(k,), data=k0[k]))"
   ]
  },
  {
   "cell_type": "code",
   "execution_count": 15,
   "metadata": {},
   "outputs": [
    {
     "data": {
      "text/plain": [
       "304                          9\n",
       "Pennsylvania, USA            7\n",
       "Morioh, Japan                6\n",
       "Leeds, England               5\n",
       "Wisconsin                    5\n",
       "                            ..\n",
       "God.Family.Money             1\n",
       "marvel | books | hp | tmr    1\n",
       "Cuttack, Orissa              1\n",
       "My old New England home      1\n",
       "International                1\n",
       "Length: 1828, dtype: int64"
      ]
     },
     "execution_count": 15,
     "metadata": {},
     "output_type": "execute_result"
    }
   ],
   "source": [
    "k0_unique #Locations que solo aparecen en el target 0"
   ]
  },
  {
   "cell_type": "markdown",
   "metadata": {},
   "source": [
    "Al ver estos datos, nos damos cuenta que el valor que aparece en location no tiene un criterio bien especificado, ya que por ejemplo tenemos valores de Nueva York como clave en minúscula y también en mayúscula y en otros aparece como ciudad, lo que no sirve para identificar si los anteriores se refieren al estado o a la ciudad y por otro lado hay claves con el valor del país, el cual incluye a muchos lugares como el mencionado, y muchos otros valores que solo aparecen una vez y no se pueden identificar como \"Loading...\" u otros como \"Worldwide\" no sirven para hacer un análisis sobre este campo y por lo tanto se limita mucho las cosas para lo que se puede usar."
   ]
  }
 ],
 "metadata": {
  "kernelspec": {
   "display_name": "Python 3",
   "language": "python",
   "name": "python3"
  },
  "language_info": {
   "codemirror_mode": {
    "name": "ipython",
    "version": 3
   },
   "file_extension": ".py",
   "mimetype": "text/x-python",
   "name": "python",
   "nbconvert_exporter": "python",
   "pygments_lexer": "ipython3",
   "version": "3.7.1"
  }
 },
 "nbformat": 4,
 "nbformat_minor": 2
}
