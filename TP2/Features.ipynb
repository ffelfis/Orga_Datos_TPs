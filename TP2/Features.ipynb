{
 "cells": [
  {
   "cell_type": "markdown",
   "metadata": {},
   "source": [
    "# Features "
   ]
  },
  {
   "cell_type": "markdown",
   "metadata": {},
   "source": [
    "En este notebook se irán generando distintos features que luego deberán ser probados."
   ]
  },
  {
   "cell_type": "code",
   "execution_count": 34,
   "metadata": {},
   "outputs": [],
   "source": [
    "import pandas as pd\n",
    "import numpy as np\n",
    "import re\n",
    "import string\n",
    "#from sklearn.preprocessing import OneHotEncoder"
   ]
  },
  {
   "cell_type": "code",
   "execution_count": 2,
   "metadata": {},
   "outputs": [],
   "source": [
    "df = pd.read_csv('train.csv')"
   ]
  },
  {
   "cell_type": "code",
   "execution_count": 3,
   "metadata": {},
   "outputs": [],
   "source": [
    "df['id'] = df['id'].astype(np.uint16)\n",
    "df['target'] = df['target'].astype(np.uint8)\n",
    "#df = df.drop(labels='location', axis=1)\n",
    "df = df.fillna(\"\")"
   ]
  },
  {
   "cell_type": "markdown",
   "metadata": {},
   "source": [
    "## Features a partir de la keyword "
   ]
  },
  {
   "cell_type": "markdown",
   "metadata": {},
   "source": [
    "#### One Hot Encoding de las Keywords "
   ]
  },
  {
   "cell_type": "code",
   "execution_count": 35,
   "metadata": {},
   "outputs": [],
   "source": [
    "#ohe_keywords = OneHotEncoder(sparse=False, dtype=np.uint8, handle_unknown=\"ignore\")"
   ]
  },
  {
   "cell_type": "code",
   "execution_count": null,
   "metadata": {},
   "outputs": [],
   "source": [
    "#ohe_keywords"
   ]
  },
  {
   "cell_type": "markdown",
   "metadata": {},
   "source": [
    "#### Count Encoding de las keywords "
   ]
  },
  {
   "cell_type": "code",
   "execution_count": 4,
   "metadata": {},
   "outputs": [],
   "source": [
    "keywords = df[\"keyword\"].value_counts()"
   ]
  },
  {
   "cell_type": "code",
   "execution_count": 14,
   "metadata": {},
   "outputs": [],
   "source": [
    "df[\"keyword_count\"] = df[\"keyword\"].transform(lambda x: keywords[x])"
   ]
  },
  {
   "cell_type": "markdown",
   "metadata": {},
   "source": [
    "Versión normalizada:"
   ]
  },
  {
   "cell_type": "code",
   "execution_count": 15,
   "metadata": {},
   "outputs": [],
   "source": [
    "df[\"keyword_count_norm\"] = df[\"keyword_count\"]/keywords.max()"
   ]
  },
  {
   "cell_type": "markdown",
   "metadata": {},
   "source": [
    "#### Mean Encoding de las keywords "
   ]
  },
  {
   "cell_type": "code",
   "execution_count": 17,
   "metadata": {},
   "outputs": [],
   "source": [
    "keywords_target = df.groupby([\"keyword\", \"target\"]).count()[\"id\"]"
   ]
  },
  {
   "cell_type": "code",
   "execution_count": 21,
   "metadata": {},
   "outputs": [],
   "source": [
    "df[\"keyword_mean\"] = df.agg(lambda x: keywords_target[x[\"keyword\"]][x[\"target\"]], axis=1)"
   ]
  },
  {
   "cell_type": "markdown",
   "metadata": {},
   "source": [
    "## Features a partir del tweet "
   ]
  },
  {
   "cell_type": "markdown",
   "metadata": {},
   "source": [
    "Feature que indica si en el tweet hay algún número o no:"
   ]
  },
  {
   "cell_type": "code",
   "execution_count": 30,
   "metadata": {},
   "outputs": [],
   "source": [
    "def hay_nros(x):\n",
    "    x = x.split()\n",
    "    for i in x:\n",
    "        i = i.replace(',','')\n",
    "        try:\n",
    "            float(i)\n",
    "            return 1\n",
    "        except ValueError:\n",
    "            continue\n",
    "    return 0 \n",
    "\n",
    "df[\"hay_nros\"] = df[\"text\"].transform(hay_nros)"
   ]
  },
  {
   "cell_type": "markdown",
   "metadata": {},
   "source": [
    "Feature que indica la longitud del tweet:"
   ]
  },
  {
   "cell_type": "code",
   "execution_count": 32,
   "metadata": {},
   "outputs": [],
   "source": [
    "df[\"long\"] = df[\"text\"].transform(lambda x: len(x))"
   ]
  },
  {
   "cell_type": "markdown",
   "metadata": {},
   "source": [
    "#### Feature Hashing de 101 columnas para el tweet con modelo BOW "
   ]
  },
  {
   "cell_type": "code",
   "execution_count": null,
   "metadata": {},
   "outputs": [],
   "source": [
    "# Función para limpiar el texto de los mensajes.\n",
    "def clean_text(text):\n",
    "    # Se convierte el texto a minúsculas.\n",
    "    text = text.lower()\n",
    "    # Se quitan los '#'.\n",
    "    text = re.sub('#', '', text)\n",
    "    # Se quitan los números.\n",
    "    text = re.sub('\\w*\\d\\w*', '', text)\n",
    "    # Se quitan los saltos de línea.\n",
    "    text = re.sub('\\n', ' ', text)\n",
    "    # Se eliminan las referencias a usuarios '@user'.\n",
    "    text = re.sub('@\\S*', '', text)\n",
    "    # Se quitan vínculos URL.\n",
    "    text = re.sub('https{0,1}:\\/\\/\\S*', ' ', text)\n",
    "    # Se simplifican múltiples espacios a uno solo.\n",
    "    text = re.sub('(\\ ){2,7}', ' ',text)\n",
    "    # Se quitan los signos de puntuación.\n",
    "    text = re.sub('[%s]' % re.escape(string.punctuation), '', text)\n",
    "    return text"
   ]
  }
 ],
 "metadata": {
  "kernelspec": {
   "display_name": "Python 3",
   "language": "python",
   "name": "python3"
  },
  "language_info": {
   "codemirror_mode": {
    "name": "ipython",
    "version": 3
   },
   "file_extension": ".py",
   "mimetype": "text/x-python",
   "name": "python",
   "nbconvert_exporter": "python",
   "pygments_lexer": "ipython3",
   "version": "3.7.1"
  }
 },
 "nbformat": 4,
 "nbformat_minor": 2
}
