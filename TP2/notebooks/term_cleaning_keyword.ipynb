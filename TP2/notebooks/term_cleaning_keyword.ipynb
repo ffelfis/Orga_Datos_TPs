{
 "cells": [
  {
   "cell_type": "code",
   "execution_count": 1,
   "metadata": {},
   "outputs": [],
   "source": [
    "import pandas as pd\n",
    "import numpy as np\n",
    "import re\n",
    "import string\n",
    "\n",
    "from utilidades.TextCleaning import clean_text\n",
    "from utilidades.TextCorrecting import correct_text"
   ]
  },
  {
   "cell_type": "code",
   "execution_count": 3,
   "metadata": {},
   "outputs": [],
   "source": [
    "# Selección del largo de las celdas del DataFrame\n",
    "strech = True\n",
    "\n",
    "if strech:\n",
    "    pd.set_option('max_colwidth', 150)\n",
    "else:\n",
    "    pd.reset_option('max_colwidth')"
   ]
  },
  {
   "cell_type": "code",
   "execution_count": 4,
   "metadata": {},
   "outputs": [
    {
     "data": {
      "text/html": [
       "<div>\n",
       "<style scoped>\n",
       "    .dataframe tbody tr th:only-of-type {\n",
       "        vertical-align: middle;\n",
       "    }\n",
       "\n",
       "    .dataframe tbody tr th {\n",
       "        vertical-align: top;\n",
       "    }\n",
       "\n",
       "    .dataframe thead th {\n",
       "        text-align: right;\n",
       "    }\n",
       "</style>\n",
       "<table border=\"1\" class=\"dataframe\">\n",
       "  <thead>\n",
       "    <tr style=\"text-align: right;\">\n",
       "      <th></th>\n",
       "      <th>id</th>\n",
       "      <th>keyword</th>\n",
       "      <th>location</th>\n",
       "      <th>text</th>\n",
       "      <th>target</th>\n",
       "    </tr>\n",
       "  </thead>\n",
       "  <tbody>\n",
       "    <tr>\n",
       "      <th>2644</th>\n",
       "      <td>3796</td>\n",
       "      <td>destruction</td>\n",
       "      <td>NaN</td>\n",
       "      <td>so you have a new weapon that can cause unimaginable destruction</td>\n",
       "      <td>1</td>\n",
       "    </tr>\n",
       "    <tr>\n",
       "      <th>2227</th>\n",
       "      <td>3185</td>\n",
       "      <td>deluge</td>\n",
       "      <td>NaN</td>\n",
       "      <td>the camp things i do for gishwhes just got soaked in a deluge going for pads and tampons the</td>\n",
       "      <td>0</td>\n",
       "    </tr>\n",
       "    <tr>\n",
       "      <th>5448</th>\n",
       "      <td>7769</td>\n",
       "      <td>police</td>\n",
       "      <td>UK</td>\n",
       "      <td>dt rt the col police can catch a pickpocket in liverpool street</td>\n",
       "      <td>1</td>\n",
       "    </tr>\n",
       "    <tr>\n",
       "      <th>132</th>\n",
       "      <td>191</td>\n",
       "      <td>aftershock</td>\n",
       "      <td>NaN</td>\n",
       "      <td>aftershocks back to school kick off was great i want to thank everyone for making it possible what a great night</td>\n",
       "      <td>0</td>\n",
       "    </tr>\n",
       "    <tr>\n",
       "      <th>6845</th>\n",
       "      <td>9810</td>\n",
       "      <td>trauma</td>\n",
       "      <td>Montgomery County, MD</td>\n",
       "      <td>in response to trauma children of addicts develop a defensive self one that decreases vulnerability</td>\n",
       "      <td>0</td>\n",
       "    </tr>\n",
       "    <tr>\n",
       "      <th>5559</th>\n",
       "      <td>7934</td>\n",
       "      <td>rainstorm</td>\n",
       "      <td>NaN</td>\n",
       "      <td>you look like you got caught in a rainstorm this is amazing and disgusting at the same time</td>\n",
       "      <td>0</td>\n",
       "    </tr>\n",
       "    <tr>\n",
       "      <th>1765</th>\n",
       "      <td>2538</td>\n",
       "      <td>collision</td>\n",
       "      <td>NaN</td>\n",
       "      <td>my favorite lady came to our volunteer meeting hopefully joining her youth collision and i am excite</td>\n",
       "      <td>1</td>\n",
       "    </tr>\n",
       "    <tr>\n",
       "      <th>1817</th>\n",
       "      <td>2611</td>\n",
       "      <td>crashed</td>\n",
       "      <td>NaN</td>\n",
       "      <td>ux fail of em people want to insert and remove quickly like a gas pump stripe reader person told me it crashed the pos</td>\n",
       "      <td>1</td>\n",
       "    </tr>\n",
       "    <tr>\n",
       "      <th>6810</th>\n",
       "      <td>9756</td>\n",
       "      <td>tragedy</td>\n",
       "      <td>Los Angeles, CA</td>\n",
       "      <td>cant find my ariana grande shirt this is a fucking tragedy</td>\n",
       "      <td>0</td>\n",
       "    </tr>\n",
       "    <tr>\n",
       "      <th>4398</th>\n",
       "      <td>6254</td>\n",
       "      <td>hijacking</td>\n",
       "      <td>Athens,Greece</td>\n",
       "      <td>the murderous story of americans first hijacking</td>\n",
       "      <td>1</td>\n",
       "    </tr>\n",
       "  </tbody>\n",
       "</table>\n",
       "</div>"
      ],
      "text/plain": [
       "        id      keyword               location  \\\n",
       "2644  3796  destruction                    NaN   \n",
       "2227  3185       deluge                    NaN   \n",
       "5448  7769       police                     UK   \n",
       "132    191   aftershock                    NaN   \n",
       "6845  9810       trauma  Montgomery County, MD   \n",
       "5559  7934    rainstorm                    NaN   \n",
       "1765  2538    collision                    NaN   \n",
       "1817  2611      crashed                    NaN   \n",
       "6810  9756      tragedy        Los Angeles, CA   \n",
       "4398  6254    hijacking          Athens,Greece   \n",
       "\n",
       "                                                                                                                        text  \\\n",
       "2644                                                        so you have a new weapon that can cause unimaginable destruction   \n",
       "2227                            the camp things i do for gishwhes just got soaked in a deluge going for pads and tampons the   \n",
       "5448                                                         dt rt the col police can catch a pickpocket in liverpool street   \n",
       "132         aftershocks back to school kick off was great i want to thank everyone for making it possible what a great night   \n",
       "6845                     in response to trauma children of addicts develop a defensive self one that decreases vulnerability   \n",
       "5559                             you look like you got caught in a rainstorm this is amazing and disgusting at the same time   \n",
       "1765                    my favorite lady came to our volunteer meeting hopefully joining her youth collision and i am excite   \n",
       "1817  ux fail of em people want to insert and remove quickly like a gas pump stripe reader person told me it crashed the pos   \n",
       "6810                                                              cant find my ariana grande shirt this is a fucking tragedy   \n",
       "4398                                                                        the murderous story of americans first hijacking   \n",
       "\n",
       "      target  \n",
       "2644       1  \n",
       "2227       0  \n",
       "5448       1  \n",
       "132        0  \n",
       "6845       0  \n",
       "5559       0  \n",
       "1765       1  \n",
       "1817       1  \n",
       "6810       0  \n",
       "4398       1  "
      ]
     },
     "execution_count": 4,
     "metadata": {},
     "output_type": "execute_result"
    }
   ],
   "source": [
    "df = pd.read_csv('../datos/train_text_corrected.csv', encoding='utf-8')\n",
    "df.sample(10, random_state=42)"
   ]
  },
  {
   "cell_type": "markdown",
   "metadata": {},
   "source": [
    "Del análisis exploratorio de datos se había encontrado que hay algunos `%20` que hay que reemplazar con `-`. Aquí se separan con un `' '`."
   ]
  },
  {
   "cell_type": "code",
   "execution_count": 5,
   "metadata": {},
   "outputs": [],
   "source": [
    "df.replace(to_replace={'%20':' '}, inplace=True, regex=True)\n",
    "# regex=True para reemplazar expresiones dentro del string."
   ]
  },
  {
   "cell_type": "code",
   "execution_count": 8,
   "metadata": {},
   "outputs": [
    {
     "name": "stdout",
     "output_type": "stream",
     "text": [
      "CPU times: user 168 ms, sys: 0 ns, total: 168 ms\n",
      "Wall time: 166 ms\n"
     ]
    }
   ],
   "source": [
    "%%time\n",
    "# Se limpian los términos, evitando los nulos. isinstance(x, str) verifica que sea string.\n",
    "df['keyword'] = df['keyword'].apply(lambda x: clean_text(x) if isinstance(x, str) else x)"
   ]
  },
  {
   "cell_type": "code",
   "execution_count": 10,
   "metadata": {},
   "outputs": [
    {
     "name": "stdout",
     "output_type": "stream",
     "text": [
      "CPU times: user 1min 53s, sys: 70.5 ms, total: 1min 53s\n",
      "Wall time: 1min 53s\n"
     ]
    }
   ],
   "source": [
    "%%time\n",
    "# Se corrigen las palabras de keyword, evitando los nulos.\n",
    "df['keyword'] = df['keyword'].apply(lambda x: correct_text(x) if isinstance(x, str) else x)"
   ]
  },
  {
   "cell_type": "code",
   "execution_count": null,
   "metadata": {},
   "outputs": [],
   "source": []
  },
  {
   "cell_type": "code",
   "execution_count": null,
   "metadata": {},
   "outputs": [],
   "source": []
  }
 ],
 "metadata": {
  "kernelspec": {
   "display_name": "Python 3",
   "language": "python",
   "name": "python3"
  },
  "language_info": {
   "codemirror_mode": {
    "name": "ipython",
    "version": 3
   },
   "file_extension": ".py",
   "mimetype": "text/x-python",
   "name": "python",
   "nbconvert_exporter": "python",
   "pygments_lexer": "ipython3",
   "version": "3.7.5"
  }
 },
 "nbformat": 4,
 "nbformat_minor": 2
}
