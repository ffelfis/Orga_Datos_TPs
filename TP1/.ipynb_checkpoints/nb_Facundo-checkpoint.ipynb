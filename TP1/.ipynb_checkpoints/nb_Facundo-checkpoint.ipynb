{
 "cells": [
  {
   "cell_type": "code",
   "execution_count": null,
   "metadata": {},
   "outputs": [],
   "source": [
    "# Carga de librerías\n",
    "import pandas as pd\n",
    "import numpy as np\n",
    "import matplotlib.pyplot as plt\n",
    "import seaborn as sb"
   ]
  },
  {
   "cell_type": "code",
   "execution_count": null,
   "metadata": {},
   "outputs": [],
   "source": [
    "df = pd.read_csv('train.csv', usecols = ['text', 'target'])\n",
    "# Se agrega un columna para la longitud del mensaje.\n",
    "df['length'] = df['text'].str.len()\n",
    "# Se informan las mediciones pedidas.\n",
    "print('Características de longitud del texto del mensaje')\n",
    "print('Máxima:', df['length'].max(), \\\n",
    "'\\tMínina:', df['length'].min(), \\\n",
    "'\\tMedia:', np.round(df['length'].mean(), decimals = 0))"
   ]
  },
  {
   "cell_type": "code",
   "execution_count": null,
   "metadata": {},
   "outputs": [],
   "source": [
    "# Se arma nuevo DataFrame agrupando por longitud de mensaje\n",
    "join = pd.DataFrame()\n",
    "join['is_true'] = df.groupby('length')['target'].agg('sum')\n",
    "join['total'] = df.groupby('length')['target'].agg('count')\n",
    "join['portion_is_true'] = round(join['is_true'] / join['total'], 3)\n",
    "# Se quitan los casos extremos.\n",
    "clean = join.loc[join['portion_is_true'] < 1]\n",
    "display(clean.nlargest(5, 'portion_is_true'))\n",
    "print('Promedio de las cinco longitudes con mejor índice de veracidad:', \\\n",
    "clean.nlargest(5, 'portion_is_true').index.values.mean())\n",
    "print('Mediana de las cinco longitudes con mejor índice de veracidad:', \\\n",
    "np.median(clean.nlargest(5, 'portion_is_true').index.values))"
   ]
  },
  {
   "cell_type": "code",
   "execution_count": null,
   "metadata": {},
   "outputs": [],
   "source": [
    "# Plot\n",
    "plt.figure(figsize = (7,25))\n",
    "sb.set(font_scale = 1.5)\n",
    "plot = sb.heatmap(join[['portion_is_true']], cmap = 'plasma_r', \\\n",
    "cbar = True, xticklabels = [''])\n",
    "plt.title('Veracidad de mensajes según longitud',fontsize = 25)\n",
    "plot.set_xlabel('Nivel de veracidad', fontsize = 20)\n",
    "plot.set_ylabel('Longitud del mensaje', fontsize = 20)\n",
    "plt.xticks(fontsize = 17, rotation = 0, ha = 'center', va = 'top')\n",
    "plt.yticks(fontsize = 17, rotation = 0)\n",
    "plt.tight_layout() # Para que no recorte los títulos.\n",
    "plt.show()"
   ]
  }
 ],
 "metadata": {
  "kernelspec": {
   "display_name": "Python 3",
   "language": "python",
   "name": "python3"
  },
  "language_info": {
   "codemirror_mode": {
    "name": "ipython",
    "version": 3
   },
   "file_extension": ".py",
   "mimetype": "text/x-python",
   "name": "python",
   "nbconvert_exporter": "python",
   "pygments_lexer": "ipython3",
   "version": "3.7.5"
  }
 },
 "nbformat": 4,
 "nbformat_minor": 4
}
