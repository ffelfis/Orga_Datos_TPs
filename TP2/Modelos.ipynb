{
 "cells": [
  {
   "cell_type": "code",
   "execution_count": 1,
   "metadata": {
    "colab": {},
    "colab_type": "code",
    "executionInfo": {
     "elapsed": 2474,
     "status": "ok",
     "timestamp": 1596302834843,
     "user": {
      "displayName": "Fernando Moreno",
      "photoUrl": "",
      "userId": "12085513332857029549"
     },
     "user_tz": 180
    },
    "id": "3PcooHbAqHPW"
   },
   "outputs": [],
   "source": [
    "import pandas as pd\n",
    "import numpy as np\n",
    "import re\n",
    "import string\n",
    "from sklearn.feature_extraction.text import CountVectorizer, HashingVectorizer, TfidfVectorizer\n",
    "from sklearn.neighbors import KNeighborsClassifier \n",
    "from sklearn.model_selection import cross_val_score, GridSearchCV\n",
    "from sklearn.tree import DecisionTreeClassifier, ExtraTreeClassifier\n",
    "from sklearn.ensemble import RandomForestClassifier\n",
    "import xgboost as xgb\n",
    "from sklearn.svm import LinearSVC, NuSVC, SVC"
   ]
  },
  {
   "cell_type": "code",
   "execution_count": 2,
   "metadata": {
    "colab": {},
    "colab_type": "code",
    "executionInfo": {
     "elapsed": 2231,
     "status": "ok",
     "timestamp": 1596302836676,
     "user": {
      "displayName": "Fernando Moreno",
      "photoUrl": "",
      "userId": "12085513332857029549"
     },
     "user_tz": 180
    },
    "id": "mbXFISveuVd4"
   },
   "outputs": [],
   "source": [
    "from google.colab import files"
   ]
  },
  {
   "cell_type": "code",
   "execution_count": 3,
   "metadata": {
    "colab": {
     "base_uri": "https://localhost:8080/",
     "height": 72,
     "resources": {
      "http://localhost:8080/nbextensions/google.colab/files.js": {
       "data": "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",
       "headers": [
        [
         "content-type",
         "application/javascript"
        ]
       ],
       "ok": true,
       "status": 200,
       "status_text": ""
      }
     }
    },
    "colab_type": "code",
    "executionInfo": {
     "elapsed": 24611,
     "status": "ok",
     "timestamp": 1596302860585,
     "user": {
      "displayName": "Fernando Moreno",
      "photoUrl": "",
      "userId": "12085513332857029549"
     },
     "user_tz": 180
    },
    "id": "RleJiBvruatU",
    "outputId": "77e4afad-0110-4fd4-e39f-c86ea48ac770"
   },
   "outputs": [
    {
     "data": {
      "text/html": [
       "\n",
       "     <input type=\"file\" id=\"files-4e0737d3-073f-4c4e-8da4-ec761da7962d\" name=\"files[]\" multiple disabled\n",
       "        style=\"border:none\" />\n",
       "     <output id=\"result-4e0737d3-073f-4c4e-8da4-ec761da7962d\">\n",
       "      Upload widget is only available when the cell has been executed in the\n",
       "      current browser session. Please rerun this cell to enable.\n",
       "      </output>\n",
       "      <script src=\"/nbextensions/google.colab/files.js\"></script> "
      ],
      "text/plain": [
       "<IPython.core.display.HTML object>"
      ]
     },
     "metadata": {
      "tags": []
     },
     "output_type": "display_data"
    },
    {
     "name": "stdout",
     "output_type": "stream",
     "text": [
      "Saving train.csv to train.csv\n"
     ]
    }
   ],
   "source": [
    "file = files.upload()\n",
    "df = pd.read_csv(\"train.csv\")"
   ]
  },
  {
   "cell_type": "code",
   "execution_count": 4,
   "metadata": {
    "colab": {},
    "colab_type": "code",
    "executionInfo": {
     "elapsed": 965,
     "status": "ok",
     "timestamp": 1596302861577,
     "user": {
      "displayName": "Fernando Moreno",
      "photoUrl": "",
      "userId": "12085513332857029549"
     },
     "user_tz": 180
    },
    "id": "XEJUxAHpxVzz"
   },
   "outputs": [],
   "source": [
    "df['id'] = df['id'].astype(np.uint16)\n",
    "df['target'] = df['target'].astype(np.uint8)\n",
    "df = df.fillna(\"\")"
   ]
  },
  {
   "cell_type": "code",
   "execution_count": 5,
   "metadata": {
    "colab": {},
    "colab_type": "code",
    "executionInfo": {
     "elapsed": 960,
     "status": "ok",
     "timestamp": 1596302861579,
     "user": {
      "displayName": "Fernando Moreno",
      "photoUrl": "",
      "userId": "12085513332857029549"
     },
     "user_tz": 180
    },
    "id": "2duTTZXvxvcr"
   },
   "outputs": [],
   "source": [
    "keywords_target = df.groupby([\"keyword\", \"target\"]).count()[\"id\"]"
   ]
  },
  {
   "cell_type": "code",
   "execution_count": 6,
   "metadata": {
    "colab": {},
    "colab_type": "code",
    "executionInfo": {
     "elapsed": 954,
     "status": "ok",
     "timestamp": 1596302861581,
     "user": {
      "displayName": "Fernando Moreno",
      "photoUrl": "",
      "userId": "12085513332857029549"
     },
     "user_tz": 180
    },
    "id": "zYx65ZjoYoC0"
   },
   "outputs": [],
   "source": [
    "def keyword_mean(x):\n",
    "  try:\n",
    "    targets = keywords_target[x]\n",
    "  except KeyError:\n",
    "    return 0.5\n",
    "  if len(targets) == 2:\n",
    "    return targets[0]/(targets[0]+targets[1])\n",
    "  else:\n",
    "    try:\n",
    "      return targets[0]/targets[0]\n",
    "    except KeyError:\n",
    "      return 0"
   ]
  },
  {
   "cell_type": "code",
   "execution_count": 7,
   "metadata": {
    "colab": {},
    "colab_type": "code",
    "executionInfo": {
     "elapsed": 4343,
     "status": "ok",
     "timestamp": 1596302864978,
     "user": {
      "displayName": "Fernando Moreno",
      "photoUrl": "",
      "userId": "12085513332857029549"
     },
     "user_tz": 180
    },
    "id": "13pIUFNdyE9y"
   },
   "outputs": [],
   "source": [
    "df[\"keyword_mean\"] = df[\"keyword\"].transform(keyword_mean)"
   ]
  },
  {
   "cell_type": "code",
   "execution_count": 8,
   "metadata": {
    "colab": {},
    "colab_type": "code",
    "executionInfo": {
     "elapsed": 4744,
     "status": "ok",
     "timestamp": 1596302865386,
     "user": {
      "displayName": "Fernando Moreno",
      "photoUrl": "",
      "userId": "12085513332857029549"
     },
     "user_tz": 180
    },
    "id": "FrYzSyNKsbjU"
   },
   "outputs": [],
   "source": [
    "df[\"keyword_en_tweet\"] = df.agg(lambda x: 1 if x[\"keyword\"].lower() in x[\"text\"].lower().split() else 0, axis=1)"
   ]
  },
  {
   "cell_type": "code",
   "execution_count": 38,
   "metadata": {
    "colab": {},
    "colab_type": "code",
    "executionInfo": {
     "elapsed": 864,
     "status": "ok",
     "timestamp": 1596304658647,
     "user": {
      "displayName": "Fernando Moreno",
      "photoUrl": "",
      "userId": "12085513332857029549"
     },
     "user_tz": 180
    },
    "id": "qsNPlr6dkLJj"
   },
   "outputs": [],
   "source": [
    "locations_target = df.groupby([\"location\", \"target\"]).count()[\"id\"]"
   ]
  },
  {
   "cell_type": "code",
   "execution_count": 39,
   "metadata": {
    "colab": {},
    "colab_type": "code",
    "executionInfo": {
     "elapsed": 729,
     "status": "ok",
     "timestamp": 1596304660029,
     "user": {
      "displayName": "Fernando Moreno",
      "photoUrl": "",
      "userId": "12085513332857029549"
     },
     "user_tz": 180
    },
    "id": "c52mmujPjQsh"
   },
   "outputs": [],
   "source": [
    "def location_mean(x):\n",
    "  try:\n",
    "    targets = locations_target[x]\n",
    "  except KeyError:\n",
    "    return 0.5\n",
    "  if len(targets) == 2:\n",
    "    return targets[0]/(targets[0]+targets[1])\n",
    "  else:\n",
    "    try:\n",
    "      return targets[0]/targets[0]\n",
    "    except KeyError:\n",
    "      return 0"
   ]
  },
  {
   "cell_type": "code",
   "execution_count": 40,
   "metadata": {
    "colab": {},
    "colab_type": "code",
    "executionInfo": {
     "elapsed": 3619,
     "status": "ok",
     "timestamp": 1596304666088,
     "user": {
      "displayName": "Fernando Moreno",
      "photoUrl": "",
      "userId": "12085513332857029549"
     },
     "user_tz": 180
    },
    "id": "Cs4mfQSBkXpz"
   },
   "outputs": [],
   "source": [
    "df[\"location_mean\"] = df[\"location\"].transform(location_mean)"
   ]
  },
  {
   "cell_type": "code",
   "execution_count": 9,
   "metadata": {
    "colab": {},
    "colab_type": "code",
    "executionInfo": {
     "elapsed": 760,
     "status": "ok",
     "timestamp": 1596302871176,
     "user": {
      "displayName": "Fernando Moreno",
      "photoUrl": "",
      "userId": "12085513332857029549"
     },
     "user_tz": 180
    },
    "id": "D_JOx3WvyXri"
   },
   "outputs": [],
   "source": [
    "df[\"long\"] = df[\"text\"].transform(lambda x: len(x))\n",
    "long_max = df[\"long\"].max()\n",
    "df[\"long\"] = df[\"long\"]/long_max"
   ]
  },
  {
   "cell_type": "code",
   "execution_count": 10,
   "metadata": {
    "colab": {},
    "colab_type": "code",
    "executionInfo": {
     "elapsed": 784,
     "status": "ok",
     "timestamp": 1596302872659,
     "user": {
      "displayName": "Fernando Moreno",
      "photoUrl": "",
      "userId": "12085513332857029549"
     },
     "user_tz": 180
    },
    "id": "NHH1ccRq15HS"
   },
   "outputs": [],
   "source": [
    "df[\"nro_term\"] = df[\"text\"].transform(lambda x: len(x.split()))\n",
    "nro_term_max = df[\"nro_term\"].max()\n",
    "df[\"nro_term\"] = df[\"nro_term\"]/nro_term_max"
   ]
  },
  {
   "cell_type": "code",
   "execution_count": 41,
   "metadata": {
    "colab": {},
    "colab_type": "code",
    "executionInfo": {
     "elapsed": 669,
     "status": "ok",
     "timestamp": 1596304667671,
     "user": {
      "displayName": "Fernando Moreno",
      "photoUrl": "",
      "userId": "12085513332857029549"
     },
     "user_tz": 180
    },
    "id": "dz3oklXCkt2r"
   },
   "outputs": [],
   "source": [
    "def hay_url(x):\n",
    "    if re.search('https{0,1}:\\/\\/\\S*', x) is not None:\n",
    "        return 1\n",
    "    else:\n",
    "        return 0\n",
    "    \n",
    "df[\"hay_url\"] = df[\"text\"].transform(hay_url)"
   ]
  },
  {
   "cell_type": "code",
   "execution_count": 42,
   "metadata": {
    "colab": {},
    "colab_type": "code",
    "executionInfo": {
     "elapsed": 825,
     "status": "ok",
     "timestamp": 1596304669045,
     "user": {
      "displayName": "Fernando Moreno",
      "photoUrl": "",
      "userId": "12085513332857029549"
     },
     "user_tz": 180
    },
    "id": "xIhAPzFlkuo0"
   },
   "outputs": [],
   "source": [
    "def hay_nros(x):\n",
    "    x = x.split()\n",
    "    for i in x:\n",
    "        i = i.replace(',','')\n",
    "        try:\n",
    "            float(i)\n",
    "            return 1\n",
    "        except ValueError:\n",
    "            continue\n",
    "    return 0 \n",
    "\n",
    "df[\"hay_nros\"] = df[\"text\"].transform(hay_nros)"
   ]
  },
  {
   "cell_type": "code",
   "execution_count": 43,
   "metadata": {
    "colab": {},
    "colab_type": "code",
    "executionInfo": {
     "elapsed": 768,
     "status": "ok",
     "timestamp": 1596304671167,
     "user": {
      "displayName": "Fernando Moreno",
      "photoUrl": "",
      "userId": "12085513332857029549"
     },
     "user_tz": 180
    },
    "id": "ht5uVcLDkxkL"
   },
   "outputs": [],
   "source": [
    "def hay_mencion(x):\n",
    "    for i in x.split():\n",
    "        if i[0]=='@':\n",
    "            return 1\n",
    "    return 0\n",
    "\n",
    "df[\"hay_mencion\"] = df[\"text\"].transform(hay_mencion)"
   ]
  },
  {
   "cell_type": "code",
   "execution_count": 44,
   "metadata": {
    "colab": {},
    "colab_type": "code",
    "executionInfo": {
     "elapsed": 760,
     "status": "ok",
     "timestamp": 1596304673667,
     "user": {
      "displayName": "Fernando Moreno",
      "photoUrl": "",
      "userId": "12085513332857029549"
     },
     "user_tz": 180
    },
    "id": "4PfYUDVHk2Cz"
   },
   "outputs": [],
   "source": [
    "def hay_hashtag(x):\n",
    "    for i in x.split():\n",
    "        if i[0]=='#':\n",
    "            return 1\n",
    "    return 0\n",
    "\n",
    "df[\"hay_hashtag\"] = df[\"text\"].transform(hay_hashtag)"
   ]
  },
  {
   "cell_type": "code",
   "execution_count": 45,
   "metadata": {
    "colab": {},
    "colab_type": "code",
    "executionInfo": {
     "elapsed": 738,
     "status": "ok",
     "timestamp": 1596304676207,
     "user": {
      "displayName": "Fernando Moreno",
      "photoUrl": "",
      "userId": "12085513332857029549"
     },
     "user_tz": 180
    },
    "id": "52dibBvFlLLo"
   },
   "outputs": [],
   "source": [
    "# Función para limpiar el texto de los mensajes.\n",
    "def clean_text(text):\n",
    "    # Se convierte el texto a minúsculas.\n",
    "    text = text.lower()\n",
    "    # Se quitan los '#'.\n",
    "    text = re.sub('#', '', text)\n",
    "    # Se quitan los números.\n",
    "    text = re.sub('\\w*\\d\\w*', '', text)\n",
    "    # Se quitan los saltos de línea.\n",
    "    text = re.sub('\\n', ' ', text)\n",
    "    # Se eliminan las referencias a usuarios '@user'.\n",
    "    text = re.sub('@\\S*', '', text)\n",
    "    # Se quitan vínculos URL.\n",
    "    text = re.sub('https{0,1}:\\/\\/\\S*', ' ', text)\n",
    "    # Se simplifican múltiples espacios a uno solo.\n",
    "    text = re.sub('(\\ ){2,7}', ' ',text)\n",
    "    # Se quitan los signos de puntuación.\n",
    "    text = re.sub('[%s]' % re.escape(string.punctuation), '', text)\n",
    "    return text"
   ]
  },
  {
   "cell_type": "code",
   "execution_count": 46,
   "metadata": {
    "colab": {},
    "colab_type": "code",
    "executionInfo": {
     "elapsed": 2527,
     "status": "ok",
     "timestamp": 1596304681934,
     "user": {
      "displayName": "Fernando Moreno",
      "photoUrl": "",
      "userId": "12085513332857029549"
     },
     "user_tz": 180
    },
    "id": "t5HNilLIlMBb"
   },
   "outputs": [],
   "source": [
    "c_vect = CountVectorizer(stop_words='english', preprocessor=clean_text, max_df=0.5, min_df=5)\n",
    "\n",
    "bow_cols = pd.DataFrame(c_vect.fit_transform(df[\"text\"]).toarray())\n",
    "\n",
    "nuevas_col = pd.Series(dtype=object)\n",
    "for col in bow_cols.columns:\n",
    "    nuevas_col = nuevas_col.append(pd.Series(\"bow_\" + str(col), dtype=object))\n",
    "bow_cols.columns = nuevas_col\n",
    "\n",
    "df = pd.concat(objs=[df, bow_cols], axis=1)"
   ]
  },
  {
   "cell_type": "code",
   "execution_count": 47,
   "metadata": {
    "colab": {},
    "colab_type": "code",
    "executionInfo": {
     "elapsed": 870,
     "status": "ok",
     "timestamp": 1596304683523,
     "user": {
      "displayName": "Fernando Moreno",
      "photoUrl": "",
      "userId": "12085513332857029549"
     },
     "user_tz": 180
    },
    "id": "LYIniZ8a7Y4W"
   },
   "outputs": [],
   "source": [
    "df_f = df.drop(labels=[\"id\", \"text\", \"keyword\", \"location\", \"target\"], axis=1)"
   ]
  },
  {
   "cell_type": "markdown",
   "metadata": {
    "colab_type": "text",
    "id": "UA6DcSFv60vL"
   },
   "source": [
    "# KNN"
   ]
  },
  {
   "cell_type": "code",
   "execution_count": 11,
   "metadata": {
    "colab": {},
    "colab_type": "code",
    "executionInfo": {
     "elapsed": 792,
     "status": "ok",
     "timestamp": 1596302892491,
     "user": {
      "displayName": "Fernando Moreno",
      "photoUrl": "",
      "userId": "12085513332857029549"
     },
     "user_tz": 180
    },
    "id": "FgLL0hekvARc"
   },
   "outputs": [],
   "source": [
    "knn = KNeighborsClassifier(n_jobs=-1)"
   ]
  },
  {
   "cell_type": "code",
   "execution_count": 12,
   "metadata": {
    "colab": {},
    "colab_type": "code",
    "executionInfo": {
     "elapsed": 713,
     "status": "ok",
     "timestamp": 1596302897664,
     "user": {
      "displayName": "Fernando Moreno",
      "photoUrl": "",
      "userId": "12085513332857029549"
     },
     "user_tz": 180
    },
    "id": "f5qlmt38wtCs"
   },
   "outputs": [],
   "source": [
    "df_f = df[[\"keyword_mean\",\"long\", \"nro_term\"]]"
   ]
  },
  {
   "cell_type": "code",
   "execution_count": 13,
   "metadata": {
    "colab": {
     "base_uri": "https://localhost:8080/",
     "height": 51
    },
    "colab_type": "code",
    "executionInfo": {
     "elapsed": 2617,
     "status": "ok",
     "timestamp": 1596302922664,
     "user": {
      "displayName": "Fernando Moreno",
      "photoUrl": "",
      "userId": "12085513332857029549"
     },
     "user_tz": 180
    },
    "id": "9tlFTWcowM3r",
    "outputId": "77d037a1-58c5-45f4-f293-924df46bb7ce"
   },
   "outputs": [
    {
     "data": {
      "text/plain": [
       "(array([0.74720946, 0.68351937, 0.6651346 , 0.73981603, 0.75755585]),\n",
       " 0.718647061310454)"
      ]
     },
     "execution_count": 13,
     "metadata": {
      "tags": []
     },
     "output_type": "execute_result"
    }
   ],
   "source": [
    "score = cross_val_score(knn, df_f, y=df[\"target\"], n_jobs=-1, scoring=\"accuracy\")\n",
    "score, score.mean()"
   ]
  },
  {
   "cell_type": "code",
   "execution_count": 14,
   "metadata": {
    "colab": {
     "base_uri": "https://localhost:8080/",
     "height": 204
    },
    "colab_type": "code",
    "executionInfo": {
     "elapsed": 7269,
     "status": "ok",
     "timestamp": 1596303300752,
     "user": {
      "displayName": "Fernando Moreno",
      "photoUrl": "",
      "userId": "12085513332857029549"
     },
     "user_tz": 180
    },
    "id": "_Xl1Op9z2N70",
    "outputId": "99422f66-4955-4e04-849e-903c965a4e44"
   },
   "outputs": [
    {
     "data": {
      "text/plain": [
       "GridSearchCV(cv=None, error_score=nan,\n",
       "             estimator=KNeighborsClassifier(algorithm='auto', leaf_size=30,\n",
       "                                            metric='minkowski',\n",
       "                                            metric_params=None, n_jobs=-1,\n",
       "                                            n_neighbors=5, p=2,\n",
       "                                            weights='uniform'),\n",
       "             iid='deprecated', n_jobs=-1,\n",
       "             param_grid={'n_neighbors': [5, 13, 21], 'p': [0.5, 1, 2],\n",
       "                         'weights': ['uniform', 'distance']},\n",
       "             pre_dispatch='2*n_jobs', refit=True, return_train_score=False,\n",
       "             scoring='accuracy', verbose=0)"
      ]
     },
     "execution_count": 14,
     "metadata": {
      "tags": []
     },
     "output_type": "execute_result"
    }
   ],
   "source": [
    "gridcv = GridSearchCV(knn, {\"n_neighbors\":[5,13,21], \"weights\":[\"uniform\", \"distance\"], \"p\":[0.5,1,2]}, scoring=\"accuracy\", n_jobs=-1)\n",
    "gridcv.fit(df_f, y=df[\"target\"])"
   ]
  },
  {
   "cell_type": "code",
   "execution_count": 15,
   "metadata": {
    "colab": {
     "base_uri": "https://localhost:8080/",
     "height": 34
    },
    "colab_type": "code",
    "executionInfo": {
     "elapsed": 781,
     "status": "ok",
     "timestamp": 1596303305201,
     "user": {
      "displayName": "Fernando Moreno",
      "photoUrl": "",
      "userId": "12085513332857029549"
     },
     "user_tz": 180
    },
    "id": "XPhsE4sS4iVf",
    "outputId": "d5ca83ab-7c1a-4010-9125-476b0734fe6f"
   },
   "outputs": [
    {
     "data": {
      "text/plain": [
       "{'n_neighbors': 21, 'p': 2, 'weights': 'uniform'}"
      ]
     },
     "execution_count": 15,
     "metadata": {
      "tags": []
     },
     "output_type": "execute_result"
    }
   ],
   "source": [
    "gridcv.best_params_"
   ]
  },
  {
   "cell_type": "code",
   "execution_count": 16,
   "metadata": {
    "colab": {
     "base_uri": "https://localhost:8080/",
     "height": 34
    },
    "colab_type": "code",
    "executionInfo": {
     "elapsed": 889,
     "status": "ok",
     "timestamp": 1596303322883,
     "user": {
      "displayName": "Fernando Moreno",
      "photoUrl": "",
      "userId": "12085513332857029549"
     },
     "user_tz": 180
    },
    "id": "FBEGxE1VF0sx",
    "outputId": "9c17941f-91ac-4424-abce-0f0908cd164a"
   },
   "outputs": [
    {
     "data": {
      "text/plain": [
       "0.7400573596444531"
      ]
     },
     "execution_count": 16,
     "metadata": {
      "tags": []
     },
     "output_type": "execute_result"
    }
   ],
   "source": [
    "gridcv.best_score_"
   ]
  },
  {
   "cell_type": "code",
   "execution_count": 17,
   "metadata": {
    "colab": {
     "base_uri": "https://localhost:8080/",
     "height": 187
    },
    "colab_type": "code",
    "executionInfo": {
     "elapsed": 2507,
     "status": "ok",
     "timestamp": 1596303367284,
     "user": {
      "displayName": "Fernando Moreno",
      "photoUrl": "",
      "userId": "12085513332857029549"
     },
     "user_tz": 180
    },
    "id": "bQAIY0fK5AEE",
    "outputId": "10a1575b-1b9a-4c39-b67a-bd57a3fa0fb8"
   },
   "outputs": [
    {
     "data": {
      "text/plain": [
       "GridSearchCV(cv=None, error_score=nan,\n",
       "             estimator=KNeighborsClassifier(algorithm='auto', leaf_size=30,\n",
       "                                            metric='minkowski',\n",
       "                                            metric_params=None, n_jobs=-1,\n",
       "                                            n_neighbors=5, p=2,\n",
       "                                            weights='uniform'),\n",
       "             iid='deprecated', n_jobs=-1,\n",
       "             param_grid={'n_neighbors': [21, 27, 31, 37]},\n",
       "             pre_dispatch='2*n_jobs', refit=True, return_train_score=False,\n",
       "             scoring='accuracy', verbose=0)"
      ]
     },
     "execution_count": 17,
     "metadata": {
      "tags": []
     },
     "output_type": "execute_result"
    }
   ],
   "source": [
    "gridcv = GridSearchCV(knn, {\"n_neighbors\":[21, 27, 31, 37]}, scoring=\"accuracy\", n_jobs=-1)\n",
    "gridcv.fit(df_f, y=df[\"target\"])"
   ]
  },
  {
   "cell_type": "code",
   "execution_count": 18,
   "metadata": {
    "colab": {
     "base_uri": "https://localhost:8080/",
     "height": 34
    },
    "colab_type": "code",
    "executionInfo": {
     "elapsed": 757,
     "status": "ok",
     "timestamp": 1596303370211,
     "user": {
      "displayName": "Fernando Moreno",
      "photoUrl": "",
      "userId": "12085513332857029549"
     },
     "user_tz": 180
    },
    "id": "unN1huBH5Y3a",
    "outputId": "583dbece-ab22-441a-97a3-32a18487effd"
   },
   "outputs": [
    {
     "data": {
      "text/plain": [
       "{'n_neighbors': 37}"
      ]
     },
     "execution_count": 18,
     "metadata": {
      "tags": []
     },
     "output_type": "execute_result"
    }
   ],
   "source": [
    "gridcv.best_params_"
   ]
  },
  {
   "cell_type": "code",
   "execution_count": 19,
   "metadata": {
    "colab": {
     "base_uri": "https://localhost:8080/",
     "height": 34
    },
    "colab_type": "code",
    "executionInfo": {
     "elapsed": 764,
     "status": "ok",
     "timestamp": 1596303374461,
     "user": {
      "displayName": "Fernando Moreno",
      "photoUrl": "",
      "userId": "12085513332857029549"
     },
     "user_tz": 180
    },
    "id": "B8f6YCq956N6",
    "outputId": "53b833cf-601a-4ae7-caf6-54016c6f67ec"
   },
   "outputs": [
    {
     "data": {
      "text/plain": [
       "0.7437353483985805"
      ]
     },
     "execution_count": 19,
     "metadata": {
      "tags": []
     },
     "output_type": "execute_result"
    }
   ],
   "source": [
    "gridcv.best_score_"
   ]
  },
  {
   "cell_type": "code",
   "execution_count": 20,
   "metadata": {
    "colab": {
     "base_uri": "https://localhost:8080/",
     "height": 187
    },
    "colab_type": "code",
    "executionInfo": {
     "elapsed": 3917,
     "status": "ok",
     "timestamp": 1596303470638,
     "user": {
      "displayName": "Fernando Moreno",
      "photoUrl": "",
      "userId": "12085513332857029549"
     },
     "user_tz": 180
    },
    "id": "ggGYzCXw6Se9",
    "outputId": "d663f40c-e64c-49d6-b134-a8c9175536fa"
   },
   "outputs": [
    {
     "data": {
      "text/plain": [
       "GridSearchCV(cv=10, error_score=nan,\n",
       "             estimator=KNeighborsClassifier(algorithm='auto', leaf_size=30,\n",
       "                                            metric='minkowski',\n",
       "                                            metric_params=None, n_jobs=-1,\n",
       "                                            n_neighbors=5, p=2,\n",
       "                                            weights='uniform'),\n",
       "             iid='deprecated', n_jobs=-1,\n",
       "             param_grid={'n_neighbors': [37, 39, 41, 43]},\n",
       "             pre_dispatch='2*n_jobs', refit=True, return_train_score=False,\n",
       "             scoring='accuracy', verbose=0)"
      ]
     },
     "execution_count": 20,
     "metadata": {
      "tags": []
     },
     "output_type": "execute_result"
    }
   ],
   "source": [
    "gridcv = GridSearchCV(knn, {\"n_neighbors\":[37, 39, 41, 43]}, scoring=\"accuracy\", n_jobs=-1, cv=10)\n",
    "gridcv.fit(df_f, y=df[\"target\"])"
   ]
  },
  {
   "cell_type": "code",
   "execution_count": 21,
   "metadata": {
    "colab": {
     "base_uri": "https://localhost:8080/",
     "height": 34
    },
    "colab_type": "code",
    "executionInfo": {
     "elapsed": 830,
     "status": "ok",
     "timestamp": 1596303478910,
     "user": {
      "displayName": "Fernando Moreno",
      "photoUrl": "",
      "userId": "12085513332857029549"
     },
     "user_tz": 180
    },
    "id": "fHIhtGgBGepH",
    "outputId": "c9d9a815-94e6-4b5a-9acf-b9a3eddd6733"
   },
   "outputs": [
    {
     "data": {
      "text/plain": [
       "{'n_neighbors': 41}"
      ]
     },
     "execution_count": 21,
     "metadata": {
      "tags": []
     },
     "output_type": "execute_result"
    }
   ],
   "source": [
    "gridcv.best_params_"
   ]
  },
  {
   "cell_type": "code",
   "execution_count": 22,
   "metadata": {
    "colab": {
     "base_uri": "https://localhost:8080/",
     "height": 34
    },
    "colab_type": "code",
    "executionInfo": {
     "elapsed": 756,
     "status": "ok",
     "timestamp": 1596303491143,
     "user": {
      "displayName": "Fernando Moreno",
      "photoUrl": "",
      "userId": "12085513332857029549"
     },
     "user_tz": 180
    },
    "id": "9G2ex_1vGiGC",
    "outputId": "527d657a-3456-4b0f-fa8e-f15a9465b6bc"
   },
   "outputs": [
    {
     "data": {
      "text/plain": [
       "0.7459653860613022"
      ]
     },
     "execution_count": 22,
     "metadata": {
      "tags": []
     },
     "output_type": "execute_result"
    }
   ],
   "source": [
    "gridcv.best_score_"
   ]
  },
  {
   "cell_type": "code",
   "execution_count": 23,
   "metadata": {
    "colab": {},
    "colab_type": "code",
    "executionInfo": {
     "elapsed": 760,
     "status": "ok",
     "timestamp": 1596303578501,
     "user": {
      "displayName": "Fernando Moreno",
      "photoUrl": "",
      "userId": "12085513332857029549"
     },
     "user_tz": 180
    },
    "id": "05V3eWpK6oms"
   },
   "outputs": [],
   "source": [
    "knn = KNeighborsClassifier(n_neighbors=41, n_jobs=-1)"
   ]
  },
  {
   "cell_type": "markdown",
   "metadata": {
    "colab_type": "text",
    "id": "ZwqRBnOc7Rl2"
   },
   "source": [
    "Probar KNN con los mejores tres features que se encuentren."
   ]
  },
  {
   "cell_type": "markdown",
   "metadata": {
    "colab_type": "text",
    "id": "viXiH_MTK7O0"
   },
   "source": [
    "# Para hacer un submit:"
   ]
  },
  {
   "cell_type": "code",
   "execution_count": 35,
   "metadata": {
    "colab": {},
    "colab_type": "code",
    "executionInfo": {
     "elapsed": 863,
     "status": "ok",
     "timestamp": 1596304580008,
     "user": {
      "displayName": "Fernando Moreno",
      "photoUrl": "",
      "userId": "12085513332857029549"
     },
     "user_tz": 180
    },
    "id": "m3ZFU9b_NQWK"
   },
   "outputs": [],
   "source": [
    "def hacer_submit(modelo, train, target, test, test_id, nombre_submit):\n",
    "  modelo.fit(train, target)\n",
    "  res = modelo.predict(test)\n",
    "  pd.concat(objs=[test_id, pd.Series(res)], axis=1).to_csv(nombre_submit, index=False)\n"
   ]
  },
  {
   "cell_type": "code",
   "execution_count": 25,
   "metadata": {
    "colab": {
     "base_uri": "https://localhost:8080/",
     "height": 72,
     "resources": {
      "http://localhost:8080/nbextensions/google.colab/files.js": {
       "data": "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",
       "headers": [
        [
         "content-type",
         "application/javascript"
        ]
       ],
       "ok": true,
       "status": 200,
       "status_text": ""
      }
     }
    },
    "colab_type": "code",
    "executionInfo": {
     "elapsed": 12857,
     "status": "ok",
     "timestamp": 1596303728473,
     "user": {
      "displayName": "Fernando Moreno",
      "photoUrl": "",
      "userId": "12085513332857029549"
     },
     "user_tz": 180
    },
    "id": "KS0OIk27K6SC",
    "outputId": "b52efc45-1056-46f5-c934-b640240f7d14"
   },
   "outputs": [
    {
     "data": {
      "text/html": [
       "\n",
       "     <input type=\"file\" id=\"files-9f5dfeb8-c3c3-405d-825c-806c560e4198\" name=\"files[]\" multiple disabled\n",
       "        style=\"border:none\" />\n",
       "     <output id=\"result-9f5dfeb8-c3c3-405d-825c-806c560e4198\">\n",
       "      Upload widget is only available when the cell has been executed in the\n",
       "      current browser session. Please rerun this cell to enable.\n",
       "      </output>\n",
       "      <script src=\"/nbextensions/google.colab/files.js\"></script> "
      ],
      "text/plain": [
       "<IPython.core.display.HTML object>"
      ]
     },
     "metadata": {
      "tags": []
     },
     "output_type": "display_data"
    },
    {
     "name": "stdout",
     "output_type": "stream",
     "text": [
      "Saving test.csv to test.csv\n"
     ]
    }
   ],
   "source": [
    "file = files.upload()\n",
    "test = pd.read_csv(\"test.csv\")"
   ]
  },
  {
   "cell_type": "code",
   "execution_count": 26,
   "metadata": {
    "colab": {},
    "colab_type": "code",
    "executionInfo": {
     "elapsed": 841,
     "status": "ok",
     "timestamp": 1596303824627,
     "user": {
      "displayName": "Fernando Moreno",
      "photoUrl": "",
      "userId": "12085513332857029549"
     },
     "user_tz": 180
    },
    "id": "cex0W12WQAM4"
   },
   "outputs": [],
   "source": [
    "test['id'] = test['id'].astype(np.uint16)\n",
    "test = test.fillna(\"\")"
   ]
  },
  {
   "cell_type": "code",
   "execution_count": 27,
   "metadata": {
    "colab": {},
    "colab_type": "code",
    "executionInfo": {
     "elapsed": 2007,
     "status": "ok",
     "timestamp": 1596303827529,
     "user": {
      "displayName": "Fernando Moreno",
      "photoUrl": "",
      "userId": "12085513332857029549"
     },
     "user_tz": 180
    },
    "id": "-obhlNDRQANR"
   },
   "outputs": [],
   "source": [
    "test[\"keyword_mean\"] = test[\"keyword\"].transform(keyword_mean)"
   ]
  },
  {
   "cell_type": "code",
   "execution_count": 53,
   "metadata": {
    "colab": {},
    "colab_type": "code",
    "executionInfo": {
     "elapsed": 792,
     "status": "ok",
     "timestamp": 1596304941356,
     "user": {
      "displayName": "Fernando Moreno",
      "photoUrl": "",
      "userId": "12085513332857029549"
     },
     "user_tz": 180
    },
    "id": "N_KqFZk8udc7"
   },
   "outputs": [],
   "source": [
    "test[\"keyword_en_tweet\"] = test.agg(lambda x: 1 if x[\"keyword\"].lower() in x[\"text\"].lower().split() else 0, axis=1)"
   ]
  },
  {
   "cell_type": "code",
   "execution_count": null,
   "metadata": {
    "colab": {},
    "colab_type": "code",
    "id": "GDEv6h2peq_t"
   },
   "outputs": [],
   "source": [
    "#test[\"keyword_count_norm\"] = test[\"keyword\"].transform(lambda x: keywords[x]/keywords.max())"
   ]
  },
  {
   "cell_type": "code",
   "execution_count": 54,
   "metadata": {
    "colab": {},
    "colab_type": "code",
    "executionInfo": {
     "elapsed": 1822,
     "status": "ok",
     "timestamp": 1596304944045,
     "user": {
      "displayName": "Fernando Moreno",
      "photoUrl": "",
      "userId": "12085513332857029549"
     },
     "user_tz": 180
    },
    "id": "Q9xt0l9bun9n"
   },
   "outputs": [],
   "source": [
    "test[\"location_mean\"] = test[\"location\"].transform(location_mean)"
   ]
  },
  {
   "cell_type": "code",
   "execution_count": 28,
   "metadata": {
    "colab": {},
    "colab_type": "code",
    "executionInfo": {
     "elapsed": 778,
     "status": "ok",
     "timestamp": 1596303834986,
     "user": {
      "displayName": "Fernando Moreno",
      "photoUrl": "",
      "userId": "12085513332857029549"
     },
     "user_tz": 180
    },
    "id": "teJYw42CQANo"
   },
   "outputs": [],
   "source": [
    "test[\"long\"] = test[\"text\"].transform(lambda x: len(x))\n",
    "long_max = test[\"long\"].max()\n",
    "test[\"long\"] = test[\"long\"]/long_max"
   ]
  },
  {
   "cell_type": "code",
   "execution_count": 29,
   "metadata": {
    "colab": {},
    "colab_type": "code",
    "executionInfo": {
     "elapsed": 798,
     "status": "ok",
     "timestamp": 1596303837303,
     "user": {
      "displayName": "Fernando Moreno",
      "photoUrl": "",
      "userId": "12085513332857029549"
     },
     "user_tz": 180
    },
    "id": "c8X-4llwQANw"
   },
   "outputs": [],
   "source": [
    "test[\"nro_term\"] = test[\"text\"].transform(lambda x: len(x.split()))\n",
    "nro_term_max = test[\"nro_term\"].max()\n",
    "test[\"nro_term\"] = test[\"nro_term\"]/nro_term_max"
   ]
  },
  {
   "cell_type": "code",
   "execution_count": 55,
   "metadata": {
    "colab": {},
    "colab_type": "code",
    "executionInfo": {
     "elapsed": 815,
     "status": "ok",
     "timestamp": 1596304948402,
     "user": {
      "displayName": "Fernando Moreno",
      "photoUrl": "",
      "userId": "12085513332857029549"
     },
     "user_tz": 180
    },
    "id": "tayUhLIcvExl"
   },
   "outputs": [],
   "source": [
    "test[\"hay_url\"] = test[\"text\"].transform(hay_url)"
   ]
  },
  {
   "cell_type": "code",
   "execution_count": 56,
   "metadata": {
    "colab": {},
    "colab_type": "code",
    "executionInfo": {
     "elapsed": 741,
     "status": "ok",
     "timestamp": 1596304949580,
     "user": {
      "displayName": "Fernando Moreno",
      "photoUrl": "",
      "userId": "12085513332857029549"
     },
     "user_tz": 180
    },
    "id": "u8H6UWvYvI1J"
   },
   "outputs": [],
   "source": [
    "test[\"hay_nros\"] = test[\"text\"].transform(hay_nros)"
   ]
  },
  {
   "cell_type": "code",
   "execution_count": 57,
   "metadata": {
    "colab": {},
    "colab_type": "code",
    "executionInfo": {
     "elapsed": 642,
     "status": "ok",
     "timestamp": 1596304951006,
     "user": {
      "displayName": "Fernando Moreno",
      "photoUrl": "",
      "userId": "12085513332857029549"
     },
     "user_tz": 180
    },
    "id": "du_-KBPWvI_T"
   },
   "outputs": [],
   "source": [
    "test[\"hay_mencion\"] = test[\"text\"].transform(hay_mencion)"
   ]
  },
  {
   "cell_type": "code",
   "execution_count": 58,
   "metadata": {
    "colab": {},
    "colab_type": "code",
    "executionInfo": {
     "elapsed": 841,
     "status": "ok",
     "timestamp": 1596304952631,
     "user": {
      "displayName": "Fernando Moreno",
      "photoUrl": "",
      "userId": "12085513332857029549"
     },
     "user_tz": 180
    },
    "id": "oRAWaMKFvJI0"
   },
   "outputs": [],
   "source": [
    "test[\"hay_hashtag\"] = test[\"text\"].transform(hay_hashtag)"
   ]
  },
  {
   "cell_type": "code",
   "execution_count": 59,
   "metadata": {
    "colab": {},
    "colab_type": "code",
    "executionInfo": {
     "elapsed": 1963,
     "status": "ok",
     "timestamp": 1596304959473,
     "user": {
      "displayName": "Fernando Moreno",
      "photoUrl": "",
      "userId": "12085513332857029549"
     },
     "user_tz": 180
    },
    "id": "NIYBlOp_1XXo"
   },
   "outputs": [],
   "source": [
    "bow_cols = pd.DataFrame(c_vect.transform(test[\"text\"]).toarray())\n",
    "\n",
    "nuevas_col = pd.Series(dtype=object)\n",
    "for col in bow_cols.columns:\n",
    "    nuevas_col = nuevas_col.append(pd.Series(\"bow_\" + str(col), dtype=object))\n",
    "bow_cols.columns = nuevas_col\n",
    "\n",
    "test = pd.concat(objs=[test, bow_cols], axis=1)"
   ]
  },
  {
   "cell_type": "code",
   "execution_count": 60,
   "metadata": {
    "colab": {},
    "colab_type": "code",
    "executionInfo": {
     "elapsed": 976,
     "status": "ok",
     "timestamp": 1596304961473,
     "user": {
      "displayName": "Fernando Moreno",
      "photoUrl": "",
      "userId": "12085513332857029549"
     },
     "user_tz": 180
    },
    "id": "UwuoE4XeMdBs"
   },
   "outputs": [],
   "source": [
    "#test_f = test[[\"keyword_mean\", \"long\", \"nro_term\"]]\n",
    "test_f = test.drop(labels=[\"id\", \"text\", \"keyword\", \"location\"], axis=1)"
   ]
  },
  {
   "cell_type": "code",
   "execution_count": 61,
   "metadata": {
    "colab": {},
    "colab_type": "code",
    "executionInfo": {
     "elapsed": 2067,
     "status": "ok",
     "timestamp": 1596304980017,
     "user": {
      "displayName": "Fernando Moreno",
      "photoUrl": "",
      "userId": "12085513332857029549"
     },
     "user_tz": 180
    },
    "id": "E9mVq6-eOhDQ"
   },
   "outputs": [],
   "source": [
    "hacer_submit(dt, df_f, df[\"target\"], test_f, test[\"id\"], \"dt.csv\")"
   ]
  },
  {
   "cell_type": "code",
   "execution_count": 62,
   "metadata": {
    "colab": {
     "base_uri": "https://localhost:8080/",
     "height": 17
    },
    "colab_type": "code",
    "executionInfo": {
     "elapsed": 860,
     "status": "ok",
     "timestamp": 1596304985262,
     "user": {
      "displayName": "Fernando Moreno",
      "photoUrl": "",
      "userId": "12085513332857029549"
     },
     "user_tz": 180
    },
    "id": "QC3agHhCRwL3",
    "outputId": "b9212310-ec8d-4348-be30-bdb49c64289e"
   },
   "outputs": [
    {
     "data": {
      "application/javascript": [
       "\n",
       "    async function download(id, filename, size) {\n",
       "      if (!google.colab.kernel.accessAllowed) {\n",
       "        return;\n",
       "      }\n",
       "      const div = document.createElement('div');\n",
       "      const label = document.createElement('label');\n",
       "      label.textContent = `Downloading \"${filename}\": `;\n",
       "      div.appendChild(label);\n",
       "      const progress = document.createElement('progress');\n",
       "      progress.max = size;\n",
       "      div.appendChild(progress);\n",
       "      document.body.appendChild(div);\n",
       "\n",
       "      const buffers = [];\n",
       "      let downloaded = 0;\n",
       "\n",
       "      const channel = await google.colab.kernel.comms.open(id);\n",
       "      // Send a message to notify the kernel that we're ready.\n",
       "      channel.send({})\n",
       "\n",
       "      for await (const message of channel.messages) {\n",
       "        // Send a message to notify the kernel that we're ready.\n",
       "        channel.send({})\n",
       "        if (message.buffers) {\n",
       "          for (const buffer of message.buffers) {\n",
       "            buffers.push(buffer);\n",
       "            downloaded += buffer.byteLength;\n",
       "            progress.value = downloaded;\n",
       "          }\n",
       "        }\n",
       "      }\n",
       "      const blob = new Blob(buffers, {type: 'application/binary'});\n",
       "      const a = document.createElement('a');\n",
       "      a.href = window.URL.createObjectURL(blob);\n",
       "      a.download = filename;\n",
       "      div.appendChild(a);\n",
       "      a.click();\n",
       "      div.remove();\n",
       "    }\n",
       "  "
      ],
      "text/plain": [
       "<IPython.core.display.Javascript object>"
      ]
     },
     "metadata": {
      "tags": []
     },
     "output_type": "display_data"
    },
    {
     "data": {
      "application/javascript": [
       "download(\"download_fa99303a-9d43-44f8-acc7-14866a0bc0be\", \"dt.csv\", 22741)"
      ],
      "text/plain": [
       "<IPython.core.display.Javascript object>"
      ]
     },
     "metadata": {
      "tags": []
     },
     "output_type": "display_data"
    }
   ],
   "source": [
    "files.download(\"dt.csv\")"
   ]
  },
  {
   "cell_type": "markdown",
   "metadata": {
    "colab_type": "text",
    "id": "qnmKQo-B7A_B"
   },
   "source": [
    "# Decision Tree"
   ]
  },
  {
   "cell_type": "code",
   "execution_count": 48,
   "metadata": {
    "colab": {},
    "colab_type": "code",
    "executionInfo": {
     "elapsed": 766,
     "status": "ok",
     "timestamp": 1596304704535,
     "user": {
      "displayName": "Fernando Moreno",
      "photoUrl": "",
      "userId": "12085513332857029549"
     },
     "user_tz": 180
    },
    "id": "lu96LZu77QbA"
   },
   "outputs": [],
   "source": [
    "dt = DecisionTreeClassifier()"
   ]
  },
  {
   "cell_type": "code",
   "execution_count": 64,
   "metadata": {
    "colab": {
     "base_uri": "https://localhost:8080/",
     "height": 51
    },
    "colab_type": "code",
    "executionInfo": {
     "elapsed": 9769,
     "status": "ok",
     "timestamp": 1596305829890,
     "user": {
      "displayName": "Fernando Moreno",
      "photoUrl": "",
      "userId": "12085513332857029549"
     },
     "user_tz": 180
    },
    "id": "lNrbM9KGmRNT",
    "outputId": "8fe0d0b4-97ad-4c7b-818b-7347739983f4"
   },
   "outputs": [
    {
     "data": {
      "text/plain": [
       "(array([0.69468155, 0.56336179, 0.60341431, 0.70302234, 0.67411301]),\n",
       " 0.6477185995204499)"
      ]
     },
     "execution_count": 64,
     "metadata": {
      "tags": []
     },
     "output_type": "execute_result"
    }
   ],
   "source": [
    "score = cross_val_score(dt, df_f, y=df[\"target\"], n_jobs=-1, scoring=\"accuracy\")\n",
    "score, score.mean()"
   ]
  },
  {
   "cell_type": "code",
   "execution_count": 65,
   "metadata": {
    "colab": {
     "base_uri": "https://localhost:8080/",
     "height": 340
    },
    "colab_type": "code",
    "executionInfo": {
     "elapsed": 144380,
     "status": "ok",
     "timestamp": 1596306020862,
     "user": {
      "displayName": "Fernando Moreno",
      "photoUrl": "",
      "userId": "12085513332857029549"
     },
     "user_tz": 180
    },
    "id": "OPBofAfAmrcg",
    "outputId": "392fd34c-47f4-47e9-ecb3-1ea61fcfe880"
   },
   "outputs": [
    {
     "data": {
      "text/plain": [
       "GridSearchCV(cv=None, error_score=nan,\n",
       "             estimator=DecisionTreeClassifier(ccp_alpha=0.0, class_weight=None,\n",
       "                                              criterion='gini', max_depth=None,\n",
       "                                              max_features=None,\n",
       "                                              max_leaf_nodes=None,\n",
       "                                              min_impurity_decrease=0.0,\n",
       "                                              min_impurity_split=None,\n",
       "                                              min_samples_leaf=1,\n",
       "                                              min_samples_split=2,\n",
       "                                              min_weight_fraction_leaf=0.0,\n",
       "                                              presort='deprecated',\n",
       "                                              random_state=None,\n",
       "                                              splitter='best'),\n",
       "             iid='deprecated', n_jobs=-1,\n",
       "             param_grid={'ccp_alpha': [0, 0.5, 1],\n",
       "                         'criterion': ['gini', 'entropy'],\n",
       "                         'min_samples_split': [2, 5, 7, 9]},\n",
       "             pre_dispatch='2*n_jobs', refit=True, return_train_score=False,\n",
       "             scoring='accuracy', verbose=0)"
      ]
     },
     "execution_count": 65,
     "metadata": {
      "tags": []
     },
     "output_type": "execute_result"
    }
   ],
   "source": [
    "gridcv = GridSearchCV(dt, {\"criterion\":[\"gini\", \"entropy\"], \"min_samples_split\":[2,5,7,9], \"ccp_alpha\":[0,0.5,1]}, scoring=\"accuracy\", n_jobs=-1)\n",
    "gridcv.fit(df_f, y=df[\"target\"])"
   ]
  },
  {
   "cell_type": "code",
   "execution_count": 51,
   "metadata": {
    "colab": {
     "base_uri": "https://localhost:8080/",
     "height": 34
    },
    "colab_type": "code",
    "executionInfo": {
     "elapsed": 770,
     "status": "ok",
     "timestamp": 1596304855382,
     "user": {
      "displayName": "Fernando Moreno",
      "photoUrl": "",
      "userId": "12085513332857029549"
     },
     "user_tz": 180
    },
    "id": "eKOqJZoimzKK",
    "outputId": "6b52380a-a207-4f28-87b1-28dcf6eb2237"
   },
   "outputs": [
    {
     "data": {
      "text/plain": [
       "{'ccp_alpha': 0, 'criterion': 'gini', 'min_samples_split': 2}"
      ]
     },
     "execution_count": 51,
     "metadata": {
      "tags": []
     },
     "output_type": "execute_result"
    }
   ],
   "source": [
    "gridcv.best_params_"
   ]
  },
  {
   "cell_type": "code",
   "execution_count": 52,
   "metadata": {
    "colab": {
     "base_uri": "https://localhost:8080/",
     "height": 34
    },
    "colab_type": "code",
    "executionInfo": {
     "elapsed": 773,
     "status": "ok",
     "timestamp": 1596304864020,
     "user": {
      "displayName": "Fernando Moreno",
      "photoUrl": "",
      "userId": "12085513332857029549"
     },
     "user_tz": 180
    },
    "id": "OqkyhVLormuG",
    "outputId": "e0929ddd-fc07-418b-805d-8cd1591bf2db"
   },
   "outputs": [
    {
     "data": {
      "text/plain": [
       "0.8295068261255579"
      ]
     },
     "execution_count": 52,
     "metadata": {
      "tags": []
     },
     "output_type": "execute_result"
    }
   ],
   "source": [
    "gridcv.best_score_"
   ]
  },
  {
   "cell_type": "code",
   "execution_count": null,
   "metadata": {
    "colab": {},
    "colab_type": "code",
    "id": "b5XYBtTIshVP"
   },
   "outputs": [],
   "source": [
    "dt = DecisionTreeClassifier()"
   ]
  },
  {
   "cell_type": "markdown",
   "metadata": {
    "colab_type": "text",
    "id": "x9T3evNutEYd"
   },
   "source": [
    "# ExtraTree"
   ]
  },
  {
   "cell_type": "code",
   "execution_count": null,
   "metadata": {
    "colab": {},
    "colab_type": "code",
    "id": "WQQWHYHctGlR"
   },
   "outputs": [],
   "source": [
    "et = ExtraTreeClassifier()"
   ]
  },
  {
   "cell_type": "code",
   "execution_count": null,
   "metadata": {
    "colab": {
     "base_uri": "https://localhost:8080/",
     "height": 34
    },
    "colab_type": "code",
    "executionInfo": {
     "elapsed": 4350,
     "status": "ok",
     "timestamp": 1595978205173,
     "user": {
      "displayName": "Fernando Moreno",
      "photoUrl": "",
      "userId": "12085513332857029549"
     },
     "user_tz": 180
    },
    "id": "o3YI1c-Pto52",
    "outputId": "fd385d8a-7773-40c5-962a-310170c4c1fe"
   },
   "outputs": [
    {
     "data": {
      "text/plain": [
       "array([0.68286277, 0.65331582, 0.58502955, 0.68659658, 0.70630749])"
      ]
     },
     "execution_count": 29,
     "metadata": {
      "tags": []
     },
     "output_type": "execute_result"
    }
   ],
   "source": [
    "cross_val_score(et, df_f, y=df[\"target\"], n_jobs=-1, scoring=\"accuracy\")"
   ]
  },
  {
   "cell_type": "code",
   "execution_count": null,
   "metadata": {
    "colab": {
     "base_uri": "https://localhost:8080/",
     "height": 323
    },
    "colab_type": "code",
    "executionInfo": {
     "elapsed": 46533,
     "status": "ok",
     "timestamp": 1595978872822,
     "user": {
      "displayName": "Fernando Moreno",
      "photoUrl": "",
      "userId": "12085513332857029549"
     },
     "user_tz": 180
    },
    "id": "nnn19f6wtv89",
    "outputId": "b83ac01f-00c5-4af7-bd09-3c772f3c10a2"
   },
   "outputs": [
    {
     "data": {
      "text/plain": [
       "GridSearchCV(cv=None, error_score=nan,\n",
       "             estimator=ExtraTreeClassifier(ccp_alpha=0.0, class_weight=None,\n",
       "                                           criterion='entropy', max_depth=None,\n",
       "                                           max_features='auto',\n",
       "                                           max_leaf_nodes=None,\n",
       "                                           min_impurity_decrease=0.0,\n",
       "                                           min_impurity_split=None,\n",
       "                                           min_samples_leaf=1,\n",
       "                                           min_samples_split=7,\n",
       "                                           min_weight_fraction_leaf=0.0,\n",
       "                                           random_state=None,\n",
       "                                           splitter='random'),\n",
       "             iid='deprecated', n_jobs=-1,\n",
       "             param_grid={'ccp_alpha': [0, 0.5, 1],\n",
       "                         'criterion': ['gini', 'entropy'],\n",
       "                         'min_samples_split': [2, 5, 7, 9]},\n",
       "             pre_dispatch='2*n_jobs', refit=True, return_train_score=False,\n",
       "             scoring='accuracy', verbose=0)"
      ]
     },
     "execution_count": 34,
     "metadata": {
      "tags": []
     },
     "output_type": "execute_result"
    }
   ],
   "source": [
    "gridcv = GridSearchCV(et, {\"criterion\":[\"gini\", \"entropy\"], \"min_samples_split\":[2,5,7,9], \"ccp_alpha\":[0,0.5,1]}, scoring=\"accuracy\", n_jobs=-1)\n",
    "gridcv.fit(df_f, y=df[\"target\"])"
   ]
  },
  {
   "cell_type": "code",
   "execution_count": null,
   "metadata": {
    "colab": {
     "base_uri": "https://localhost:8080/",
     "height": 34
    },
    "colab_type": "code",
    "executionInfo": {
     "elapsed": 887,
     "status": "ok",
     "timestamp": 1595978883296,
     "user": {
      "displayName": "Fernando Moreno",
      "photoUrl": "",
      "userId": "12085513332857029549"
     },
     "user_tz": 180
    },
    "id": "xbGN4EM4t9Ss",
    "outputId": "8e7409a1-b2aa-430b-c780-bae4820746ea"
   },
   "outputs": [
    {
     "data": {
      "text/plain": [
       "{'ccp_alpha': 0, 'criterion': 'entropy', 'min_samples_split': 9}"
      ]
     },
     "execution_count": 35,
     "metadata": {
      "tags": []
     },
     "output_type": "execute_result"
    }
   ],
   "source": [
    "gridcv.best_params_"
   ]
  },
  {
   "cell_type": "code",
   "execution_count": null,
   "metadata": {
    "colab": {
     "base_uri": "https://localhost:8080/",
     "height": 34
    },
    "colab_type": "code",
    "executionInfo": {
     "elapsed": 1231,
     "status": "ok",
     "timestamp": 1595978889852,
     "user": {
      "displayName": "Fernando Moreno",
      "photoUrl": "",
      "userId": "12085513332857029549"
     },
     "user_tz": 180
    },
    "id": "q5-dU0qmuDjc",
    "outputId": "f430da1b-8709-43ad-da7f-30925f57ef55"
   },
   "outputs": [
    {
     "data": {
      "text/plain": [
       "0.6917122733935978"
      ]
     },
     "execution_count": 36,
     "metadata": {
      "tags": []
     },
     "output_type": "execute_result"
    }
   ],
   "source": [
    "gridcv.best_score_"
   ]
  },
  {
   "cell_type": "code",
   "execution_count": null,
   "metadata": {
    "colab": {},
    "colab_type": "code",
    "id": "I8JsqHp1vNQT"
   },
   "outputs": [],
   "source": [
    "et = ExtraTreeClassifier(criterion=\"entropy\")"
   ]
  },
  {
   "cell_type": "code",
   "execution_count": null,
   "metadata": {
    "colab": {
     "base_uri": "https://localhost:8080/",
     "height": 289
    },
    "colab_type": "code",
    "executionInfo": {
     "elapsed": 8583,
     "status": "ok",
     "timestamp": 1595978952294,
     "user": {
      "displayName": "Fernando Moreno",
      "photoUrl": "",
      "userId": "12085513332857029549"
     },
     "user_tz": 180
    },
    "id": "a6GTTZZ9vrLM",
    "outputId": "1744b9f0-6255-459b-c17d-0e2f44d4361e"
   },
   "outputs": [
    {
     "data": {
      "text/plain": [
       "GridSearchCV(cv=None, error_score=nan,\n",
       "             estimator=ExtraTreeClassifier(ccp_alpha=0.0, class_weight=None,\n",
       "                                           criterion='entropy', max_depth=None,\n",
       "                                           max_features='auto',\n",
       "                                           max_leaf_nodes=None,\n",
       "                                           min_impurity_decrease=0.0,\n",
       "                                           min_impurity_split=None,\n",
       "                                           min_samples_leaf=1,\n",
       "                                           min_samples_split=2,\n",
       "                                           min_weight_fraction_leaf=0.0,\n",
       "                                           random_state=None,\n",
       "                                           splitter='random'),\n",
       "             iid='deprecated', n_jobs=-1,\n",
       "             param_grid={'min_samples_split': [9, 11, 13, 15]},\n",
       "             pre_dispatch='2*n_jobs', refit=True, return_train_score=False,\n",
       "             scoring='accuracy', verbose=0)"
      ]
     },
     "execution_count": 38,
     "metadata": {
      "tags": []
     },
     "output_type": "execute_result"
    }
   ],
   "source": [
    "gridcv = GridSearchCV(et, {\"min_samples_split\":[9,11,13,15]}, scoring=\"accuracy\", n_jobs=-1)\n",
    "gridcv.fit(df_f, y=df[\"target\"])"
   ]
  },
  {
   "cell_type": "code",
   "execution_count": null,
   "metadata": {
    "colab": {
     "base_uri": "https://localhost:8080/",
     "height": 34
    },
    "colab_type": "code",
    "executionInfo": {
     "elapsed": 938,
     "status": "ok",
     "timestamp": 1595978962711,
     "user": {
      "displayName": "Fernando Moreno",
      "photoUrl": "",
      "userId": "12085513332857029549"
     },
     "user_tz": 180
    },
    "id": "UxJdrv5hwiAD",
    "outputId": "1826356e-6b59-44c4-b957-42347c5a787b"
   },
   "outputs": [
    {
     "data": {
      "text/plain": [
       "{'min_samples_split': 13}"
      ]
     },
     "execution_count": 39,
     "metadata": {
      "tags": []
     },
     "output_type": "execute_result"
    }
   ],
   "source": [
    "gridcv.best_params_"
   ]
  },
  {
   "cell_type": "code",
   "execution_count": null,
   "metadata": {
    "colab": {
     "base_uri": "https://localhost:8080/",
     "height": 34
    },
    "colab_type": "code",
    "executionInfo": {
     "elapsed": 828,
     "status": "ok",
     "timestamp": 1595978976883,
     "user": {
      "displayName": "Fernando Moreno",
      "photoUrl": "",
      "userId": "12085513332857029549"
     },
     "user_tz": 180
    },
    "id": "nd9bdkcfwiKq",
    "outputId": "76855da5-9799-49bd-f0dc-8fc399bde2d6"
   },
   "outputs": [
    {
     "data": {
      "text/plain": [
       "0.6588812108337943"
      ]
     },
     "execution_count": 40,
     "metadata": {
      "tags": []
     },
     "output_type": "execute_result"
    }
   ],
   "source": [
    "gridcv.best_score_"
   ]
  },
  {
   "cell_type": "code",
   "execution_count": null,
   "metadata": {
    "colab": {},
    "colab_type": "code",
    "id": "Ye4Q1sAewuUx"
   },
   "outputs": [],
   "source": [
    "et = ExtraTreeClassifier(criterion=\"entropy\", min_samples_split=13)"
   ]
  },
  {
   "cell_type": "code",
   "execution_count": null,
   "metadata": {
    "colab": {
     "base_uri": "https://localhost:8080/",
     "height": 289
    },
    "colab_type": "code",
    "executionInfo": {
     "elapsed": 10113,
     "status": "ok",
     "timestamp": 1595979075650,
     "user": {
      "displayName": "Fernando Moreno",
      "photoUrl": "",
      "userId": "12085513332857029549"
     },
     "user_tz": 180
    },
    "id": "I_iN9-rVw3R1",
    "outputId": "f37f6462-9bde-4ae3-d8bd-63e2786d9bc9"
   },
   "outputs": [
    {
     "data": {
      "text/plain": [
       "GridSearchCV(cv=None, error_score=nan,\n",
       "             estimator=ExtraTreeClassifier(ccp_alpha=0.0, class_weight=None,\n",
       "                                           criterion='entropy', max_depth=None,\n",
       "                                           max_features='auto',\n",
       "                                           max_leaf_nodes=None,\n",
       "                                           min_impurity_decrease=0.0,\n",
       "                                           min_impurity_split=None,\n",
       "                                           min_samples_leaf=1,\n",
       "                                           min_samples_split=13,\n",
       "                                           min_weight_fraction_leaf=0.0,\n",
       "                                           random_state=None,\n",
       "                                           splitter='random'),\n",
       "             iid='deprecated', n_jobs=-1,\n",
       "             param_grid={'min_samples_leaf': [1, 2, 5, 7, 9, 11]},\n",
       "             pre_dispatch='2*n_jobs', refit=True, return_train_score=False,\n",
       "             scoring='accuracy', verbose=0)"
      ]
     },
     "execution_count": 42,
     "metadata": {
      "tags": []
     },
     "output_type": "execute_result"
    }
   ],
   "source": [
    "gridcv = GridSearchCV(et, {\"min_samples_leaf\":[1,2,5,7,9,11]}, scoring=\"accuracy\", n_jobs=-1)\n",
    "gridcv.fit(df_f, y=df[\"target\"])"
   ]
  },
  {
   "cell_type": "code",
   "execution_count": null,
   "metadata": {
    "colab": {
     "base_uri": "https://localhost:8080/",
     "height": 34
    },
    "colab_type": "code",
    "executionInfo": {
     "elapsed": 799,
     "status": "ok",
     "timestamp": 1595979083220,
     "user": {
      "displayName": "Fernando Moreno",
      "photoUrl": "",
      "userId": "12085513332857029549"
     },
     "user_tz": 180
    },
    "id": "oe1GSgg7w_dW",
    "outputId": "688b72da-e71c-4abf-b181-672536d61a7b"
   },
   "outputs": [
    {
     "data": {
      "text/plain": [
       "{'min_samples_leaf': 1}"
      ]
     },
     "execution_count": 43,
     "metadata": {
      "tags": []
     },
     "output_type": "execute_result"
    }
   ],
   "source": [
    "gridcv.best_params_"
   ]
  },
  {
   "cell_type": "code",
   "execution_count": null,
   "metadata": {
    "colab": {
     "base_uri": "https://localhost:8080/",
     "height": 34
    },
    "colab_type": "code",
    "executionInfo": {
     "elapsed": 754,
     "status": "ok",
     "timestamp": 1595979097320,
     "user": {
      "displayName": "Fernando Moreno",
      "photoUrl": "",
      "userId": "12085513332857029549"
     },
     "user_tz": 180
    },
    "id": "xch_cyB7xDui",
    "outputId": "db4e9af9-afb5-4be6-96d0-016f35c45545"
   },
   "outputs": [
    {
     "data": {
      "text/plain": [
       "0.6781893575771589"
      ]
     },
     "execution_count": 44,
     "metadata": {
      "tags": []
     },
     "output_type": "execute_result"
    }
   ],
   "source": [
    "gridcv.best_score_"
   ]
  },
  {
   "cell_type": "code",
   "execution_count": null,
   "metadata": {
    "colab": {},
    "colab_type": "code",
    "id": "MfdVqd8HHaFR"
   },
   "outputs": [],
   "source": [
    "et = ExtraTreeClassifier(criterion=\"entropy\", min_samples_split=13)"
   ]
  },
  {
   "cell_type": "markdown",
   "metadata": {
    "colab_type": "text",
    "id": "p_EEwyqDxJie"
   },
   "source": [
    "# Random Forest"
   ]
  },
  {
   "cell_type": "code",
   "execution_count": null,
   "metadata": {
    "colab": {},
    "colab_type": "code",
    "id": "TV-SYwW2xQeG"
   },
   "outputs": [],
   "source": [
    "rf = RandomForestClassifier(oob_score=True, n_jobs=-1)"
   ]
  },
  {
   "cell_type": "code",
   "execution_count": null,
   "metadata": {
    "colab": {
     "base_uri": "https://localhost:8080/",
     "height": 34
    },
    "colab_type": "code",
    "executionInfo": {
     "elapsed": 62904,
     "status": "ok",
     "timestamp": 1595979553950,
     "user": {
      "displayName": "Fernando Moreno",
      "photoUrl": "",
      "userId": "12085513332857029549"
     },
     "user_tz": 180
    },
    "id": "SnfKvcUwxbQ0",
    "outputId": "2a43bc4b-f8cf-4a4c-ec80-80d8f21a7371"
   },
   "outputs": [
    {
     "data": {
      "text/plain": [
       "array([0.63821405, 0.7209455 , 0.73342088, 0.77463863, 0.64454665])"
      ]
     },
     "execution_count": 48,
     "metadata": {
      "tags": []
     },
     "output_type": "execute_result"
    }
   ],
   "source": [
    "cross_val_score(rf, df_f, y=df[\"target\"], n_jobs=-1, scoring=\"accuracy\")"
   ]
  },
  {
   "cell_type": "code",
   "execution_count": null,
   "metadata": {
    "colab": {
     "base_uri": "https://localhost:8080/",
     "height": 391
    },
    "colab_type": "code",
    "executionInfo": {
     "elapsed": 4569735,
     "status": "ok",
     "timestamp": 1595984149828,
     "user": {
      "displayName": "Fernando Moreno",
      "photoUrl": "",
      "userId": "12085513332857029549"
     },
     "user_tz": 180
    },
    "id": "2hHEzhCMxhZS",
    "outputId": "34e450ce-baad-45f2-958d-ea67af67230f"
   },
   "outputs": [
    {
     "data": {
      "text/plain": [
       "GridSearchCV(cv=None, error_score=nan,\n",
       "             estimator=RandomForestClassifier(bootstrap=True, ccp_alpha=0.0,\n",
       "                                              class_weight=None,\n",
       "                                              criterion='gini', max_depth=None,\n",
       "                                              max_features='auto',\n",
       "                                              max_leaf_nodes=None,\n",
       "                                              max_samples=None,\n",
       "                                              min_impurity_decrease=0.0,\n",
       "                                              min_impurity_split=None,\n",
       "                                              min_samples_leaf=1,\n",
       "                                              min_samples_split=2,\n",
       "                                              min_weight_fraction_leaf=0.0,\n",
       "                                              n_estimators=100, n_jobs=-1,\n",
       "                                              oob_score=True, random_state=None,\n",
       "                                              verbose=0, warm_start=False),\n",
       "             iid='deprecated', n_jobs=-1,\n",
       "             param_grid={'ccp_alpha': [0, 0.5, 1],\n",
       "                         'criterion': ['gini', 'entropy'],\n",
       "                         'min_samples_split': [2, 5, 7, 9],\n",
       "                         'n_estimators': [80, 100, 120]},\n",
       "             pre_dispatch='2*n_jobs', refit=True, return_train_score=False,\n",
       "             scoring='accuracy', verbose=0)"
      ]
     },
     "execution_count": 49,
     "metadata": {
      "tags": []
     },
     "output_type": "execute_result"
    }
   ],
   "source": [
    "gridcv = GridSearchCV(rf, {\"n_estimators\":[80,100,120], \"criterion\":[\"gini\", \"entropy\"], \"min_samples_split\":[2,5,7,9], \"ccp_alpha\":[0,0.5,1]}, \\\n",
    "                      scoring=\"accuracy\", n_jobs=-1)\n",
    "gridcv.fit(df_f, y=df[\"target\"])"
   ]
  },
  {
   "cell_type": "code",
   "execution_count": null,
   "metadata": {
    "colab": {
     "base_uri": "https://localhost:8080/",
     "height": 85
    },
    "colab_type": "code",
    "executionInfo": {
     "elapsed": 731,
     "status": "ok",
     "timestamp": 1595984452808,
     "user": {
      "displayName": "Fernando Moreno",
      "photoUrl": "",
      "userId": "12085513332857029549"
     },
     "user_tz": 180
    },
    "id": "QagIaDDWy8xD",
    "outputId": "170fbd86-6b74-47c5-e0c9-ab83217ad410"
   },
   "outputs": [
    {
     "data": {
      "text/plain": [
       "{'ccp_alpha': 0,\n",
       " 'criterion': 'gini',\n",
       " 'min_samples_split': 2,\n",
       " 'n_estimators': 120}"
      ]
     },
     "execution_count": 50,
     "metadata": {
      "tags": []
     },
     "output_type": "execute_result"
    }
   ],
   "source": [
    "gridcv.best_params_"
   ]
  },
  {
   "cell_type": "code",
   "execution_count": null,
   "metadata": {
    "colab": {
     "base_uri": "https://localhost:8080/",
     "height": 34
    },
    "colab_type": "code",
    "executionInfo": {
     "elapsed": 856,
     "status": "ok",
     "timestamp": 1595984455343,
     "user": {
      "displayName": "Fernando Moreno",
      "photoUrl": "",
      "userId": "12085513332857029549"
     },
     "user_tz": 180
    },
    "id": "X6lZtZsey8_W",
    "outputId": "170188f2-50d5-44a9-f80d-689389901f77"
   },
   "outputs": [
    {
     "data": {
      "text/plain": [
       "0.7295491901228901"
      ]
     },
     "execution_count": 51,
     "metadata": {
      "tags": []
     },
     "output_type": "execute_result"
    }
   ],
   "source": [
    "gridcv.best_score_"
   ]
  },
  {
   "cell_type": "code",
   "execution_count": null,
   "metadata": {
    "colab": {
     "base_uri": "https://localhost:8080/",
     "height": 340
    },
    "colab_type": "code",
    "executionInfo": {
     "elapsed": 178617,
     "status": "ok",
     "timestamp": 1596130600556,
     "user": {
      "displayName": "Fernando Moreno",
      "photoUrl": "",
      "userId": "12085513332857029549"
     },
     "user_tz": 180
    },
    "id": "DxjScMtgFuN4",
    "outputId": "af7eb0ba-fd46-487b-838b-abe78cf04bd3"
   },
   "outputs": [
    {
     "data": {
      "text/plain": [
       "GridSearchCV(cv=None, error_score=nan,\n",
       "             estimator=RandomForestClassifier(bootstrap=True, ccp_alpha=0.0,\n",
       "                                              class_weight=None,\n",
       "                                              criterion='gini', max_depth=None,\n",
       "                                              max_features='auto',\n",
       "                                              max_leaf_nodes=None,\n",
       "                                              max_samples=None,\n",
       "                                              min_impurity_decrease=0.0,\n",
       "                                              min_impurity_split=None,\n",
       "                                              min_samples_leaf=1,\n",
       "                                              min_samples_split=2,\n",
       "                                              min_weight_fraction_leaf=0.0,\n",
       "                                              n_estimators=100, n_jobs=-1,\n",
       "                                              oob_score=True, random_state=None,\n",
       "                                              verbose=0, warm_start=False),\n",
       "             iid='deprecated', n_jobs=-1,\n",
       "             param_grid={'n_estimators': [120, 140, 160]},\n",
       "             pre_dispatch='2*n_jobs', refit=True, return_train_score=False,\n",
       "             scoring='accuracy', verbose=0)"
      ]
     },
     "execution_count": 19,
     "metadata": {
      "tags": []
     },
     "output_type": "execute_result"
    }
   ],
   "source": [
    "gridcv = GridSearchCV(rf, {\"n_estimators\":[120,140,160]}, scoring=\"accuracy\", n_jobs=-1)\n",
    "gridcv.fit(df_f, y=df[\"target\"])"
   ]
  },
  {
   "cell_type": "code",
   "execution_count": null,
   "metadata": {
    "colab": {
     "base_uri": "https://localhost:8080/",
     "height": 34
    },
    "colab_type": "code",
    "executionInfo": {
     "elapsed": 1027,
     "status": "ok",
     "timestamp": 1596130608017,
     "user": {
      "displayName": "Fernando Moreno",
      "photoUrl": "",
      "userId": "12085513332857029549"
     },
     "user_tz": 180
    },
    "id": "q5mkYRXGGXCq",
    "outputId": "7a319798-3cfb-4720-b111-e72505a7dfc6"
   },
   "outputs": [
    {
     "data": {
      "text/plain": [
       "{'n_estimators': 160}"
      ]
     },
     "execution_count": 20,
     "metadata": {
      "tags": []
     },
     "output_type": "execute_result"
    }
   ],
   "source": [
    "gridcv.best_params_"
   ]
  },
  {
   "cell_type": "code",
   "execution_count": null,
   "metadata": {
    "colab": {
     "base_uri": "https://localhost:8080/",
     "height": 34
    },
    "colab_type": "code",
    "executionInfo": {
     "elapsed": 1174,
     "status": "ok",
     "timestamp": 1596130610928,
     "user": {
      "displayName": "Fernando Moreno",
      "photoUrl": "",
      "userId": "12085513332857029549"
     },
     "user_tz": 180
    },
    "id": "0HVM7t6qGXP2",
    "outputId": "4359e997-8577-4a42-bb69-392a35845c9d"
   },
   "outputs": [
    {
     "data": {
      "text/plain": [
       "0.7103681353715219"
      ]
     },
     "execution_count": 21,
     "metadata": {
      "tags": []
     },
     "output_type": "execute_result"
    }
   ],
   "source": [
    "gridcv.best_score_"
   ]
  },
  {
   "cell_type": "code",
   "execution_count": null,
   "metadata": {
    "colab": {
     "base_uri": "https://localhost:8080/",
     "height": 340
    },
    "colab_type": "code",
    "executionInfo": {
     "elapsed": 226520,
     "status": "ok",
     "timestamp": 1596130870605,
     "user": {
      "displayName": "Fernando Moreno",
      "photoUrl": "",
      "userId": "12085513332857029549"
     },
     "user_tz": 180
    },
    "id": "8jyq_048zHt1",
    "outputId": "a436e1d2-5a3d-4801-96d1-cc715b750a4b"
   },
   "outputs": [
    {
     "data": {
      "text/plain": [
       "GridSearchCV(cv=None, error_score=nan,\n",
       "             estimator=RandomForestClassifier(bootstrap=True, ccp_alpha=0.0,\n",
       "                                              class_weight=None,\n",
       "                                              criterion='gini', max_depth=None,\n",
       "                                              max_features='auto',\n",
       "                                              max_leaf_nodes=None,\n",
       "                                              max_samples=None,\n",
       "                                              min_impurity_decrease=0.0,\n",
       "                                              min_impurity_split=None,\n",
       "                                              min_samples_leaf=1,\n",
       "                                              min_samples_split=2,\n",
       "                                              min_weight_fraction_leaf=0.0,\n",
       "                                              n_estimators=100, n_jobs=-1,\n",
       "                                              oob_score=True, random_state=None,\n",
       "                                              verbose=0, warm_start=False),\n",
       "             iid='deprecated', n_jobs=-1,\n",
       "             param_grid={'n_estimators': [160, 180, 200]},\n",
       "             pre_dispatch='2*n_jobs', refit=True, return_train_score=False,\n",
       "             scoring='accuracy', verbose=0)"
      ]
     },
     "execution_count": 22,
     "metadata": {
      "tags": []
     },
     "output_type": "execute_result"
    }
   ],
   "source": [
    "gridcv = GridSearchCV(rf, {\"n_estimators\":[160,180,200]}, scoring=\"accuracy\", n_jobs=-1)\n",
    "gridcv.fit(df_f, y=df[\"target\"])"
   ]
  },
  {
   "cell_type": "code",
   "execution_count": null,
   "metadata": {
    "colab": {
     "base_uri": "https://localhost:8080/",
     "height": 34
    },
    "colab_type": "code",
    "executionInfo": {
     "elapsed": 1075,
     "status": "ok",
     "timestamp": 1596130895841,
     "user": {
      "displayName": "Fernando Moreno",
      "photoUrl": "",
      "userId": "12085513332857029549"
     },
     "user_tz": 180
    },
    "id": "HaObob5czN1N",
    "outputId": "e3323200-93e9-49d3-a278-48e63cf6f0d9"
   },
   "outputs": [
    {
     "data": {
      "text/plain": [
       "{'n_estimators': 200}"
      ]
     },
     "execution_count": 23,
     "metadata": {
      "tags": []
     },
     "output_type": "execute_result"
    }
   ],
   "source": [
    "gridcv.best_params_"
   ]
  },
  {
   "cell_type": "code",
   "execution_count": null,
   "metadata": {
    "colab": {
     "base_uri": "https://localhost:8080/",
     "height": 34
    },
    "colab_type": "code",
    "executionInfo": {
     "elapsed": 1088,
     "status": "ok",
     "timestamp": 1596130898745,
     "user": {
      "displayName": "Fernando Moreno",
      "photoUrl": "",
      "userId": "12085513332857029549"
     },
     "user_tz": 180
    },
    "id": "q-xpCGqWzN-V",
    "outputId": "e9724d4f-fe19-485a-ed92-d1e14b3c8b61"
   },
   "outputs": [
    {
     "data": {
      "text/plain": [
       "0.7132582918249565"
      ]
     },
     "execution_count": 24,
     "metadata": {
      "tags": []
     },
     "output_type": "execute_result"
    }
   ],
   "source": [
    "gridcv.best_score_"
   ]
  },
  {
   "cell_type": "code",
   "execution_count": null,
   "metadata": {
    "colab": {},
    "colab_type": "code",
    "id": "5oLfUZVUHQW0"
   },
   "outputs": [],
   "source": [
    "rf = RandomForestClassifier(n_estimators=160, oob_score=True, n_jobs=-1)"
   ]
  },
  {
   "cell_type": "markdown",
   "metadata": {
    "colab_type": "text",
    "id": "GfmWlpBFyjv9"
   },
   "source": [
    "# XGBoost"
   ]
  },
  {
   "cell_type": "code",
   "execution_count": null,
   "metadata": {
    "colab": {},
    "colab_type": "code",
    "id": "pIAP1Vo0ymSO"
   },
   "outputs": [],
   "source": [
    "xg = xgb.XGBClassifier(n_jobs=-1)"
   ]
  },
  {
   "cell_type": "code",
   "execution_count": null,
   "metadata": {
    "colab": {
     "base_uri": "https://localhost:8080/",
     "height": 34
    },
    "colab_type": "code",
    "executionInfo": {
     "elapsed": 122186,
     "status": "ok",
     "timestamp": 1596131896819,
     "user": {
      "displayName": "Fernando Moreno",
      "photoUrl": "",
      "userId": "12085513332857029549"
     },
     "user_tz": 180
    },
    "id": "f0FH_cOxy8If",
    "outputId": "e46a3b5f-74cd-4818-c102-c18f13099097"
   },
   "outputs": [
    {
     "data": {
      "text/plain": [
       "array([0.69862114, 0.71372292, 0.71372292, 0.81406045, 0.69842313])"
      ]
     },
     "execution_count": 27,
     "metadata": {
      "tags": []
     },
     "output_type": "execute_result"
    }
   ],
   "source": [
    "cross_val_score(xg, df_f, y=df[\"target\"], n_jobs=-1, scoring=\"accuracy\")"
   ]
  },
  {
   "cell_type": "code",
   "execution_count": null,
   "metadata": {
    "colab": {
     "base_uri": "https://localhost:8080/",
     "height": 306
    },
    "colab_type": "code",
    "executionInfo": {
     "elapsed": 6115321,
     "status": "ok",
     "timestamp": 1596141195646,
     "user": {
      "displayName": "Fernando Moreno",
      "photoUrl": "",
      "userId": "12085513332857029549"
     },
     "user_tz": 180
    },
    "id": "FJKqIWzv0AOq",
    "outputId": "4889b67d-177e-4b85-b19d-b21e986b8488"
   },
   "outputs": [
    {
     "data": {
      "text/plain": [
       "GridSearchCV(cv=None, error_score=nan,\n",
       "             estimator=XGBClassifier(base_score=0.5, booster='gbtree',\n",
       "                                     colsample_bylevel=1, colsample_bynode=1,\n",
       "                                     colsample_bytree=1, gamma=0,\n",
       "                                     learning_rate=0.1, max_delta_step=0,\n",
       "                                     max_depth=3, min_child_weight=1,\n",
       "                                     missing=None, n_estimators=100, n_jobs=-1,\n",
       "                                     nthread=None, objective='binary:logistic',\n",
       "                                     random_state=0, reg_alpha=0, reg_lambda=1,\n",
       "                                     scale_pos_weight=1, seed=None, silent=None,\n",
       "                                     subsample=1, verbosity=1),\n",
       "             iid='deprecated', n_jobs=-1,\n",
       "             param_grid={'gamma': [0.1, 0.5, 1], 'learning_rate': [0.1, 0.5, 1],\n",
       "                         'reg_alpha': [0.1, 0.5, 1],\n",
       "                         'reg_lambda': [0.1, 0.5, 1]},\n",
       "             pre_dispatch='2*n_jobs', refit=True, return_train_score=False,\n",
       "             scoring='accuracy', verbose=0)"
      ]
     },
     "execution_count": 28,
     "metadata": {
      "tags": []
     },
     "output_type": "execute_result"
    }
   ],
   "source": [
    "gridcv = GridSearchCV(xg, {\"learning_rate\":[0.1,0.5,1], \"gamma\":[0.1,0.5,1], \"reg_alpha\":[0.1,0.5,1], \"reg_lambda\":[0.1,0.5,1]}, \\\n",
    "                      scoring=\"accuracy\", n_jobs=-1)\n",
    "gridcv.fit(df_f, y=df[\"target\"])"
   ]
  },
  {
   "cell_type": "code",
   "execution_count": null,
   "metadata": {
    "colab": {
     "base_uri": "https://localhost:8080/",
     "height": 34
    },
    "colab_type": "code",
    "executionInfo": {
     "elapsed": 999,
     "status": "ok",
     "timestamp": 1596142182600,
     "user": {
      "displayName": "Fernando Moreno",
      "photoUrl": "",
      "userId": "12085513332857029549"
     },
     "user_tz": 180
    },
    "id": "KajSGPQefIIv",
    "outputId": "965f4920-5297-42f7-a037-bdc0bd6473aa"
   },
   "outputs": [
    {
     "data": {
      "text/plain": [
       "{'gamma': 1, 'learning_rate': 0.1, 'reg_alpha': 0.1, 'reg_lambda': 1}"
      ]
     },
     "execution_count": 29,
     "metadata": {
      "tags": []
     },
     "output_type": "execute_result"
    }
   ],
   "source": [
    "gridcv.best_params_"
   ]
  },
  {
   "cell_type": "code",
   "execution_count": null,
   "metadata": {
    "colab": {
     "base_uri": "https://localhost:8080/",
     "height": 34
    },
    "colab_type": "code",
    "executionInfo": {
     "elapsed": 1049,
     "status": "ok",
     "timestamp": 1596142197582,
     "user": {
      "displayName": "Fernando Moreno",
      "photoUrl": "",
      "userId": "12085513332857029549"
     },
     "user_tz": 180
    },
    "id": "z06LeMrSfI8V",
    "outputId": "ca81b847-3e50-45f7-97d9-6e8bbf69e565"
   },
   "outputs": [
    {
     "data": {
      "text/plain": [
       "0.7337538384283733"
      ]
     },
     "execution_count": 30,
     "metadata": {
      "tags": []
     },
     "output_type": "execute_result"
    }
   ],
   "source": [
    "gridcv.best_score_"
   ]
  },
  {
   "cell_type": "code",
   "execution_count": null,
   "metadata": {
    "colab": {
     "base_uri": "https://localhost:8080/",
     "height": 306
    },
    "colab_type": "code",
    "executionInfo": {
     "elapsed": 9130715,
     "status": "ok",
     "timestamp": 1596151454802,
     "user": {
      "displayName": "Fernando Moreno",
      "photoUrl": "",
      "userId": "12085513332857029549"
     },
     "user_tz": 180
    },
    "id": "wcKz4j0OfaSB",
    "outputId": "816ce43b-4963-4d0c-e327-9722772ad5ba"
   },
   "outputs": [
    {
     "data": {
      "text/plain": [
       "GridSearchCV(cv=None, error_score=nan,\n",
       "             estimator=XGBClassifier(base_score=0.5, booster='gbtree',\n",
       "                                     colsample_bylevel=1, colsample_bynode=1,\n",
       "                                     colsample_bytree=1, gamma=0,\n",
       "                                     learning_rate=0.1, max_delta_step=0,\n",
       "                                     max_depth=3, min_child_weight=1,\n",
       "                                     missing=None, n_estimators=100, n_jobs=-1,\n",
       "                                     nthread=None, objective='binary:logistic',\n",
       "                                     random_state=0, reg_alpha=0, reg_lambda=1,\n",
       "                                     scale_pos_weight=1, seed=None, silent=None,\n",
       "                                     subsample=1, verbosity=1),\n",
       "             iid='deprecated', n_jobs=-1,\n",
       "             param_grid={'gamma': [1, 2, 3], 'learning_rate': [0.05, 0.1, 0.15],\n",
       "                         'reg_alpha': [0.05, 0.1, 0.15],\n",
       "                         'reg_lambda': [1, 2, 3]},\n",
       "             pre_dispatch='2*n_jobs', refit=True, return_train_score=False,\n",
       "             scoring='accuracy', verbose=0)"
      ]
     },
     "execution_count": 31,
     "metadata": {
      "tags": []
     },
     "output_type": "execute_result"
    }
   ],
   "source": [
    "gridcv = GridSearchCV(xg, {\"learning_rate\":[0.05,0.1,0.15], \"gamma\":[1,2,3], \"reg_alpha\":[0.05,0.1,0.15], \"reg_lambda\":[1,2,3]}, \\\n",
    "                      scoring=\"accuracy\", n_jobs=-1)\n",
    "gridcv.fit(df_f, y=df[\"target\"])"
   ]
  },
  {
   "cell_type": "code",
   "execution_count": null,
   "metadata": {
    "colab": {
     "base_uri": "https://localhost:8080/",
     "height": 34
    },
    "colab_type": "code",
    "executionInfo": {
     "elapsed": 1008,
     "status": "ok",
     "timestamp": 1596151864012,
     "user": {
      "displayName": "Fernando Moreno",
      "photoUrl": "",
      "userId": "12085513332857029549"
     },
     "user_tz": 180
    },
    "id": "ZlF-rBM9EG3o",
    "outputId": "0921f507-0f5b-4599-88fd-b6829d716201"
   },
   "outputs": [
    {
     "data": {
      "text/plain": [
       "{'gamma': 1, 'learning_rate': 0.1, 'reg_alpha': 0.1, 'reg_lambda': 1}"
      ]
     },
     "execution_count": 32,
     "metadata": {
      "tags": []
     },
     "output_type": "execute_result"
    }
   ],
   "source": [
    "gridcv.best_params_"
   ]
  },
  {
   "cell_type": "code",
   "execution_count": null,
   "metadata": {
    "colab": {
     "base_uri": "https://localhost:8080/",
     "height": 34
    },
    "colab_type": "code",
    "executionInfo": {
     "elapsed": 1054,
     "status": "ok",
     "timestamp": 1596151892669,
     "user": {
      "displayName": "Fernando Moreno",
      "photoUrl": "",
      "userId": "12085513332857029549"
     },
     "user_tz": 180
    },
    "id": "9CN70-CHENr6",
    "outputId": "177f2fe8-5dbc-4fef-a78a-2435b2477a10"
   },
   "outputs": [
    {
     "data": {
      "text/plain": [
       "0.7337538384283733"
      ]
     },
     "execution_count": 33,
     "metadata": {
      "tags": []
     },
     "output_type": "execute_result"
    }
   ],
   "source": [
    "gridcv.best_score_"
   ]
  },
  {
   "cell_type": "code",
   "execution_count": null,
   "metadata": {
    "colab": {},
    "colab_type": "code",
    "id": "ryhcN7FYEbEY"
   },
   "outputs": [],
   "source": [
    "xg = xgb.XGBClassifier(gamma=1, reg_alpha=0.1, n_jobs=-1)"
   ]
  },
  {
   "cell_type": "code",
   "execution_count": null,
   "metadata": {
    "colab": {
     "base_uri": "https://localhost:8080/",
     "height": 306
    },
    "colab_type": "code",
    "executionInfo": {
     "elapsed": 4075427,
     "status": "ok",
     "timestamp": 1596156243825,
     "user": {
      "displayName": "Fernando Moreno",
      "photoUrl": "",
      "userId": "12085513332857029549"
     },
     "user_tz": 180
    },
    "id": "Io0SV9ADEVS4",
    "outputId": "56a847fc-7fc9-448b-c4fe-9644a837a4d8"
   },
   "outputs": [
    {
     "data": {
      "text/plain": [
       "GridSearchCV(cv=None, error_score=nan,\n",
       "             estimator=XGBClassifier(base_score=0.5, booster='gbtree',\n",
       "                                     colsample_bylevel=1, colsample_bynode=1,\n",
       "                                     colsample_bytree=1, gamma=1,\n",
       "                                     learning_rate=0.1, max_delta_step=0,\n",
       "                                     max_depth=3, min_child_weight=1,\n",
       "                                     missing=None, n_estimators=100, n_jobs=-1,\n",
       "                                     nthread=None, objective='binary:logistic',\n",
       "                                     random_state=0, reg_alpha=0.1,\n",
       "                                     reg_lambda=1, scale_pos_weight=1,\n",
       "                                     seed=None, silent=None, subsample=1,\n",
       "                                     verbosity=1),\n",
       "             iid='deprecated', n_jobs=-1,\n",
       "             param_grid={'max_depth': [3, 7, 11, 15],\n",
       "                         'n_estimators': [80, 100, 120]},\n",
       "             pre_dispatch='2*n_jobs', refit=True, return_train_score=False,\n",
       "             scoring='accuracy', verbose=0)"
      ]
     },
     "execution_count": 35,
     "metadata": {
      "tags": []
     },
     "output_type": "execute_result"
    }
   ],
   "source": [
    "gridcv = GridSearchCV(xg, {\"n_estimators\":[80,100,120], \"max_depth\":[3,7,11,15]}, scoring=\"accuracy\", n_jobs=-1)\n",
    "gridcv.fit(df_f, y=df[\"target\"])"
   ]
  },
  {
   "cell_type": "code",
   "execution_count": null,
   "metadata": {
    "colab": {
     "base_uri": "https://localhost:8080/",
     "height": 34
    },
    "colab_type": "code",
    "executionInfo": {
     "elapsed": 1516,
     "status": "ok",
     "timestamp": 1596156624847,
     "user": {
      "displayName": "Fernando Moreno",
      "photoUrl": "",
      "userId": "12085513332857029549"
     },
     "user_tz": 180
    },
    "id": "GErVQrwxWQo1",
    "outputId": "6360f6d8-26a5-4024-b6b1-55288eeab18a"
   },
   "outputs": [
    {
     "data": {
      "text/plain": [
       "{'max_depth': 3, 'n_estimators': 120}"
      ]
     },
     "execution_count": 36,
     "metadata": {
      "tags": []
     },
     "output_type": "execute_result"
    }
   ],
   "source": [
    "gridcv.best_params_"
   ]
  },
  {
   "cell_type": "code",
   "execution_count": null,
   "metadata": {
    "colab": {
     "base_uri": "https://localhost:8080/",
     "height": 289
    },
    "colab_type": "code",
    "executionInfo": {
     "elapsed": 506948,
     "status": "ok",
     "timestamp": 1596157187014,
     "user": {
      "displayName": "Fernando Moreno",
      "photoUrl": "",
      "userId": "12085513332857029549"
     },
     "user_tz": 180
    },
    "id": "m6A3PdzAWT80",
    "outputId": "ad188afe-bcbf-45ca-80cb-bde5a1f54302"
   },
   "outputs": [
    {
     "data": {
      "text/plain": [
       "GridSearchCV(cv=None, error_score=nan,\n",
       "             estimator=XGBClassifier(base_score=0.5, booster='gbtree',\n",
       "                                     colsample_bylevel=1, colsample_bynode=1,\n",
       "                                     colsample_bytree=1, gamma=1,\n",
       "                                     learning_rate=0.1, max_delta_step=0,\n",
       "                                     max_depth=3, min_child_weight=1,\n",
       "                                     missing=None, n_estimators=100, n_jobs=-1,\n",
       "                                     nthread=None, objective='binary:logistic',\n",
       "                                     random_state=0, reg_alpha=0.1,\n",
       "                                     reg_lambda=1, scale_pos_weight=1,\n",
       "                                     seed=None, silent=None, subsample=1,\n",
       "                                     verbosity=1),\n",
       "             iid='deprecated', n_jobs=-1,\n",
       "             param_grid={'n_estimators': [120, 140, 160]},\n",
       "             pre_dispatch='2*n_jobs', refit=True, return_train_score=False,\n",
       "             scoring='accuracy', verbose=0)"
      ]
     },
     "execution_count": 37,
     "metadata": {
      "tags": []
     },
     "output_type": "execute_result"
    }
   ],
   "source": [
    "gridcv = GridSearchCV(xg, {\"n_estimators\":[120,140,160]}, scoring=\"accuracy\", n_jobs=-1)\n",
    "gridcv.fit(df_f, y=df[\"target\"])"
   ]
  },
  {
   "cell_type": "code",
   "execution_count": null,
   "metadata": {
    "colab": {
     "base_uri": "https://localhost:8080/",
     "height": 34
    },
    "colab_type": "code",
    "executionInfo": {
     "elapsed": 1121,
     "status": "ok",
     "timestamp": 1596157243247,
     "user": {
      "displayName": "Fernando Moreno",
      "photoUrl": "",
      "userId": "12085513332857029549"
     },
     "user_tz": 180
    },
    "id": "3NEGJZcyYoRV",
    "outputId": "28ce372c-abaa-4373-89b3-be1df31a68ff"
   },
   "outputs": [
    {
     "data": {
      "text/plain": [
       "{'n_estimators': 120}"
      ]
     },
     "execution_count": 38,
     "metadata": {
      "tags": []
     },
     "output_type": "execute_result"
    }
   ],
   "source": [
    "gridcv.best_params_"
   ]
  },
  {
   "cell_type": "code",
   "execution_count": null,
   "metadata": {
    "colab": {
     "base_uri": "https://localhost:8080/",
     "height": 34
    },
    "colab_type": "code",
    "executionInfo": {
     "elapsed": 1357,
     "status": "ok",
     "timestamp": 1596157261834,
     "user": {
      "displayName": "Fernando Moreno",
      "photoUrl": "",
      "userId": "12085513332857029549"
     },
     "user_tz": 180
    },
    "id": "VcysnITtYrFE",
    "outputId": "3561fa5b-0bce-4cf1-b9eb-208d3afe38f6"
   },
   "outputs": [
    {
     "data": {
      "text/plain": [
       "0.7349357163009932"
      ]
     },
     "execution_count": 39,
     "metadata": {
      "tags": []
     },
     "output_type": "execute_result"
    }
   ],
   "source": [
    "gridcv.best_score_"
   ]
  },
  {
   "cell_type": "code",
   "execution_count": null,
   "metadata": {
    "colab": {},
    "colab_type": "code",
    "id": "xIKhIrv7IIGY"
   },
   "outputs": [],
   "source": [
    "xg = xgb.XGBClassifier(n_estimators=120, gamma=1, reg_alpha=0.1, n_jobs=-1)"
   ]
  },
  {
   "cell_type": "markdown",
   "metadata": {
    "colab_type": "text",
    "id": "1nLJ4jARwKoW"
   },
   "source": [
    "# LinearSVC"
   ]
  },
  {
   "cell_type": "code",
   "execution_count": null,
   "metadata": {
    "colab": {},
    "colab_type": "code",
    "id": "qQd4g7-9wKAc"
   },
   "outputs": [],
   "source": [
    "lsvc = LinearSVC()"
   ]
  },
  {
   "cell_type": "code",
   "execution_count": null,
   "metadata": {
    "colab": {
     "base_uri": "https://localhost:8080/",
     "height": 34
    },
    "colab_type": "code",
    "executionInfo": {
     "elapsed": 5939,
     "status": "ok",
     "timestamp": 1596237230123,
     "user": {
      "displayName": "Fernando Moreno",
      "photoUrl": "",
      "userId": "12085513332857029549"
     },
     "user_tz": 180
    },
    "id": "YxKJwab-JiuK",
    "outputId": "982cf950-2a3a-4d79-bc46-31e81cb3b07a"
   },
   "outputs": [
    {
     "data": {
      "text/plain": [
       "array([0.85292186, 0.82600131, 0.82206172, 0.81537451, 0.75821288])"
      ]
     },
     "execution_count": 177,
     "metadata": {
      "tags": []
     },
     "output_type": "execute_result"
    }
   ],
   "source": [
    "cross_val_score(lsvc, df_f, y=df[\"target\"], n_jobs=-1, scoring=\"accuracy\")"
   ]
  },
  {
   "cell_type": "code",
   "execution_count": null,
   "metadata": {
    "colab": {
     "base_uri": "https://localhost:8080/",
     "height": 221
    },
    "colab_type": "code",
    "executionInfo": {
     "elapsed": 41472,
     "status": "ok",
     "timestamp": 1596238458428,
     "user": {
      "displayName": "Fernando Moreno",
      "photoUrl": "",
      "userId": "12085513332857029549"
     },
     "user_tz": 180
    },
    "id": "UETW0oTCJ1yA",
    "outputId": "2ddc580b-4598-4508-d9aa-bb506cf313fe"
   },
   "outputs": [
    {
     "data": {
      "text/plain": [
       "GridSearchCV(cv=None, error_score=nan,\n",
       "             estimator=LinearSVC(C=1.0, class_weight=None, dual=True,\n",
       "                                 fit_intercept=True, intercept_scaling=1,\n",
       "                                 loss='squared_hinge', max_iter=1000,\n",
       "                                 multi_class='ovr', penalty='l2',\n",
       "                                 random_state=None, tol=0.0001, verbose=0),\n",
       "             iid='deprecated', n_jobs=-1,\n",
       "             param_grid={'C': [0.5, 1, 1.5], 'loss': ['hinge', 'squared_hinge'],\n",
       "                         'max_iter': [3500, 4000, 4500],\n",
       "                         'penalty': ['l1', 'l2']},\n",
       "             pre_dispatch='2*n_jobs', refit=True, return_train_score=False,\n",
       "             scoring='accuracy', verbose=0)"
      ]
     },
     "execution_count": 190,
     "metadata": {
      "tags": []
     },
     "output_type": "execute_result"
    }
   ],
   "source": [
    "gridcv = GridSearchCV(lsvc, {\"penalty\":[\"l1\",\"l2\"], \"loss\":[\"hinge\",\"squared_hinge\"], \"C\":[0.5,1,1.5], \"max_iter\":[3500,4000,4500]}, \\\n",
    "                      scoring=\"accuracy\", n_jobs=-1)\n",
    "gridcv.fit(df_f, y=df[\"target\"])"
   ]
  },
  {
   "cell_type": "code",
   "execution_count": null,
   "metadata": {
    "colab": {
     "base_uri": "https://localhost:8080/",
     "height": 34
    },
    "colab_type": "code",
    "executionInfo": {
     "elapsed": 987,
     "status": "ok",
     "timestamp": 1596238468759,
     "user": {
      "displayName": "Fernando Moreno",
      "photoUrl": "",
      "userId": "12085513332857029549"
     },
     "user_tz": 180
    },
    "id": "aC9aLFbALERS",
    "outputId": "9f10ae6f-cd5d-4797-d75a-6f7ec686660c"
   },
   "outputs": [
    {
     "data": {
      "text/plain": [
       "{'C': 0.5, 'loss': 'hinge', 'max_iter': 3500, 'penalty': 'l2'}"
      ]
     },
     "execution_count": 191,
     "metadata": {
      "tags": []
     },
     "output_type": "execute_result"
    }
   ],
   "source": [
    "gridcv.best_params_"
   ]
  },
  {
   "cell_type": "code",
   "execution_count": null,
   "metadata": {
    "colab": {
     "base_uri": "https://localhost:8080/",
     "height": 34
    },
    "colab_type": "code",
    "executionInfo": {
     "elapsed": 1034,
     "status": "ok",
     "timestamp": 1596238477079,
     "user": {
      "displayName": "Fernando Moreno",
      "photoUrl": "",
      "userId": "12085513332857029549"
     },
     "user_tz": 180
    },
    "id": "MONWSqSaLHtQ",
    "outputId": "4b56587e-e8e9-426c-a883-a58f5ff63f60"
   },
   "outputs": [
    {
     "data": {
      "text/plain": [
       "0.8409363047377789"
      ]
     },
     "execution_count": 192,
     "metadata": {
      "tags": []
     },
     "output_type": "execute_result"
    }
   ],
   "source": [
    "gridcv.best_score_"
   ]
  },
  {
   "cell_type": "code",
   "execution_count": null,
   "metadata": {
    "colab": {},
    "colab_type": "code",
    "id": "tlY9REHAOqy7"
   },
   "outputs": [],
   "source": [
    "lsvc = LinearSVC(loss=\"hinge\", max_iter=3500)"
   ]
  },
  {
   "cell_type": "code",
   "execution_count": null,
   "metadata": {
    "colab": {
     "base_uri": "https://localhost:8080/",
     "height": 170
    },
    "colab_type": "code",
    "executionInfo": {
     "elapsed": 6922,
     "status": "ok",
     "timestamp": 1596238624565,
     "user": {
      "displayName": "Fernando Moreno",
      "photoUrl": "",
      "userId": "12085513332857029549"
     },
     "user_tz": 180
    },
    "id": "KnZJLeQpO5ml",
    "outputId": "5d5ca962-a9f3-4d79-bc5d-265d7d34d540"
   },
   "outputs": [
    {
     "data": {
      "text/plain": [
       "GridSearchCV(cv=None, error_score=nan,\n",
       "             estimator=LinearSVC(C=1.0, class_weight=None, dual=True,\n",
       "                                 fit_intercept=True, intercept_scaling=1,\n",
       "                                 loss='hinge', max_iter=3500, multi_class='ovr',\n",
       "                                 penalty='l2', random_state=None, tol=0.0001,\n",
       "                                 verbose=0),\n",
       "             iid='deprecated', n_jobs=-1, param_grid={'C': [0.25, 0.5, 0.75]},\n",
       "             pre_dispatch='2*n_jobs', refit=True, return_train_score=False,\n",
       "             scoring='accuracy', verbose=0)"
      ]
     },
     "execution_count": 194,
     "metadata": {
      "tags": []
     },
     "output_type": "execute_result"
    }
   ],
   "source": [
    "gridcv = GridSearchCV(lsvc, {\"C\":[0.25,0.5,0.75]}, scoring=\"accuracy\", n_jobs=-1)\n",
    "gridcv.fit(df_f, y=df[\"target\"])"
   ]
  },
  {
   "cell_type": "code",
   "execution_count": null,
   "metadata": {
    "colab": {
     "base_uri": "https://localhost:8080/",
     "height": 34
    },
    "colab_type": "code",
    "executionInfo": {
     "elapsed": 1667,
     "status": "ok",
     "timestamp": 1596238635065,
     "user": {
      "displayName": "Fernando Moreno",
      "photoUrl": "",
      "userId": "12085513332857029549"
     },
     "user_tz": 180
    },
    "id": "_qMFAf1rPGuU",
    "outputId": "210d5e9f-4a16-4c9e-a4ec-8e0f344460ed"
   },
   "outputs": [
    {
     "data": {
      "text/plain": [
       "{'C': 0.25}"
      ]
     },
     "execution_count": 195,
     "metadata": {
      "tags": []
     },
     "output_type": "execute_result"
    }
   ],
   "source": [
    "gridcv.best_params_"
   ]
  },
  {
   "cell_type": "code",
   "execution_count": null,
   "metadata": {
    "colab": {
     "base_uri": "https://localhost:8080/",
     "height": 34
    },
    "colab_type": "code",
    "executionInfo": {
     "elapsed": 1401,
     "status": "ok",
     "timestamp": 1596238649322,
     "user": {
      "displayName": "Fernando Moreno",
      "photoUrl": "",
      "userId": "12085513332857029549"
     },
     "user_tz": 180
    },
    "id": "35lNjz1jPK-e",
    "outputId": "9096009b-a47b-4c44-d1f0-278966d949bf"
   },
   "outputs": [
    {
     "data": {
      "text/plain": [
       "0.8510503424063612"
      ]
     },
     "execution_count": 196,
     "metadata": {
      "tags": []
     },
     "output_type": "execute_result"
    }
   ],
   "source": [
    "gridcv.best_score_"
   ]
  },
  {
   "cell_type": "code",
   "execution_count": null,
   "metadata": {
    "colab": {
     "base_uri": "https://localhost:8080/",
     "height": 170
    },
    "colab_type": "code",
    "executionInfo": {
     "elapsed": 6129,
     "status": "ok",
     "timestamp": 1596238692126,
     "user": {
      "displayName": "Fernando Moreno",
      "photoUrl": "",
      "userId": "12085513332857029549"
     },
     "user_tz": 180
    },
    "id": "wQXKlUv1PQzI",
    "outputId": "a40f6875-f066-4d33-b949-e1e4fbb6485c"
   },
   "outputs": [
    {
     "data": {
      "text/plain": [
       "GridSearchCV(cv=None, error_score=nan,\n",
       "             estimator=LinearSVC(C=1.0, class_weight=None, dual=True,\n",
       "                                 fit_intercept=True, intercept_scaling=1,\n",
       "                                 loss='hinge', max_iter=3500, multi_class='ovr',\n",
       "                                 penalty='l2', random_state=None, tol=0.0001,\n",
       "                                 verbose=0),\n",
       "             iid='deprecated', n_jobs=-1, param_grid={'C': [0.15, 0.25, 0.35]},\n",
       "             pre_dispatch='2*n_jobs', refit=True, return_train_score=False,\n",
       "             scoring='accuracy', verbose=0)"
      ]
     },
     "execution_count": 197,
     "metadata": {
      "tags": []
     },
     "output_type": "execute_result"
    }
   ],
   "source": [
    "gridcv = GridSearchCV(lsvc, {\"C\":[0.15,0.25,0.35]}, scoring=\"accuracy\", n_jobs=-1)\n",
    "gridcv.fit(df_f, y=df[\"target\"])"
   ]
  },
  {
   "cell_type": "code",
   "execution_count": null,
   "metadata": {
    "colab": {
     "base_uri": "https://localhost:8080/",
     "height": 34
    },
    "colab_type": "code",
    "executionInfo": {
     "elapsed": 1373,
     "status": "ok",
     "timestamp": 1596238765932,
     "user": {
      "displayName": "Fernando Moreno",
      "photoUrl": "",
      "userId": "12085513332857029549"
     },
     "user_tz": 180
    },
    "id": "ZOxdIas1PnTF",
    "outputId": "3e347f7a-79a5-4bc7-e8b5-74e0d1130d71"
   },
   "outputs": [
    {
     "data": {
      "text/plain": [
       "{'C': 0.15}"
      ]
     },
     "execution_count": 198,
     "metadata": {
      "tags": []
     },
     "output_type": "execute_result"
    }
   ],
   "source": [
    "gridcv.best_params_"
   ]
  },
  {
   "cell_type": "code",
   "execution_count": null,
   "metadata": {
    "colab": {
     "base_uri": "https://localhost:8080/",
     "height": 34
    },
    "colab_type": "code",
    "executionInfo": {
     "elapsed": 1379,
     "status": "ok",
     "timestamp": 1596238777141,
     "user": {
      "displayName": "Fernando Moreno",
      "photoUrl": "",
      "userId": "12085513332857029549"
     },
     "user_tz": 180
    },
    "id": "da5CzMRaPqd9",
    "outputId": "2236e001-51de-4de6-e1d8-b8c3da2f17c5"
   },
   "outputs": [
    {
     "data": {
      "text/plain": [
       "0.8576171071170652"
      ]
     },
     "execution_count": 199,
     "metadata": {
      "tags": []
     },
     "output_type": "execute_result"
    }
   ],
   "source": [
    "gridcv.best_score_"
   ]
  },
  {
   "cell_type": "code",
   "execution_count": null,
   "metadata": {
    "colab": {
     "base_uri": "https://localhost:8080/",
     "height": 170
    },
    "colab_type": "code",
    "executionInfo": {
     "elapsed": 5352,
     "status": "ok",
     "timestamp": 1596238834633,
     "user": {
      "displayName": "Fernando Moreno",
      "photoUrl": "",
      "userId": "12085513332857029549"
     },
     "user_tz": 180
    },
    "id": "Ksy_laPlP1h_",
    "outputId": "5626a690-3ba5-4421-f527-71d47a33be1a"
   },
   "outputs": [
    {
     "data": {
      "text/plain": [
       "GridSearchCV(cv=None, error_score=nan,\n",
       "             estimator=LinearSVC(C=1.0, class_weight=None, dual=True,\n",
       "                                 fit_intercept=True, intercept_scaling=1,\n",
       "                                 loss='hinge', max_iter=3500, multi_class='ovr',\n",
       "                                 penalty='l2', random_state=None, tol=0.0001,\n",
       "                                 verbose=0),\n",
       "             iid='deprecated', n_jobs=-1, param_grid={'C': [0.1, 0.15, 0.2]},\n",
       "             pre_dispatch='2*n_jobs', refit=True, return_train_score=False,\n",
       "             scoring='accuracy', verbose=0)"
      ]
     },
     "execution_count": 200,
     "metadata": {
      "tags": []
     },
     "output_type": "execute_result"
    }
   ],
   "source": [
    "gridcv = GridSearchCV(lsvc, {\"C\":[0.1,0.15,0.2]}, scoring=\"accuracy\", n_jobs=-1)\n",
    "gridcv.fit(df_f, y=df[\"target\"])"
   ]
  },
  {
   "cell_type": "code",
   "execution_count": null,
   "metadata": {
    "colab": {
     "base_uri": "https://localhost:8080/",
     "height": 34
    },
    "colab_type": "code",
    "executionInfo": {
     "elapsed": 1376,
     "status": "ok",
     "timestamp": 1596238842811,
     "user": {
      "displayName": "Fernando Moreno",
      "photoUrl": "",
      "userId": "12085513332857029549"
     },
     "user_tz": 180
    },
    "id": "x7JuQyywP6DX",
    "outputId": "e8121b1f-abf7-41e1-b7fc-1fae2b6dc76e"
   },
   "outputs": [
    {
     "data": {
      "text/plain": [
       "{'C': 0.1}"
      ]
     },
     "execution_count": 201,
     "metadata": {
      "tags": []
     },
     "output_type": "execute_result"
    }
   ],
   "source": [
    "gridcv.best_params_"
   ]
  },
  {
   "cell_type": "code",
   "execution_count": null,
   "metadata": {
    "colab": {
     "base_uri": "https://localhost:8080/",
     "height": 34
    },
    "colab_type": "code",
    "executionInfo": {
     "elapsed": 1340,
     "status": "ok",
     "timestamp": 1596238856989,
     "user": {
      "displayName": "Fernando Moreno",
      "photoUrl": "",
      "userId": "12085513332857029549"
     },
     "user_tz": 180
    },
    "id": "aT7xz8BgP96J",
    "outputId": "9b6f66d3-db0e-4c8c-9e3c-14fe08d00a8d"
   },
   "outputs": [
    {
     "data": {
      "text/plain": [
       "0.8627396995521149"
      ]
     },
     "execution_count": 202,
     "metadata": {
      "tags": []
     },
     "output_type": "execute_result"
    }
   ],
   "source": [
    "gridcv.best_score_"
   ]
  },
  {
   "cell_type": "code",
   "execution_count": null,
   "metadata": {
    "colab": {
     "base_uri": "https://localhost:8080/",
     "height": 170
    },
    "colab_type": "code",
    "executionInfo": {
     "elapsed": 4956,
     "status": "ok",
     "timestamp": 1596238930817,
     "user": {
      "displayName": "Fernando Moreno",
      "photoUrl": "",
      "userId": "12085513332857029549"
     },
     "user_tz": 180
    },
    "id": "pDKjQprZQCI2",
    "outputId": "ccdad14e-aabb-4f41-8a11-22570563a7e4"
   },
   "outputs": [
    {
     "data": {
      "text/plain": [
       "GridSearchCV(cv=None, error_score=nan,\n",
       "             estimator=LinearSVC(C=1.0, class_weight=None, dual=True,\n",
       "                                 fit_intercept=True, intercept_scaling=1,\n",
       "                                 loss='hinge', max_iter=3500, multi_class='ovr',\n",
       "                                 penalty='l2', random_state=None, tol=0.0001,\n",
       "                                 verbose=0),\n",
       "             iid='deprecated', n_jobs=-1, param_grid={'C': [0.05, 0.1, 0.12]},\n",
       "             pre_dispatch='2*n_jobs', refit=True, return_train_score=False,\n",
       "             scoring='accuracy', verbose=0)"
      ]
     },
     "execution_count": 203,
     "metadata": {
      "tags": []
     },
     "output_type": "execute_result"
    }
   ],
   "source": [
    "gridcv = GridSearchCV(lsvc, {\"C\":[0.05,0.1,0.12]}, scoring=\"accuracy\", n_jobs=-1)\n",
    "gridcv.fit(df_f, y=df[\"target\"])"
   ]
  },
  {
   "cell_type": "code",
   "execution_count": null,
   "metadata": {
    "colab": {
     "base_uri": "https://localhost:8080/",
     "height": 34
    },
    "colab_type": "code",
    "executionInfo": {
     "elapsed": 1374,
     "status": "ok",
     "timestamp": 1596238943418,
     "user": {
      "displayName": "Fernando Moreno",
      "photoUrl": "",
      "userId": "12085513332857029549"
     },
     "user_tz": 180
    },
    "id": "icClk-98QSsd",
    "outputId": "3234d06a-3d12-4f91-bd1f-ed21ccd2c0d1"
   },
   "outputs": [
    {
     "data": {
      "text/plain": [
       "{'C': 0.05}"
      ]
     },
     "execution_count": 204,
     "metadata": {
      "tags": []
     },
     "output_type": "execute_result"
    }
   ],
   "source": [
    "gridcv.best_params_"
   ]
  },
  {
   "cell_type": "code",
   "execution_count": null,
   "metadata": {
    "colab": {
     "base_uri": "https://localhost:8080/",
     "height": 34
    },
    "colab_type": "code",
    "executionInfo": {
     "elapsed": 1409,
     "status": "ok",
     "timestamp": 1596238957192,
     "user": {
      "displayName": "Fernando Moreno",
      "photoUrl": "",
      "userId": "12085513332857029549"
     },
     "user_tz": 180
    },
    "id": "Tu9fP5wZQWDv",
    "outputId": "23ab44ce-c188-4b34-d38e-4d8369050f5b"
   },
   "outputs": [
    {
     "data": {
      "text/plain": [
       "0.8681246726712526"
      ]
     },
     "execution_count": 205,
     "metadata": {
      "tags": []
     },
     "output_type": "execute_result"
    }
   ],
   "source": [
    "gridcv.best_score_"
   ]
  },
  {
   "cell_type": "code",
   "execution_count": null,
   "metadata": {
    "colab": {
     "base_uri": "https://localhost:8080/",
     "height": 170
    },
    "colab_type": "code",
    "executionInfo": {
     "elapsed": 5167,
     "status": "ok",
     "timestamp": 1596238996945,
     "user": {
      "displayName": "Fernando Moreno",
      "photoUrl": "",
      "userId": "12085513332857029549"
     },
     "user_tz": 180
    },
    "id": "C-tHPAWDQcd6",
    "outputId": "98bfbc67-cf51-4d17-d966-2eef213335fb"
   },
   "outputs": [
    {
     "data": {
      "text/plain": [
       "GridSearchCV(cv=None, error_score=nan,\n",
       "             estimator=LinearSVC(C=1.0, class_weight=None, dual=True,\n",
       "                                 fit_intercept=True, intercept_scaling=1,\n",
       "                                 loss='hinge', max_iter=3500, multi_class='ovr',\n",
       "                                 penalty='l2', random_state=None, tol=0.0001,\n",
       "                                 verbose=0),\n",
       "             iid='deprecated', n_jobs=-1, param_grid={'C': [0.02, 0.05, 0.07]},\n",
       "             pre_dispatch='2*n_jobs', refit=True, return_train_score=False,\n",
       "             scoring='accuracy', verbose=0)"
      ]
     },
     "execution_count": 206,
     "metadata": {
      "tags": []
     },
     "output_type": "execute_result"
    }
   ],
   "source": [
    "gridcv = GridSearchCV(lsvc, {\"C\":[0.02,0.05,0.07]}, scoring=\"accuracy\", n_jobs=-1)\n",
    "gridcv.fit(df_f, y=df[\"target\"])"
   ]
  },
  {
   "cell_type": "code",
   "execution_count": null,
   "metadata": {
    "colab": {
     "base_uri": "https://localhost:8080/",
     "height": 34
    },
    "colab_type": "code",
    "executionInfo": {
     "elapsed": 994,
     "status": "ok",
     "timestamp": 1596239009158,
     "user": {
      "displayName": "Fernando Moreno",
      "photoUrl": "",
      "userId": "12085513332857029549"
     },
     "user_tz": 180
    },
    "id": "CD-y4EVXQi3E",
    "outputId": "02091ed8-894e-4c8c-84c5-af565136e4d2"
   },
   "outputs": [
    {
     "data": {
      "text/plain": [
       "{'C': 0.02}"
      ]
     },
     "execution_count": 207,
     "metadata": {
      "tags": []
     },
     "output_type": "execute_result"
    }
   ],
   "source": [
    "gridcv.best_params_"
   ]
  },
  {
   "cell_type": "code",
   "execution_count": null,
   "metadata": {
    "colab": {
     "base_uri": "https://localhost:8080/",
     "height": 34
    },
    "colab_type": "code",
    "executionInfo": {
     "elapsed": 1353,
     "status": "ok",
     "timestamp": 1596239021272,
     "user": {
      "displayName": "Fernando Moreno",
      "photoUrl": "",
      "userId": "12085513332857029549"
     },
     "user_tz": 180
    },
    "id": "c81PI7IfQl5y",
    "outputId": "ab589ed0-6189-49cf-d7ec-8379add6e5fd"
   },
   "outputs": [
    {
     "data": {
      "text/plain": [
       "0.8706197481801169"
      ]
     },
     "execution_count": 208,
     "metadata": {
      "tags": []
     },
     "output_type": "execute_result"
    }
   ],
   "source": [
    "gridcv.best_score_"
   ]
  },
  {
   "cell_type": "code",
   "execution_count": null,
   "metadata": {
    "colab": {
     "base_uri": "https://localhost:8080/",
     "height": 187
    },
    "colab_type": "code",
    "executionInfo": {
     "elapsed": 5352,
     "status": "ok",
     "timestamp": 1596239144569,
     "user": {
      "displayName": "Fernando Moreno",
      "photoUrl": "",
      "userId": "12085513332857029549"
     },
     "user_tz": 180
    },
    "id": "xp2cDG8pQ_cL",
    "outputId": "ea54bc0d-4913-4f0e-f332-9a85953d8c08"
   },
   "outputs": [
    {
     "data": {
      "text/plain": [
       "GridSearchCV(cv=None, error_score=nan,\n",
       "             estimator=LinearSVC(C=1.0, class_weight=None, dual=True,\n",
       "                                 fit_intercept=True, intercept_scaling=1,\n",
       "                                 loss='hinge', max_iter=3500, multi_class='ovr',\n",
       "                                 penalty='l2', random_state=None, tol=0.0001,\n",
       "                                 verbose=0),\n",
       "             iid='deprecated', n_jobs=-1,\n",
       "             param_grid={'C': [0.001, 0.005, 0.02]}, pre_dispatch='2*n_jobs',\n",
       "             refit=True, return_train_score=False, scoring='accuracy',\n",
       "             verbose=0)"
      ]
     },
     "execution_count": 209,
     "metadata": {
      "tags": []
     },
     "output_type": "execute_result"
    }
   ],
   "source": [
    "gridcv = GridSearchCV(lsvc, {\"C\":[0.001,0.005,0.02]}, scoring=\"accuracy\", n_jobs=-1)\n",
    "gridcv.fit(df_f, y=df[\"target\"])"
   ]
  },
  {
   "cell_type": "code",
   "execution_count": null,
   "metadata": {
    "colab": {
     "base_uri": "https://localhost:8080/",
     "height": 34
    },
    "colab_type": "code",
    "executionInfo": {
     "elapsed": 1053,
     "status": "ok",
     "timestamp": 1596239157765,
     "user": {
      "displayName": "Fernando Moreno",
      "photoUrl": "",
      "userId": "12085513332857029549"
     },
     "user_tz": 180
    },
    "id": "aGdAjPN9RHM9",
    "outputId": "ec605128-8f30-4219-f57a-52d31b22a9aa"
   },
   "outputs": [
    {
     "data": {
      "text/plain": [
       "{'C': 0.02}"
      ]
     },
     "execution_count": 210,
     "metadata": {
      "tags": []
     },
     "output_type": "execute_result"
    }
   ],
   "source": [
    "gridcv.best_params_"
   ]
  },
  {
   "cell_type": "code",
   "execution_count": null,
   "metadata": {
    "colab": {
     "base_uri": "https://localhost:8080/",
     "height": 34
    },
    "colab_type": "code",
    "executionInfo": {
     "elapsed": 1369,
     "status": "ok",
     "timestamp": 1596239172940,
     "user": {
      "displayName": "Fernando Moreno",
      "photoUrl": "",
      "userId": "12085513332857029549"
     },
     "user_tz": 180
    },
    "id": "UIQ2a1QsRKny",
    "outputId": "bbcacae9-3240-4e74-cc36-6dc33ba94134"
   },
   "outputs": [
    {
     "data": {
      "text/plain": [
       "0.8706197481801169"
      ]
     },
     "execution_count": 211,
     "metadata": {
      "tags": []
     },
     "output_type": "execute_result"
    }
   ],
   "source": [
    "gridcv.best_score_"
   ]
  },
  {
   "cell_type": "code",
   "execution_count": null,
   "metadata": {
    "colab": {},
    "colab_type": "code",
    "id": "t3KdW7HiS6eq"
   },
   "outputs": [],
   "source": [
    "lsvc = LinearSVC(loss=\"hinge\", C=0.02, max_iter=3500)"
   ]
  },
  {
   "cell_type": "markdown",
   "metadata": {
    "colab_type": "text",
    "id": "b0EPUctiWWnL"
   },
   "source": [
    "# NuSVC"
   ]
  },
  {
   "cell_type": "code",
   "execution_count": null,
   "metadata": {
    "colab": {},
    "colab_type": "code",
    "id": "a0wasc8xWWHm"
   },
   "outputs": [],
   "source": [
    "nusvc = NuSVC()"
   ]
  },
  {
   "cell_type": "code",
   "execution_count": null,
   "metadata": {
    "colab": {
     "base_uri": "https://localhost:8080/",
     "height": 34
    },
    "colab_type": "code",
    "executionInfo": {
     "elapsed": 524009,
     "status": "ok",
     "timestamp": 1596241113353,
     "user": {
      "displayName": "Fernando Moreno",
      "photoUrl": "",
      "userId": "12085513332857029549"
     },
     "user_tz": 180
    },
    "id": "kANsrOy0WekA",
    "outputId": "b150dc3d-a216-4ad2-9068-94b4497c9da6"
   },
   "outputs": [
    {
     "data": {
      "text/plain": [
       "array([0.88181221, 0.85423506, 0.86277085, 0.88173456, 0.89421813])"
      ]
     },
     "execution_count": 221,
     "metadata": {
      "tags": []
     },
     "output_type": "execute_result"
    }
   ],
   "source": [
    "cross_val_score(nusvc, df_f, y=df[\"target\"], n_jobs=-1, scoring=\"accuracy\")"
   ]
  },
  {
   "cell_type": "code",
   "execution_count": null,
   "metadata": {
    "colab": {
     "base_uri": "https://localhost:8080/",
     "height": 34
    },
    "colab_type": "code",
    "executionInfo": {
     "elapsed": 1034,
     "status": "ok",
     "timestamp": 1596241176878,
     "user": {
      "displayName": "Fernando Moreno",
      "photoUrl": "",
      "userId": "12085513332857029549"
     },
     "user_tz": 180
    },
    "id": "sf4EFt5vYwGW",
    "outputId": "a695985f-b46a-4c83-c600-85d2dc6e6e99"
   },
   "outputs": [
    {
     "data": {
      "text/plain": [
       "0.8749541619999999"
      ]
     },
     "execution_count": 222,
     "metadata": {
      "tags": []
     },
     "output_type": "execute_result"
    }
   ],
   "source": [
    "pd.Series([0.88181221, 0.85423506, 0.86277085, 0.88173456, 0.89421813]).mean()"
   ]
  },
  {
   "cell_type": "code",
   "execution_count": null,
   "metadata": {
    "colab": {
     "base_uri": "https://localhost:8080/",
     "height": 204
    },
    "colab_type": "code",
    "executionInfo": {
     "elapsed": 2366865,
     "status": "ok",
     "timestamp": 1596244097918,
     "user": {
      "displayName": "Fernando Moreno",
      "photoUrl": "",
      "userId": "12085513332857029549"
     },
     "user_tz": 180
    },
    "id": "GzuVsxNDajfA",
    "outputId": "5a9b6815-afca-4fb0-a71e-753c62cfa7d6"
   },
   "outputs": [
    {
     "data": {
      "text/plain": [
       "GridSearchCV(cv=None, error_score=nan,\n",
       "             estimator=NuSVC(break_ties=False, cache_size=200,\n",
       "                             class_weight=None, coef0=0.0,\n",
       "                             decision_function_shape='ovr', degree=3,\n",
       "                             gamma='scale', kernel='rbf', max_iter=-1, nu=0.5,\n",
       "                             probability=False, random_state=None,\n",
       "                             shrinking=True, tol=0.001, verbose=False),\n",
       "             iid='deprecated', n_jobs=-1,\n",
       "             param_grid={'gamma': ['scale', 'auto'], 'nu': [0.25, 0.5, 0.75]},\n",
       "             pre_dispatch='2*n_jobs', refit=True, return_train_score=False,\n",
       "             scoring='accuracy', verbose=0)"
      ]
     },
     "execution_count": 227,
     "metadata": {
      "tags": []
     },
     "output_type": "execute_result"
    }
   ],
   "source": [
    "gridcv = GridSearchCV(nusvc, {\"nu\":[0.25,0.5,0.75], \"gamma\":[\"scale\",\"auto\"]}, scoring=\"accuracy\", n_jobs=-1)\n",
    "gridcv.fit(df_f, y=df[\"target\"])"
   ]
  },
  {
   "cell_type": "code",
   "execution_count": null,
   "metadata": {
    "colab": {
     "base_uri": "https://localhost:8080/",
     "height": 34
    },
    "colab_type": "code",
    "executionInfo": {
     "elapsed": 1098,
     "status": "ok",
     "timestamp": 1596244668340,
     "user": {
      "displayName": "Fernando Moreno",
      "photoUrl": "",
      "userId": "12085513332857029549"
     },
     "user_tz": 180
    },
    "id": "cYWSrEPVa-m3",
    "outputId": "37d8ac4f-0c8f-448e-e49f-af3356c55d57"
   },
   "outputs": [
    {
     "data": {
      "text/plain": [
       "{'gamma': 'scale', 'nu': 0.5}"
      ]
     },
     "execution_count": 228,
     "metadata": {
      "tags": []
     },
     "output_type": "execute_result"
    }
   ],
   "source": [
    "gridcv.best_params_"
   ]
  },
  {
   "cell_type": "code",
   "execution_count": null,
   "metadata": {
    "colab": {
     "base_uri": "https://localhost:8080/",
     "height": 34
    },
    "colab_type": "code",
    "executionInfo": {
     "elapsed": 1338,
     "status": "ok",
     "timestamp": 1596244682989,
     "user": {
      "displayName": "Fernando Moreno",
      "photoUrl": "",
      "userId": "12085513332857029549"
     },
     "user_tz": 180
    },
    "id": "PnjnjQB-mLJc",
    "outputId": "331edc11-82f8-4635-ebdc-dc5a5cc7d499"
   },
   "outputs": [
    {
     "data": {
      "text/plain": [
       "0.8749541631902593"
      ]
     },
     "execution_count": 229,
     "metadata": {
      "tags": []
     },
     "output_type": "execute_result"
    }
   ],
   "source": [
    "gridcv.best_score_"
   ]
  },
  {
   "cell_type": "code",
   "execution_count": null,
   "metadata": {
    "colab": {
     "base_uri": "https://localhost:8080/",
     "height": 187
    },
    "colab_type": "code",
    "executionInfo": {
     "elapsed": 1343243,
     "status": "ok",
     "timestamp": 1596246073022,
     "user": {
      "displayName": "Fernando Moreno",
      "photoUrl": "",
      "userId": "12085513332857029549"
     },
     "user_tz": 180
    },
    "id": "CuK3QPG3mVW9",
    "outputId": "c9605521-c7cf-4d33-c423-83ae00168d6b"
   },
   "outputs": [
    {
     "data": {
      "text/plain": [
       "GridSearchCV(cv=None, error_score=nan,\n",
       "             estimator=NuSVC(break_ties=False, cache_size=200,\n",
       "                             class_weight=None, coef0=0.0,\n",
       "                             decision_function_shape='ovr', degree=3,\n",
       "                             gamma='scale', kernel='rbf', max_iter=-1, nu=0.5,\n",
       "                             probability=False, random_state=None,\n",
       "                             shrinking=True, tol=0.001, verbose=False),\n",
       "             iid='deprecated', n_jobs=-1, param_grid={'nu': [0.4, 0.5, 0.6]},\n",
       "             pre_dispatch='2*n_jobs', refit=True, return_train_score=False,\n",
       "             scoring='accuracy', verbose=0)"
      ]
     },
     "execution_count": 230,
     "metadata": {
      "tags": []
     },
     "output_type": "execute_result"
    }
   ],
   "source": [
    "gridcv = GridSearchCV(nusvc, {\"nu\":[0.4,0.5,0.6]}, scoring=\"accuracy\", n_jobs=-1)\n",
    "gridcv.fit(df_f, y=df[\"target\"])"
   ]
  },
  {
   "cell_type": "code",
   "execution_count": null,
   "metadata": {
    "colab": {
     "base_uri": "https://localhost:8080/",
     "height": 34
    },
    "colab_type": "code",
    "executionInfo": {
     "elapsed": 1896,
     "status": "ok",
     "timestamp": 1596246106605,
     "user": {
      "displayName": "Fernando Moreno",
      "photoUrl": "",
      "userId": "12085513332857029549"
     },
     "user_tz": 180
    },
    "id": "Di1aozFhma6B",
    "outputId": "3e5168b4-05ef-4396-e2d8-aa68347cc664"
   },
   "outputs": [
    {
     "data": {
      "text/plain": [
       "{'nu': 0.4}"
      ]
     },
     "execution_count": 231,
     "metadata": {
      "tags": []
     },
     "output_type": "execute_result"
    }
   ],
   "source": [
    "gridcv.best_params_"
   ]
  },
  {
   "cell_type": "code",
   "execution_count": null,
   "metadata": {
    "colab": {
     "base_uri": "https://localhost:8080/",
     "height": 34
    },
    "colab_type": "code",
    "executionInfo": {
     "elapsed": 1748,
     "status": "ok",
     "timestamp": 1596246122507,
     "user": {
      "displayName": "Fernando Moreno",
      "photoUrl": "",
      "userId": "12085513332857029549"
     },
     "user_tz": 180
    },
    "id": "GGD-B4xumbSN",
    "outputId": "f707e4ef-1396-4358-f5bb-6bbf029076ee"
   },
   "outputs": [
    {
     "data": {
      "text/plain": [
       "0.8753489852916687"
      ]
     },
     "execution_count": 232,
     "metadata": {
      "tags": []
     },
     "output_type": "execute_result"
    }
   ],
   "source": [
    "gridcv.best_score_"
   ]
  },
  {
   "cell_type": "code",
   "execution_count": null,
   "metadata": {
    "colab": {
     "base_uri": "https://localhost:8080/",
     "height": 187
    },
    "colab_type": "code",
    "executionInfo": {
     "elapsed": 1221891,
     "status": "ok",
     "timestamp": 1596247390472,
     "user": {
      "displayName": "Fernando Moreno",
      "photoUrl": "",
      "userId": "12085513332857029549"
     },
     "user_tz": 180
    },
    "id": "HEa-jIS2r1bM",
    "outputId": "af6a7957-53bd-4f9a-dd42-ac144be43004"
   },
   "outputs": [
    {
     "data": {
      "text/plain": [
       "GridSearchCV(cv=None, error_score=nan,\n",
       "             estimator=NuSVC(break_ties=False, cache_size=200,\n",
       "                             class_weight=None, coef0=0.0,\n",
       "                             decision_function_shape='ovr', degree=3,\n",
       "                             gamma='scale', kernel='rbf', max_iter=-1, nu=0.5,\n",
       "                             probability=False, random_state=None,\n",
       "                             shrinking=True, tol=0.001, verbose=False),\n",
       "             iid='deprecated', n_jobs=-1, param_grid={'nu': [0.35, 0.4, 0.45]},\n",
       "             pre_dispatch='2*n_jobs', refit=True, return_train_score=False,\n",
       "             scoring='accuracy', verbose=0)"
      ]
     },
     "execution_count": 233,
     "metadata": {
      "tags": []
     },
     "output_type": "execute_result"
    }
   ],
   "source": [
    "gridcv = GridSearchCV(nusvc, {\"nu\":[0.35,0.4,0.45]}, scoring=\"accuracy\", n_jobs=-1)\n",
    "gridcv.fit(df_f, y=df[\"target\"])"
   ]
  },
  {
   "cell_type": "code",
   "execution_count": null,
   "metadata": {
    "colab": {
     "base_uri": "https://localhost:8080/",
     "height": 34
    },
    "colab_type": "code",
    "executionInfo": {
     "elapsed": 1037,
     "status": "ok",
     "timestamp": 1596247525694,
     "user": {
      "displayName": "Fernando Moreno",
      "photoUrl": "",
      "userId": "12085513332857029549"
     },
     "user_tz": 180
    },
    "id": "C8-NwOv5r8JG",
    "outputId": "d28742b4-3066-436e-df99-dc04a3010ccc"
   },
   "outputs": [
    {
     "data": {
      "text/plain": [
       "{'nu': 0.45}"
      ]
     },
     "execution_count": 234,
     "metadata": {
      "tags": []
     },
     "output_type": "execute_result"
    }
   ],
   "source": [
    "gridcv.best_params_"
   ]
  },
  {
   "cell_type": "code",
   "execution_count": null,
   "metadata": {
    "colab": {
     "base_uri": "https://localhost:8080/",
     "height": 34
    },
    "colab_type": "code",
    "executionInfo": {
     "elapsed": 1084,
     "status": "ok",
     "timestamp": 1596247542193,
     "user": {
      "displayName": "Fernando Moreno",
      "photoUrl": "",
      "userId": "12085513332857029549"
     },
     "user_tz": 180
    },
    "id": "HJZ958dpr8pc",
    "outputId": "8f675326-b013-4164-aa10-a51f847930da"
   },
   "outputs": [
    {
     "data": {
      "text/plain": [
       "0.8777127410369084"
      ]
     },
     "execution_count": 235,
     "metadata": {
      "tags": []
     },
     "output_type": "execute_result"
    }
   ],
   "source": [
    "gridcv.best_score_"
   ]
  },
  {
   "cell_type": "code",
   "execution_count": null,
   "metadata": {
    "colab": {},
    "colab_type": "code",
    "id": "HBdd45eAxJyI"
   },
   "outputs": [],
   "source": [
    "nusvc = NuSVC(nu=0.45)"
   ]
  },
  {
   "cell_type": "markdown",
   "metadata": {
    "colab_type": "text",
    "id": "7fZiPmmVY5if"
   },
   "source": [
    "# SVC"
   ]
  },
  {
   "cell_type": "code",
   "execution_count": null,
   "metadata": {
    "colab": {},
    "colab_type": "code",
    "id": "c8nhHyXsY72Y"
   },
   "outputs": [],
   "source": [
    "svc = SVC()"
   ]
  },
  {
   "cell_type": "code",
   "execution_count": null,
   "metadata": {
    "colab": {
     "base_uri": "https://localhost:8080/",
     "height": 34
    },
    "colab_type": "code",
    "executionInfo": {
     "elapsed": 271570,
     "status": "ok",
     "timestamp": 1596241522695,
     "user": {
      "displayName": "Fernando Moreno",
      "photoUrl": "",
      "userId": "12085513332857029549"
     },
     "user_tz": 180
    },
    "id": "p_nL1piZZFQj",
    "outputId": "2969fc29-a55a-499b-a26a-606219185181"
   },
   "outputs": [
    {
     "data": {
      "text/plain": [
       "array([0.88443861, 0.84832567, 0.83847669, 0.87976347, 0.89618922])"
      ]
     },
     "execution_count": 225,
     "metadata": {
      "tags": []
     },
     "output_type": "execute_result"
    }
   ],
   "source": [
    "cross_val_score(svc, df_f, y=df[\"target\"], n_jobs=-1, scoring=\"accuracy\")"
   ]
  },
  {
   "cell_type": "code",
   "execution_count": null,
   "metadata": {
    "colab": {
     "base_uri": "https://localhost:8080/",
     "height": 34
    },
    "colab_type": "code",
    "executionInfo": {
     "elapsed": 1411,
     "status": "ok",
     "timestamp": 1596241590242,
     "user": {
      "displayName": "Fernando Moreno",
      "photoUrl": "",
      "userId": "12085513332857029549"
     },
     "user_tz": 180
    },
    "id": "AauHWiIaaT3W",
    "outputId": "791e5627-9dbf-48d0-a7d8-268a390c0c25"
   },
   "outputs": [
    {
     "data": {
      "text/plain": [
       "0.8694387319999999"
      ]
     },
     "execution_count": 226,
     "metadata": {
      "tags": []
     },
     "output_type": "execute_result"
    }
   ],
   "source": [
    "pd.Series([0.88443861, 0.84832567, 0.83847669, 0.87976347, 0.89618922]).mean()"
   ]
  },
  {
   "cell_type": "code",
   "execution_count": null,
   "metadata": {
    "colab": {
     "base_uri": "https://localhost:8080/",
     "height": 204
    },
    "colab_type": "code",
    "executionInfo": {
     "elapsed": 2151035,
     "status": "ok",
     "timestamp": 1596249746558,
     "user": {
      "displayName": "Fernando Moreno",
      "photoUrl": "",
      "userId": "12085513332857029549"
     },
     "user_tz": 180
    },
    "id": "vnfECnC2XAe5",
    "outputId": "aa84ef20-043e-4273-f6ba-d94e5a61f77d"
   },
   "outputs": [
    {
     "data": {
      "text/plain": [
       "GridSearchCV(cv=None, error_score=nan,\n",
       "             estimator=SVC(C=1.0, break_ties=False, cache_size=200,\n",
       "                           class_weight=None, coef0=0.0,\n",
       "                           decision_function_shape='ovr', degree=3,\n",
       "                           gamma='scale', kernel='rbf', max_iter=-1,\n",
       "                           probability=False, random_state=None, shrinking=True,\n",
       "                           tol=0.001, verbose=False),\n",
       "             iid='deprecated', n_jobs=-1,\n",
       "             param_grid={'C': [0.5, 1, 1.5], 'gamma': ['scale', 'auto']},\n",
       "             pre_dispatch='2*n_jobs', refit=True, return_train_score=False,\n",
       "             scoring='accuracy', verbose=0)"
      ]
     },
     "execution_count": 236,
     "metadata": {
      "tags": []
     },
     "output_type": "execute_result"
    }
   ],
   "source": [
    "gridcv = GridSearchCV(svc, {\"C\":[0.5,1,1.5], \"gamma\":[\"scale\",\"auto\"]}, scoring=\"accuracy\", n_jobs=-1)\n",
    "gridcv.fit(df_f, y=df[\"target\"])"
   ]
  },
  {
   "cell_type": "code",
   "execution_count": null,
   "metadata": {
    "colab": {
     "base_uri": "https://localhost:8080/",
     "height": 34
    },
    "colab_type": "code",
    "executionInfo": {
     "elapsed": 2544,
     "status": "ok",
     "timestamp": 1596249749130,
     "user": {
      "displayName": "Fernando Moreno",
      "photoUrl": "",
      "userId": "12085513332857029549"
     },
     "user_tz": 180
    },
    "id": "Ketnlo0yy0Gt",
    "outputId": "6729fe98-e913-408f-e4b6-69e81b1b666f"
   },
   "outputs": [
    {
     "data": {
      "text/plain": [
       "{'C': 0.5, 'gamma': 'scale'}"
      ]
     },
     "execution_count": 237,
     "metadata": {
      "tags": []
     },
     "output_type": "execute_result"
    }
   ],
   "source": [
    "gridcv.best_params_"
   ]
  },
  {
   "cell_type": "code",
   "execution_count": null,
   "metadata": {
    "colab": {
     "base_uri": "https://localhost:8080/",
     "height": 34
    },
    "colab_type": "code",
    "executionInfo": {
     "elapsed": 2526,
     "status": "ok",
     "timestamp": 1596249749132,
     "user": {
      "displayName": "Fernando Moreno",
      "photoUrl": "",
      "userId": "12085513332857029549"
     },
     "user_tz": 180
    },
    "id": "y_A0c6Hry0ZT",
    "outputId": "6270252d-b47f-432d-f76d-88275d9c54b2"
   },
   "outputs": [
    {
     "data": {
      "text/plain": [
       "0.8748237062371711"
      ]
     },
     "execution_count": 238,
     "metadata": {
      "tags": []
     },
     "output_type": "execute_result"
    }
   ],
   "source": [
    "gridcv.best_score_"
   ]
  }
 ],
 "metadata": {
  "colab": {
   "authorship_tag": "ABX9TyPOWd1Uma0DmABZLbvJi1WO",
   "collapsed_sections": [],
   "name": "Modelos.ipynb",
   "provenance": []
  },
  "kernelspec": {
   "display_name": "Python 3",
   "language": "python",
   "name": "python3"
  },
  "language_info": {
   "codemirror_mode": {
    "name": "ipython",
    "version": 3
   },
   "file_extension": ".py",
   "mimetype": "text/x-python",
   "name": "python",
   "nbconvert_exporter": "python",
   "pygments_lexer": "ipython3",
   "version": "3.7.1"
  }
 },
 "nbformat": 4,
 "nbformat_minor": 1
}
