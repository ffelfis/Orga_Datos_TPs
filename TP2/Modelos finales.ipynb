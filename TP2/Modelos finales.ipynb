{
 "cells": [
  {
   "cell_type": "markdown",
   "metadata": {
    "colab_type": "text",
    "id": "lcu9kHhZEgHw"
   },
   "source": [
    "En el siguiente notebook se probarán distintas combinaciones de features con los modelos que dieron mejores resultados con sus mejores hiperparámetros."
   ]
  },
  {
   "cell_type": "code",
   "execution_count": 76,
   "metadata": {
    "colab": {},
    "colab_type": "code",
    "executionInfo": {
     "elapsed": 618,
     "status": "ok",
     "timestamp": 1596413415684,
     "user": {
      "displayName": "Fernando Moreno",
      "photoUrl": "",
      "userId": "12085513332857029549"
     },
     "user_tz": 180
    },
    "id": "1SRqzPBIjQEC"
   },
   "outputs": [],
   "source": [
    "import pandas as pd\n",
    "import numpy as np\n",
    "import re\n",
    "import string\n",
    "from sklearn.feature_extraction.text import CountVectorizer, HashingVectorizer, TfidfVectorizer\n",
    "from sklearn.neighbors import KNeighborsClassifier \n",
    "from sklearn.model_selection import cross_val_score, GridSearchCV\n",
    "from sklearn.ensemble import RandomForestClassifier\n",
    "import xgboost as xgb\n",
    "from sklearn.svm import NuSVC, SVC\n",
    "from sklearn.linear_model import LogisticRegression \n",
    "from itertools import combinations"
   ]
  },
  {
   "cell_type": "code",
   "execution_count": 61,
   "metadata": {
    "colab": {},
    "colab_type": "code",
    "executionInfo": {
     "elapsed": 1082,
     "status": "ok",
     "timestamp": 1596413353672,
     "user": {
      "displayName": "Fernando Moreno",
      "photoUrl": "",
      "userId": "12085513332857029549"
     },
     "user_tz": 180
    },
    "id": "SkFdPQSUEGNe"
   },
   "outputs": [],
   "source": [
    "from google.colab import files"
   ]
  },
  {
   "cell_type": "code",
   "execution_count": 102,
   "metadata": {
    "colab": {
     "base_uri": "https://localhost:8080/",
     "height": 72,
     "resources": {
      "http://localhost:8080/nbextensions/google.colab/files.js": {
       "data": "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",
       "headers": [
        [
         "content-type",
         "application/javascript"
        ]
       ],
       "ok": true,
       "status": 200,
       "status_text": ""
      }
     }
    },
    "colab_type": "code",
    "executionInfo": {
     "elapsed": 26002,
     "status": "ok",
     "timestamp": 1596417886190,
     "user": {
      "displayName": "Fernando Moreno",
      "photoUrl": "",
      "userId": "12085513332857029549"
     },
     "user_tz": 180
    },
    "id": "Y7RRiUubE8X5",
    "outputId": "8847a6fe-1624-43f6-e9b4-1fae26221a76"
   },
   "outputs": [
    {
     "data": {
      "text/html": [
       "\n",
       "     <input type=\"file\" id=\"files-545cb2c6-993a-454a-936d-8e7e87af69c8\" name=\"files[]\" multiple disabled\n",
       "        style=\"border:none\" />\n",
       "     <output id=\"result-545cb2c6-993a-454a-936d-8e7e87af69c8\">\n",
       "      Upload widget is only available when the cell has been executed in the\n",
       "      current browser session. Please rerun this cell to enable.\n",
       "      </output>\n",
       "      <script src=\"/nbextensions/google.colab/files.js\"></script> "
      ],
      "text/plain": [
       "<IPython.core.display.HTML object>"
      ]
     },
     "metadata": {
      "tags": []
     },
     "output_type": "display_data"
    },
    {
     "name": "stdout",
     "output_type": "stream",
     "text": [
      "Saving train.csv to train (3).csv\n"
     ]
    }
   ],
   "source": [
    "file = files.upload()\n",
    "df = pd.read_csv(\"train.csv\")"
   ]
  },
  {
   "cell_type": "code",
   "execution_count": 103,
   "metadata": {
    "colab": {},
    "colab_type": "code",
    "executionInfo": {
     "elapsed": 18409,
     "status": "ok",
     "timestamp": 1596417886192,
     "user": {
      "displayName": "Fernando Moreno",
      "photoUrl": "",
      "userId": "12085513332857029549"
     },
     "user_tz": 180
    },
    "id": "jGTGwwzTE-UY"
   },
   "outputs": [],
   "source": [
    "df['id'] = df['id'].astype(np.uint16)\n",
    "df['target'] = df['target'].astype(np.uint8)\n",
    "df = df.fillna(\"\")"
   ]
  },
  {
   "cell_type": "markdown",
   "metadata": {
    "colab_type": "text",
    "id": "ES8_UD7VFAoZ"
   },
   "source": [
    "# Features"
   ]
  },
  {
   "cell_type": "code",
   "execution_count": 104,
   "metadata": {
    "colab": {},
    "colab_type": "code",
    "executionInfo": {
     "elapsed": 1409,
     "status": "ok",
     "timestamp": 1596417887622,
     "user": {
      "displayName": "Fernando Moreno",
      "photoUrl": "",
      "userId": "12085513332857029549"
     },
     "user_tz": 180
    },
    "id": "nn8CDD_Z8NIJ"
   },
   "outputs": [],
   "source": [
    "keywords_target = df.groupby([\"keyword\", \"target\"]).count()[\"id\"]"
   ]
  },
  {
   "cell_type": "code",
   "execution_count": 105,
   "metadata": {
    "colab": {},
    "colab_type": "code",
    "executionInfo": {
     "elapsed": 1393,
     "status": "ok",
     "timestamp": 1596417887623,
     "user": {
      "displayName": "Fernando Moreno",
      "photoUrl": "",
      "userId": "12085513332857029549"
     },
     "user_tz": 180
    },
    "id": "dFJVx8kr8UQf"
   },
   "outputs": [],
   "source": [
    "def keyword_mean(x):\n",
    "  try:\n",
    "      targets = keywords_target[x]\n",
    "  except KeyError:\n",
    "      return 0.5\n",
    "  if len(targets) == 2:\n",
    "      return targets[0]/(targets[0]+targets[1])\n",
    "  else:\n",
    "      try:\n",
    "          return targets[0]/targets[0]\n",
    "      except KeyError:\n",
    "          return 0"
   ]
  },
  {
   "cell_type": "code",
   "execution_count": 106,
   "metadata": {
    "colab": {},
    "colab_type": "code",
    "executionInfo": {
     "elapsed": 4622,
     "status": "ok",
     "timestamp": 1596417890868,
     "user": {
      "displayName": "Fernando Moreno",
      "photoUrl": "",
      "userId": "12085513332857029549"
     },
     "user_tz": 180
    },
    "id": "ww-B2Ys68Xs1"
   },
   "outputs": [],
   "source": [
    "df[\"keyword_mean\"] = df[\"keyword\"].transform(keyword_mean)"
   ]
  },
  {
   "cell_type": "code",
   "execution_count": 107,
   "metadata": {
    "colab": {},
    "colab_type": "code",
    "executionInfo": {
     "elapsed": 5340,
     "status": "ok",
     "timestamp": 1596417891601,
     "user": {
      "displayName": "Fernando Moreno",
      "photoUrl": "",
      "userId": "12085513332857029549"
     },
     "user_tz": 180
    },
    "id": "FrYzSyNKsbjU"
   },
   "outputs": [],
   "source": [
    "df[\"keyword_en_tweet\"] = df.agg(lambda x: 1 if x[\"keyword\"].lower() in x[\"text\"].lower().split() else 0, axis=1)"
   ]
  },
  {
   "cell_type": "code",
   "execution_count": 108,
   "metadata": {
    "colab": {},
    "colab_type": "code",
    "executionInfo": {
     "elapsed": 5325,
     "status": "ok",
     "timestamp": 1596417891603,
     "user": {
      "displayName": "Fernando Moreno",
      "photoUrl": "",
      "userId": "12085513332857029549"
     },
     "user_tz": 180
    },
    "id": "D_JOx3WvyXri"
   },
   "outputs": [],
   "source": [
    "df[\"long\"] = df[\"text\"].transform(lambda x: len(x))\n",
    "long_max = df[\"long\"].max()\n",
    "df[\"long\"] = df[\"long\"]/long_max"
   ]
  },
  {
   "cell_type": "code",
   "execution_count": 109,
   "metadata": {
    "colab": {},
    "colab_type": "code",
    "executionInfo": {
     "elapsed": 5310,
     "status": "ok",
     "timestamp": 1596417891604,
     "user": {
      "displayName": "Fernando Moreno",
      "photoUrl": "",
      "userId": "12085513332857029549"
     },
     "user_tz": 180
    },
    "id": "NHH1ccRq15HS"
   },
   "outputs": [],
   "source": [
    "df[\"nro_term\"] = df[\"text\"].transform(lambda x: len(x.split()))\n",
    "nro_term_max = df[\"nro_term\"].max()\n",
    "df[\"nro_term\"] = df[\"nro_term\"]/nro_term_max"
   ]
  },
  {
   "cell_type": "code",
   "execution_count": 110,
   "metadata": {
    "colab": {},
    "colab_type": "code",
    "executionInfo": {
     "elapsed": 5296,
     "status": "ok",
     "timestamp": 1596417891606,
     "user": {
      "displayName": "Fernando Moreno",
      "photoUrl": "",
      "userId": "12085513332857029549"
     },
     "user_tz": 180
    },
    "id": "dz3oklXCkt2r"
   },
   "outputs": [],
   "source": [
    "def hay_url(x):\n",
    "    if re.search('https{0,1}:\\/\\/\\S*', x) is not None:\n",
    "        return 1\n",
    "    else:\n",
    "        return 0\n",
    "    \n",
    "df[\"hay_url\"] = df[\"text\"].transform(hay_url)"
   ]
  },
  {
   "cell_type": "code",
   "execution_count": 111,
   "metadata": {
    "colab": {},
    "colab_type": "code",
    "executionInfo": {
     "elapsed": 5282,
     "status": "ok",
     "timestamp": 1596417891608,
     "user": {
      "displayName": "Fernando Moreno",
      "photoUrl": "",
      "userId": "12085513332857029549"
     },
     "user_tz": 180
    },
    "id": "xIhAPzFlkuo0"
   },
   "outputs": [],
   "source": [
    "def hay_nros(x):\n",
    "    x = x.split()\n",
    "    for i in x:\n",
    "        i = i.replace(',','')\n",
    "        try:\n",
    "            float(i)\n",
    "            return 1\n",
    "        except ValueError:\n",
    "            continue\n",
    "    return 0 \n",
    "\n",
    "df[\"hay_nros\"] = df[\"text\"].transform(hay_nros)"
   ]
  },
  {
   "cell_type": "code",
   "execution_count": 112,
   "metadata": {
    "colab": {},
    "colab_type": "code",
    "executionInfo": {
     "elapsed": 5268,
     "status": "ok",
     "timestamp": 1596417891609,
     "user": {
      "displayName": "Fernando Moreno",
      "photoUrl": "",
      "userId": "12085513332857029549"
     },
     "user_tz": 180
    },
    "id": "ht5uVcLDkxkL"
   },
   "outputs": [],
   "source": [
    "def hay_mencion(x):\n",
    "    for i in x.split():\n",
    "        if i[0]=='@':\n",
    "            return 1\n",
    "    return 0\n",
    "\n",
    "df[\"hay_mencion\"] = df[\"text\"].transform(hay_mencion)"
   ]
  },
  {
   "cell_type": "code",
   "execution_count": 113,
   "metadata": {
    "colab": {},
    "colab_type": "code",
    "executionInfo": {
     "elapsed": 5254,
     "status": "ok",
     "timestamp": 1596417891611,
     "user": {
      "displayName": "Fernando Moreno",
      "photoUrl": "",
      "userId": "12085513332857029549"
     },
     "user_tz": 180
    },
    "id": "4PfYUDVHk2Cz"
   },
   "outputs": [],
   "source": [
    "def hay_hashtag(x):\n",
    "    for i in x.split():\n",
    "        if i[0]=='#':\n",
    "            return 1\n",
    "    return 0\n",
    "\n",
    "df[\"hay_hashtag\"] = df[\"text\"].transform(hay_hashtag)"
   ]
  },
  {
   "cell_type": "code",
   "execution_count": 114,
   "metadata": {
    "colab": {},
    "colab_type": "code",
    "executionInfo": {
     "elapsed": 5239,
     "status": "ok",
     "timestamp": 1596417891612,
     "user": {
      "displayName": "Fernando Moreno",
      "photoUrl": "",
      "userId": "12085513332857029549"
     },
     "user_tz": 180
    },
    "id": "52dibBvFlLLo"
   },
   "outputs": [],
   "source": [
    "# Función para limpiar el texto de los mensajes.\n",
    "def clean_text(text):\n",
    "    # Se convierte el texto a minúsculas.\n",
    "    text = text.lower()\n",
    "    # Se quitan los '#'.\n",
    "    text = re.sub('#', '', text)\n",
    "    # Se quitan los números.\n",
    "    text = re.sub('\\w*\\d\\w*', '', text)\n",
    "    # Se quitan los saltos de línea.\n",
    "    text = re.sub('\\n', ' ', text)\n",
    "    # Se eliminan las referencias a usuarios '@user'.\n",
    "    text = re.sub('@\\S*', '', text)\n",
    "    # Se quitan vínculos URL.\n",
    "    text = re.sub('https{0,1}:\\/\\/\\S*', ' ', text)\n",
    "    # Se simplifican múltiples espacios a uno solo.\n",
    "    text = re.sub('(\\ ){2,7}', ' ',text)\n",
    "    # Se quitan los signos de puntuación.\n",
    "    text = re.sub('[%s]' % re.escape(string.punctuation), '', text)\n",
    "    return text"
   ]
  },
  {
   "cell_type": "code",
   "execution_count": 79,
   "metadata": {
    "colab": {},
    "colab_type": "code",
    "executionInfo": {
     "elapsed": 3413,
     "status": "ok",
     "timestamp": 1596414544228,
     "user": {
      "displayName": "Fernando Moreno",
      "photoUrl": "",
      "userId": "12085513332857029549"
     },
     "user_tz": 180
    },
    "id": "t5HNilLIlMBb"
   },
   "outputs": [],
   "source": [
    "c_vect = CountVectorizer(stop_words='english', preprocessor=clean_text, max_df=0.5, min_df=5)\n",
    "\n",
    "bow_cols = pd.DataFrame(c_vect.fit_transform(df[\"text\"]).toarray())\n",
    "\n",
    "nuevas_col = pd.Series(dtype=object)\n",
    "for col in bow_cols.columns:\n",
    "    nuevas_col = nuevas_col.append(pd.Series(\"bow_\" + str(col), dtype=object))\n",
    "bow_cols.columns = nuevas_col\n",
    "\n",
    "df = pd.concat(objs=[df, bow_cols], axis=1)"
   ]
  },
  {
   "cell_type": "code",
   "execution_count": 98,
   "metadata": {
    "colab": {},
    "colab_type": "code",
    "executionInfo": {
     "elapsed": 2069,
     "status": "ok",
     "timestamp": 1596417748927,
     "user": {
      "displayName": "Fernando Moreno",
      "photoUrl": "",
      "userId": "12085513332857029549"
     },
     "user_tz": 180
    },
    "id": "k8oAedjGFLKE"
   },
   "outputs": [],
   "source": [
    "h_vect = HashingVectorizer(stop_words='english', preprocessor=clean_text, n_features=101, norm=None)\n",
    "\n",
    "fh_cols = pd.DataFrame(h_vect.fit_transform(df[\"text\"]).toarray())\n",
    "\n",
    "nuevas_col = pd.Series(dtype=object)\n",
    "for col in fh_cols.columns:\n",
    "    nuevas_col = nuevas_col.append(pd.Series(\"fh101_\" + str(col), dtype=object))\n",
    "fh_cols.columns = nuevas_col\n",
    "\n",
    "df = pd.concat(objs=[df, fh_cols], axis=1)"
   ]
  },
  {
   "cell_type": "code",
   "execution_count": 115,
   "metadata": {
    "colab": {},
    "colab_type": "code",
    "executionInfo": {
     "elapsed": 2571,
     "status": "ok",
     "timestamp": 1596418006884,
     "user": {
      "displayName": "Fernando Moreno",
      "photoUrl": "",
      "userId": "12085513332857029549"
     },
     "user_tz": 180
    },
    "id": "EU7ke7o8FLXx"
   },
   "outputs": [],
   "source": [
    "tfidf_vect = TfidfVectorizer(stop_words='english', preprocessor=clean_text, max_df=0.5, min_df=5)\n",
    "\n",
    "tfidf_cols = pd.DataFrame(tfidf_vect.fit_transform(df[\"text\"]).toarray())\n",
    "\n",
    "nuevas_col = pd.Series(dtype=object)\n",
    "for col in tfidf_cols.columns:\n",
    "    nuevas_col = nuevas_col.append(pd.Series(\"tfidf_\" + str(col), dtype=object))\n",
    "tfidf_cols.columns = nuevas_col\n",
    "\n",
    "df = pd.concat(objs=[df, tfidf_cols], axis=1)"
   ]
  },
  {
   "cell_type": "code",
   "execution_count": null,
   "metadata": {
    "colab": {},
    "colab_type": "code",
    "id": "L0Iuy8DSFMZJ"
   },
   "outputs": [],
   "source": [
    "h_vect_3g = HashingVectorizer(stop_words='english', preprocessor=clean_text, ngram_range=(1,3), n_features=1001, norm=None)\n",
    "\n",
    "fh3g_cols = pd.DataFrame(h_vect_3g.fit_transform(df[\"text\"]).toarray())\n",
    "\n",
    "nuevas_col = pd.Series(dtype=object)\n",
    "for col in fh3g_cols.columns:\n",
    "    nuevas_col = nuevas_col.append(pd.Series(\"fh3g1001_\" + str(col), dtype=object))\n",
    "fh3g_cols.columns = nuevas_col\n",
    "\n",
    "df = pd.concat(objs=[df, fh3g_cols], axis=1)"
   ]
  },
  {
   "cell_type": "code",
   "execution_count": 116,
   "metadata": {
    "colab": {},
    "colab_type": "code",
    "executionInfo": {
     "elapsed": 984,
     "status": "ok",
     "timestamp": 1596418021953,
     "user": {
      "displayName": "Fernando Moreno",
      "photoUrl": "",
      "userId": "12085513332857029549"
     },
     "user_tz": 180
    },
    "id": "LYIniZ8a7Y4W"
   },
   "outputs": [],
   "source": [
    "df_f = df.drop(labels=[\"id\", \"text\", \"keyword\", \"location\", \"target\"], axis=1)"
   ]
  },
  {
   "cell_type": "markdown",
   "metadata": {
    "colab_type": "text",
    "id": "YWbPAbSHFSPp"
   },
   "source": [
    "# KNN"
   ]
  },
  {
   "cell_type": "code",
   "execution_count": 16,
   "metadata": {
    "colab": {},
    "colab_type": "code",
    "executionInfo": {
     "elapsed": 1056,
     "status": "ok",
     "timestamp": 1596404241063,
     "user": {
      "displayName": "Fernando Moreno",
      "photoUrl": "",
      "userId": "12085513332857029549"
     },
     "user_tz": 180
    },
    "id": "C9u4urHDFTmD"
   },
   "outputs": [],
   "source": [
    "knn = KNeighborsClassifier(n_neighbors=41, n_jobs=-1)"
   ]
  },
  {
   "cell_type": "markdown",
   "metadata": {
    "colab_type": "text",
    "id": "J6vLIC3kwv6P"
   },
   "source": [
    "## Con dos features"
   ]
  },
  {
   "cell_type": "code",
   "execution_count": 121,
   "metadata": {
    "colab": {
     "base_uri": "https://localhost:8080/",
     "height": 34
    },
    "colab_type": "code",
    "executionInfo": {
     "elapsed": 2003,
     "status": "ok",
     "timestamp": 1596420855251,
     "user": {
      "displayName": "Fernando Moreno",
      "photoUrl": "",
      "userId": "12085513332857029549"
     },
     "user_tz": 180
    },
    "id": "UfOKTfChwzCR",
    "outputId": "19758830-ae2a-4d92-d230-03057a2d8239"
   },
   "outputs": [
    {
     "name": "stdout",
     "output_type": "stream",
     "text": [
      "MIN: 0.6640419947506562, MAX:0.8160315374507228, MEAN:0.7357207155938622\n"
     ]
    }
   ],
   "source": [
    "score = cross_val_score(knn, df_f[[\"keyword_mean\", \"nro_term\"]], y=df[\"target\"], scoring=\"accuracy\", cv=10, n_jobs=-1)\n",
    "print(\"MIN: {}, MAX:{}, MEAN:{}\".format(score.min(), score.max(), score.mean()))"
   ]
  },
  {
   "cell_type": "code",
   "execution_count": 122,
   "metadata": {
    "colab": {
     "base_uri": "https://localhost:8080/",
     "height": 34
    },
    "colab_type": "code",
    "executionInfo": {
     "elapsed": 26365,
     "status": "ok",
     "timestamp": 1596420885617,
     "user": {
      "displayName": "Fernando Moreno",
      "photoUrl": "",
      "userId": "12085513332857029549"
     },
     "user_tz": 180
    },
    "id": "hrfvkw6xw5e_",
    "outputId": "ffab41d0-baab-47fb-bb91-e0d7c5c86477"
   },
   "outputs": [
    {
     "name": "stdout",
     "output_type": "stream",
     "text": [
      "Best_comb: ['keyword_mean', 'nro_term'], MIN: 0.7357207155938622, MAX:0.7357207155938622, MEAN:0.7357207155938622\n"
     ]
    }
   ],
   "source": [
    "best_score = score.mean()\n",
    "best_comb = [\"keyword_mean\",\"nro_term\"]\n",
    "for comb in list(combinations(df_f.iloc[:, :8].columns, 2)):\n",
    "  new_scores = cross_val_score(knn, df_f[[i for i in comb]], y=df[\"target\"], scoring=\"accuracy\", cv=10, n_jobs=-1)\n",
    "  if new_scores.mean() > best_score.mean():\n",
    "    best_score = new_scores\n",
    "    best_comb = comb\n",
    "print(\"Best_comb: {}, MIN: {}, MAX:{}, MEAN:{}\".format(best_comb, best_score.min(), best_score.max(), best_score.mean()))"
   ]
  },
  {
   "cell_type": "markdown",
   "metadata": {
    "colab_type": "text",
    "id": "28J3y4_AwAhk"
   },
   "source": [
    "## Con tres features"
   ]
  },
  {
   "cell_type": "code",
   "execution_count": 23,
   "metadata": {
    "colab": {
     "base_uri": "https://localhost:8080/",
     "height": 34
    },
    "colab_type": "code",
    "executionInfo": {
     "elapsed": 1533,
     "status": "ok",
     "timestamp": 1596404812659,
     "user": {
      "displayName": "Fernando Moreno",
      "photoUrl": "",
      "userId": "12085513332857029549"
     },
     "user_tz": 180
    },
    "id": "rdtrLD25I-vx",
    "outputId": "b7728f40-a086-4d4b-eb6e-244f57a62c25"
   },
   "outputs": [
    {
     "name": "stdout",
     "output_type": "stream",
     "text": [
      "MIN: 0.6863517060367454, MAX:0.8149606299212598, MEAN:0.7459653860613022\n"
     ]
    }
   ],
   "source": [
    "score = cross_val_score(knn, df_f[[\"keyword_mean\", \"long\", \"nro_term\"]], y=df[\"target\"], scoring=\"accuracy\", cv=10, n_jobs=-1)\n",
    "print(\"MIN: {}, MAX:{}, MEAN:{}\".format(score.min(), score.max(), score.mean()))"
   ]
  },
  {
   "cell_type": "code",
   "execution_count": 57,
   "metadata": {
    "colab": {
     "base_uri": "https://localhost:8080/",
     "height": 34
    },
    "colab_type": "code",
    "executionInfo": {
     "elapsed": 51741,
     "status": "ok",
     "timestamp": 1596406415105,
     "user": {
      "displayName": "Fernando Moreno",
      "photoUrl": "",
      "userId": "12085513332857029549"
     },
     "user_tz": 180
    },
    "id": "0eMbCuBwLw-l",
    "outputId": "645ebfcd-8e32-4e8a-d1a0-60d733ff2613"
   },
   "outputs": [
    {
     "name": "stdout",
     "output_type": "stream",
     "text": [
      "Best_comb: ('keyword_mean', 'long', 'nro_term'), MIN: 0.6863517060367454, MAX:0.8149606299212598, MEAN:0.7459653860613022\n"
     ]
    }
   ],
   "source": [
    "best_score = score.mean()\n",
    "best_comb = [\"keyword_mean\",\"long\",\"nro_term\"]\n",
    "for comb in list(combinations(df_f.iloc[:, :8].columns, 3)):\n",
    "  new_scores = cross_val_score(knn, df_f[[i for i in comb]], y=df[\"target\"], scoring=\"accuracy\", cv=10, n_jobs=-1)\n",
    "  if new_scores.mean() > best_score.mean():\n",
    "    best_score = new_scores\n",
    "    best_comb = comb\n",
    "print(\"Best_comb: {}, MIN: {}, MAX:{}, MEAN:{}\".format(best_comb, best_score.min(), best_score.max(), best_score.mean()))"
   ]
  },
  {
   "cell_type": "markdown",
   "metadata": {
    "colab_type": "text",
    "id": "jrmN0uPAwEn7"
   },
   "source": [
    "## Con cuatro features"
   ]
  },
  {
   "cell_type": "code",
   "execution_count": 119,
   "metadata": {
    "colab": {
     "base_uri": "https://localhost:8080/",
     "height": 34
    },
    "colab_type": "code",
    "executionInfo": {
     "elapsed": 3221,
     "status": "ok",
     "timestamp": 1596420756349,
     "user": {
      "displayName": "Fernando Moreno",
      "photoUrl": "",
      "userId": "12085513332857029549"
     },
     "user_tz": 180
    },
    "id": "8I2Qk7PIwLHJ",
    "outputId": "19353e67-d5ef-4e94-cac9-69cc9ff0a934"
   },
   "outputs": [
    {
     "name": "stdout",
     "output_type": "stream",
     "text": [
      "MIN: 0.6846254927726675, MAX:0.8107752956636005, MEAN:0.7478012768114893\n"
     ]
    }
   ],
   "source": [
    "score = cross_val_score(knn, df_f[[\"keyword_mean\", \"long\", \"nro_term\", \"keyword_en_tweet\"]], y=df[\"target\"], scoring=\"accuracy\", cv=10, n_jobs=-1)\n",
    "print(\"MIN: {}, MAX:{}, MEAN:{}\".format(score.min(), score.max(), score.mean()))"
   ]
  },
  {
   "cell_type": "code",
   "execution_count": 120,
   "metadata": {
    "colab": {
     "base_uri": "https://localhost:8080/",
     "height": 34
    },
    "colab_type": "code",
    "executionInfo": {
     "elapsed": 64445,
     "status": "ok",
     "timestamp": 1596420825633,
     "user": {
      "displayName": "Fernando Moreno",
      "photoUrl": "",
      "userId": "12085513332857029549"
     },
     "user_tz": 180
    },
    "id": "4YTCh30fwdAG",
    "outputId": "6587c596-0e34-4f36-dad2-bd4839375ba7"
   },
   "outputs": [
    {
     "name": "stdout",
     "output_type": "stream",
     "text": [
      "Best_comb: ('keyword_mean', 'keyword_en_tweet', 'long', 'hay_url'), MIN: 0.7034120734908137, MAX:0.8097112860892388, MEAN:0.7509543320882524\n"
     ]
    }
   ],
   "source": [
    "best_score = score.mean()\n",
    "best_comb = [\"keyword_mean\",\"long\",\"nro_term\",\"keyword_en_tweet\"]\n",
    "for comb in list(combinations(df_f.iloc[:, :8].columns, 4)):\n",
    "  new_scores = cross_val_score(knn, df_f[[i for i in comb]], y=df[\"target\"], scoring=\"accuracy\", cv=10, n_jobs=-1)\n",
    "  if new_scores.mean() > best_score.mean():\n",
    "    best_score = new_scores\n",
    "    best_comb = comb\n",
    "print(\"Best_comb: {}, MIN: {}, MAX:{}, MEAN:{}\".format(best_comb, best_score.min(), best_score.max(), best_score.mean()))"
   ]
  },
  {
   "cell_type": "markdown",
   "metadata": {
    "colab_type": "text",
    "id": "x6lRF1dpHiFj"
   },
   "source": [
    "## Con cinco features"
   ]
  },
  {
   "cell_type": "code",
   "execution_count": 123,
   "metadata": {
    "colab": {
     "base_uri": "https://localhost:8080/",
     "height": 34
    },
    "colab_type": "code",
    "executionInfo": {
     "elapsed": 3156,
     "status": "ok",
     "timestamp": 1596421241365,
     "user": {
      "displayName": "Fernando Moreno",
      "photoUrl": "",
      "userId": "12085513332857029549"
     },
     "user_tz": 180
    },
    "id": "3jIwBg_1HlTS",
    "outputId": "5117a352-63c0-4756-d0ac-602b5ea2e0db"
   },
   "outputs": [
    {
     "name": "stdout",
     "output_type": "stream",
     "text": [
      "MIN: 0.6902887139107612, MAX:0.8097112860892388, MEAN:0.7485904028750677\n"
     ]
    }
   ],
   "source": [
    "score = cross_val_score(knn, df_f[[\"keyword_mean\", \"long\", \"nro_term\", \"keyword_en_tweet\", \"hay_url\"]], y=df[\"target\"], \\\n",
    "                        scoring=\"accuracy\", cv=10, n_jobs=-1)\n",
    "print(\"MIN: {}, MAX:{}, MEAN:{}\".format(score.min(), score.max(), score.mean()))"
   ]
  },
  {
   "cell_type": "code",
   "execution_count": 124,
   "metadata": {
    "colab": {
     "base_uri": "https://localhost:8080/",
     "height": 54
    },
    "colab_type": "code",
    "executionInfo": {
     "elapsed": 51720,
     "status": "ok",
     "timestamp": 1596421341892,
     "user": {
      "displayName": "Fernando Moreno",
      "photoUrl": "",
      "userId": "12085513332857029549"
     },
     "user_tz": 180
    },
    "id": "MzR288UNHvj_",
    "outputId": "9801f981-59b2-4da4-cb89-4f1ad5d796a2"
   },
   "outputs": [
    {
     "name": "stdout",
     "output_type": "stream",
     "text": [
      "Best_comb: ('keyword_mean', 'keyword_en_tweet', 'long', 'hay_url', 'hay_nros'), MIN: 0.7069645203679369, MAX:0.8202099737532809, MEAN:0.7546319768504627\n"
     ]
    }
   ],
   "source": [
    "best_score = score.mean()\n",
    "best_comb = [\"keyword_mean\",\"long\",\"nro_term\",\"keyword_en_tweet\",\"hay_url\"]\n",
    "for comb in list(combinations(df_f.iloc[:, :8].columns, 5)):\n",
    "  new_scores = cross_val_score(knn, df_f[[i for i in comb]], y=df[\"target\"], scoring=\"accuracy\", cv=10, n_jobs=-1)\n",
    "  if new_scores.mean() > best_score.mean():\n",
    "    best_score = new_scores\n",
    "    best_comb = comb\n",
    "print(\"Best_comb: {}, MIN: {}, MAX:{}, MEAN:{}\".format(best_comb, best_score.min(), best_score.max(), best_score.mean()))"
   ]
  },
  {
   "cell_type": "markdown",
   "metadata": {
    "colab_type": "text",
    "id": "8f3w-wfeKQiC"
   },
   "source": [
    "# NuSVC"
   ]
  },
  {
   "cell_type": "code",
   "execution_count": 58,
   "metadata": {
    "colab": {},
    "colab_type": "code",
    "executionInfo": {
     "elapsed": 1875,
     "status": "ok",
     "timestamp": 1596406965629,
     "user": {
      "displayName": "Fernando Moreno",
      "photoUrl": "",
      "userId": "12085513332857029549"
     },
     "user_tz": 180
    },
    "id": "nieDbElEKP7S"
   },
   "outputs": [],
   "source": [
    "nusvc = NuSVC(nu=0.7)"
   ]
  },
  {
   "cell_type": "markdown",
   "metadata": {
    "colab_type": "text",
    "id": "6l_iFj-DqSUB"
   },
   "source": [
    "## Con BOW"
   ]
  },
  {
   "cell_type": "code",
   "execution_count": 59,
   "metadata": {
    "colab": {
     "base_uri": "https://localhost:8080/",
     "height": 34
    },
    "colab_type": "code",
    "executionInfo": {
     "elapsed": 1020065,
     "status": "ok",
     "timestamp": 1596408001480,
     "user": {
      "displayName": "Fernando Moreno",
      "photoUrl": "",
      "userId": "12085513332857029549"
     },
     "user_tz": 180
    },
    "id": "CP0fTd0GRSQR",
    "outputId": "5c3c58b5-ee4f-41ef-86dd-197231510af4"
   },
   "outputs": [
    {
     "name": "stdout",
     "output_type": "stream",
     "text": [
      "MIN: 0.7020997375328084, MAX:0.8160315374507228, MEAN:0.7597606064682125\n"
     ]
    }
   ],
   "source": [
    "score = cross_val_score(nusvc, df_f, y=df[\"target\"], scoring=\"accuracy\", cv=10, n_jobs=-1)\n",
    "print(\"MIN: {}, MAX:{}, MEAN:{}\".format(score.min(), score.max(), score.mean()))"
   ]
  },
  {
   "cell_type": "markdown",
   "metadata": {
    "colab_type": "text",
    "id": "XdHfMp47qYvP"
   },
   "source": [
    "## Con Feature Hashing de BOW de 101 columnas"
   ]
  },
  {
   "cell_type": "code",
   "execution_count": 101,
   "metadata": {
    "colab": {
     "base_uri": "https://localhost:8080/",
     "height": 34
    },
    "colab_type": "code",
    "executionInfo": {
     "elapsed": 62487,
     "status": "ok",
     "timestamp": 1596417843141,
     "user": {
      "displayName": "Fernando Moreno",
      "photoUrl": "",
      "userId": "12085513332857029549"
     },
     "user_tz": 180
    },
    "id": "eJGJP3NDqGFF",
    "outputId": "f6671b1a-8f88-4d13-e247-5306ba2d054d"
   },
   "outputs": [
    {
     "name": "stdout",
     "output_type": "stream",
     "text": [
      "MIN: 0.6846254927726675, MAX:0.8147174770039421, MEAN:0.7428133654778042\n"
     ]
    }
   ],
   "source": [
    "score = cross_val_score(nusvc, df_f, y=df[\"target\"], scoring=\"accuracy\", cv=10, n_jobs=-1)\n",
    "print(\"MIN: {}, MAX:{}, MEAN:{}\".format(score.min(), score.max(), score.mean()))"
   ]
  },
  {
   "cell_type": "markdown",
   "metadata": {
    "colab_type": "text",
    "id": "TQiGXMVdqhxY"
   },
   "source": [
    "## Con BOW más Feature Hashing de BOW de 101 columnas "
   ]
  },
  {
   "cell_type": "code",
   "execution_count": 84,
   "metadata": {
    "colab": {
     "base_uri": "https://localhost:8080/",
     "height": 34
    },
    "colab_type": "code",
    "executionInfo": {
     "elapsed": 1125040,
     "status": "ok",
     "timestamp": 1596416851106,
     "user": {
      "displayName": "Fernando Moreno",
      "photoUrl": "",
      "userId": "12085513332857029549"
     },
     "user_tz": 180
    },
    "id": "EVnVO20oqz42",
    "outputId": "2d93aeba-3a7c-4106-d4b9-6ee2019f2013"
   },
   "outputs": [
    {
     "name": "stdout",
     "output_type": "stream",
     "text": [
      "MIN: 0.7034120734908137, MAX:0.8160315374507228, MEAN:0.7491182688891878\n"
     ]
    }
   ],
   "source": [
    "score = cross_val_score(nusvc, df_f, y=df[\"target\"], scoring=\"accuracy\", cv=10, n_jobs=-1)\n",
    "print(\"MIN: {}, MAX:{}, MEAN:{}\".format(score.min(), score.max(), score.mean()))"
   ]
  },
  {
   "cell_type": "markdown",
   "metadata": {
    "colab_type": "text",
    "id": "WfZZ9PZLq964"
   },
   "source": [
    "## Con TF-TDF"
   ]
  },
  {
   "cell_type": "code",
   "execution_count": 118,
   "metadata": {
    "colab": {
     "base_uri": "https://localhost:8080/",
     "height": 88
    },
    "colab_type": "code",
    "executionInfo": {
     "elapsed": 1021982,
     "status": "ok",
     "timestamp": 1596419092910,
     "user": {
      "displayName": "Fernando Moreno",
      "photoUrl": "",
      "userId": "12085513332857029549"
     },
     "user_tz": 180
    },
    "id": "PuBP_CGRrAOb",
    "outputId": "d71d0168-9cc2-4a54-e2f1-7d86a436fbfb"
   },
   "outputs": [
    {
     "name": "stderr",
     "output_type": "stream",
     "text": [
      "/usr/local/lib/python3.6/dist-packages/joblib/externals/loky/process_executor.py:691: UserWarning: A worker stopped while some jobs were given to the executor. This can be caused by a too short worker timeout or by a memory leak.\n",
      "  \"timeout or by a memory leak.\", UserWarning\n"
     ]
    },
    {
     "name": "stdout",
     "output_type": "stream",
     "text": [
      "MIN: 0.699475065616798, MAX:0.8278580814717477, MEAN:0.7560798576262067\n"
     ]
    }
   ],
   "source": [
    "score = cross_val_score(nusvc, df_f, y=df[\"target\"], scoring=\"accuracy\", cv=10, n_jobs=-1)\n",
    "print(\"MIN: {}, MAX:{}, MEAN:{}\".format(score.min(), score.max(), score.mean()))"
   ]
  },
  {
   "cell_type": "markdown",
   "metadata": {
    "colab_type": "text",
    "id": "aZzZpUOXrAlk"
   },
   "source": [
    "## Con Feature Hashing de BOW de unigramas hasta trigramas de 1001 columnas"
   ]
  },
  {
   "cell_type": "code",
   "execution_count": null,
   "metadata": {
    "colab": {},
    "colab_type": "code",
    "id": "CRsYqBaC7nbe"
   },
   "outputs": [],
   "source": [
    "score = cross_val_score(nusvc, df_f, y=df[\"target\"], scoring=\"accuracy\", cv=10, n_jobs=-1)\n",
    "print(\"MIN: {}, MAX:{}, MEAN:{}\".format(score.min(), score.max(), score.mean()))"
   ]
  },
  {
   "cell_type": "code",
   "execution_count": null,
   "metadata": {
    "colab": {},
    "colab_type": "code",
    "id": "mzV77igv7sFq"
   },
   "outputs": [],
   "source": []
  },
  {
   "cell_type": "code",
   "execution_count": null,
   "metadata": {
    "colab": {},
    "colab_type": "code",
    "id": "drLorRM1FtVF"
   },
   "outputs": [],
   "source": []
  },
  {
   "cell_type": "markdown",
   "metadata": {
    "colab_type": "text",
    "id": "tMhHbJc4Ftt7"
   },
   "source": [
    "# SVC"
   ]
  },
  {
   "cell_type": "code",
   "execution_count": null,
   "metadata": {
    "colab": {},
    "colab_type": "code",
    "id": "D5LwmADwFvPY"
   },
   "outputs": [],
   "source": [
    "svc = SVC(C=0.15) "
   ]
  }
 ],
 "metadata": {
  "colab": {
   "authorship_tag": "ABX9TyP1UBGfTUTMP5c053Bac+yW",
   "collapsed_sections": [],
   "name": "Modelos finales.ipynb",
   "provenance": []
  },
  "kernelspec": {
   "display_name": "Python 3",
   "language": "python",
   "name": "python3"
  },
  "language_info": {
   "codemirror_mode": {
    "name": "ipython",
    "version": 3
   },
   "file_extension": ".py",
   "mimetype": "text/x-python",
   "name": "python",
   "nbconvert_exporter": "python",
   "pygments_lexer": "ipython3",
   "version": "3.7.1"
  }
 },
 "nbformat": 4,
 "nbformat_minor": 1
}
