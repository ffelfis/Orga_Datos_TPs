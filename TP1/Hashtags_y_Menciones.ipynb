{
 "cells": [
  {
   "cell_type": "markdown",
   "metadata": {},
   "source": [
    "# Hashtags y Menciones"
   ]
  },
  {
   "cell_type": "code",
   "execution_count": 1,
   "metadata": {},
   "outputs": [],
   "source": [
    "import pandas as pd\n",
    "import matplotlib.pyplot as plt\n",
    "from collections import Counter"
   ]
  },
  {
   "cell_type": "code",
   "execution_count": 2,
   "metadata": {},
   "outputs": [],
   "source": [
    "df = pd.read_csv(\"train.csv\")"
   ]
  },
  {
   "cell_type": "markdown",
   "metadata": {},
   "source": [
    "A continuación veremos la cantidad de hastags y menciones que hay en los datos y si guardan alguna relación con los targets."
   ]
  },
  {
   "cell_type": "code",
   "execution_count": 3,
   "metadata": {},
   "outputs": [],
   "source": [
    "df[\"text\"] = df[\"text\"].map(lambda x:x.split()) "
   ]
  },
  {
   "cell_type": "code",
   "execution_count": 4,
   "metadata": {},
   "outputs": [
    {
     "data": {
      "text/plain": [
       "7613"
      ]
     },
     "execution_count": 4,
     "metadata": {},
     "output_type": "execute_result"
    }
   ],
   "source": [
    "len(df) #Cantidad de tweets"
   ]
  },
  {
   "cell_type": "markdown",
   "metadata": {},
   "source": [
    "### Hashtags "
   ]
  },
  {
   "cell_type": "code",
   "execution_count": 5,
   "metadata": {},
   "outputs": [],
   "source": [
    "def contar_hashtags(x):\n",
    "    contador = 0\n",
    "    for i in x:\n",
    "        if i[0] == '#' and len(i) > 0:\n",
    "            contador += 1\n",
    "    return contador\n",
    "\n",
    "df[\"nro_hashtags_en_tweet\"] = df[\"text\"].map(contar_hashtags)"
   ]
  },
  {
   "cell_type": "code",
   "execution_count": 6,
   "metadata": {
    "scrolled": true
   },
   "outputs": [
    {
     "data": {
      "text/plain": [
       "1734"
      ]
     },
     "execution_count": 6,
     "metadata": {},
     "output_type": "execute_result"
    }
   ],
   "source": [
    "df[\"nro_hashtags_en_tweet\"].map(lambda x: 1 if x>0 else 0).sum() #Número total de tweets con hashtags"
   ]
  },
  {
   "cell_type": "code",
   "execution_count": 7,
   "metadata": {},
   "outputs": [
    {
     "data": {
      "text/plain": [
       "3340"
      ]
     },
     "execution_count": 7,
     "metadata": {},
     "output_type": "execute_result"
    }
   ],
   "source": [
    "df[\"nro_hashtags_en_tweet\"].sum() #Número total de hashtags"
   ]
  },
  {
   "cell_type": "code",
   "execution_count": 8,
   "metadata": {},
   "outputs": [
    {
     "data": {
      "text/plain": [
       "781"
      ]
     },
     "execution_count": 8,
     "metadata": {},
     "output_type": "execute_result"
    }
   ],
   "source": [
    "df[\"nro_hashtags_en_tweet\"].map(lambda x: True if x>1 else False).sum() #Cantidad de tweets con más de un hashtag"
   ]
  },
  {
   "cell_type": "code",
   "execution_count": 9,
   "metadata": {},
   "outputs": [
    {
     "data": {
      "text/plain": [
       "0     5879\n",
       "1      953\n",
       "2      398\n",
       "3      203\n",
       "4       83\n",
       "5       38\n",
       "6       26\n",
       "10      10\n",
       "7        8\n",
       "8        7\n",
       "13       4\n",
       "11       2\n",
       "9        2\n",
       "Name: nro_hashtags_en_tweet, dtype: int64"
      ]
     },
     "execution_count": 9,
     "metadata": {},
     "output_type": "execute_result"
    }
   ],
   "source": [
    "df[\"nro_hashtags_en_tweet\"].value_counts() #Frecuencias de las distintas cantidades de hashtags por tweet"
   ]
  },
  {
   "cell_type": "code",
   "execution_count": 10,
   "metadata": {},
   "outputs": [
    {
     "data": {
      "text/plain": [
       "nro_hashtags_en_tweet  target\n",
       "0                      0         3465\n",
       "                       1         2414\n",
       "1                      0          478\n",
       "                       1          475\n",
       "2                      0          201\n",
       "                       1          197\n",
       "3                      0          108\n",
       "                       1           95\n",
       "4                      0           43\n",
       "                       1           40\n",
       "5                      0           17\n",
       "                       1           21\n",
       "6                      0           18\n",
       "                       1            8\n",
       "7                      0            4\n",
       "                       1            4\n",
       "8                      0            1\n",
       "                       1            6\n",
       "9                      0            2\n",
       "10                     0            3\n",
       "                       1            7\n",
       "11                     0            2\n",
       "13                     1            4\n",
       "Name: id, dtype: int64"
      ]
     },
     "execution_count": 10,
     "metadata": {},
     "output_type": "execute_result"
    }
   ],
   "source": [
    "df.groupby([\"nro_hashtags_en_tweet\", \"target\"]).agg(\"count\")[\"id\"] #Frecuencias de nro. de hashtags en tweet por target"
   ]
  },
  {
   "cell_type": "code",
   "execution_count": 11,
   "metadata": {},
   "outputs": [],
   "source": [
    "hashtags = pd.Series()\n",
    "for x in df[\"text\"]:\n",
    "    for i in x:\n",
    "        if i[0] == '#':\n",
    "            hashtags = hashtags.append(pd.Series(i))"
   ]
  },
  {
   "cell_type": "code",
   "execution_count": 12,
   "metadata": {},
   "outputs": [
    {
     "data": {
      "text/plain": [
       "[('#news', 36),\n",
       " ('#News', 36),\n",
       " ('#hot', 30),\n",
       " ('#prebreak', 30),\n",
       " ('#best', 30),\n",
       " ('#???', 23),\n",
       " ('#??', 20),\n",
       " ('#Hiroshima', 20),\n",
       " ('#GBBO', 16),\n",
       " ('#terrorism', 11)]"
      ]
     },
     "execution_count": 12,
     "metadata": {},
     "output_type": "execute_result"
    }
   ],
   "source": [
    "top_10_hashtags = Counter(hashtags).most_common(10)\n",
    "top_10_hashtags #Top 10 hashtags con frecuencias"
   ]
  },
  {
   "cell_type": "code",
   "execution_count": 13,
   "metadata": {},
   "outputs": [],
   "source": [
    "cant_top_10_hashtags_por_target = []\n",
    "for x in top_10_hashtags:\n",
    "    cant_top_10_hashtags_por_target.append([x[0], 0, 0])"
   ]
  },
  {
   "cell_type": "code",
   "execution_count": 14,
   "metadata": {},
   "outputs": [],
   "source": [
    "index = 0\n",
    "for x in df[\"text\"]:\n",
    "    for i in x:\n",
    "        if i in [j[0] for j in top_10_hashtags]:\n",
    "            if df.loc[index][\"target\"] == 0:\n",
    "                cant_top_10_hashtags_por_target[[j[0] for j in top_10_hashtags].index(i)][1] += 1\n",
    "            else:\n",
    "                cant_top_10_hashtags_por_target[[j[0] for j in top_10_hashtags].index(i)][2] += 1\n",
    "    index += 1"
   ]
  },
  {
   "cell_type": "code",
   "execution_count": 15,
   "metadata": {},
   "outputs": [
    {
     "data": {
      "text/plain": [
       "[['#news', 15, 21],\n",
       " ['#News', 5, 31],\n",
       " ['#hot', 17, 13],\n",
       " ['#prebreak', 17, 13],\n",
       " ['#best', 17, 13],\n",
       " ['#???', 0, 23],\n",
       " ['#??', 1, 19],\n",
       " ['#Hiroshima', 0, 20],\n",
       " ['#GBBO', 12, 4],\n",
       " ['#terrorism', 3, 8]]"
      ]
     },
     "execution_count": 15,
     "metadata": {},
     "output_type": "execute_result"
    }
   ],
   "source": [
    "cant_top_10_hashtags_por_target #Top 10 hashtags con frecuencias por target (0, 1)"
   ]
  },
  {
   "cell_type": "code",
   "execution_count": 16,
   "metadata": {},
   "outputs": [
    {
     "data": {
      "image/png": "[encoded data removed]",
      "text/plain": [
       "<Figure size 720x576 with 1 Axes>"
      ]
     },
     "metadata": {
      "needs_background": "light"
     },
     "output_type": "display_data"
    }
   ],
   "source": [
    "ancho = 0.35\n",
    "x = pd.array(range(len(cant_top_10_hashtags_por_target)))\n",
    "fig, ax = plt.subplots()\n",
    "fig.set_size_inches(10, 8)\n",
    "rects1 = ax.bar(x - ancho/2, [i[1] for i in cant_top_10_hashtags_por_target], ancho, label='Target 0')\n",
    "rects2 = ax.bar(x + ancho/2, [i[2] for i in cant_top_10_hashtags_por_target], ancho, label='Target 1')\n",
    "\n",
    "ax.set_ylabel('Frecuencia')\n",
    "ax.set_title('Frecuencias de Top 10 Hashtags por target')\n",
    "ax.set_xticks(x)\n",
    "ax.set_xticklabels([i[0] for i in cant_top_10_hashtags_por_target])\n",
    "ax.legend()\n",
    "\n",
    "\n",
    "def autolabel(rects):\n",
    "    \"\"\"Attach a text label above each bar in *rects*, displaying its height.\"\"\"\n",
    "    for rect in rects:\n",
    "        height = rect.get_height()\n",
    "        ax.annotate('{}'.format(height),\n",
    "                    xy=(rect.get_x() + rect.get_width() / 2, height),\n",
    "                    xytext=(0, 3),  # 3 points vertical offset\n",
    "                    textcoords=\"offset points\",\n",
    "                    ha='center', va='bottom')\n",
    "\n",
    "\n",
    "autolabel(rects1)\n",
    "autolabel(rects2)\n",
    "\n",
    "fig.tight_layout()\n",
    "\n",
    "plt.show()"
   ]
  },
  {
   "cell_type": "markdown",
   "metadata": {},
   "source": [
    "Viendo los resultados de los hashtags, nos damos cuenta de que la mayoría no contiene ninguno, y de los demás que si contienen, vemos que algunos tweets son puros hashtags (hasta 13 hashtags en 1 tweet). Luego, dentro de los hashtags más frecuentes vemos que algunos están completamente desbalanceados según el target, como \"News\" o \"???\" lo que puede servir a futuro para realizar predicciones."
   ]
  },
  {
   "cell_type": "markdown",
   "metadata": {},
   "source": [
    "### Menciones "
   ]
  },
  {
   "cell_type": "code",
   "execution_count": 17,
   "metadata": {},
   "outputs": [],
   "source": [
    "def contar_menciones(x):\n",
    "    contador = 0\n",
    "    for i in x:\n",
    "        if i[0] == '@' and len(i) > 0:\n",
    "            contador += 1\n",
    "    return contador\n",
    "\n",
    "df[\"nro_menciones_en_tweet\"] = df[\"text\"].map(contar_menciones)"
   ]
  },
  {
   "cell_type": "code",
   "execution_count": 18,
   "metadata": {
    "scrolled": true
   },
   "outputs": [
    {
     "data": {
      "text/plain": [
       "1985"
      ]
     },
     "execution_count": 18,
     "metadata": {},
     "output_type": "execute_result"
    }
   ],
   "source": [
    "df[\"nro_menciones_en_tweet\"].map(lambda x: 1 if x>0 else 0).sum() #Número total de tweets con menciones"
   ]
  },
  {
   "cell_type": "code",
   "execution_count": 19,
   "metadata": {},
   "outputs": [
    {
     "data": {
      "text/plain": [
       "2664"
      ]
     },
     "execution_count": 19,
     "metadata": {},
     "output_type": "execute_result"
    }
   ],
   "source": [
    "df[\"nro_menciones_en_tweet\"].sum() #Número total de menciones"
   ]
  },
  {
   "cell_type": "code",
   "execution_count": 20,
   "metadata": {},
   "outputs": [
    {
     "data": {
      "text/plain": [
       "468"
      ]
     },
     "execution_count": 20,
     "metadata": {},
     "output_type": "execute_result"
    }
   ],
   "source": [
    "df[\"nro_menciones_en_tweet\"].map(lambda x: True if x>1 else False).sum() #Cantidad de tweets con más de una mención"
   ]
  },
  {
   "cell_type": "code",
   "execution_count": 21,
   "metadata": {},
   "outputs": [
    {
     "data": {
      "text/plain": [
       "0    5628\n",
       "1    1517\n",
       "2     341\n",
       "3      76\n",
       "4      28\n",
       "5      16\n",
       "6       5\n",
       "7       1\n",
       "8       1\n",
       "Name: nro_menciones_en_tweet, dtype: int64"
      ]
     },
     "execution_count": 21,
     "metadata": {},
     "output_type": "execute_result"
    }
   ],
   "source": [
    "df[\"nro_menciones_en_tweet\"].value_counts() #Frecuencias de las distintas cantidades de menciones por tweet"
   ]
  },
  {
   "cell_type": "code",
   "execution_count": 22,
   "metadata": {},
   "outputs": [
    {
     "data": {
      "text/plain": [
       "nro_menciones_en_tweet  target\n",
       "0                       0         3011\n",
       "                        1         2617\n",
       "1                       0         1016\n",
       "                        1          501\n",
       "2                       0          235\n",
       "                        1          106\n",
       "3                       0           41\n",
       "                        1           35\n",
       "4                       0           19\n",
       "                        1            9\n",
       "5                       0           13\n",
       "                        1            3\n",
       "6                       0            5\n",
       "7                       0            1\n",
       "8                       0            1\n",
       "Name: id, dtype: int64"
      ]
     },
     "execution_count": 22,
     "metadata": {},
     "output_type": "execute_result"
    }
   ],
   "source": [
    "df.groupby([\"nro_menciones_en_tweet\", \"target\"]).agg(\"count\")[\"id\"] #Frecuencias de nro. de menciones en tweet por target"
   ]
  },
  {
   "cell_type": "code",
   "execution_count": 23,
   "metadata": {},
   "outputs": [],
   "source": [
    "menciones = pd.Series()\n",
    "for x in df[\"text\"]:\n",
    "    for i in x:\n",
    "        if i[0] == '@':\n",
    "            menciones = menciones.append(pd.Series(i))"
   ]
  },
  {
   "cell_type": "code",
   "execution_count": 24,
   "metadata": {},
   "outputs": [
    {
     "data": {
      "text/plain": [
       "[('@YouTube', 82),\n",
       " ('@', 27),\n",
       " ('@ArianaGrande', 11),\n",
       " ('@POTUS', 9),\n",
       " ('@Change', 9),\n",
       " ('@FoxNews', 9),\n",
       " ('@emmerdale', 8),\n",
       " ('@djicemoon', 7),\n",
       " ('@justinbieber', 7),\n",
       " ('@MikeParrActor', 6)]"
      ]
     },
     "execution_count": 24,
     "metadata": {},
     "output_type": "execute_result"
    }
   ],
   "source": [
    "top_10_menciones = Counter(menciones).most_common(10)\n",
    "top_10_menciones #Top 10 menciones con frecuencias"
   ]
  },
  {
   "cell_type": "code",
   "execution_count": 25,
   "metadata": {},
   "outputs": [],
   "source": [
    "cant_top_10_menciones_por_target = []\n",
    "for x in top_10_menciones:\n",
    "    cant_top_10_menciones_por_target.append([x[0], 0, 0])"
   ]
  },
  {
   "cell_type": "code",
   "execution_count": 26,
   "metadata": {},
   "outputs": [],
   "source": [
    "index = 0\n",
    "for x in df[\"text\"]:\n",
    "    for i in x:\n",
    "        if i in [j[0] for j in top_10_menciones]:\n",
    "            if df.loc[index][\"target\"] == 0:\n",
    "                cant_top_10_menciones_por_target[[j[0] for j in top_10_menciones].index(i)][1] += 1\n",
    "            else:\n",
    "                cant_top_10_menciones_por_target[[j[0] for j in top_10_menciones].index(i)][2] += 1\n",
    "    index += 1"
   ]
  },
  {
   "cell_type": "code",
   "execution_count": 27,
   "metadata": {
    "scrolled": true
   },
   "outputs": [
    {
     "data": {
      "text/plain": [
       "[['@YouTube', 65, 17],\n",
       " ['@', 18, 9],\n",
       " ['@ArianaGrande', 11, 0],\n",
       " ['@POTUS', 3, 6],\n",
       " ['@Change', 5, 4],\n",
       " ['@FoxNews', 1, 8],\n",
       " ['@emmerdale', 7, 1],\n",
       " ['@djicemoon', 7, 0],\n",
       " ['@justinbieber', 7, 0],\n",
       " ['@MikeParrActor', 6, 0]]"
      ]
     },
     "execution_count": 27,
     "metadata": {},
     "output_type": "execute_result"
    }
   ],
   "source": [
    "cant_top_10_menciones_por_target #Top 10 menciones con frecuencias por target (0, 1)"
   ]
  },
  {
   "cell_type": "code",
   "execution_count": 28,
   "metadata": {},
   "outputs": [
    {
     "data": {
      "image/png": "[encoded data removed]",
      "text/plain": [
       "<Figure size 1080x432 with 1 Axes>"
      ]
     },
     "metadata": {
      "needs_background": "light"
     },
     "output_type": "display_data"
    }
   ],
   "source": [
    "ancho = 0.35\n",
    "x = pd.array(range(len(cant_top_10_menciones_por_target)))\n",
    "fig, ax = plt.subplots()\n",
    "fig.set_size_inches(15, 6)\n",
    "rects1 = ax.bar(x - ancho/2, [i[1] for i in cant_top_10_menciones_por_target], ancho, label='Target 0')\n",
    "rects2 = ax.bar(x + ancho/2, [i[2] for i in cant_top_10_menciones_por_target], ancho, label='Target 1')\n",
    "\n",
    "ax.set_ylabel('Frecuencia')\n",
    "ax.set_title('Frecuencias de Top 10 Menciones por target')\n",
    "ax.set_xticks(x)\n",
    "ax.set_xticklabels([i[0] for i in cant_top_10_menciones_por_target])\n",
    "ax.legend()\n",
    "\n",
    "\n",
    "def autolabel(rects):\n",
    "    \"\"\"Attach a text label above each bar in *rects*, displaying its height.\"\"\"\n",
    "    for rect in rects:\n",
    "        height = rect.get_height()\n",
    "        ax.annotate('{}'.format(height),\n",
    "                    xy=(rect.get_x() + rect.get_width() / 2, height),\n",
    "                    xytext=(0, 3),  # 3 points vertical offset\n",
    "                    textcoords=\"offset points\",\n",
    "                    ha='center', va='bottom')\n",
    "\n",
    "\n",
    "autolabel(rects1)\n",
    "autolabel(rects2)\n",
    "\n",
    "fig.tight_layout()\n",
    "\n",
    "plt.show()"
   ]
  },
  {
   "cell_type": "markdown",
   "metadata": {},
   "source": [
    "En las menciones vemos que la cantidad de tweets que las contienen es un poquito mayor que en los hashtags y vemos una distribución más pareja en cantidad de menciones por tweet. En cuento a las menciones más repetidas vemos que los números totales son mucho más bajos y por lo tanto las frecuencias no son tan grandes como para sacar conclusiones relevantes."
   ]
  },
  {
   "cell_type": "code",
   "execution_count": null,
   "metadata": {},
   "outputs": [],
   "source": []
  }
 ],
 "metadata": {
  "kernelspec": {
   "display_name": "Python 3",
   "language": "python",
   "name": "python3"
  },
  "language_info": {
   "codemirror_mode": {
    "name": "ipython",
    "version": 3
   },
   "file_extension": ".py",
   "mimetype": "text/x-python",
   "name": "python",
   "nbconvert_exporter": "python",
   "pygments_lexer": "ipython3",
   "version": "3.7.1"
  }
 },
 "nbformat": 4,
 "nbformat_minor": 2
}
